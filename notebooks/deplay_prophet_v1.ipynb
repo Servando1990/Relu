{
 "cells": [
  {
   "cell_type": "code",
   "execution_count": 20,
   "metadata": {},
   "outputs": [],
   "source": [
    "import pandas as pd\n",
    "deplay_week = pd.read_csv('../data/raw/deplay_week_treated.csv')    \n",
    "\n",
    "deplay_week.drop(['Unnamed: 0', 'Unnamed: 15', 'Unnamed: 17'], axis=1, inplace=True)\n",
    "deplay_week['week'] = deplay_week['week'].str.replace('Week', '')\n",
    "for column in deplay_week.columns:\n",
    "    if deplay_week[column].dtype == 'object':\n",
    "        deplay_week[column] = deplay_week[column].str.replace('€', '')\n",
    "# drop this columns: 'Sales BE', 'Sales NL', 'Revenue BE', 'Revenue NL'\n",
    "deplay_week.drop(['Sales BE', 'Sales NL', 'Revenue BE', 'Revenue NL'], axis=1, inplace=True)\n",
    "# drop this columns Sales België\tSales Nederland\n",
    "deplay_week.drop(['Sales België', 'Sales Nederland'], axis=1, inplace=True)\n",
    "deplay_week['Conversion %'] = deplay_week['Conversion %'].str.replace('%', '')\n",
    "# remove % sign from these columns Profit Margin\tROI\n",
    "deplay_week['Profit Margin'] = deplay_week['Profit Margin'].str.replace('%', '')\n",
    "deplay_week['ROI'] = deplay_week['ROI'].str.replace('%', '')\n",
    "columns_to_convert = [\n",
    "    'Sale price incl. VAT (Value Added Tax)', 'Sale price excl. VAT', \n",
    "    'Purchase price per piece', 'Sales', 'Revenue excl. VAT', \n",
    "    'Customer visits', 'Conversion %', 'Bol Costs', 'Shipping costs  BE', 'Shipping costs  NL', \n",
    "    'Total gross profit', 'Gross profit per piece', 'Saleable returns', \n",
    "    'Unsaleable returns', 'exchange items', 'Total returns', \n",
    "    'Total return costs', 'Total SP costs', 'Net profit', \n",
    "    'Net profit per peace', 'Profit Margin', 'ROI'\n",
    "]\n",
    "\n",
    "# Convert columns to float after cleaning the strings\n",
    "for column in columns_to_convert:\n",
    "    if deplay_week[column].dtype == 'object':  # Check if column contains strings\n",
    "        deplay_week[column] = deplay_week[column].str.replace(',', '').str.replace('- ', '-').str.strip()\n",
    "    deplay_week[column] = deplay_week[column].astype(float)\n",
    "\n",
    "deplay_week['shipping_costs'] = deplay_week['Shipping costs  BE'] + deplay_week['Shipping costs  NL']\n",
    "deplay_week.drop(['Shipping costs  BE', 'Shipping costs  NL'], axis=1, inplace=True)\n",
    "\n",
    "deplay_week.drop_duplicates(inplace=True)\n",
    "cleaned_data = deplay_week.drop(columns=[ 'exchange items']).fillna(0)\n",
    "cleaned_data['week'] = cleaned_data['week'].astype(int)\n",
    "cleaned_data.dropna(inplace=True)"
   ]
  },
  {
   "cell_type": "code",
   "execution_count": 21,
   "metadata": {},
   "outputs": [
    {
     "data": {
      "text/html": [
       "<div>\n",
       "<style scoped>\n",
       "    .dataframe tbody tr th:only-of-type {\n",
       "        vertical-align: middle;\n",
       "    }\n",
       "\n",
       "    .dataframe tbody tr th {\n",
       "        vertical-align: top;\n",
       "    }\n",
       "\n",
       "    .dataframe thead th {\n",
       "        text-align: right;\n",
       "    }\n",
       "</style>\n",
       "<table border=\"1\" class=\"dataframe\">\n",
       "  <thead>\n",
       "    <tr style=\"text-align: right;\">\n",
       "      <th></th>\n",
       "      <th>Product</th>\n",
       "      <th>week</th>\n",
       "      <th>Sale price incl. VAT (Value Added Tax)</th>\n",
       "      <th>Sale price excl. VAT</th>\n",
       "      <th>Purchase price per piece</th>\n",
       "      <th>Sales</th>\n",
       "      <th>Revenue excl. VAT</th>\n",
       "      <th>Customer visits</th>\n",
       "      <th>Conversion %</th>\n",
       "      <th>Bol Costs</th>\n",
       "      <th>Total gross profit</th>\n",
       "      <th>Gross profit per piece</th>\n",
       "      <th>Saleable returns</th>\n",
       "      <th>Unsaleable returns</th>\n",
       "      <th>Total returns</th>\n",
       "      <th>Total return costs</th>\n",
       "      <th>Total SP costs</th>\n",
       "      <th>Net profit</th>\n",
       "      <th>Net profit per peace</th>\n",
       "      <th>Profit Margin</th>\n",
       "      <th>ROI</th>\n",
       "      <th>shipping_costs</th>\n",
       "    </tr>\n",
       "  </thead>\n",
       "  <tbody>\n",
       "    <tr>\n",
       "      <th>0</th>\n",
       "      <td>Tablet PRO Blauw</td>\n",
       "      <td>1</td>\n",
       "      <td>180.00</td>\n",
       "      <td>148.76</td>\n",
       "      <td>85.23</td>\n",
       "      <td>30.0</td>\n",
       "      <td>4462.74</td>\n",
       "      <td>251.0</td>\n",
       "      <td>11.95</td>\n",
       "      <td>359.70</td>\n",
       "      <td>1350.24</td>\n",
       "      <td>45.01</td>\n",
       "      <td>0.0</td>\n",
       "      <td>9.0</td>\n",
       "      <td>9.0</td>\n",
       "      <td>791.01</td>\n",
       "      <td>0.0</td>\n",
       "      <td>559.23</td>\n",
       "      <td>18.64</td>\n",
       "      <td>12.53</td>\n",
       "      <td>21.87</td>\n",
       "      <td>195.90</td>\n",
       "    </tr>\n",
       "    <tr>\n",
       "      <th>1</th>\n",
       "      <td>Tablet PRO Blauw</td>\n",
       "      <td>2</td>\n",
       "      <td>184.00</td>\n",
       "      <td>152.07</td>\n",
       "      <td>85.23</td>\n",
       "      <td>25.0</td>\n",
       "      <td>3801.74</td>\n",
       "      <td>949.0</td>\n",
       "      <td>2.63</td>\n",
       "      <td>304.76</td>\n",
       "      <td>1209.33</td>\n",
       "      <td>48.37</td>\n",
       "      <td>0.0</td>\n",
       "      <td>10.0</td>\n",
       "      <td>10.0</td>\n",
       "      <td>878.90</td>\n",
       "      <td>0.0</td>\n",
       "      <td>330.43</td>\n",
       "      <td>13.22</td>\n",
       "      <td>8.69</td>\n",
       "      <td>15.51</td>\n",
       "      <td>156.90</td>\n",
       "    </tr>\n",
       "    <tr>\n",
       "      <th>2</th>\n",
       "      <td>Tablet PRO Blauw</td>\n",
       "      <td>3</td>\n",
       "      <td>184.00</td>\n",
       "      <td>152.07</td>\n",
       "      <td>85.23</td>\n",
       "      <td>20.0</td>\n",
       "      <td>3041.40</td>\n",
       "      <td>975.0</td>\n",
       "      <td>2.05</td>\n",
       "      <td>243.80</td>\n",
       "      <td>961.90</td>\n",
       "      <td>48.09</td>\n",
       "      <td>0.0</td>\n",
       "      <td>5.0</td>\n",
       "      <td>5.0</td>\n",
       "      <td>439.45</td>\n",
       "      <td>0.0</td>\n",
       "      <td>522.45</td>\n",
       "      <td>26.12</td>\n",
       "      <td>17.18</td>\n",
       "      <td>30.65</td>\n",
       "      <td>131.10</td>\n",
       "    </tr>\n",
       "    <tr>\n",
       "      <th>3</th>\n",
       "      <td>Tablet PRO Blauw</td>\n",
       "      <td>4</td>\n",
       "      <td>184.00</td>\n",
       "      <td>152.07</td>\n",
       "      <td>85.23</td>\n",
       "      <td>36.0</td>\n",
       "      <td>5474.49</td>\n",
       "      <td>796.0</td>\n",
       "      <td>4.52</td>\n",
       "      <td>438.85</td>\n",
       "      <td>1752.41</td>\n",
       "      <td>48.68</td>\n",
       "      <td>0.0</td>\n",
       "      <td>7.0</td>\n",
       "      <td>7.0</td>\n",
       "      <td>615.23</td>\n",
       "      <td>0.0</td>\n",
       "      <td>1137.18</td>\n",
       "      <td>31.59</td>\n",
       "      <td>20.77</td>\n",
       "      <td>37.06</td>\n",
       "      <td>214.95</td>\n",
       "    </tr>\n",
       "    <tr>\n",
       "      <th>4</th>\n",
       "      <td>Tablet PRO Blauw</td>\n",
       "      <td>5</td>\n",
       "      <td>188.25</td>\n",
       "      <td>155.58</td>\n",
       "      <td>85.23</td>\n",
       "      <td>20.0</td>\n",
       "      <td>3111.61</td>\n",
       "      <td>672.0</td>\n",
       "      <td>2.98</td>\n",
       "      <td>248.05</td>\n",
       "      <td>1040.76</td>\n",
       "      <td>52.04</td>\n",
       "      <td>0.0</td>\n",
       "      <td>5.0</td>\n",
       "      <td>5.0</td>\n",
       "      <td>439.45</td>\n",
       "      <td>0.0</td>\n",
       "      <td>601.31</td>\n",
       "      <td>30.07</td>\n",
       "      <td>19.32</td>\n",
       "      <td>35.28</td>\n",
       "      <td>118.20</td>\n",
       "    </tr>\n",
       "  </tbody>\n",
       "</table>\n",
       "</div>"
      ],
      "text/plain": [
       "            Product  week  Sale price incl. VAT (Value Added Tax)  \\\n",
       "0  Tablet PRO Blauw     1                                  180.00   \n",
       "1  Tablet PRO Blauw     2                                  184.00   \n",
       "2  Tablet PRO Blauw     3                                  184.00   \n",
       "3  Tablet PRO Blauw     4                                  184.00   \n",
       "4  Tablet PRO Blauw     5                                  188.25   \n",
       "\n",
       "   Sale price excl. VAT  Purchase price per piece  Sales  Revenue excl. VAT  \\\n",
       "0                148.76                     85.23   30.0            4462.74   \n",
       "1                152.07                     85.23   25.0            3801.74   \n",
       "2                152.07                     85.23   20.0            3041.40   \n",
       "3                152.07                     85.23   36.0            5474.49   \n",
       "4                155.58                     85.23   20.0            3111.61   \n",
       "\n",
       "   Customer visits  Conversion %  Bol Costs  Total gross profit  \\\n",
       "0            251.0         11.95     359.70             1350.24   \n",
       "1            949.0          2.63     304.76             1209.33   \n",
       "2            975.0          2.05     243.80              961.90   \n",
       "3            796.0          4.52     438.85             1752.41   \n",
       "4            672.0          2.98     248.05             1040.76   \n",
       "\n",
       "   Gross profit per piece  Saleable returns  Unsaleable returns  \\\n",
       "0                   45.01               0.0                 9.0   \n",
       "1                   48.37               0.0                10.0   \n",
       "2                   48.09               0.0                 5.0   \n",
       "3                   48.68               0.0                 7.0   \n",
       "4                   52.04               0.0                 5.0   \n",
       "\n",
       "   Total returns  Total return costs  Total SP costs  Net profit  \\\n",
       "0            9.0              791.01             0.0      559.23   \n",
       "1           10.0              878.90             0.0      330.43   \n",
       "2            5.0              439.45             0.0      522.45   \n",
       "3            7.0              615.23             0.0     1137.18   \n",
       "4            5.0              439.45             0.0      601.31   \n",
       "\n",
       "   Net profit per peace  Profit Margin    ROI  shipping_costs  \n",
       "0                 18.64          12.53  21.87          195.90  \n",
       "1                 13.22           8.69  15.51          156.90  \n",
       "2                 26.12          17.18  30.65          131.10  \n",
       "3                 31.59          20.77  37.06          214.95  \n",
       "4                 30.07          19.32  35.28          118.20  "
      ]
     },
     "execution_count": 21,
     "metadata": {},
     "output_type": "execute_result"
    }
   ],
   "source": [
    "# show all columns\n",
    "pd.set_option('display.max_columns', None)\n",
    "cleaned_data.head()"
   ]
  },
  {
   "cell_type": "code",
   "execution_count": 22,
   "metadata": {},
   "outputs": [],
   "source": [
    "#OUT OF STOCK CLASS\n",
    "#Detects out of stock days and pedicts probability of out of stock for inference\n",
    "\n",
    "import numpy as np\n",
    "from scipy.optimize import curve_fit\n",
    "\n",
    "class out_of_stock_zeroes():\n",
    "    def __init__(self,sales_array,calculate_oos_array=True):\n",
    "        self.sales_array = sales_array\n",
    "        #When do the sales start. A series of zeros at the beginning only means that the product is not yet available and should not be considered as an indicator of out of stock\n",
    "        start = np.argmax(sales_array != 0)\n",
    "        sales_array_without_start = sales_array[start:].copy()\n",
    "        sales_array_start = sales_array[:start].copy()\n",
    "        \n",
    "        \n",
    "        self.counter = self._build_zero_seq_counter(sales_array_without_start)\n",
    "        \n",
    "        self.zeroes_seq = self.rle(self.counter,0)\n",
    "\n",
    "        \n",
    "        #If we want to calculate an array of same size than self.sales_array with a boolean flag if out of stock\n",
    "        if calculate_oos_array:\n",
    "            #First we calculate the minimal sequence length from which we consider that those zeros are due to out of stocl\n",
    "            self.divisor = self._log_divisor(sales_array) #The higher the mean value of sales, the lower the zeros sequence length needs to be to be considered oos\n",
    "            self.out_of_stock_min_length = self._get_min_length_oos(self.zeroes_seq,self.divisor)\n",
    "            \n",
    "            #Based on the information of what is the out_of_stock_min_length, we can now calculate the oos flag array\n",
    "            self.zeroes_seq_sales = self.rle(sales_array_without_start,0)\n",
    "            self.oos_coordinates = self._build_oos_coordinates(start,self.zeroes_seq_sales,self.out_of_stock_min_length)\n",
    "            self.oos_array = self._build_oos_array(sales_array.shape[0],self.oos_coordinates)\n",
    "        \n",
    "        \n",
    "        # We calculate what is the minimal sequence length of consecutive zeros starting from which out of stock is likely for prediction\n",
    "        # We use a divisor of 1 in this case as it resulted in better CV\n",
    "        self.out_of_stock_min_length_for_oos_pred = self._get_min_length_oos(self.zeroes_seq,1)\n",
    "        \n",
    "    def _build_zero_seq_counter(self,sales_array):\n",
    "        '''\n",
    "        From an array sales_array, builds an array counting the zeros sequence length\n",
    "        Such as sales_array = [0,1,0,0,1,0,1,0,0,0,0,1]\n",
    "        Would result in counter = [2,1,0,1]\n",
    "        '''\n",
    "        mask = sales_array!=0\n",
    "        sales_array = sales_array[np.argmax(mask):]\n",
    "        self.sales_array_without_begin = sales_array\n",
    "        l = sales_array==0\n",
    "        counter = np.diff(np.where(np.concatenate(([l[0]],\n",
    "                                         l[:-1] != l[1:],\n",
    "                                         [True])))[0])[::2]\n",
    "        counter = np.bincount(counter)\n",
    "        counter = counter[1:]\n",
    "        return counter\n",
    "        \n",
    "    def rle(self, a, value=None):\n",
    "        \"\"\"\n",
    "        From an array, calculates the sequences of same value length and position\n",
    "        Such as a = [10,5,4,0,0,0,0,1,0,0,0,1] and value = 0\n",
    "        Would result in [(4,3),(3,7)], each element of the array being (length of sequence, position in initial array)\n",
    "        \"\"\"\n",
    "        ia = np.asarray(a)                # force numpy\n",
    "        n = len(ia)\n",
    "        if n==0:\n",
    "            return np.array([[],[]])\n",
    "        y = np.array(ia[1:] != ia[:-1])     # pairwise unequal (string safe)\n",
    "        i = np.append(np.where(y), n - 1)   # must include last element posi\n",
    "        z = np.diff(np.append(-1, i))       # run lengths\n",
    "        p = np.cumsum(np.append(0, z))[:-1] # positions\n",
    "\n",
    "        if value is None:\n",
    "            return np.concatenate([z.reshape(-1,1),p.reshape(-1,1),ia[i].reshape(-1,1)],axis=1)\n",
    "        else:\n",
    "            mask = ia[i] == value\n",
    "            return np.concatenate([z[mask].reshape(-1,1),p[mask].reshape(-1,1)],axis=1)\n",
    "        \n",
    "    def _log_divisor(self,a):\n",
    "        s = a[a>0]\n",
    "        if s.shape[0]==0:\n",
    "            return 1e-3\n",
    "        mean_no_zeros = a[a>0].mean()\n",
    "        return np.log1p(mean_no_zeros)+1e-3\n",
    "    \n",
    "    def _get_min_length_oos(self,zeroes_seq,divisor=1):\n",
    "        \"\"\"\n",
    "        Idea is to look at the zeros sequence length such as [5,4,3,1,0,1,0,0,0,0,0,0,0,1,0,0,0,1]\n",
    "        When the first zero sequence in the zero sequence array (a bit confusing here sorry) is longer than what came before, then we consider that position to be the minimum sequence length to be oos\n",
    "        In this example, the first zero sequence of the zero sequence array is in the 4th position but has size 1\n",
    "        The second sequence is in 6 position but has length 7. So in case divisor=1, the minimal size for oos is 6 => any sequence of zeros in the sales array with a length greater than 6 is to be considered oos\n",
    "        \"\"\"\n",
    "        if zeroes_seq.shape[1]==0:\n",
    "            return self.sales_array.shape[0]\n",
    "        zeroes_seq_tmp = zeroes_seq.copy()\n",
    "        zeroes_seq[:,0] = zeroes_seq[:,0] + zeroes_seq[:,1] + 1\n",
    "        zeroes_seq_tmp[:,1] = zeroes_seq_tmp[:,1]/divisor\n",
    "        filtered_seq = zeroes_seq[zeroes_seq_tmp[:,0]>zeroes_seq_tmp[:,1]]\n",
    "        if filtered_seq.shape[0]==0:\n",
    "            return self.sales_array.shape[0]\n",
    "        return filtered_seq[0][1]+1\n",
    "    \n",
    "    def _build_oos_coordinates(self,start,zeroes_seq_sales,out_of_stock_min_length):\n",
    "        oos_coordinates = zeroes_seq_sales[zeroes_seq_sales[:,0]>=out_of_stock_min_length].copy()\n",
    "        oos_coordinates[:,1] = oos_coordinates[:,1] + start\n",
    "        oos_coordinates = np.concatenate([[[start,0]],oos_coordinates],axis=0)\n",
    "        return oos_coordinates\n",
    "        \n",
    "    def _build_oos_array(self,length,oos_coordinates):\n",
    "        a = np.zeros(length)\n",
    "        for coord in oos_coordinates:\n",
    "            a[coord[1]:coord[1]+coord[0]] = 1\n",
    "        return a\n",
    "    \n",
    "    \n",
    "    def curve_func(self,x,a):\n",
    "        return 1/(1+a*np.sqrt(x))\n",
    "\n",
    "    \n",
    "    def build_oos_prob_array(self,zeros_before,alpha=2):\n",
    "        \"\"\"\n",
    "        This function calculates an array of size 28 that will serve as multiplier array to the inference.\n",
    "        Idea is to transform any element that we consider oos to zero in the inference\n",
    "        For example if just before the inference, a product had a sequence of 50 zeros while usually it is never zero, we create an array to transform the inference to zero.\n",
    "        \n",
    "        Also for each sales_array sequence, we fit a simple curve (1/(1+a*np.sqrt(x))) to give us the probability that a sequence will have a size N given how long it is already (n_zeros_before) and how long the oos sequences were in the history of this sales array\n",
    "        For example if a sales_array has oos sequences such as [0,0,0,0,0,4,3,2,0,1] meaning that the shortest oos sequence has size 6 and occured 4 times in the past\n",
    "        Then we fit x=[1,2,3,4,5] y=[4,3,2,0,1]/sum([4,3,2,0,1]) to get the parameter a\n",
    "        So now if we have a sequence of zeroes before of size 7, we can plug calculate the probability of oos based on the curve that we just fit\n",
    "        \n",
    "        The higher the alpha, the lower the probability of oos sequence\n",
    "        \"\"\"\n",
    "        counter_cumsum = np.cumsum(self.counter)\n",
    "        #How many times oos sequences occured\n",
    "        oos_occurences = counter_cumsum[-1] - counter_cumsum[self.out_of_stock_min_length_for_oos_pred-1]\n",
    "        \n",
    "        #Min zeroes sequence after which 1/alpha% chances of a oos\n",
    "        alpha_oos_zeros_seq_size_prob = np.argmax(counter_cumsum>counter_cumsum[-1]-alpha*oos_occurences)\n",
    "       \n",
    "    #if zeros before inferior to half_oos_zeros_seq_size_prob then not a oos sequence\n",
    "        if zeros_before<alpha_oos_zeros_seq_size_prob:\n",
    "            return np.ones(28)\n",
    "        \n",
    "        #Inverse cumsum of zeroes occurences\n",
    "        inverse_cumsum = counter_cumsum[-1] - counter_cumsum[alpha_oos_zeros_seq_size_prob:]\n",
    "        \n",
    "        #Get indices of oos occurences\n",
    "        x_oos_occurences = np.concatenate([np.array([0]),np.where(inverse_cumsum[1:] != inverse_cumsum[:-1])[0]+1])\n",
    "        y_oos_occurences = inverse_cumsum[x_oos_occurences]\n",
    "        y_oos_occurences = y_oos_occurences / y_oos_occurences[0]\n",
    "        if y_oos_occurences.shape[0]<=2:\n",
    "            x_oos_occurences = np.insert(x_oos_occurences, -1, x_oos_occurences[-1]-0.1)\n",
    "            y_oos_occurences = np.insert(y_oos_occurences, -1, 1e-5)\n",
    "        \n",
    "        #Fit curve\n",
    "        a,cor = curve_fit(self.curve_func, x_oos_occurences, y_oos_occurences,p0=[1],bounds=([0],[np.inf]))\n",
    "        \n",
    "        #Calculate probs with zeroes before\n",
    "        x_prob = np.array([zeros_before - alpha_oos_zeros_seq_size_prob + i for i in range(29)])\n",
    "        y_prob = self.curve_func(x_prob,a[0])\n",
    "        y_prob = y_prob/y_prob[0]\n",
    "        \n",
    "        #Arbitrary values for oos calculation optimized with CV\n",
    "        oos_new_array = np.where(y_prob>0.4,\n",
    "                                 np.where(y_prob>0.7,0,1-y_prob),\n",
    "                                 1)\n",
    "        return oos_new_array[1:]"
   ]
  },
  {
   "cell_type": "code",
   "execution_count": 24,
   "metadata": {},
   "outputs": [
    {
     "data": {
      "text/plain": [
       "0     30.0\n",
       "1     25.0\n",
       "2     20.0\n",
       "3     36.0\n",
       "4     20.0\n",
       "5     18.0\n",
       "6      8.0\n",
       "7      0.0\n",
       "8      0.0\n",
       "9      0.0\n",
       "10     0.0\n",
       "11     0.0\n",
       "12    24.0\n",
       "13     6.0\n",
       "14    11.0\n",
       "15     0.0\n",
       "16     0.0\n",
       "17     9.0\n",
       "18     9.0\n",
       "19     2.0\n",
       "20     7.0\n",
       "21     0.0\n",
       "22     0.0\n",
       "23     0.0\n",
       "24     0.0\n",
       "25     0.0\n",
       "26     0.0\n",
       "27     0.0\n",
       "28     0.0\n",
       "29     0.0\n",
       "30     0.0\n",
       "31     0.0\n",
       "32     0.0\n",
       "33     0.0\n",
       "34     0.0\n",
       "35     0.0\n",
       "36     0.0\n",
       "37     0.0\n",
       "38     0.0\n",
       "39     0.0\n",
       "40     0.0\n",
       "41     0.0\n",
       "42     0.0\n",
       "43     0.0\n",
       "44     0.0\n",
       "45     0.0\n",
       "46     0.0\n",
       "47     0.0\n",
       "48     0.0\n",
       "49     0.0\n",
       "50     0.0\n",
       "51     0.0\n",
       "Name: Sales, dtype: float64"
      ]
     },
     "execution_count": 24,
     "metadata": {},
     "output_type": "execute_result"
    }
   ],
   "source": [
    "single_product_data = cleaned_data[cleaned_data['Product'] == 'Tablet PRO Blauw'].copy()\n"
   ]
  },
  {
   "cell_type": "code",
   "execution_count": 53,
   "metadata": {},
   "outputs": [
    {
     "data": {
      "text/plain": [
       "Product\n",
       "Tablet SMART Rood      52\n",
       "Tablet SMART Blauw     52\n",
       "Tablet PRO Blauw       38\n",
       "Tablet PRO Rood        35\n",
       "Slaapprojector         33\n",
       "Muziek Drum            32\n",
       "KidsWatch Paars        28\n",
       "Sterrenmobiel Blauw    25\n",
       "Tablet Blauw           25\n",
       "Sterrenmobiel Roze     25\n",
       "Xylofoon               25\n",
       "Activiteiten Kubus     25\n",
       "Piano MAT              25\n",
       "Muziek Piano           25\n",
       "KidsWatch Roze         25\n",
       "KidsWatch Blauw        25\n",
       "BabyGym                25\n",
       "KidsWatch Zwart        24\n",
       "Tablet Rood            24\n",
       "0                       1\n",
       "Name: Sales, dtype: int64"
      ]
     },
     "execution_count": 53,
     "metadata": {},
     "output_type": "execute_result"
    }
   ],
   "source": [
    "# grouby Product and count how many zeros each product has\n",
    "cleaned_data.groupby('Product')['Sales'].apply(lambda x: (x==0).sum()).sort_values(ascending=False)\n",
    "\n"
   ]
  },
  {
   "cell_type": "code",
   "execution_count": 40,
   "metadata": {},
   "outputs": [
    {
     "name": "stdout",
     "output_type": "stream",
     "text": [
      "single product (52,)\n",
      "oss flags (52,)\n"
     ]
    },
    {
     "name": "stderr",
     "output_type": "stream",
     "text": [
      "14:15:56 - cmdstanpy - INFO - Chain [1] start processing\n",
      "14:15:58 - cmdstanpy - INFO - Chain [1] done processing\n"
     ]
    },
    {
     "name": "stdout",
     "output_type": "stream",
     "text": [
      "Mean Absolute Error (MAE): 5.9817542562018104\n",
      "Potential Out-of-Stock Weeks: []\n"
     ]
    },
    {
     "data": {
      "image/png": "[encoded data removed]",
      "text/plain": [
       "<Figure size 1000x600 with 1 Axes>"
      ]
     },
     "metadata": {},
     "output_type": "display_data"
    },
    {
     "name": "stdout",
     "output_type": "stream",
     "text": [
      "COMBINED ALERT: Potential Out-of-Stock for weeks [8, 9, 10, 11, 12, 16, 17, 22, 23, 24, 25, 26, 27, 28, 29, 30, 31, 32, 33, 34, 35, 36, 37, 38, 39, 40, 41, 42, 43, 44, 45, 46, 47, 48, 49, 50, 51, 52]\n"
     ]
    }
   ],
   "source": [
    "# revised apporach\n",
    "\n",
    "from prophet import Prophet\n",
    "from sklearn.metrics import mean_absolute_error\n",
    "import matplotlib.pyplot as plt\n",
    "import pandas as pd\n",
    "import numpy as np\n",
    "from datetime import datetime, timedelta\n",
    "\n",
    "# 1. Prepare data for Prophet model\n",
    "df = cleaned_data.copy()\n",
    "df['ds'] = df['week'].apply(lambda x: datetime.strptime(\"2023-01-01\", \"%Y-%m-%d\") + timedelta(weeks=x-1))\n",
    "\n",
    "# log transfomation\n",
    "#df['Log_Sales'] = np.log1p(df['Sales'])\n",
    "\n",
    "# 2. Initialize and fit the Prophet model for single product\n",
    "single_product_data = df[df['Product'] == 'Tablet PRO Blauw'].copy()\n",
    "\n",
    "# Initialize oos class\n",
    "single_product = single_product_data['Sales'].values\n",
    "print('single product', single_product.shape)\n",
    "oos_class = out_of_stock_zeroes(single_product)\n",
    "oos_flags = oos_class.oos_array  # This will give us the OOS flags\n",
    "print('oss flags', oos_flags.shape)\n",
    "#mask = single_product != 0\n",
    "#zeros_before = np.argmax(mask[::-1])\n",
    "#oos_prob_array = oos_class.build_oos_prob_array(zeros_before)\n",
    "\n",
    "# 3. Merge OOS flags and OOS probs with your existing dataframe\n",
    "single_product_data['OOS_Flag'] = oos_flags\n",
    "#single_product_data['OOS_Prob'] = oos_prob_array\n",
    "prophet_data = single_product_data[['ds', 'Sales']].rename(columns={'ds': 'ds', 'Sales': 'y'})\n",
    "\n",
    "\n",
    "# Fit the model\n",
    "prophet_model = Prophet(weekly_seasonality=True, yearly_seasonality=False, daily_seasonality=False)\n",
    "#prophet_model.add_country_holidays(country_name='US')  # Add holidays\n",
    "prophet_model.fit(prophet_data)\n",
    "\n",
    "# 3. Make future dataframe\n",
    "future = prophet_model.make_future_dataframe(periods=4, freq='W-SUN', include_history=False)\n",
    "\n",
    "# 4. Forecast\n",
    "forecast = prophet_model.predict(future)\n",
    "\n",
    "#forecasted_sales = np.expm1(forecast['yhat'])\n",
    "\n",
    "# 5. MAE Calculation\n",
    "mae_prophet = mean_absolute_error(np.expm1(prophet_data['y'].iloc[-4:]), forecast['yhat'].iloc[-4:])\n",
    "print(f\"Mean Absolute Error (MAE): {mae_prophet}\")\n",
    "\n",
    "# 6. Establishing Stock Threshold using 75th percentile\n",
    "critical_stock_threshold = prophet_data['y'].quantile(0.75)\n",
    "\n",
    "# 7. Identifying Potential OOS Weeks\n",
    "future_df = pd.DataFrame({\n",
    "    'week': range(max(df['week']) + 1, max(df['week']) + 1 + 4),\n",
    "    'Predicted_Sales': forecast['yhat'][-4:].values\n",
    "})\n",
    "future_df['Potential_OOS'] = future_df['Predicted_Sales'] > critical_stock_threshold\n",
    "\n",
    "#future_df['OOS_Prob'] = oos_prob_array[-len(future_df):]  # Use the last N values, where N is the number of future periods\n",
    "#future_df['Adjusted_Predicted_Sales'] = future_df['Predicted_Sales'] * (1 - future_df['OOS_Prob'])\n",
    "\n",
    "\n",
    "# 8. Extract potential OOS weeks\n",
    "potential_oos_weeks = future_df[future_df['Potential_OOS']]['week'].tolist()\n",
    "print(f\"Potential Out-of-Stock Weeks: {potential_oos_weeks}\")\n",
    "\n",
    "\n",
    "# 9. Plotting: Add OOS flags to Prophet plot\n",
    "fig = prophet_model.plot(forecast)\n",
    "plt.axhline(y=critical_stock_threshold, color='r', linestyle='--', label='Critical Stock Threshold')\n",
    "plt.scatter(single_product_data['ds'], single_product_data['OOS_Flag']*forecast['yhat_upper'].max(), color='g', label='OOS Flags')\n",
    "#plt.scatter(single_product_data['ds'], single_product_data['OOS_Prob']*forecast['yhat_upper'].max(), color='b', label='Historical OOS Prob')\n",
    "plt.title('Prophet Forecasting with OOS Threshold, Flags, and Probabilities')\n",
    "plt.legend()\n",
    "plt.show()\n",
    "\n",
    "# 10. Combined Alert System for OOS\n",
    "\n",
    "# List of weeks with potential OOS based on Prophet model\n",
    "alert_prophet = future_df[future_df['Potential_OOS']]['week'].tolist()\n",
    "\n",
    "# List of weeks with OOS flags based on historical data\n",
    "alert_oos_flag = single_product_data[single_product_data['OOS_Flag'] == 1]['week'].tolist()\n",
    "\n",
    "# List of weeks with high OOS probability based on your new prediction model\n",
    "#alert_prob = single_product_data[single_product_data['OOS_Prob'] > 0.7]['week'].tolist()\n",
    "\n",
    "# Combine all three alerts into a single set to eliminate duplicates\n",
    "#combined_alert = set(alert_prophet + alert_oos_flag + alert_prob)\n",
    "combined_alert = set(alert_prophet + alert_oos_flag)\n",
    "\n",
    "# Generate the final combined alert\n",
    "if len(combined_alert) > 0:\n",
    "    print(f\"COMBINED ALERT: Potential Out-of-Stock for weeks {sorted(list(combined_alert))}\")\n",
    "else:\n",
    "    print(\"No Combined OOS Alert\")\n",
    "\n",
    "# Update this line to use 'Adjusted_Predicted_Sales'\n",
    "#future_df['Adjusted_Potential_OOS'] = future_df['Adjusted_Predicted_Sales'] > critical_stock_threshold\n",
    "\n",
    "# Generate a new list of weeks with potential OOS based on adjusted predictions\n",
    "#alert_adjusted_prophet = future_df[future_df['Adjusted_Potential_OOS']]['week'].tolist()\n",
    "\n",
    "# Update combined alert to include adjusted OOS predictions\n",
    "#combined_alert = set(alert_prophet + alert_oos_flag + alert_prob + alert_adjusted_prophet)\n",
    "\n",
    "# Generate the final combined alert\n",
    "#if len(combined_alert) > 0:\n",
    "    #print(f\"UPDATED COMBINED ALERT: Potential Out-of-Stock for weeks {sorted(list(combined_alert))}\")\n",
    "#else:\n",
    "#    print(\"No Updated Combined OOS Alert\")\n",
    "\n",
    "\n",
    "\n",
    "\n"
   ]
  },
  {
   "cell_type": "code",
   "execution_count": 58,
   "metadata": {},
   "outputs": [
    {
     "name": "stdout",
     "output_type": "stream",
     "text": [
      "single_product_data shape (52,)\n",
      "Sales array shape 28 days:  (24,)\n",
      "Non-zero entries:  14\n",
      "Consecutive zeros before last 28 days:  3\n"
     ]
    },
    {
     "data": {
      "image/png": "[encoded data removed]",
      "text/plain": [
       "<Figure size 1000x400 with 1 Axes>"
      ]
     },
     "metadata": {},
     "output_type": "display_data"
    }
   ],
   "source": [
    "print('single_product_data shape', single_product_data['Sales'].shape)\n",
    "# Prepare your sales data removing the last 28 days\n",
    "a_without_last_28_days = single_product_data['Sales'].values.astype('int')[:-28]\n",
    "print(\"Sales array shape 28 days: \", a_without_last_28_days.shape)\n",
    "print(\"Non-zero entries: \", np.count_nonzero(a_without_last_28_days))\n",
    "\n",
    "# Initialize the out_of_stock_zeroes class\n",
    "oos_without_last_28_days = out_of_stock_zeroes(a_without_last_28_days)\n",
    "mask = a_without_last_28_days != 0\n",
    "n_zeroes_before = np.argmax(mask[::-1])\n",
    "print(\"Consecutive zeros before last 28 days: \", n_zeroes_before)\n",
    "\n",
    "out_of_stock_multiplier_array = oos_without_last_28_days.build_oos_prob_array(n_zeroes_before)\n",
    "\n",
    "plt.figure(figsize=(10, 4))\n",
    "plt.plot(out_of_stock_multiplier_array, label='Out-of-Stock Multiplier Array based on Zero sales')\n",
    "plt.title(\"Out-of-Stock Multiplier Array\")\n",
    "plt.xlabel('Days')\n",
    "plt.ylabel('Probability of being Out-of-Stock') \n",
    "plt.legend()\n",
    "plt.show()\n",
    "\n"
   ]
  },
  {
   "cell_type": "code",
   "execution_count": 35,
   "metadata": {},
   "outputs": [],
   "source": [
    "\n",
    "\n"
   ]
  },
  {
   "cell_type": "code",
   "execution_count": 37,
   "metadata": {},
   "outputs": [
    {
     "data": {
      "text/plain": [
       "31"
      ]
     },
     "execution_count": 37,
     "metadata": {},
     "output_type": "execute_result"
    }
   ],
   "source": [
    "zeros_before"
   ]
  },
  {
   "cell_type": "markdown",
   "metadata": {},
   "source": [
    "The alert_oos_flag output represents the weeks where the product \"Tablet PRO Blauw\" is flagged as likely being out-of-stock based on your sales data and the implemented OOS detection algorithm. These are the weeks where zero sales were observed for a duration long enough to trigger the out-of-stock flag.\n",
    "\n",
    "What Does It Mean from a Customer Value Perspective?\n",
    "Avoiding Disappointment: Knowing these risky weeks allows you to take preventive action, ensuring that customers find the product they want when they visit your e-commerce platform.\n",
    "\n",
    "Enhanced Trust: If customers know that your platform maintains consistent stock levels, their trust in your platform increases, which can lead to higher customer retention.\n",
    "\n",
    "Improved User Experience: Customers can have a seamless shopping experience without stumbling upon out-of-stock items, leading to increased overall satisfaction.\n",
    "\n",
    "By acting on these OOS alerts, you're essentially making your e-commerce platform more reliable and user-friendly, which is crucial for customer loyalty and long-term success.\n",
    "\n",
    "\n",
    "In the code for out-of-stock detection, \"long enough\" is determined through a series of calculations:\n",
    "\n",
    "It counts the sequence of zeroes in sales, essentially capturing periods where no sales occurred.\n",
    "It then calculates a divisor based on the logarithm of the mean sales when sales are greater than zero. This divisor essentially scales down the length of the zero sequence required to trigger an out-of-stock flag, especially when the mean sales are high.\n",
    "Using this divisor, the code computes a minimum length for a sequence of zeroes to be considered an out-of-stock event. Any zero sequence longer than this minimum length triggers the out-of-stock flag.\n",
    "So \"long enough\" is a dynamic value calculated based on the observed sales data, specifically designed to adapt to varying sales velocity.\n",
    "\n",
    "A dynamic \"long enough\" criterion allows for adaptive and smarter inventory management"
   ]
  },
  {
   "cell_type": "code",
   "execution_count": 28,
   "metadata": {},
   "outputs": [
    {
     "data": {
      "text/plain": [
       "<Axes: >"
      ]
     },
     "execution_count": 28,
     "metadata": {},
     "output_type": "execute_result"
    },
    {
     "data": {
      "image/png": "[encoded data removed]",
      "text/plain": [
       "<Figure size 640x480 with 1 Axes>"
      ]
     },
     "metadata": {},
     "output_type": "display_data"
    }
   ],
   "source": [
    "#In green, actual sales\n",
    "import seaborn as sns\n",
    "sns.lineplot(x=np.arange(single_product.shape[0]),y=single_product,color='green')\n",
    "#In red, out of stock flag. When 1 => out of stock day\n",
    "sns.lineplot(x=np.arange(single_product.shape[0]),y=oos_flags,color='red')"
   ]
  },
  {
   "cell_type": "code",
   "execution_count": 32,
   "metadata": {},
   "outputs": [
    {
     "data": {
      "text/plain": [
       "array([30., 25., 20., 36., 20., 18.,  8.,  0.,  0.,  0.,  0.,  0., 24.,\n",
       "        6., 11.,  0.,  0.,  9.,  9.,  2.,  7.,  0.,  0.,  0.,  0.,  0.,\n",
       "        0.,  0.,  0.,  0.,  0.,  0.,  0.,  0.,  0.,  0.,  0.,  0.,  0.,\n",
       "        0.,  0.,  0.,  0.,  0.,  0.,  0.,  0.,  0.,  0.,  0.,  0.,  0.])"
      ]
     },
     "execution_count": 32,
     "metadata": {},
     "output_type": "execute_result"
    }
   ],
   "source": [
    "single_product"
   ]
  },
  {
   "cell_type": "code",
   "execution_count": null,
   "metadata": {},
   "outputs": [],
   "source": []
  },
  {
   "cell_type": "code",
   "execution_count": 17,
   "metadata": {},
   "outputs": [
    {
     "data": {
      "image/png": "[encoded data removed]",
      "text/plain": [
       "<Figure size 1500x500 with 2 Axes>"
      ]
     },
     "metadata": {},
     "output_type": "display_data"
    }
   ],
   "source": []
  },
  {
   "cell_type": "code",
   "execution_count": 20,
   "metadata": {},
   "outputs": [
    {
     "name": "stdout",
     "output_type": "stream",
     "text": [
      "2022-12-25 00:00:00\n",
      "2023-12-24 00:00:00\n",
      "2023-12-31 00:00:00\n",
      "2024-01-21 00:00:00\n"
     ]
    }
   ],
   "source": [
    "# print first and last dates of df\n",
    "print(df.ds.min())\n",
    "print(df.ds.max())\n",
    "print(future.ds.min())\n",
    "print(future.ds.max())"
   ]
  },
  {
   "cell_type": "code",
   "execution_count": 21,
   "metadata": {},
   "outputs": [
    {
     "data": {
      "image/png": "[encoded data removed]",
      "text/plain": [
       "<Figure size 900x600 with 2 Axes>"
      ]
     },
     "execution_count": 21,
     "metadata": {},
     "output_type": "execute_result"
    },
    {
     "data": {
      "image/png": "[encoded data removed]",
      "text/plain": [
       "<Figure size 900x600 with 2 Axes>"
      ]
     },
     "metadata": {},
     "output_type": "display_data"
    }
   ],
   "source": [
    "prophet_model.plot_components(forecast)"
   ]
  },
  {
   "cell_type": "code",
   "execution_count": 23,
   "metadata": {},
   "outputs": [
    {
     "data": {
      "application/vnd.plotly.v1+json": {
       "config": {
        "plotlyServerURL": "https://plot.ly"
       },
       "data": [
        {
         "marker": {
          "color": "black",
          "size": 4
         },
         "mode": "markers",
         "name": "Actual",
         "type": "scatter",
         "x": [
          "2023-01-01T00:00:00",
          "2023-01-08T00:00:00",
          "2023-01-15T00:00:00",
          "2023-01-22T00:00:00",
          "2023-01-29T00:00:00",
          "2023-02-05T00:00:00",
          "2023-02-12T00:00:00",
          "2023-02-19T00:00:00",
          "2023-02-26T00:00:00",
          "2023-03-05T00:00:00",
          "2023-03-12T00:00:00",
          "2023-03-19T00:00:00",
          "2023-03-26T00:00:00",
          "2023-04-02T00:00:00",
          "2023-04-09T00:00:00",
          "2023-04-16T00:00:00",
          "2023-04-23T00:00:00",
          "2023-04-30T00:00:00",
          "2023-05-07T00:00:00",
          "2023-05-14T00:00:00",
          "2023-05-21T00:00:00",
          "2023-05-28T00:00:00",
          "2023-06-04T00:00:00",
          "2023-06-11T00:00:00",
          "2023-06-18T00:00:00",
          "2023-06-25T00:00:00",
          "2023-07-02T00:00:00",
          "2023-07-09T00:00:00",
          "2023-07-16T00:00:00",
          "2023-07-23T00:00:00",
          "2023-07-30T00:00:00",
          "2023-08-06T00:00:00",
          "2023-08-13T00:00:00",
          "2023-08-20T00:00:00",
          "2023-08-27T00:00:00",
          "2023-09-03T00:00:00",
          "2023-09-10T00:00:00",
          "2023-09-17T00:00:00",
          "2023-09-24T00:00:00",
          "2023-10-01T00:00:00",
          "2023-10-08T00:00:00",
          "2023-10-15T00:00:00",
          "2023-10-22T00:00:00",
          "2023-10-29T00:00:00",
          "2023-11-05T00:00:00",
          "2023-11-12T00:00:00",
          "2023-11-19T00:00:00",
          "2023-11-26T00:00:00",
          "2023-12-03T00:00:00",
          "2023-12-10T00:00:00",
          "2023-12-17T00:00:00",
          "2023-12-24T00:00:00"
         ],
         "y": [
          30,
          25,
          20,
          36,
          20,
          18,
          8,
          0,
          0,
          0,
          0,
          0,
          24,
          6,
          11,
          0,
          0,
          9,
          9,
          2,
          7,
          0,
          0,
          0,
          0,
          0,
          0,
          0,
          0,
          0,
          0,
          0,
          0,
          0,
          0,
          0,
          0,
          0,
          0,
          0,
          0,
          0,
          0,
          0,
          0,
          0,
          0,
          0,
          0,
          0,
          0,
          0
         ]
        },
        {
         "hoverinfo": "skip",
         "line": {
          "width": 0
         },
         "mode": "lines",
         "type": "scatter",
         "x": [
          "2023-12-31T00:00:00",
          "2024-01-07T00:00:00",
          "2024-01-14T00:00:00",
          "2024-01-21T00:00:00"
         ],
         "y": [
          -14.238815681483226,
          -13.935346097925946,
          -15.1870616443699,
          -15.02339579258719
         ]
        },
        {
         "fill": "tonexty",
         "fillcolor": "rgba(0, 114, 178, 0.2)",
         "line": {
          "color": "#0072B2",
          "width": 2
         },
         "mode": "lines",
         "name": "Predicted",
         "type": "scatter",
         "x": [
          "2023-12-31T00:00:00",
          "2024-01-07T00:00:00",
          "2024-01-14T00:00:00",
          "2024-01-21T00:00:00"
         ],
         "y": [
          -5.429205412424375,
          -5.797571308276,
          -6.165937204127621,
          -6.534303099979246
         ]
        },
        {
         "fill": "tonexty",
         "fillcolor": "rgba(0, 114, 178, 0.2)",
         "hoverinfo": "skip",
         "line": {
          "width": 0
         },
         "mode": "lines",
         "type": "scatter",
         "x": [
          "2023-12-31T00:00:00",
          "2024-01-07T00:00:00",
          "2024-01-14T00:00:00",
          "2024-01-21T00:00:00"
         ],
         "y": [
          3.503625317011949,
          2.7522878459631395,
          2.1637304807289546,
          2.313263039511923
         ]
        }
       ],
       "layout": {
        "height": 600,
        "showlegend": false,
        "template": {
         "data": {
          "bar": [
           {
            "error_x": {
             "color": "#2a3f5f"
            },
            "error_y": {
             "color": "#2a3f5f"
            },
            "marker": {
             "line": {
              "color": "#E5ECF6",
              "width": 0.5
             },
             "pattern": {
              "fillmode": "overlay",
              "size": 10,
              "solidity": 0.2
             }
            },
            "type": "bar"
           }
          ],
          "barpolar": [
           {
            "marker": {
             "line": {
              "color": "#E5ECF6",
              "width": 0.5
             },
             "pattern": {
              "fillmode": "overlay",
              "size": 10,
              "solidity": 0.2
             }
            },
            "type": "barpolar"
           }
          ],
          "carpet": [
           {
            "aaxis": {
             "endlinecolor": "#2a3f5f",
             "gridcolor": "white",
             "linecolor": "white",
             "minorgridcolor": "white",
             "startlinecolor": "#2a3f5f"
            },
            "baxis": {
             "endlinecolor": "#2a3f5f",
             "gridcolor": "white",
             "linecolor": "white",
             "minorgridcolor": "white",
             "startlinecolor": "#2a3f5f"
            },
            "type": "carpet"
           }
          ],
          "choropleth": [
           {
            "colorbar": {
             "outlinewidth": 0,
             "ticks": ""
            },
            "type": "choropleth"
           }
          ],
          "contour": [
           {
            "colorbar": {
             "outlinewidth": 0,
             "ticks": ""
            },
            "colorscale": [
             [
              0,
              "#0d0887"
             ],
             [
              0.1111111111111111,
              "#46039f"
             ],
             [
              0.2222222222222222,
              "#7201a8"
             ],
             [
              0.3333333333333333,
              "#9c179e"
             ],
             [
              0.4444444444444444,
              "#bd3786"
             ],
             [
              0.5555555555555556,
              "#d8576b"
             ],
             [
              0.6666666666666666,
              "#ed7953"
             ],
             [
              0.7777777777777778,
              "#fb9f3a"
             ],
             [
              0.8888888888888888,
              "#fdca26"
             ],
             [
              1,
              "#f0f921"
             ]
            ],
            "type": "contour"
           }
          ],
          "contourcarpet": [
           {
            "colorbar": {
             "outlinewidth": 0,
             "ticks": ""
            },
            "type": "contourcarpet"
           }
          ],
          "heatmap": [
           {
            "colorbar": {
             "outlinewidth": 0,
             "ticks": ""
            },
            "colorscale": [
             [
              0,
              "#0d0887"
             ],
             [
              0.1111111111111111,
              "#46039f"
             ],
             [
              0.2222222222222222,
              "#7201a8"
             ],
             [
              0.3333333333333333,
              "#9c179e"
             ],
             [
              0.4444444444444444,
              "#bd3786"
             ],
             [
              0.5555555555555556,
              "#d8576b"
             ],
             [
              0.6666666666666666,
              "#ed7953"
             ],
             [
              0.7777777777777778,
              "#fb9f3a"
             ],
             [
              0.8888888888888888,
              "#fdca26"
             ],
             [
              1,
              "#f0f921"
             ]
            ],
            "type": "heatmap"
           }
          ],
          "heatmapgl": [
           {
            "colorbar": {
             "outlinewidth": 0,
             "ticks": ""
            },
            "colorscale": [
             [
              0,
              "#0d0887"
             ],
             [
              0.1111111111111111,
              "#46039f"
             ],
             [
              0.2222222222222222,
              "#7201a8"
             ],
             [
              0.3333333333333333,
              "#9c179e"
             ],
             [
              0.4444444444444444,
              "#bd3786"
             ],
             [
              0.5555555555555556,
              "#d8576b"
             ],
             [
              0.6666666666666666,
              "#ed7953"
             ],
             [
              0.7777777777777778,
              "#fb9f3a"
             ],
             [
              0.8888888888888888,
              "#fdca26"
             ],
             [
              1,
              "#f0f921"
             ]
            ],
            "type": "heatmapgl"
           }
          ],
          "histogram": [
           {
            "marker": {
             "pattern": {
              "fillmode": "overlay",
              "size": 10,
              "solidity": 0.2
             }
            },
            "type": "histogram"
           }
          ],
          "histogram2d": [
           {
            "colorbar": {
             "outlinewidth": 0,
             "ticks": ""
            },
            "colorscale": [
             [
              0,
              "#0d0887"
             ],
             [
              0.1111111111111111,
              "#46039f"
             ],
             [
              0.2222222222222222,
              "#7201a8"
             ],
             [
              0.3333333333333333,
              "#9c179e"
             ],
             [
              0.4444444444444444,
              "#bd3786"
             ],
             [
              0.5555555555555556,
              "#d8576b"
             ],
             [
              0.6666666666666666,
              "#ed7953"
             ],
             [
              0.7777777777777778,
              "#fb9f3a"
             ],
             [
              0.8888888888888888,
              "#fdca26"
             ],
             [
              1,
              "#f0f921"
             ]
            ],
            "type": "histogram2d"
           }
          ],
          "histogram2dcontour": [
           {
            "colorbar": {
             "outlinewidth": 0,
             "ticks": ""
            },
            "colorscale": [
             [
              0,
              "#0d0887"
             ],
             [
              0.1111111111111111,
              "#46039f"
             ],
             [
              0.2222222222222222,
              "#7201a8"
             ],
             [
              0.3333333333333333,
              "#9c179e"
             ],
             [
              0.4444444444444444,
              "#bd3786"
             ],
             [
              0.5555555555555556,
              "#d8576b"
             ],
             [
              0.6666666666666666,
              "#ed7953"
             ],
             [
              0.7777777777777778,
              "#fb9f3a"
             ],
             [
              0.8888888888888888,
              "#fdca26"
             ],
             [
              1,
              "#f0f921"
             ]
            ],
            "type": "histogram2dcontour"
           }
          ],
          "mesh3d": [
           {
            "colorbar": {
             "outlinewidth": 0,
             "ticks": ""
            },
            "type": "mesh3d"
           }
          ],
          "parcoords": [
           {
            "line": {
             "colorbar": {
              "outlinewidth": 0,
              "ticks": ""
             }
            },
            "type": "parcoords"
           }
          ],
          "pie": [
           {
            "automargin": true,
            "type": "pie"
           }
          ],
          "scatter": [
           {
            "fillpattern": {
             "fillmode": "overlay",
             "size": 10,
             "solidity": 0.2
            },
            "type": "scatter"
           }
          ],
          "scatter3d": [
           {
            "line": {
             "colorbar": {
              "outlinewidth": 0,
              "ticks": ""
             }
            },
            "marker": {
             "colorbar": {
              "outlinewidth": 0,
              "ticks": ""
             }
            },
            "type": "scatter3d"
           }
          ],
          "scattercarpet": [
           {
            "marker": {
             "colorbar": {
              "outlinewidth": 0,
              "ticks": ""
             }
            },
            "type": "scattercarpet"
           }
          ],
          "scattergeo": [
           {
            "marker": {
             "colorbar": {
              "outlinewidth": 0,
              "ticks": ""
             }
            },
            "type": "scattergeo"
           }
          ],
          "scattergl": [
           {
            "marker": {
             "colorbar": {
              "outlinewidth": 0,
              "ticks": ""
             }
            },
            "type": "scattergl"
           }
          ],
          "scattermapbox": [
           {
            "marker": {
             "colorbar": {
              "outlinewidth": 0,
              "ticks": ""
             }
            },
            "type": "scattermapbox"
           }
          ],
          "scatterpolar": [
           {
            "marker": {
             "colorbar": {
              "outlinewidth": 0,
              "ticks": ""
             }
            },
            "type": "scatterpolar"
           }
          ],
          "scatterpolargl": [
           {
            "marker": {
             "colorbar": {
              "outlinewidth": 0,
              "ticks": ""
             }
            },
            "type": "scatterpolargl"
           }
          ],
          "scatterternary": [
           {
            "marker": {
             "colorbar": {
              "outlinewidth": 0,
              "ticks": ""
             }
            },
            "type": "scatterternary"
           }
          ],
          "surface": [
           {
            "colorbar": {
             "outlinewidth": 0,
             "ticks": ""
            },
            "colorscale": [
             [
              0,
              "#0d0887"
             ],
             [
              0.1111111111111111,
              "#46039f"
             ],
             [
              0.2222222222222222,
              "#7201a8"
             ],
             [
              0.3333333333333333,
              "#9c179e"
             ],
             [
              0.4444444444444444,
              "#bd3786"
             ],
             [
              0.5555555555555556,
              "#d8576b"
             ],
             [
              0.6666666666666666,
              "#ed7953"
             ],
             [
              0.7777777777777778,
              "#fb9f3a"
             ],
             [
              0.8888888888888888,
              "#fdca26"
             ],
             [
              1,
              "#f0f921"
             ]
            ],
            "type": "surface"
           }
          ],
          "table": [
           {
            "cells": {
             "fill": {
              "color": "#EBF0F8"
             },
             "line": {
              "color": "white"
             }
            },
            "header": {
             "fill": {
              "color": "#C8D4E3"
             },
             "line": {
              "color": "white"
             }
            },
            "type": "table"
           }
          ]
         },
         "layout": {
          "annotationdefaults": {
           "arrowcolor": "#2a3f5f",
           "arrowhead": 0,
           "arrowwidth": 1
          },
          "autotypenumbers": "strict",
          "coloraxis": {
           "colorbar": {
            "outlinewidth": 0,
            "ticks": ""
           }
          },
          "colorscale": {
           "diverging": [
            [
             0,
             "#8e0152"
            ],
            [
             0.1,
             "#c51b7d"
            ],
            [
             0.2,
             "#de77ae"
            ],
            [
             0.3,
             "#f1b6da"
            ],
            [
             0.4,
             "#fde0ef"
            ],
            [
             0.5,
             "#f7f7f7"
            ],
            [
             0.6,
             "#e6f5d0"
            ],
            [
             0.7,
             "#b8e186"
            ],
            [
             0.8,
             "#7fbc41"
            ],
            [
             0.9,
             "#4d9221"
            ],
            [
             1,
             "#276419"
            ]
           ],
           "sequential": [
            [
             0,
             "#0d0887"
            ],
            [
             0.1111111111111111,
             "#46039f"
            ],
            [
             0.2222222222222222,
             "#7201a8"
            ],
            [
             0.3333333333333333,
             "#9c179e"
            ],
            [
             0.4444444444444444,
             "#bd3786"
            ],
            [
             0.5555555555555556,
             "#d8576b"
            ],
            [
             0.6666666666666666,
             "#ed7953"
            ],
            [
             0.7777777777777778,
             "#fb9f3a"
            ],
            [
             0.8888888888888888,
             "#fdca26"
            ],
            [
             1,
             "#f0f921"
            ]
           ],
           "sequentialminus": [
            [
             0,
             "#0d0887"
            ],
            [
             0.1111111111111111,
             "#46039f"
            ],
            [
             0.2222222222222222,
             "#7201a8"
            ],
            [
             0.3333333333333333,
             "#9c179e"
            ],
            [
             0.4444444444444444,
             "#bd3786"
            ],
            [
             0.5555555555555556,
             "#d8576b"
            ],
            [
             0.6666666666666666,
             "#ed7953"
            ],
            [
             0.7777777777777778,
             "#fb9f3a"
            ],
            [
             0.8888888888888888,
             "#fdca26"
            ],
            [
             1,
             "#f0f921"
            ]
           ]
          },
          "colorway": [
           "#636efa",
           "#EF553B",
           "#00cc96",
           "#ab63fa",
           "#FFA15A",
           "#19d3f3",
           "#FF6692",
           "#B6E880",
           "#FF97FF",
           "#FECB52"
          ],
          "font": {
           "color": "#2a3f5f"
          },
          "geo": {
           "bgcolor": "white",
           "lakecolor": "white",
           "landcolor": "#E5ECF6",
           "showlakes": true,
           "showland": true,
           "subunitcolor": "white"
          },
          "hoverlabel": {
           "align": "left"
          },
          "hovermode": "closest",
          "mapbox": {
           "style": "light"
          },
          "paper_bgcolor": "white",
          "plot_bgcolor": "#E5ECF6",
          "polar": {
           "angularaxis": {
            "gridcolor": "white",
            "linecolor": "white",
            "ticks": ""
           },
           "bgcolor": "#E5ECF6",
           "radialaxis": {
            "gridcolor": "white",
            "linecolor": "white",
            "ticks": ""
           }
          },
          "scene": {
           "xaxis": {
            "backgroundcolor": "#E5ECF6",
            "gridcolor": "white",
            "gridwidth": 2,
            "linecolor": "white",
            "showbackground": true,
            "ticks": "",
            "zerolinecolor": "white"
           },
           "yaxis": {
            "backgroundcolor": "#E5ECF6",
            "gridcolor": "white",
            "gridwidth": 2,
            "linecolor": "white",
            "showbackground": true,
            "ticks": "",
            "zerolinecolor": "white"
           },
           "zaxis": {
            "backgroundcolor": "#E5ECF6",
            "gridcolor": "white",
            "gridwidth": 2,
            "linecolor": "white",
            "showbackground": true,
            "ticks": "",
            "zerolinecolor": "white"
           }
          },
          "shapedefaults": {
           "line": {
            "color": "#2a3f5f"
           }
          },
          "ternary": {
           "aaxis": {
            "gridcolor": "white",
            "linecolor": "white",
            "ticks": ""
           },
           "baxis": {
            "gridcolor": "white",
            "linecolor": "white",
            "ticks": ""
           },
           "bgcolor": "#E5ECF6",
           "caxis": {
            "gridcolor": "white",
            "linecolor": "white",
            "ticks": ""
           }
          },
          "title": {
           "x": 0.05
          },
          "xaxis": {
           "automargin": true,
           "gridcolor": "white",
           "linecolor": "white",
           "ticks": "",
           "title": {
            "standoff": 15
           },
           "zerolinecolor": "white",
           "zerolinewidth": 2
          },
          "yaxis": {
           "automargin": true,
           "gridcolor": "white",
           "linecolor": "white",
           "ticks": "",
           "title": {
            "standoff": 15
           },
           "zerolinecolor": "white",
           "zerolinewidth": 2
          }
         }
        },
        "width": 900,
        "xaxis": {
         "rangeselector": {
          "buttons": [
           {
            "count": 7,
            "label": "1w",
            "step": "day",
            "stepmode": "backward"
           },
           {
            "count": 1,
            "label": "1m",
            "step": "month",
            "stepmode": "backward"
           },
           {
            "count": 6,
            "label": "6m",
            "step": "month",
            "stepmode": "backward"
           },
           {
            "count": 1,
            "label": "1y",
            "step": "year",
            "stepmode": "backward"
           },
           {
            "step": "all"
           }
          ]
         },
         "rangeslider": {
          "visible": true
         },
         "title": {
          "text": "ds"
         },
         "type": "date"
        },
        "yaxis": {
         "title": {
          "text": "y"
         }
        }
       }
      }
     },
     "metadata": {},
     "output_type": "display_data"
    }
   ],
   "source": [
    "# Python\n",
    "from prophet.plot import plot_plotly, plot_components_plotly\n",
    "\n",
    "plot_plotly(prophet_model, forecast)"
   ]
  },
  {
   "cell_type": "code",
   "execution_count": 25,
   "metadata": {},
   "outputs": [
    {
     "data": {
      "text/html": [
       "<div>\n",
       "<style scoped>\n",
       "    .dataframe tbody tr th:only-of-type {\n",
       "        vertical-align: middle;\n",
       "    }\n",
       "\n",
       "    .dataframe tbody tr th {\n",
       "        vertical-align: top;\n",
       "    }\n",
       "\n",
       "    .dataframe thead th {\n",
       "        text-align: right;\n",
       "    }\n",
       "</style>\n",
       "<table border=\"1\" class=\"dataframe\">\n",
       "  <thead>\n",
       "    <tr style=\"text-align: right;\">\n",
       "      <th></th>\n",
       "      <th>ds</th>\n",
       "      <th>yhat</th>\n",
       "      <th>yhat_lower</th>\n",
       "      <th>yhat_upper</th>\n",
       "    </tr>\n",
       "  </thead>\n",
       "  <tbody>\n",
       "    <tr>\n",
       "      <th>0</th>\n",
       "      <td>2023-12-31</td>\n",
       "      <td>-5.429205</td>\n",
       "      <td>-14.238816</td>\n",
       "      <td>3.503625</td>\n",
       "    </tr>\n",
       "    <tr>\n",
       "      <th>1</th>\n",
       "      <td>2024-01-07</td>\n",
       "      <td>-5.797571</td>\n",
       "      <td>-13.935346</td>\n",
       "      <td>2.752288</td>\n",
       "    </tr>\n",
       "    <tr>\n",
       "      <th>2</th>\n",
       "      <td>2024-01-14</td>\n",
       "      <td>-6.165937</td>\n",
       "      <td>-15.187062</td>\n",
       "      <td>2.163730</td>\n",
       "    </tr>\n",
       "    <tr>\n",
       "      <th>3</th>\n",
       "      <td>2024-01-21</td>\n",
       "      <td>-6.534303</td>\n",
       "      <td>-15.023396</td>\n",
       "      <td>2.313263</td>\n",
       "    </tr>\n",
       "  </tbody>\n",
       "</table>\n",
       "</div>"
      ],
      "text/plain": [
       "          ds      yhat  yhat_lower  yhat_upper\n",
       "0 2023-12-31 -5.429205  -14.238816    3.503625\n",
       "1 2024-01-07 -5.797571  -13.935346    2.752288\n",
       "2 2024-01-14 -6.165937  -15.187062    2.163730\n",
       "3 2024-01-21 -6.534303  -15.023396    2.313263"
      ]
     },
     "execution_count": 25,
     "metadata": {},
     "output_type": "execute_result"
    }
   ],
   "source": [
    "forecast[['ds', 'yhat', 'yhat_lower', 'yhat_upper']].tail()\n"
   ]
  },
  {
   "cell_type": "code",
   "execution_count": 10,
   "metadata": {},
   "outputs": [
    {
     "name": "stderr",
     "output_type": "stream",
     "text": [
      "10:04:47 - cmdstanpy - INFO - Chain [1] start processing\n",
      "10:04:48 - cmdstanpy - INFO - Chain [1] done processing\n"
     ]
    },
    {
     "data": {
      "text/html": [
       "<div>\n",
       "<style scoped>\n",
       "    .dataframe tbody tr th:only-of-type {\n",
       "        vertical-align: middle;\n",
       "    }\n",
       "\n",
       "    .dataframe tbody tr th {\n",
       "        vertical-align: top;\n",
       "    }\n",
       "\n",
       "    .dataframe thead th {\n",
       "        text-align: right;\n",
       "    }\n",
       "</style>\n",
       "<table border=\"1\" class=\"dataframe\">\n",
       "  <thead>\n",
       "    <tr style=\"text-align: right;\">\n",
       "      <th></th>\n",
       "      <th>ds</th>\n",
       "    </tr>\n",
       "  </thead>\n",
       "  <tbody>\n",
       "    <tr>\n",
       "      <th>0</th>\n",
       "      <td>2007-12-10</td>\n",
       "    </tr>\n",
       "    <tr>\n",
       "      <th>1</th>\n",
       "      <td>2007-12-11</td>\n",
       "    </tr>\n",
       "    <tr>\n",
       "      <th>2</th>\n",
       "      <td>2007-12-12</td>\n",
       "    </tr>\n",
       "    <tr>\n",
       "      <th>3</th>\n",
       "      <td>2007-12-13</td>\n",
       "    </tr>\n",
       "    <tr>\n",
       "      <th>4</th>\n",
       "      <td>2007-12-14</td>\n",
       "    </tr>\n",
       "  </tbody>\n",
       "</table>\n",
       "</div>"
      ],
      "text/plain": [
       "          ds\n",
       "0 2007-12-10\n",
       "1 2007-12-11\n",
       "2 2007-12-12\n",
       "3 2007-12-13\n",
       "4 2007-12-14"
      ]
     },
     "execution_count": 10,
     "metadata": {},
     "output_type": "execute_result"
    }
   ],
   "source": [
    "# example \n",
    "\n",
    "df = pd.read_csv('https://raw.githubusercontent.com/facebook/prophet/main/examples/example_wp_log_peyton_manning.csv')\n",
    "m = Prophet()\n",
    "m.fit(df)\n",
    "future = m.make_future_dataframe(periods=365)\n"
   ]
  },
  {
   "cell_type": "code",
   "execution_count": 12,
   "metadata": {},
   "outputs": [
    {
     "data": {
      "text/html": [
       "<div>\n",
       "<style scoped>\n",
       "    .dataframe tbody tr th:only-of-type {\n",
       "        vertical-align: middle;\n",
       "    }\n",
       "\n",
       "    .dataframe tbody tr th {\n",
       "        vertical-align: top;\n",
       "    }\n",
       "\n",
       "    .dataframe thead th {\n",
       "        text-align: right;\n",
       "    }\n",
       "</style>\n",
       "<table border=\"1\" class=\"dataframe\">\n",
       "  <thead>\n",
       "    <tr style=\"text-align: right;\">\n",
       "      <th></th>\n",
       "      <th>ds</th>\n",
       "    </tr>\n",
       "  </thead>\n",
       "  <tbody>\n",
       "    <tr>\n",
       "      <th>0</th>\n",
       "      <td>2007-12-10</td>\n",
       "    </tr>\n",
       "    <tr>\n",
       "      <th>1</th>\n",
       "      <td>2007-12-11</td>\n",
       "    </tr>\n",
       "    <tr>\n",
       "      <th>2</th>\n",
       "      <td>2007-12-12</td>\n",
       "    </tr>\n",
       "    <tr>\n",
       "      <th>3</th>\n",
       "      <td>2007-12-13</td>\n",
       "    </tr>\n",
       "    <tr>\n",
       "      <th>4</th>\n",
       "      <td>2007-12-14</td>\n",
       "    </tr>\n",
       "  </tbody>\n",
       "</table>\n",
       "</div>"
      ],
      "text/plain": [
       "          ds\n",
       "0 2007-12-10\n",
       "1 2007-12-11\n",
       "2 2007-12-12\n",
       "3 2007-12-13\n",
       "4 2007-12-14"
      ]
     },
     "execution_count": 12,
     "metadata": {},
     "output_type": "execute_result"
    }
   ],
   "source": [
    "future.head()"
   ]
  },
  {
   "cell_type": "code",
   "execution_count": 13,
   "metadata": {},
   "outputs": [
    {
     "name": "stdout",
     "output_type": "stream",
     "text": [
      "2007-12-10\n",
      "2016-01-20\n",
      "2007-12-10 00:00:00\n",
      "2017-01-19 00:00:00\n"
     ]
    }
   ],
   "source": [
    "# print first and last dates of df\n",
    "print(df.ds.min())\n",
    "print(df.ds.max())\n",
    "print(future.ds.min())\n",
    "print(future.ds.max())"
   ]
  },
  {
   "cell_type": "markdown",
   "metadata": {},
   "source": [
    "Sales Forecast as a Proxy for OOS for Each Product\n",
    "Findings: By leveraging time-series forecasting methods, we estimate future sales for individual products. This helps us identify potential stock-outs before they happen.\n",
    "\n",
    "Future Improvements: Integrate external factors like promotions and holidays for more accurate forecasting. Also, we aim to build separate models for high-performing and low-performing SKUs to fine-tune our predictions.\n",
    "\n",
    "Customer Value: This enables us to be proactive rather than reactive, ensuring that popular items are always in stock. This leads to better customer satisfaction and increased sales\n",
    "\n",
    "Stock Threshold\n",
    "Current Approach: We're using the 75th percentile of historical sales as a \"critical stock threshold.\" When forecasted sales exceed this level, we flag it as a potential out-of-stock scenario.\n",
    "\n",
    "Future Improvements: Transition to a dynamic threshold that adapts to recent sales trends and seasonality. This will allow us to be more agile in our stock management.\n",
    "\n",
    "Customer Value: By having a well-defined threshold, we minimize the risk of holding excess inventory while ensuring that we have adequate stock to meet demand. This translates to cost savings and better service levels.\n",
    "\n",
    "OOS Alert System\n",
    "Current Approach: The system generates alerts for upcoming weeks where a potential out-of-stock situation is predicted. These alerts are based on our sales forecast and stock threshold.\n",
    "\n",
    "Future Improvements: Integrate these alerts into a real-time dashboard and tie them into our supply chain for automated reordering.\n",
    "\n",
    "Customer Value: Real-time alerts mean we can act swiftly to prevent stock-outs, ensuring a seamless shopping experience for the customer. This builds trust and encourages repeat business."
   ]
  },
  {
   "cell_type": "markdown",
   "metadata": {},
   "source": []
  }
 ],
 "metadata": {
  "kernelspec": {
   "display_name": "prophet",
   "language": "python",
   "name": "python3"
  },
  "language_info": {
   "codemirror_mode": {
    "name": "ipython",
    "version": 3
   },
   "file_extension": ".py",
   "mimetype": "text/x-python",
   "name": "python",
   "nbconvert_exporter": "python",
   "pygments_lexer": "ipython3",
   "version": "3.10.9"
  },
  "orig_nbformat": 4
 },
 "nbformat": 4,
 "nbformat_minor": 2
}
