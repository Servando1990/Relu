{
 "cells": [
  {
   "cell_type": "code",
   "execution_count": null,
   "metadata": {},
   "outputs": [],
   "source": [
    "from google.cloud import bigquery\n",
    "\n",
    "# Initialize the BigQuery client\n",
    "client = bigquery.Client.from_service_account_json('/Users/servandodavidtorresgarcia/servando/relu/gcp/local-catalyst-398309-52645c242657.json')\n",
    "\n",
    "\n",
    "# Define your table and destination URI\n",
    "dataset_name = 'thelook_ecommerce'\n",
    "table_name = 'distribution_centers'\n",
    "bucket_name = 'ecommerce_looker_download'\n",
    "destination_uri = f\"gs://{bucket_name}/{table_name}.csv\"\n",
    "\n",
    "# Create an extract job\n",
    "dataset_ref = client.dataset(dataset_name, project='bigquery-public-data')\n",
    "table_ref = dataset_ref.table(table_name)\n",
    "\n",
    "extract_job = client.extract_table(\n",
    "    table_ref,\n",
    "    destination_uri,\n",
    "    location='US',  # Location must match that of the source table.\n",
    ")\n",
    "extract_job.result()  # Wait for job to complete\n",
    "\n",
    "print(f\"Exported {dataset_name}.{table_name} to {destination_uri}\")\n"
   ]
  },
  {
   "cell_type": "code",
   "execution_count": 1,
   "metadata": {},
   "outputs": [],
   "source": [
    "\n",
    "from src.data.dataset_reader import DatasetReader\n",
    "from pathlib import Path\n",
    "import pandas as pd\n",
    "pd.set_option('display.max_columns', None)\n",
    "%load_ext autoreload\n",
    "%autoreload 2\n",
    "# ignore warnings\n",
    "import warnings\n",
    "warnings.filterwarnings('ignore')\n",
    "data_folder = Path(\"../data/raw\").resolve()\n",
    "\n",
    "products = DatasetReader(data_folder).get_data_csv('products.csv')\n",
    "orders = DatasetReader(data_folder).get_data_csv('orders.csv')\n",
    "order_items = DatasetReader(data_folder).get_data_csv('order_items.csv')\n",
    "inventory_items = DatasetReader(data_folder).get_data_csv('inventory_items.csv')"
   ]
  },
  {
   "cell_type": "code",
   "execution_count": 2,
   "metadata": {},
   "outputs": [],
   "source": [
    "# Select specific columns from each DataFrame\n",
    "order_items_selected = order_items[['product_id','order_id','status', 'created_at', 'shipped_at', 'delivered_at', 'returned_at', 'sale_price']]\n",
    "orders_selected = orders[['order_id', 'gender', 'num_of_item']]  # Including 'order_id' for joining\n",
    "products_selected = products[['id', 'cost', 'category', 'name', 'brand', 'retail_price', 'department', 'sku']]  # Including 'id' for joining\n",
    "\n",
    "# Perform the join operations based on the relationships identified in the queries\n",
    "# Assuming 'order_id' is common between 'order_items' and 'orders'\n",
    "# Assuming 'product_id' is common between 'order_items' and 'products'\n",
    "\n",
    "merged_df = order_items_selected \\\n",
    "    .merge(orders_selected, on='order_id', how='inner') \\\n",
    "    .merge(products_selected, left_on='product_id', right_on='id', how='inner')\n",
    "\n"
   ]
  },
  {
   "cell_type": "code",
   "execution_count": 3,
   "metadata": {},
   "outputs": [],
   "source": [
    "merged_df.drop(columns=['product_id', 'order_id', 'id'], inplace=True)"
   ]
  },
  {
   "cell_type": "code",
   "execution_count": 4,
   "metadata": {},
   "outputs": [],
   "source": [
    "# place sku to the beginning of the dataframe\n",
    "cols = list(merged_df.columns)\n",
    "cols.insert(0, cols.pop(cols.index('sku')))\n",
    "merged_df = merged_df.loc[:, cols]\n"
   ]
  },
  {
   "cell_type": "code",
   "execution_count": 5,
   "metadata": {},
   "outputs": [],
   "source": [
    "\n",
    "# checl if sale_price is equal to retail_price\n",
    "merged_df.query('sale_price != retail_price')\n",
    "merged_df.drop(columns=['retail_price'], inplace=True)"
   ]
  },
  {
   "cell_type": "code",
   "execution_count": 6,
   "metadata": {},
   "outputs": [],
   "source": [
    "#trainsform dates to datetime\n",
    "merged_df['created_at'] = pd.to_datetime(merged_df['created_at'])\n",
    "merged_df['shipped_at'] = pd.to_datetime(merged_df['shipped_at'])\n",
    "merged_df['delivered_at'] = pd.to_datetime(merged_df['delivered_at'])\n",
    "merged_df['returned_at'] = pd.to_datetime(merged_df['returned_at'])"
   ]
  },
  {
   "cell_type": "code",
   "execution_count": 7,
   "metadata": {},
   "outputs": [],
   "source": [
    "#merged_df.head()\n",
    "#merged_df.groupby('sku').size().reset_index(name='sales')\n",
    "# create column sales that is the number sales per sku\n",
    "# Correct way to calculate sales per SKU\n",
    "#merged_df['sales'] = merged_df.groupby('sku')['num_of_item'].transform('sum')\n"
   ]
  },
  {
   "cell_type": "code",
   "execution_count": 51,
   "metadata": {},
   "outputs": [
    {
     "name": "stdout",
     "output_type": "stream",
     "text": [
      "                                sku    status                       created_at                       shipped_at                     delivered_at returned_at  sale_price gender  num_of_item     cost     category                                     name             brand department\n",
      "0  4ACBEDBE977480D19B7B682D4878CAE2   Shipped        2023-08-20 21:21:15+00:00        2023-08-21 07:58:00+00:00                              NaT         NaT         2.5      F            4   1.1075  Accessories  Elegant PASHMINA SCARF WRAP SHAWL STOLE  Scarf_tradinginc      Women\n",
      "1  4ACBEDBE977480D19B7B682D4878CAE2  Complete 2023-09-08 00:38:23.869168+00:00 2023-09-07 19:56:53.869168+00:00 2023-09-08 14:07:53.869168+00:00         NaT         2.5      F            4   1.1075  Accessories  Elegant PASHMINA SCARF WRAP SHAWL STOLE  Scarf_tradinginc      Women\n",
      "2  E0F19F64F086E393CEB0CF4A8C561B51   Shipped        2023-08-24 21:44:30+00:00        2023-08-21 07:58:00+00:00                              NaT         NaT        64.0      F            4  30.2080       Shorts    Lilly Pulitzer Women's Callahan Short    Lilly Pulitzer      Women\n",
      "3  E0F19F64F086E393CEB0CF4A8C561B51   Shipped        2021-08-07 11:31:50+00:00        2021-08-06 00:10:00+00:00                              NaT         NaT        64.0      F            4  30.2080       Shorts    Lilly Pulitzer Women's Callahan Short    Lilly Pulitzer      Women\n",
      "4  E0F19F64F086E393CEB0CF4A8C561B51  Complete        2021-09-10 00:59:21+00:00        2021-09-09 04:35:00+00:00        2021-09-13 15:46:00+00:00         NaT        64.0      F            2  30.2080       Shorts    Lilly Pulitzer Women's Callahan Short    Lilly Pulitzer      Women\n"
     ]
    }
   ],
   "source": [
    "#merged_df.drop (columns=['sales'], inplace=True)\n",
    "#print(merged_df.head().to_string())"
   ]
  },
  {
   "cell_type": "code",
   "execution_count": 52,
   "metadata": {},
   "outputs": [
    {
     "data": {
      "text/html": [
       "<div>\n",
       "<style scoped>\n",
       "    .dataframe tbody tr th:only-of-type {\n",
       "        vertical-align: middle;\n",
       "    }\n",
       "\n",
       "    .dataframe tbody tr th {\n",
       "        vertical-align: top;\n",
       "    }\n",
       "\n",
       "    .dataframe thead th {\n",
       "        text-align: right;\n",
       "    }\n",
       "</style>\n",
       "<table border=\"1\" class=\"dataframe\">\n",
       "  <thead>\n",
       "    <tr style=\"text-align: right;\">\n",
       "      <th></th>\n",
       "      <th>sku</th>\n",
       "      <th>sale_price</th>\n",
       "      <th>date</th>\n",
       "      <th>daily_sales</th>\n",
       "    </tr>\n",
       "  </thead>\n",
       "  <tbody>\n",
       "    <tr>\n",
       "      <th>0</th>\n",
       "      <td>00003E3B9E5336685200AE85D21B4F5E</td>\n",
       "      <td>99.000000</td>\n",
       "      <td>2022-05-14</td>\n",
       "      <td>2</td>\n",
       "    </tr>\n",
       "    <tr>\n",
       "      <th>1</th>\n",
       "      <td>00003E3B9E5336685200AE85D21B4F5E</td>\n",
       "      <td>99.000000</td>\n",
       "      <td>2022-12-09</td>\n",
       "      <td>1</td>\n",
       "    </tr>\n",
       "    <tr>\n",
       "      <th>2</th>\n",
       "      <td>00003E3B9E5336685200AE85D21B4F5E</td>\n",
       "      <td>99.000000</td>\n",
       "      <td>2023-05-12</td>\n",
       "      <td>1</td>\n",
       "    </tr>\n",
       "    <tr>\n",
       "      <th>3</th>\n",
       "      <td>0004D0B59E19461FF126E3A08A814C33</td>\n",
       "      <td>79.949997</td>\n",
       "      <td>2020-08-31</td>\n",
       "      <td>1</td>\n",
       "    </tr>\n",
       "    <tr>\n",
       "      <th>4</th>\n",
       "      <td>0004D0B59E19461FF126E3A08A814C33</td>\n",
       "      <td>79.949997</td>\n",
       "      <td>2022-10-19</td>\n",
       "      <td>1</td>\n",
       "    </tr>\n",
       "  </tbody>\n",
       "</table>\n",
       "</div>"
      ],
      "text/plain": [
       "                                sku  sale_price        date  daily_sales\n",
       "0  00003E3B9E5336685200AE85D21B4F5E   99.000000  2022-05-14            2\n",
       "1  00003E3B9E5336685200AE85D21B4F5E   99.000000  2022-12-09            1\n",
       "2  00003E3B9E5336685200AE85D21B4F5E   99.000000  2023-05-12            1\n",
       "3  0004D0B59E19461FF126E3A08A814C33   79.949997  2020-08-31            1\n",
       "4  0004D0B59E19461FF126E3A08A814C33   79.949997  2022-10-19            1"
      ]
     },
     "execution_count": 52,
     "metadata": {},
     "output_type": "execute_result"
    }
   ],
   "source": [
    "# Given the clarification, let's aggregate the data as discussed:\n",
    "\n",
    "def aggregate_sales(data, sku_col='sku', price_col='sale_price', time_col='created_at', sales_col='num_of_item'):\n",
    "    \"\"\"Aggregate sales by SKU, price, and time.\"\"\"\n",
    "    # Extract the date from the timestamp for daily aggregation\n",
    "    data['date'] = data[time_col].dt.date\n",
    "    \n",
    "    aggregated_data = data.groupby([sku_col, price_col, 'date'])[sales_col].sum().reset_index().rename(columns={sales_col: 'daily_sales'})\n",
    "    \n",
    "    return aggregated_data\n",
    "\n",
    "# Using the sample dataset provided to aggregate sales\n",
    "aggregated_sales_data = aggregate_sales(merged_df)\n",
    "\n",
    "aggregated_sales_data.head()\n"
   ]
  },
  {
   "cell_type": "code",
   "execution_count": 53,
   "metadata": {},
   "outputs": [],
   "source": [
    "def aggregate_sales_with_all_columns(data, sku_col='sku', price_col='sale_price', time_col='created_at', sales_col='num_of_item'):\n",
    "    \"\"\"Aggregate sales by SKU, price, and time while retaining other columns.\"\"\"\n",
    "    \n",
    "    # Extract the date from the timestamp for daily aggregation\n",
    "    data['date'] = data[time_col].dt.date\n",
    "    \n",
    "    # Aggregating sales and retaining other columns\n",
    "    aggregation_methods = {sales_col: 'sum'}\n",
    "    for col in data.columns:\n",
    "        if col not in [sku_col, price_col, 'date', sales_col]:\n",
    "            aggregation_methods[col] = 'first'\n",
    "    \n",
    "    aggregated_data = data.groupby([sku_col, price_col, 'date']).agg(aggregation_methods).reset_index().rename(columns={sales_col: 'daily_sales'})\n",
    "    \n",
    "    return aggregated_data\n",
    "\n",
    "\n"
   ]
  },
  {
   "cell_type": "code",
   "execution_count": 55,
   "metadata": {},
   "outputs": [
    {
     "data": {
      "text/html": [
       "<div>\n",
       "<style scoped>\n",
       "    .dataframe tbody tr th:only-of-type {\n",
       "        vertical-align: middle;\n",
       "    }\n",
       "\n",
       "    .dataframe tbody tr th {\n",
       "        vertical-align: top;\n",
       "    }\n",
       "\n",
       "    .dataframe thead th {\n",
       "        text-align: right;\n",
       "    }\n",
       "</style>\n",
       "<table border=\"1\" class=\"dataframe\">\n",
       "  <thead>\n",
       "    <tr style=\"text-align: right;\">\n",
       "      <th></th>\n",
       "      <th>sku</th>\n",
       "      <th>sale_price</th>\n",
       "      <th>date</th>\n",
       "      <th>daily_sales</th>\n",
       "      <th>status</th>\n",
       "      <th>created_at</th>\n",
       "      <th>shipped_at</th>\n",
       "      <th>delivered_at</th>\n",
       "      <th>returned_at</th>\n",
       "      <th>gender</th>\n",
       "      <th>cost</th>\n",
       "      <th>category</th>\n",
       "      <th>name</th>\n",
       "      <th>brand</th>\n",
       "      <th>department</th>\n",
       "    </tr>\n",
       "  </thead>\n",
       "  <tbody>\n",
       "    <tr>\n",
       "      <th>0</th>\n",
       "      <td>00003E3B9E5336685200AE85D21B4F5E</td>\n",
       "      <td>99.000000</td>\n",
       "      <td>2022-05-14</td>\n",
       "      <td>2</td>\n",
       "      <td>Shipped</td>\n",
       "      <td>2022-05-14 21:24:59+00:00</td>\n",
       "      <td>2022-05-15 20:22:00+00:00</td>\n",
       "      <td>NaT</td>\n",
       "      <td>NaT</td>\n",
       "      <td>F</td>\n",
       "      <td>56.232000</td>\n",
       "      <td>Pants &amp; Capris</td>\n",
       "      <td>Anne Klein Women's Crop Pant</td>\n",
       "      <td>Anne Klein</td>\n",
       "      <td>Women</td>\n",
       "    </tr>\n",
       "    <tr>\n",
       "      <th>1</th>\n",
       "      <td>00003E3B9E5336685200AE85D21B4F5E</td>\n",
       "      <td>99.000000</td>\n",
       "      <td>2022-12-09</td>\n",
       "      <td>1</td>\n",
       "      <td>Complete</td>\n",
       "      <td>2022-12-09 03:58:35+00:00</td>\n",
       "      <td>2022-12-10 03:49:00+00:00</td>\n",
       "      <td>2022-12-10 13:54:00+00:00</td>\n",
       "      <td>NaT</td>\n",
       "      <td>F</td>\n",
       "      <td>56.232000</td>\n",
       "      <td>Pants &amp; Capris</td>\n",
       "      <td>Anne Klein Women's Crop Pant</td>\n",
       "      <td>Anne Klein</td>\n",
       "      <td>Women</td>\n",
       "    </tr>\n",
       "    <tr>\n",
       "      <th>2</th>\n",
       "      <td>00003E3B9E5336685200AE85D21B4F5E</td>\n",
       "      <td>99.000000</td>\n",
       "      <td>2023-05-12</td>\n",
       "      <td>1</td>\n",
       "      <td>Complete</td>\n",
       "      <td>2023-05-12 23:08:53+00:00</td>\n",
       "      <td>2023-05-15 07:59:00+00:00</td>\n",
       "      <td>2023-05-18 01:27:00+00:00</td>\n",
       "      <td>NaT</td>\n",
       "      <td>F</td>\n",
       "      <td>56.232000</td>\n",
       "      <td>Pants &amp; Capris</td>\n",
       "      <td>Anne Klein Women's Crop Pant</td>\n",
       "      <td>Anne Klein</td>\n",
       "      <td>Women</td>\n",
       "    </tr>\n",
       "    <tr>\n",
       "      <th>3</th>\n",
       "      <td>0004D0B59E19461FF126E3A08A814C33</td>\n",
       "      <td>79.949997</td>\n",
       "      <td>2020-08-31</td>\n",
       "      <td>1</td>\n",
       "      <td>Processing</td>\n",
       "      <td>2020-08-31 08:42:06+00:00</td>\n",
       "      <td>NaT</td>\n",
       "      <td>NaT</td>\n",
       "      <td>NaT</td>\n",
       "      <td>F</td>\n",
       "      <td>37.656449</td>\n",
       "      <td>Fashion Hoodies &amp; Sweatshirts</td>\n",
       "      <td>The Bradford Exchange Breast Cancer Support Wo...</td>\n",
       "      <td>Bradford Exchange</td>\n",
       "      <td>Women</td>\n",
       "    </tr>\n",
       "    <tr>\n",
       "      <th>4</th>\n",
       "      <td>0004D0B59E19461FF126E3A08A814C33</td>\n",
       "      <td>79.949997</td>\n",
       "      <td>2022-10-19</td>\n",
       "      <td>1</td>\n",
       "      <td>Shipped</td>\n",
       "      <td>2022-10-19 10:38:15+00:00</td>\n",
       "      <td>2022-10-21 14:40:00+00:00</td>\n",
       "      <td>NaT</td>\n",
       "      <td>NaT</td>\n",
       "      <td>F</td>\n",
       "      <td>37.656449</td>\n",
       "      <td>Fashion Hoodies &amp; Sweatshirts</td>\n",
       "      <td>The Bradford Exchange Breast Cancer Support Wo...</td>\n",
       "      <td>Bradford Exchange</td>\n",
       "      <td>Women</td>\n",
       "    </tr>\n",
       "  </tbody>\n",
       "</table>\n",
       "</div>"
      ],
      "text/plain": [
       "                                sku  sale_price        date  daily_sales  \\\n",
       "0  00003E3B9E5336685200AE85D21B4F5E   99.000000  2022-05-14            2   \n",
       "1  00003E3B9E5336685200AE85D21B4F5E   99.000000  2022-12-09            1   \n",
       "2  00003E3B9E5336685200AE85D21B4F5E   99.000000  2023-05-12            1   \n",
       "3  0004D0B59E19461FF126E3A08A814C33   79.949997  2020-08-31            1   \n",
       "4  0004D0B59E19461FF126E3A08A814C33   79.949997  2022-10-19            1   \n",
       "\n",
       "       status                created_at                shipped_at  \\\n",
       "0     Shipped 2022-05-14 21:24:59+00:00 2022-05-15 20:22:00+00:00   \n",
       "1    Complete 2022-12-09 03:58:35+00:00 2022-12-10 03:49:00+00:00   \n",
       "2    Complete 2023-05-12 23:08:53+00:00 2023-05-15 07:59:00+00:00   \n",
       "3  Processing 2020-08-31 08:42:06+00:00                       NaT   \n",
       "4     Shipped 2022-10-19 10:38:15+00:00 2022-10-21 14:40:00+00:00   \n",
       "\n",
       "               delivered_at returned_at gender       cost  \\\n",
       "0                       NaT         NaT      F  56.232000   \n",
       "1 2022-12-10 13:54:00+00:00         NaT      F  56.232000   \n",
       "2 2023-05-18 01:27:00+00:00         NaT      F  56.232000   \n",
       "3                       NaT         NaT      F  37.656449   \n",
       "4                       NaT         NaT      F  37.656449   \n",
       "\n",
       "                        category  \\\n",
       "0                 Pants & Capris   \n",
       "1                 Pants & Capris   \n",
       "2                 Pants & Capris   \n",
       "3  Fashion Hoodies & Sweatshirts   \n",
       "4  Fashion Hoodies & Sweatshirts   \n",
       "\n",
       "                                                name              brand  \\\n",
       "0                       Anne Klein Women's Crop Pant         Anne Klein   \n",
       "1                       Anne Klein Women's Crop Pant         Anne Klein   \n",
       "2                       Anne Klein Women's Crop Pant         Anne Klein   \n",
       "3  The Bradford Exchange Breast Cancer Support Wo...  Bradford Exchange   \n",
       "4  The Bradford Exchange Breast Cancer Support Wo...  Bradford Exchange   \n",
       "\n",
       "  department  \n",
       "0      Women  \n",
       "1      Women  \n",
       "2      Women  \n",
       "3      Women  \n",
       "4      Women  "
      ]
     },
     "execution_count": 55,
     "metadata": {},
     "output_type": "execute_result"
    }
   ],
   "source": [
    "merged_df = aggregate_sales_with_all_columns(merged_df)\n",
    "merged_df.head()"
   ]
  },
  {
   "cell_type": "code",
   "execution_count": 139,
   "metadata": {},
   "outputs": [
    {
     "name": "stdout",
     "output_type": "stream",
     "text": [
      "                                sku  sale_price        date  daily_sales      status                created_at                shipped_at              delivered_at returned_at gender       cost                       category                                                                              name              brand department\n",
      "0  00003E3B9E5336685200AE85D21B4F5E   99.000000  2022-05-14            2     Shipped 2022-05-14 21:24:59+00:00 2022-05-15 20:22:00+00:00                       NaT         NaT      F  56.232000                 Pants & Capris                                                      Anne Klein Women's Crop Pant         Anne Klein      Women\n",
      "1  00003E3B9E5336685200AE85D21B4F5E   99.000000  2022-12-09            1    Complete 2022-12-09 03:58:35+00:00 2022-12-10 03:49:00+00:00 2022-12-10 13:54:00+00:00         NaT      F  56.232000                 Pants & Capris                                                      Anne Klein Women's Crop Pant         Anne Klein      Women\n",
      "2  00003E3B9E5336685200AE85D21B4F5E   99.000000  2023-05-12            1    Complete 2023-05-12 23:08:53+00:00 2023-05-15 07:59:00+00:00 2023-05-18 01:27:00+00:00         NaT      F  56.232000                 Pants & Capris                                                      Anne Klein Women's Crop Pant         Anne Klein      Women\n",
      "3  0004D0B59E19461FF126E3A08A814C33   79.949997  2020-08-31            1  Processing 2020-08-31 08:42:06+00:00                       NaT                       NaT         NaT      F  37.656449  Fashion Hoodies & Sweatshirts  The Bradford Exchange Breast Cancer Support Women's Hoodie: Celebrate Life White  Bradford Exchange      Women\n",
      "4  0004D0B59E19461FF126E3A08A814C33   79.949997  2022-10-19            1     Shipped 2022-10-19 10:38:15+00:00 2022-10-21 14:40:00+00:00                       NaT         NaT      F  37.656449  Fashion Hoodies & Sweatshirts  The Bradford Exchange Breast Cancer Support Women's Hoodie: Celebrate Life White  Bradford Exchange      Women\n"
     ]
    }
   ],
   "source": [
    "print(merged_df.head().to_string())"
   ]
  },
  {
   "cell_type": "code",
   "execution_count": null,
   "metadata": {},
   "outputs": [],
   "source": []
  },
  {
   "cell_type": "code",
   "execution_count": null,
   "metadata": {},
   "outputs": [],
   "source": []
  },
  {
   "cell_type": "code",
   "execution_count": 56,
   "metadata": {},
   "outputs": [],
   "source": [
    "# drop status = 'Cancelled'\n",
    "merged_df = merged_df[merged_df['status'] != 'Cancelled']"
   ]
  },
  {
   "cell_type": "code",
   "execution_count": 57,
   "metadata": {},
   "outputs": [
    {
     "name": "stdout",
     "output_type": "stream",
     "text": [
      "The selected dataframe has 15 columns and 5 columns with missing values.\n"
     ]
    },
    {
     "data": {
      "text/html": [
       "<div>\n",
       "<style scoped>\n",
       "    .dataframe tbody tr th:only-of-type {\n",
       "        vertical-align: middle;\n",
       "    }\n",
       "\n",
       "    .dataframe tbody tr th {\n",
       "        vertical-align: top;\n",
       "    }\n",
       "\n",
       "    .dataframe thead th {\n",
       "        text-align: right;\n",
       "    }\n",
       "</style>\n",
       "<table border=\"1\" class=\"dataframe\">\n",
       "  <thead>\n",
       "    <tr style=\"text-align: right;\">\n",
       "      <th></th>\n",
       "      <th>Missing Values</th>\n",
       "      <th>% of Total Values</th>\n",
       "    </tr>\n",
       "  </thead>\n",
       "  <tbody>\n",
       "    <tr>\n",
       "      <th>returned_at</th>\n",
       "      <td>134664</td>\n",
       "      <td>88.0</td>\n",
       "    </tr>\n",
       "    <tr>\n",
       "      <th>delivered_at</th>\n",
       "      <td>89906</td>\n",
       "      <td>58.8</td>\n",
       "    </tr>\n",
       "    <tr>\n",
       "      <th>shipped_at</th>\n",
       "      <td>35931</td>\n",
       "      <td>23.5</td>\n",
       "    </tr>\n",
       "    <tr>\n",
       "      <th>brand</th>\n",
       "      <td>120</td>\n",
       "      <td>0.1</td>\n",
       "    </tr>\n",
       "    <tr>\n",
       "      <th>name</th>\n",
       "      <td>11</td>\n",
       "      <td>0.0</td>\n",
       "    </tr>\n",
       "  </tbody>\n",
       "</table>\n",
       "</div>"
      ],
      "text/plain": [
       "              Missing Values  % of Total Values\n",
       "returned_at           134664               88.0\n",
       "delivered_at           89906               58.8\n",
       "shipped_at             35931               23.5\n",
       "brand                    120                0.1\n",
       "name                      11                0.0"
      ]
     },
     "execution_count": 57,
     "metadata": {},
     "output_type": "execute_result"
    }
   ],
   "source": [
    "from src.data.eda import Eda\n",
    "eda = Eda()\n",
    "eda.missing_values_table(merged_df)"
   ]
  },
  {
   "cell_type": "code",
   "execution_count": 47,
   "metadata": {},
   "outputs": [],
   "source": [
    "#merged_df.to_csv('../data/processed/merged_df.csv', index=False)"
   ]
  },
  {
   "cell_type": "code",
   "execution_count": 58,
   "metadata": {},
   "outputs": [],
   "source": [
    "# inspecting for seasonality\n",
    "from src.data.seasonality import SeasonalityInspector, QuickSeasonalityInspector\n",
    "\n",
    "\n",
    "# Initialize\n",
    "inspector = SeasonalityInspector('created_at', 'daily_sales')\n",
    "quick_inspector = QuickSeasonalityInspector()\n",
    "\n",
    "# Load your data into a DataFrame called 'data'\n",
    "# data = pd.read_csv('your_data.csv')\n",
    "\n",
    "# Plot time series\n",
    "#inspector.plot_time_series(merged_df, 'created_at', 'sales')\n",
    "\n"
   ]
  },
  {
   "cell_type": "code",
   "execution_count": 59,
   "metadata": {},
   "outputs": [
    {
     "data": {
      "image/png": "[encoded data removed]",
      "text/plain": [
       "<Figure size 1000x400 with 1 Axes>"
      ]
     },
     "metadata": {},
     "output_type": "display_data"
    }
   ],
   "source": [
    "inspector.plot_time_series(merged_df)"
   ]
  },
  {
   "cell_type": "code",
   "execution_count": 60,
   "metadata": {},
   "outputs": [
    {
     "data": {
      "image/png": "[encoded data removed]",
      "text/plain": [
       "<Figure size 640x480 with 4 Axes>"
      ]
     },
     "metadata": {},
     "output_type": "display_data"
    }
   ],
   "source": [
    "inspector.plot_decomposition(merged_df, 365)"
   ]
  },
  {
   "cell_type": "code",
   "execution_count": 61,
   "metadata": {},
   "outputs": [
    {
     "data": {
      "image/png": "[encoded data removed]",
      "text/plain": [
       "<Figure size 640x480 with 1 Axes>"
      ]
     },
     "metadata": {},
     "output_type": "display_data"
    }
   ],
   "source": [
    "inspector.plot_autocorrelation(merged_df, 30)"
   ]
  },
  {
   "cell_type": "code",
   "execution_count": 62,
   "metadata": {},
   "outputs": [],
   "source": [
    "from src.data.feature_engineering import FeatureEngineeringProcess\n",
    "fep = FeatureEngineeringProcess()\n"
   ]
  },
  {
   "cell_type": "code",
   "execution_count": 63,
   "metadata": {},
   "outputs": [],
   "source": [
    "merged_df_fe1 = fep.price_sales_correlation_features_updated(merged_df, 7, [(-5.0, 1.0), (-3.0, 1.0), (-2.0, 1.0), (1.0, 1.0), (-1.0, 0.5), (-1.0, 0.33)],\n",
    "                                                             'sku', 'created_at', 'sale_price', 'daily_sales')"
   ]
  },
  {
   "cell_type": "code",
   "execution_count": 64,
   "metadata": {},
   "outputs": [],
   "source": [
    "from src.data.eda import Eda\n",
    "eda = Eda()"
   ]
  },
  {
   "cell_type": "code",
   "execution_count": 66,
   "metadata": {},
   "outputs": [
    {
     "name": "stdout",
     "output_type": "stream",
     "text": [
      "The selected dataframe has 21 columns and 11 columns with missing values.\n"
     ]
    },
    {
     "data": {
      "text/html": [
       "<div>\n",
       "<style scoped>\n",
       "    .dataframe tbody tr th:only-of-type {\n",
       "        vertical-align: middle;\n",
       "    }\n",
       "\n",
       "    .dataframe tbody tr th {\n",
       "        vertical-align: top;\n",
       "    }\n",
       "\n",
       "    .dataframe thead th {\n",
       "        text-align: right;\n",
       "    }\n",
       "</style>\n",
       "<table border=\"1\" class=\"dataframe\">\n",
       "  <thead>\n",
       "    <tr style=\"text-align: right;\">\n",
       "      <th></th>\n",
       "      <th>Missing Values</th>\n",
       "      <th>% of Total Values</th>\n",
       "    </tr>\n",
       "  </thead>\n",
       "  <tbody>\n",
       "    <tr>\n",
       "      <th>f_corr_-5.0_1.0</th>\n",
       "      <td>135074</td>\n",
       "      <td>88.3</td>\n",
       "    </tr>\n",
       "    <tr>\n",
       "      <th>f_corr_-3.0_1.0</th>\n",
       "      <td>135074</td>\n",
       "      <td>88.3</td>\n",
       "    </tr>\n",
       "    <tr>\n",
       "      <th>f_corr_-2.0_1.0</th>\n",
       "      <td>135074</td>\n",
       "      <td>88.3</td>\n",
       "    </tr>\n",
       "    <tr>\n",
       "      <th>f_corr_1.0_1.0</th>\n",
       "      <td>135074</td>\n",
       "      <td>88.3</td>\n",
       "    </tr>\n",
       "    <tr>\n",
       "      <th>f_corr_-1.0_0.5</th>\n",
       "      <td>135074</td>\n",
       "      <td>88.3</td>\n",
       "    </tr>\n",
       "    <tr>\n",
       "      <th>f_corr_-1.0_0.33</th>\n",
       "      <td>135074</td>\n",
       "      <td>88.3</td>\n",
       "    </tr>\n",
       "    <tr>\n",
       "      <th>returned_at</th>\n",
       "      <td>134664</td>\n",
       "      <td>88.0</td>\n",
       "    </tr>\n",
       "    <tr>\n",
       "      <th>delivered_at</th>\n",
       "      <td>89906</td>\n",
       "      <td>58.8</td>\n",
       "    </tr>\n",
       "    <tr>\n",
       "      <th>shipped_at</th>\n",
       "      <td>35931</td>\n",
       "      <td>23.5</td>\n",
       "    </tr>\n",
       "    <tr>\n",
       "      <th>brand</th>\n",
       "      <td>120</td>\n",
       "      <td>0.1</td>\n",
       "    </tr>\n",
       "    <tr>\n",
       "      <th>name</th>\n",
       "      <td>11</td>\n",
       "      <td>0.0</td>\n",
       "    </tr>\n",
       "  </tbody>\n",
       "</table>\n",
       "</div>"
      ],
      "text/plain": [
       "                  Missing Values  % of Total Values\n",
       "f_corr_-5.0_1.0           135074               88.3\n",
       "f_corr_-3.0_1.0           135074               88.3\n",
       "f_corr_-2.0_1.0           135074               88.3\n",
       "f_corr_1.0_1.0            135074               88.3\n",
       "f_corr_-1.0_0.5           135074               88.3\n",
       "f_corr_-1.0_0.33          135074               88.3\n",
       "returned_at               134664               88.0\n",
       "delivered_at               89906               58.8\n",
       "shipped_at                 35931               23.5\n",
       "brand                        120                0.1\n",
       "name                          11                0.0"
      ]
     },
     "execution_count": 66,
     "metadata": {},
     "output_type": "execute_result"
    }
   ],
   "source": [
    "eda.missing_values_table(merged_df_fe1)"
   ]
  },
  {
   "cell_type": "code",
   "execution_count": 67,
   "metadata": {},
   "outputs": [],
   "source": [
    "# handle missing values in price_sales_correlation \n",
    "cols_to_fill_zero = [col for col in merged_df_fe1.columns if 'f_corr_' in col]\n",
    "merged_df_fe1[cols_to_fill_zero] = merged_df_fe1[cols_to_fill_zero].fillna(0)\n"
   ]
  },
  {
   "cell_type": "code",
   "execution_count": 68,
   "metadata": {},
   "outputs": [],
   "source": [
    "# Drop uneccesary date columns \n",
    "merged_df_fe1.drop(columns=['shipped_at', 'delivered_at', 'returned_at'], inplace=True)"
   ]
  },
  {
   "cell_type": "code",
   "execution_count": 69,
   "metadata": {},
   "outputs": [
    {
     "name": "stdout",
     "output_type": "stream",
     "text": [
      "The selected dataframe has 18 columns and 2 columns with missing values.\n"
     ]
    },
    {
     "data": {
      "text/html": [
       "<div>\n",
       "<style scoped>\n",
       "    .dataframe tbody tr th:only-of-type {\n",
       "        vertical-align: middle;\n",
       "    }\n",
       "\n",
       "    .dataframe tbody tr th {\n",
       "        vertical-align: top;\n",
       "    }\n",
       "\n",
       "    .dataframe thead th {\n",
       "        text-align: right;\n",
       "    }\n",
       "</style>\n",
       "<table border=\"1\" class=\"dataframe\">\n",
       "  <thead>\n",
       "    <tr style=\"text-align: right;\">\n",
       "      <th></th>\n",
       "      <th>Missing Values</th>\n",
       "      <th>% of Total Values</th>\n",
       "    </tr>\n",
       "  </thead>\n",
       "  <tbody>\n",
       "    <tr>\n",
       "      <th>brand</th>\n",
       "      <td>120</td>\n",
       "      <td>0.1</td>\n",
       "    </tr>\n",
       "    <tr>\n",
       "      <th>name</th>\n",
       "      <td>11</td>\n",
       "      <td>0.0</td>\n",
       "    </tr>\n",
       "  </tbody>\n",
       "</table>\n",
       "</div>"
      ],
      "text/plain": [
       "       Missing Values  % of Total Values\n",
       "brand             120                0.1\n",
       "name               11                0.0"
      ]
     },
     "execution_count": 69,
     "metadata": {},
     "output_type": "execute_result"
    }
   ],
   "source": [
    "eda.missing_values_table(merged_df_fe1)"
   ]
  },
  {
   "cell_type": "code",
   "execution_count": 71,
   "metadata": {},
   "outputs": [],
   "source": [
    "merged_df_fe2 =  fep.normalize_features(merged_df_fe1, [5, 10, 15], 28, 'sku', 'created_at', 'sale_price', 'daily_sales')"
   ]
  },
  {
   "cell_type": "code",
   "execution_count": 72,
   "metadata": {},
   "outputs": [
    {
     "name": "stdout",
     "output_type": "stream",
     "text": [
      "The selected dataframe has 30 columns and 14 columns with missing values.\n"
     ]
    },
    {
     "data": {
      "text/html": [
       "<div>\n",
       "<style scoped>\n",
       "    .dataframe tbody tr th:only-of-type {\n",
       "        vertical-align: middle;\n",
       "    }\n",
       "\n",
       "    .dataframe tbody tr th {\n",
       "        vertical-align: top;\n",
       "    }\n",
       "\n",
       "    .dataframe thead th {\n",
       "        text-align: right;\n",
       "    }\n",
       "</style>\n",
       "<table border=\"1\" class=\"dataframe\">\n",
       "  <thead>\n",
       "    <tr style=\"text-align: right;\">\n",
       "      <th></th>\n",
       "      <th>Missing Values</th>\n",
       "      <th>% of Total Values</th>\n",
       "    </tr>\n",
       "  </thead>\n",
       "  <tbody>\n",
       "    <tr>\n",
       "      <th>normalized_log_avg_price_5_days</th>\n",
       "      <td>152982</td>\n",
       "      <td>100.0</td>\n",
       "    </tr>\n",
       "    <tr>\n",
       "      <th>normalized_log_avg_sales_5_days</th>\n",
       "      <td>152982</td>\n",
       "      <td>100.0</td>\n",
       "    </tr>\n",
       "    <tr>\n",
       "      <th>normalized_log_avg_price_10_days</th>\n",
       "      <td>152982</td>\n",
       "      <td>100.0</td>\n",
       "    </tr>\n",
       "    <tr>\n",
       "      <th>normalized_log_avg_sales_10_days</th>\n",
       "      <td>152982</td>\n",
       "      <td>100.0</td>\n",
       "    </tr>\n",
       "    <tr>\n",
       "      <th>normalized_log_avg_price_15_days</th>\n",
       "      <td>152982</td>\n",
       "      <td>100.0</td>\n",
       "    </tr>\n",
       "    <tr>\n",
       "      <th>normalized_log_avg_sales_15_days</th>\n",
       "      <td>152982</td>\n",
       "      <td>100.0</td>\n",
       "    </tr>\n",
       "    <tr>\n",
       "      <th>normalized_std_price_15_days</th>\n",
       "      <td>152967</td>\n",
       "      <td>100.0</td>\n",
       "    </tr>\n",
       "    <tr>\n",
       "      <th>normalized_std_sales_15_days</th>\n",
       "      <td>152967</td>\n",
       "      <td>100.0</td>\n",
       "    </tr>\n",
       "    <tr>\n",
       "      <th>normalized_std_price_10_days</th>\n",
       "      <td>150646</td>\n",
       "      <td>98.5</td>\n",
       "    </tr>\n",
       "    <tr>\n",
       "      <th>normalized_std_sales_10_days</th>\n",
       "      <td>150646</td>\n",
       "      <td>98.5</td>\n",
       "    </tr>\n",
       "    <tr>\n",
       "      <th>normalized_std_price_5_days</th>\n",
       "      <td>105307</td>\n",
       "      <td>68.8</td>\n",
       "    </tr>\n",
       "    <tr>\n",
       "      <th>normalized_std_sales_5_days</th>\n",
       "      <td>105307</td>\n",
       "      <td>68.8</td>\n",
       "    </tr>\n",
       "    <tr>\n",
       "      <th>brand</th>\n",
       "      <td>120</td>\n",
       "      <td>0.1</td>\n",
       "    </tr>\n",
       "    <tr>\n",
       "      <th>name</th>\n",
       "      <td>11</td>\n",
       "      <td>0.0</td>\n",
       "    </tr>\n",
       "  </tbody>\n",
       "</table>\n",
       "</div>"
      ],
      "text/plain": [
       "                                  Missing Values  % of Total Values\n",
       "normalized_log_avg_price_5_days           152982              100.0\n",
       "normalized_log_avg_sales_5_days           152982              100.0\n",
       "normalized_log_avg_price_10_days          152982              100.0\n",
       "normalized_log_avg_sales_10_days          152982              100.0\n",
       "normalized_log_avg_price_15_days          152982              100.0\n",
       "normalized_log_avg_sales_15_days          152982              100.0\n",
       "normalized_std_price_15_days              152967              100.0\n",
       "normalized_std_sales_15_days              152967              100.0\n",
       "normalized_std_price_10_days              150646               98.5\n",
       "normalized_std_sales_10_days              150646               98.5\n",
       "normalized_std_price_5_days               105307               68.8\n",
       "normalized_std_sales_5_days               105307               68.8\n",
       "brand                                        120                0.1\n",
       "name                                          11                0.0"
      ]
     },
     "execution_count": 72,
     "metadata": {},
     "output_type": "execute_result"
    }
   ],
   "source": [
    "eda.missing_values_table(merged_df_fe2)"
   ]
  },
  {
   "cell_type": "code",
   "execution_count": 73,
   "metadata": {},
   "outputs": [],
   "source": [
    "# drop columns with 100% missing values\n",
    "merged_df_fe2.dropna(axis=1, how='all', inplace=True)\n"
   ]
  },
  {
   "cell_type": "code",
   "execution_count": 74,
   "metadata": {},
   "outputs": [
    {
     "name": "stdout",
     "output_type": "stream",
     "text": [
      "The selected dataframe has 24 columns and 8 columns with missing values.\n"
     ]
    },
    {
     "data": {
      "text/html": [
       "<div>\n",
       "<style scoped>\n",
       "    .dataframe tbody tr th:only-of-type {\n",
       "        vertical-align: middle;\n",
       "    }\n",
       "\n",
       "    .dataframe tbody tr th {\n",
       "        vertical-align: top;\n",
       "    }\n",
       "\n",
       "    .dataframe thead th {\n",
       "        text-align: right;\n",
       "    }\n",
       "</style>\n",
       "<table border=\"1\" class=\"dataframe\">\n",
       "  <thead>\n",
       "    <tr style=\"text-align: right;\">\n",
       "      <th></th>\n",
       "      <th>Missing Values</th>\n",
       "      <th>% of Total Values</th>\n",
       "    </tr>\n",
       "  </thead>\n",
       "  <tbody>\n",
       "    <tr>\n",
       "      <th>normalized_std_price_15_days</th>\n",
       "      <td>152967</td>\n",
       "      <td>100.0</td>\n",
       "    </tr>\n",
       "    <tr>\n",
       "      <th>normalized_std_sales_15_days</th>\n",
       "      <td>152967</td>\n",
       "      <td>100.0</td>\n",
       "    </tr>\n",
       "    <tr>\n",
       "      <th>normalized_std_price_10_days</th>\n",
       "      <td>150646</td>\n",
       "      <td>98.5</td>\n",
       "    </tr>\n",
       "    <tr>\n",
       "      <th>normalized_std_sales_10_days</th>\n",
       "      <td>150646</td>\n",
       "      <td>98.5</td>\n",
       "    </tr>\n",
       "    <tr>\n",
       "      <th>normalized_std_price_5_days</th>\n",
       "      <td>105307</td>\n",
       "      <td>68.8</td>\n",
       "    </tr>\n",
       "    <tr>\n",
       "      <th>normalized_std_sales_5_days</th>\n",
       "      <td>105307</td>\n",
       "      <td>68.8</td>\n",
       "    </tr>\n",
       "    <tr>\n",
       "      <th>brand</th>\n",
       "      <td>120</td>\n",
       "      <td>0.1</td>\n",
       "    </tr>\n",
       "    <tr>\n",
       "      <th>name</th>\n",
       "      <td>11</td>\n",
       "      <td>0.0</td>\n",
       "    </tr>\n",
       "  </tbody>\n",
       "</table>\n",
       "</div>"
      ],
      "text/plain": [
       "                              Missing Values  % of Total Values\n",
       "normalized_std_price_15_days          152967              100.0\n",
       "normalized_std_sales_15_days          152967              100.0\n",
       "normalized_std_price_10_days          150646               98.5\n",
       "normalized_std_sales_10_days          150646               98.5\n",
       "normalized_std_price_5_days           105307               68.8\n",
       "normalized_std_sales_5_days           105307               68.8\n",
       "brand                                    120                0.1\n",
       "name                                      11                0.0"
      ]
     },
     "execution_count": 74,
     "metadata": {},
     "output_type": "execute_result"
    }
   ],
   "source": [
    "eda.missing_values_table(merged_df_fe2)"
   ]
  },
  {
   "cell_type": "code",
   "execution_count": 75,
   "metadata": {},
   "outputs": [],
   "source": [
    "# drop normalized_std_price_15_days, normalized_std_sales_15_days, normalized_std_price_10_days, normalized_std_sales_10_days form merged_df_fe2\n",
    "merged_df_fe2.drop(columns=['normalized_std_price_15_days', 'normalized_std_sales_15_days', 'normalized_std_price_10_days', 'normalized_std_sales_10_days'], inplace=True)\n"
   ]
  },
  {
   "cell_type": "code",
   "execution_count": 76,
   "metadata": {},
   "outputs": [],
   "source": [
    "normalized_cols = [col for col in merged_df_fe2.columns if 'normalized_' in col]\n",
    "merged_df_fe2[normalized_cols] = merged_df_fe2[normalized_cols].fillna(method='ffill').fillna(method='bfill')\n"
   ]
  },
  {
   "cell_type": "code",
   "execution_count": 77,
   "metadata": {},
   "outputs": [
    {
     "name": "stdout",
     "output_type": "stream",
     "text": [
      "The selected dataframe has 20 columns and 2 columns with missing values.\n"
     ]
    },
    {
     "data": {
      "text/html": [
       "<div>\n",
       "<style scoped>\n",
       "    .dataframe tbody tr th:only-of-type {\n",
       "        vertical-align: middle;\n",
       "    }\n",
       "\n",
       "    .dataframe tbody tr th {\n",
       "        vertical-align: top;\n",
       "    }\n",
       "\n",
       "    .dataframe thead th {\n",
       "        text-align: right;\n",
       "    }\n",
       "</style>\n",
       "<table border=\"1\" class=\"dataframe\">\n",
       "  <thead>\n",
       "    <tr style=\"text-align: right;\">\n",
       "      <th></th>\n",
       "      <th>Missing Values</th>\n",
       "      <th>% of Total Values</th>\n",
       "    </tr>\n",
       "  </thead>\n",
       "  <tbody>\n",
       "    <tr>\n",
       "      <th>brand</th>\n",
       "      <td>120</td>\n",
       "      <td>0.1</td>\n",
       "    </tr>\n",
       "    <tr>\n",
       "      <th>name</th>\n",
       "      <td>11</td>\n",
       "      <td>0.0</td>\n",
       "    </tr>\n",
       "  </tbody>\n",
       "</table>\n",
       "</div>"
      ],
      "text/plain": [
       "       Missing Values  % of Total Values\n",
       "brand             120                0.1\n",
       "name               11                0.0"
      ]
     },
     "execution_count": 77,
     "metadata": {},
     "output_type": "execute_result"
    }
   ],
   "source": [
    "eda.missing_values_table(merged_df_fe2)"
   ]
  },
  {
   "cell_type": "code",
   "execution_count": 91,
   "metadata": {},
   "outputs": [],
   "source": [
    "merged_df_fe3, insuficient_data = fep.filter_stability_periods(merged_df_fe2, 7, 0.04, sku_column='sku', date_column='created_at', price_column='sale_price')"
   ]
  },
  {
   "cell_type": "code",
   "execution_count": 92,
   "metadata": {},
   "outputs": [
    {
     "name": "stdout",
     "output_type": "stream",
     "text": [
      "The selected dataframe has 20 columns and 2 columns with missing values.\n"
     ]
    },
    {
     "data": {
      "text/html": [
       "<div>\n",
       "<style scoped>\n",
       "    .dataframe tbody tr th:only-of-type {\n",
       "        vertical-align: middle;\n",
       "    }\n",
       "\n",
       "    .dataframe tbody tr th {\n",
       "        vertical-align: top;\n",
       "    }\n",
       "\n",
       "    .dataframe thead th {\n",
       "        text-align: right;\n",
       "    }\n",
       "</style>\n",
       "<table border=\"1\" class=\"dataframe\">\n",
       "  <thead>\n",
       "    <tr style=\"text-align: right;\">\n",
       "      <th></th>\n",
       "      <th>Missing Values</th>\n",
       "      <th>% of Total Values</th>\n",
       "    </tr>\n",
       "  </thead>\n",
       "  <tbody>\n",
       "    <tr>\n",
       "      <th>brand</th>\n",
       "      <td>113</td>\n",
       "      <td>0.1</td>\n",
       "    </tr>\n",
       "    <tr>\n",
       "      <th>name</th>\n",
       "      <td>10</td>\n",
       "      <td>0.0</td>\n",
       "    </tr>\n",
       "  </tbody>\n",
       "</table>\n",
       "</div>"
      ],
      "text/plain": [
       "       Missing Values  % of Total Values\n",
       "brand             113                0.1\n",
       "name               10                0.0"
      ]
     },
     "execution_count": 92,
     "metadata": {},
     "output_type": "execute_result"
    }
   ],
   "source": [
    "eda.missing_values_table(merged_df_fe3)"
   ]
  },
  {
   "cell_type": "code",
   "execution_count": 94,
   "metadata": {},
   "outputs": [],
   "source": [
    "# drop missing values\n",
    "merged_df_fe3.dropna(inplace=True)"
   ]
  },
  {
   "cell_type": "code",
   "execution_count": 95,
   "metadata": {},
   "outputs": [
    {
     "name": "stdout",
     "output_type": "stream",
     "text": [
      "The selected dataframe has 20 columns and 0 columns with missing values.\n"
     ]
    },
    {
     "data": {
      "text/html": [
       "<div>\n",
       "<style scoped>\n",
       "    .dataframe tbody tr th:only-of-type {\n",
       "        vertical-align: middle;\n",
       "    }\n",
       "\n",
       "    .dataframe tbody tr th {\n",
       "        vertical-align: top;\n",
       "    }\n",
       "\n",
       "    .dataframe thead th {\n",
       "        text-align: right;\n",
       "    }\n",
       "</style>\n",
       "<table border=\"1\" class=\"dataframe\">\n",
       "  <thead>\n",
       "    <tr style=\"text-align: right;\">\n",
       "      <th></th>\n",
       "      <th>Missing Values</th>\n",
       "      <th>% of Total Values</th>\n",
       "    </tr>\n",
       "  </thead>\n",
       "  <tbody>\n",
       "  </tbody>\n",
       "</table>\n",
       "</div>"
      ],
      "text/plain": [
       "Empty DataFrame\n",
       "Columns: [Missing Values, % of Total Values]\n",
       "Index: []"
      ]
     },
     "execution_count": 95,
     "metadata": {},
     "output_type": "execute_result"
    }
   ],
   "source": [
    "eda.missing_values_table(merged_df_fe3)"
   ]
  },
  {
   "cell_type": "code",
   "execution_count": 97,
   "metadata": {},
   "outputs": [],
   "source": [
    "## embeddings\n",
    "from src.data.embeddings import EmbeddingModel\n",
    "import torch\n",
    "from sklearn.preprocessing import LabelEncoder\n",
    "#merged_df_embeddings = merged_df_fe3.copy()\n",
    "\n",
    "\n",
    "label_encoders = {}\n",
    "for col in ['category', 'name', 'brand', 'department']:\n",
    "    le = LabelEncoder()\n",
    "    merged_df_fe3[col] = le.fit_transform(merged_df_fe3[col])\n",
    "    label_encoders[col] = le\n",
    "\n",
    "embedding_dims = [(merged_df_fe3[col].max() + 1, int((merged_df_fe3[col].max() + 1) ** 0.5)) for col in ['category', 'name', 'brand', 'department']]\n",
    "model = EmbeddingModel(embedding_dims)\n",
    "\n",
    "\n",
    "\n",
    "\n",
    "#preapre data for embeddings\n",
    "cat_data = merged_df_fe3[['category', 'name', 'brand', 'department']].values\n",
    "cat_data_tensor = torch.tensor(cat_data, dtype=torch.long)\n"
   ]
  },
  {
   "cell_type": "code",
   "execution_count": 98,
   "metadata": {},
   "outputs": [
    {
     "name": "stdout",
     "output_type": "stream",
     "text": [
      "Inside Forward\n",
      "Epoch [1/10], Loss: 5.7204\n",
      "Inside Forward\n",
      "Epoch [2/10], Loss: 5.6823\n",
      "Inside Forward\n",
      "Epoch [3/10], Loss: 5.6445\n",
      "Inside Forward\n",
      "Epoch [4/10], Loss: 5.6068\n",
      "Inside Forward\n",
      "Epoch [5/10], Loss: 5.5694\n",
      "Inside Forward\n",
      "Epoch [6/10], Loss: 5.5322\n",
      "Inside Forward\n",
      "Epoch [7/10], Loss: 5.4951\n",
      "Inside Forward\n",
      "Epoch [8/10], Loss: 5.4583\n",
      "Inside Forward\n",
      "Epoch [9/10], Loss: 5.4217\n",
      "Inside Forward\n",
      "Epoch [10/10], Loss: 5.3853\n"
     ]
    }
   ],
   "source": [
    "import torch.nn as nn\n",
    "sales_data = merged_df_fe3['daily_sales'].values\n",
    "sales_data_tensor = torch.tensor(sales_data, dtype=torch.float32).view(-1, 1)\n",
    "\n",
    "import torch.optim as optim\n",
    "\n",
    "# Loss and optimizer\n",
    "criterion = nn.MSELoss()  # Mean Squared Error for a regression problem\n",
    "optimizer = optim.Adam(model.parameters(), lr=0.01)\n",
    "epochs = 10  # Number of training epochs\n",
    "\n",
    "for epoch in range(epochs):\n",
    "    # Forward pass\n",
    "    outputs = model(cat_data_tensor)\n",
    "    \n",
    "    # Compute loss\n",
    "    loss = criterion(outputs, sales_data_tensor)\n",
    "\n",
    "    # Zero gradients, backward pass, optimizer step\n",
    "    optimizer.zero_grad()\n",
    "    loss.backward()\n",
    "    optimizer.step()\n",
    "\n",
    "    print(f'Epoch [{epoch+1}/{epochs}], Loss: {loss.item():.4f}')\n"
   ]
  },
  {
   "cell_type": "code",
   "execution_count": 99,
   "metadata": {},
   "outputs": [
    {
     "name": "stdout",
     "output_type": "stream",
     "text": [
      "Inside Forward\n"
     ]
    }
   ],
   "source": [
    "\n",
    "with torch.no_grad():\n",
    "    embeddings = model.forward(cat_data_tensor).numpy()\n"
   ]
  },
  {
   "cell_type": "code",
   "execution_count": null,
   "metadata": {},
   "outputs": [],
   "source": [
    "eda.missing_values_table(merged_df_fe3)"
   ]
  },
  {
   "cell_type": "code",
   "execution_count": 100,
   "metadata": {},
   "outputs": [],
   "source": [
    "# Reset Index Before Concatenating\n",
    "merged_df_fe3.reset_index(drop=True, inplace=True)\n",
    "embeddings_df = pd.DataFrame(embeddings)\n",
    "embeddings_df.reset_index(drop=True, inplace=True)\n",
    "merged_df_embeddings = pd.concat([merged_df_fe3, embeddings_df], axis=1)\n"
   ]
  },
  {
   "cell_type": "code",
   "execution_count": 101,
   "metadata": {},
   "outputs": [],
   "source": [
    "# check lenghts\n",
    "assert len(merged_df_fe3) == len(embeddings_df), \"Dataframes have different lengths.\"\n"
   ]
  },
  {
   "cell_type": "code",
   "execution_count": 102,
   "metadata": {},
   "outputs": [
    {
     "name": "stdout",
     "output_type": "stream",
     "text": [
      "The selected dataframe has 242 columns and 0 columns with missing values.\n"
     ]
    },
    {
     "data": {
      "text/html": [
       "<div>\n",
       "<style scoped>\n",
       "    .dataframe tbody tr th:only-of-type {\n",
       "        vertical-align: middle;\n",
       "    }\n",
       "\n",
       "    .dataframe tbody tr th {\n",
       "        vertical-align: top;\n",
       "    }\n",
       "\n",
       "    .dataframe thead th {\n",
       "        text-align: right;\n",
       "    }\n",
       "</style>\n",
       "<table border=\"1\" class=\"dataframe\">\n",
       "  <thead>\n",
       "    <tr style=\"text-align: right;\">\n",
       "      <th></th>\n",
       "      <th>Missing Values</th>\n",
       "      <th>% of Total Values</th>\n",
       "    </tr>\n",
       "  </thead>\n",
       "  <tbody>\n",
       "  </tbody>\n",
       "</table>\n",
       "</div>"
      ],
      "text/plain": [
       "Empty DataFrame\n",
       "Columns: [Missing Values, % of Total Values]\n",
       "Index: []"
      ]
     },
     "execution_count": 102,
     "metadata": {},
     "output_type": "execute_result"
    }
   ],
   "source": [
    "eda.missing_values_table(merged_df_embeddings)"
   ]
  },
  {
   "cell_type": "code",
   "execution_count": null,
   "metadata": {},
   "outputs": [],
   "source": [
    "#merged_df_embeddings = pd.concat([merged_df_fe3, pd.DataFrame(embeddings)], axis=1)\n",
    "#merged_df_embeddings.drop(['category', 'name', 'brand', 'department'], axis=1, inplace=True)\n"
   ]
  },
  {
   "cell_type": "code",
   "execution_count": 103,
   "metadata": {},
   "outputs": [
    {
     "name": "stdout",
     "output_type": "stream",
     "text": [
      "Features to drop: ['cost', 'f_corr_-3.0_1.0', 'f_corr_-2.0_1.0', 'f_corr_1.0_1.0', 'f_corr_-1.0_0.5', 'f_corr_-1.0_0.33', 221]\n"
     ]
    }
   ],
   "source": [
    "import numpy as np\n",
    "# Create a correlation matrix to check for multicollinearity\n",
    "corr_matrix = merged_df_embeddings.corr().abs()\n",
    "# Select upper triangle of correlation matrix\n",
    "upper = corr_matrix.where(np.triu(np.ones(corr_matrix.shape), k=1).astype(np.bool))\n",
    "# Find index of feature columns with correlation greater than 0.95\n",
    "to_drop = [column for column in upper.columns if any(upper[column] > 0.95)]\n",
    "print(f\"Features to drop: {to_drop}\")"
   ]
  },
  {
   "cell_type": "code",
   "execution_count": 104,
   "metadata": {},
   "outputs": [
    {
     "name": "stdout",
     "output_type": "stream",
     "text": [
      "Features with high VIF should be removed or examined: ['sale_price', 'cost', 'f_corr_-5.0_1.0', 'f_corr_-3.0_1.0', 'f_corr_-2.0_1.0', 'f_corr_1.0_1.0', 'f_corr_-1.0_0.5', 'f_corr_-1.0_0.33', 221]\n"
     ]
    }
   ],
   "source": [
    "from statsmodels.stats.outliers_influence import variance_inflation_factor\n",
    "import pandas as pd\n",
    "\n",
    "# Drop non-numeric columns for VIF calculation\n",
    "numerics = ['int16', 'int32', 'int64', 'float16', 'float32', 'float64']\n",
    "new_df = merged_df_embeddings.select_dtypes(include=numerics)\n",
    "\n",
    "\n",
    "# Calculate VIF for each feature\n",
    "vif_data = pd.DataFrame()\n",
    "vif_data[\"feature\"] = new_df.columns\n",
    "\n",
    "vif_data[\"VIF\"] = [variance_inflation_factor(new_df.values, i) for i in range(len(new_df.columns))]\n",
    "\n",
    "# Identify features with a high VIF value\n",
    "high_vif_features = vif_data[vif_data[\"VIF\"] > 10][\"feature\"].tolist()\n",
    "\n",
    "print(f\"Features with high VIF should be removed or examined: {high_vif_features}\")\n",
    "\n"
   ]
  },
  {
   "cell_type": "code",
   "execution_count": 105,
   "metadata": {},
   "outputs": [
    {
     "name": "stdout",
     "output_type": "stream",
     "text": [
      "['cost', 'f_corr_-3.0_1.0', 'f_corr_-2.0_1.0', 'f_corr_1.0_1.0', 'f_corr_-1.0_0.5', 'f_corr_-1.0_0.33', 221]\n",
      "['sale_price', 'cost', 'f_corr_-5.0_1.0', 'f_corr_-3.0_1.0', 'f_corr_-2.0_1.0', 'f_corr_1.0_1.0', 'f_corr_-1.0_0.5', 'f_corr_-1.0_0.33', 221]\n"
     ]
    }
   ],
   "source": [
    "print(to_drop)\n",
    "print(high_vif_features)"
   ]
  },
  {
   "cell_type": "code",
   "execution_count": 106,
   "metadata": {},
   "outputs": [],
   "source": [
    "train_dataset = merged_df_embeddings.drop(columns=['f_corr_-3.0_1.0', 'f_corr_-2.0_1.0', 'f_corr_1.0_1.0', 'f_corr_-1.0_0.5', 'f_corr_-1.0_0.33', 221, 'cost', ], axis=1)"
   ]
  },
  {
   "cell_type": "code",
   "execution_count": 107,
   "metadata": {},
   "outputs": [],
   "source": [
    "# drop categorical features used in embeddings\n",
    "\n",
    "train_dataset = train_dataset.drop(columns=['category', 'name', 'brand', 'department'], axis=1)"
   ]
  },
  {
   "cell_type": "code",
   "execution_count": 108,
   "metadata": {},
   "outputs": [],
   "source": [
    "train_dataset  =  fep.datetime_transform(train_dataset,'created_at', ['day_of_the_year'])\n"
   ]
  },
  {
   "cell_type": "code",
   "execution_count": 109,
   "metadata": {},
   "outputs": [],
   "source": [
    "train_dataset.status.unique()\n",
    "# drop skus with status \"Returned\" and \"Cancelled\"\n",
    "train_dataset = train_dataset.query('status != \"Returned\" and status != \"Cancelled\"')\n"
   ]
  },
  {
   "cell_type": "code",
   "execution_count": 110,
   "metadata": {},
   "outputs": [],
   "source": [
    "# use label encoder for status and gender\n",
    "\n",
    "\n",
    "train_dataset['status'] = le.fit_transform(train_dataset['status'])\n",
    "train_dataset['gender'] = le.fit_transform(train_dataset['gender'])\n",
    "\n"
   ]
  },
  {
   "cell_type": "code",
   "execution_count": 111,
   "metadata": {},
   "outputs": [],
   "source": [
    "train_dataset.sort_values(by=['created_at'], inplace=True)"
   ]
  },
  {
   "cell_type": "code",
   "execution_count": 112,
   "metadata": {},
   "outputs": [
    {
     "name": "stdout",
     "output_type": "stream",
     "text": [
      "2019-01-11 13:05:59+00:00\n",
      "2023-09-11 18:25:47.230646+00:00\n"
     ]
    }
   ],
   "source": [
    "# print first and last date\n",
    "print(train_dataset.created_at.min())\n",
    "print(train_dataset.created_at.max())\n"
   ]
  },
  {
   "cell_type": "code",
   "execution_count": 127,
   "metadata": {},
   "outputs": [
    {
     "name": "stdout",
     "output_type": "stream",
     "text": [
      "2019-01-11\n",
      "2023-09-11\n"
     ]
    }
   ],
   "source": [
    "# print first and last date\n",
    "print(train_dataset.date.min())\n",
    "print(train_dataset.date.max())"
   ]
  },
  {
   "cell_type": "code",
   "execution_count": 113,
   "metadata": {},
   "outputs": [],
   "source": [
    "from typing import Dict, Union\n",
    "import pandas as pd\n",
    "\n",
    "def describe_time_series(df: pd.DataFrame, date_column: str, sales_column: str) -> Dict[str, Union[int, Dict[int, Dict[str, int]]]]:\n",
    "    \"\"\"\n",
    "    Function to provide a comprehensive description of the time series data.\n",
    "    \n",
    "    Args:\n",
    "    - df (pd.DataFrame): DataFrame containing the time series data.\n",
    "    - date_column (str): Column name containing the date information.\n",
    "    \n",
    "    Returns:\n",
    "    - Dict: Description containing number of years, months per year, and average sales per month.\n",
    "    \"\"\"\n",
    "\n",
    "    # Convert date column to datetime if not already\n",
    "    df[date_column] = pd.to_datetime(df[date_column])\n",
    "\n",
    "    # Extract year and month from date\n",
    "    df['year'] = df[date_column].dt.year\n",
    "    df['month'] = df[date_column].dt.month\n",
    "\n",
    "    # Initialize results dictionary\n",
    "    result = {\n",
    "        \"total_years\": 0,\n",
    "        \"years_detail\": {}\n",
    "    }\n",
    "\n",
    "    # Total number of unique years\n",
    "    total_years = df['year'].nunique()\n",
    "    result[\"total_years\"] = total_years\n",
    "\n",
    "    # Iterate over each year to find details\n",
    "    for year in df['year'].unique():\n",
    "        year_data = df[df['year'] == year]\n",
    "        \n",
    "        # Number of unique months in this year\n",
    "        unique_months = year_data['month'].nunique()\n",
    "        \n",
    "        # Average sales per month\n",
    "        avg_sales_per_month = year_data.groupby('month')[sales_column].mean().to_dict()\n",
    "\n",
    "        # Add details to result\n",
    "        result['years_detail'][year] = {\n",
    "            \"unique_months\": unique_months,\n",
    "            \"avg_sales_per_month\": avg_sales_per_month\n",
    "        }\n",
    "\n",
    "    return result\n",
    "\n",
    "# Example usage (assuming 'merged_df' contains 'date' and 'sales' columns)\n",
    "# describe_time_series(merged_df, 'date')\n",
    "\n",
    "\n",
    "\n",
    "\n"
   ]
  },
  {
   "cell_type": "code",
   "execution_count": 128,
   "metadata": {},
   "outputs": [
    {
     "data": {
      "text/plain": [
       "{'total_years': 5,\n",
       " 'years_detail': {2019: {'unique_months': 12,\n",
       "   'avg_sales_per_month': {1: 1.4,\n",
       "    2: 1.48,\n",
       "    3: 2.048780487804878,\n",
       "    4: 2.1777777777777776,\n",
       "    5: 1.7815533980582525,\n",
       "    6: 1.8223350253807107,\n",
       "    7: 1.990066225165563,\n",
       "    8: 1.9176470588235295,\n",
       "    9: 1.8306878306878307,\n",
       "    10: 2.0351758793969847,\n",
       "    11: 1.9553752535496958,\n",
       "    12: 1.8697318007662835}},\n",
       "  2020: {'unique_months': 12,\n",
       "   'avg_sales_per_month': {1: 1.8076923076923077,\n",
       "    2: 1.9568345323741008,\n",
       "    3: 1.9124487004103967,\n",
       "    4: 1.8771466314398944,\n",
       "    5: 1.8451025056947608,\n",
       "    6: 1.9126106194690264,\n",
       "    7: 1.9145539906103286,\n",
       "    8: 1.9170829170829171,\n",
       "    9: 1.8141153081510935,\n",
       "    10: 1.9156327543424319,\n",
       "    11: 1.919871794871795,\n",
       "    12: 1.9884704073789392}},\n",
       "  2021: {'unique_months': 12,\n",
       "   'avg_sales_per_month': {1: 1.8781416603198782,\n",
       "    2: 1.9006823351023503,\n",
       "    3: 1.8643954575818302,\n",
       "    4: 1.820187165775401,\n",
       "    5: 1.886687306501548,\n",
       "    6: 1.9470387243735763,\n",
       "    7: 1.9412371134020618,\n",
       "    8: 1.8890069038767923,\n",
       "    9: 1.8460764587525151,\n",
       "    10: 1.925804946336911,\n",
       "    11: 1.9176843057440072,\n",
       "    12: 1.9403782894736843}},\n",
       "  2022: {'unique_months': 12,\n",
       "   'avg_sales_per_month': {1: 1.891404612159329,\n",
       "    2: 1.830841520717642,\n",
       "    3: 1.8871391076115485,\n",
       "    4: 1.8708719851576994,\n",
       "    5: 1.8844429113487409,\n",
       "    6: 1.8136582017844887,\n",
       "    7: 1.891820580474934,\n",
       "    8: 1.866432337434095,\n",
       "    9: 1.875922383164799,\n",
       "    10: 1.8468073444779392,\n",
       "    11: 1.9040580489115828,\n",
       "    12: 1.9245010819908632}},\n",
       "  2023: {'unique_months': 9,\n",
       "   'avg_sales_per_month': {1: 1.8426360225140712,\n",
       "    2: 1.8743961352657006,\n",
       "    3: 1.8791762975415003,\n",
       "    4: 1.9034184514003294,\n",
       "    5: 1.8927389526961262,\n",
       "    6: 1.9313201988584054,\n",
       "    7: 1.9040378442304444,\n",
       "    8: 1.8913105821623173,\n",
       "    9: 1.9755773825325194}}}}"
      ]
     },
     "execution_count": 128,
     "metadata": {},
     "output_type": "execute_result"
    }
   ],
   "source": [
    "describe_time_series(train_dataset, 'date', 'daily_sales')"
   ]
  },
  {
   "cell_type": "code",
   "execution_count": null,
   "metadata": {},
   "outputs": [],
   "source": []
  },
  {
   "cell_type": "code",
   "execution_count": null,
   "metadata": {},
   "outputs": [],
   "source": [
    "# print min and max date\n",
    "print(train_dataset.created_at.min())\n",
    "print(train_dataset.created_at.max())"
   ]
  },
  {
   "cell_type": "code",
   "execution_count": null,
   "metadata": {},
   "outputs": [],
   "source": [
    "# First localize to UTC and then convert to naive datetime\n",
    "#train_dataset['created_at'] = pd.to_datetime(train_dataset['created_at'], utc=True).dt.tz_localize(None)\n",
    "\n",
    "# Check unique dates and data types after conversion\n",
    "#print(\"Unique dates after conversion:\", train_dataset['created_at'].unique())\n",
    "print(\"Data type after conversion:\", train_dataset['created_at'].dtype)\n",
    "\n"
   ]
  },
  {
   "cell_type": "code",
   "execution_count": 130,
   "metadata": {},
   "outputs": [],
   "source": [
    "train_dataset.drop(columns=['created_at'], inplace=True)"
   ]
  },
  {
   "cell_type": "code",
   "execution_count": 131,
   "metadata": {},
   "outputs": [
    {
     "name": "stdout",
     "output_type": "stream",
     "text": [
      "Debug: Data type of date column before processing: datetime64[ns]\n",
      "Debug: Unique dates before processing: ['2019-01-11T00:00:00.000000000' '2019-01-17T00:00:00.000000000'\n",
      " '2019-01-18T00:00:00.000000000' ... '2023-09-09T00:00:00.000000000'\n",
      " '2023-09-10T00:00:00.000000000' '2023-09-11T00:00:00.000000000']\n",
      "Number of SKUs in train: 4387\n",
      "Number of SKUs in validation: 28551\n",
      "Number of SKUs in test: 6826\n",
      "Min date in dataset: 2019-01-11 00:00:00\n",
      "Max date in dataset: 2023-09-11 00:00:00\n",
      "Train-Val threshold: 2020-03-11 00:00:00\n",
      "Val-Test threshold: 2023-08-14 00:00:00\n",
      "Warning: 28091 SKUs were removed from the train, validation and test sets because they were not present in all three sets.\n",
      "Training data covers from 2019-01-21 00:00:00 to 2020-03-11 00:00:00\n",
      "Validation data covers from 2020-03-12 00:00:00 to 2023-08-14 00:00:00\n",
      "Test data covers from 2023-08-15 00:00:00 to 2023-09-11 00:00:00\n"
     ]
    }
   ],
   "source": [
    "\n",
    "from src.data.data_splitter import DataSplitter\n",
    "\n",
    "\n",
    "data_splitter = DataSplitter(train_dataset, 'daily_sales','sku', 'date', 36, 6, 4)\n",
    "X_train, y_train, X_val, y_val, X_test, y_test = data_splitter.split_data()"
   ]
  },
  {
   "cell_type": "code",
   "execution_count": null,
   "metadata": {},
   "outputs": [],
   "source": [
    "print('X_val info', X_val.info())\n",
    "print('X_train info', X_train.info())"
   ]
  },
  {
   "cell_type": "code",
   "execution_count": 132,
   "metadata": {},
   "outputs": [
    {
     "data": {
      "text/html": [
       "<div>\n",
       "<style scoped>\n",
       "    .dataframe tbody tr th:only-of-type {\n",
       "        vertical-align: middle;\n",
       "    }\n",
       "\n",
       "    .dataframe tbody tr th {\n",
       "        vertical-align: top;\n",
       "    }\n",
       "\n",
       "    .dataframe thead th {\n",
       "        text-align: right;\n",
       "    }\n",
       "</style>\n",
       "<table border=\"1\" class=\"dataframe\">\n",
       "  <thead>\n",
       "    <tr style=\"text-align: right;\">\n",
       "      <th></th>\n",
       "      <th>sku</th>\n",
       "      <th>sale_price</th>\n",
       "      <th>status</th>\n",
       "      <th>gender</th>\n",
       "      <th>f_corr_-5.0_1.0</th>\n",
       "      <th>normalized_std_price_5_days</th>\n",
       "      <th>normalized_std_sales_5_days</th>\n",
       "      <th>0</th>\n",
       "      <th>1</th>\n",
       "      <th>2</th>\n",
       "      <th>3</th>\n",
       "      <th>4</th>\n",
       "      <th>5</th>\n",
       "      <th>6</th>\n",
       "      <th>7</th>\n",
       "      <th>8</th>\n",
       "      <th>9</th>\n",
       "      <th>10</th>\n",
       "      <th>11</th>\n",
       "      <th>12</th>\n",
       "      <th>13</th>\n",
       "      <th>14</th>\n",
       "      <th>15</th>\n",
       "      <th>16</th>\n",
       "      <th>17</th>\n",
       "      <th>18</th>\n",
       "      <th>19</th>\n",
       "      <th>20</th>\n",
       "      <th>21</th>\n",
       "      <th>22</th>\n",
       "      <th>23</th>\n",
       "      <th>24</th>\n",
       "      <th>25</th>\n",
       "      <th>26</th>\n",
       "      <th>27</th>\n",
       "      <th>28</th>\n",
       "      <th>29</th>\n",
       "      <th>30</th>\n",
       "      <th>31</th>\n",
       "      <th>32</th>\n",
       "      <th>33</th>\n",
       "      <th>34</th>\n",
       "      <th>35</th>\n",
       "      <th>36</th>\n",
       "      <th>37</th>\n",
       "      <th>38</th>\n",
       "      <th>39</th>\n",
       "      <th>40</th>\n",
       "      <th>41</th>\n",
       "      <th>42</th>\n",
       "      <th>43</th>\n",
       "      <th>44</th>\n",
       "      <th>45</th>\n",
       "      <th>46</th>\n",
       "      <th>47</th>\n",
       "      <th>48</th>\n",
       "      <th>49</th>\n",
       "      <th>50</th>\n",
       "      <th>51</th>\n",
       "      <th>52</th>\n",
       "      <th>53</th>\n",
       "      <th>54</th>\n",
       "      <th>55</th>\n",
       "      <th>56</th>\n",
       "      <th>57</th>\n",
       "      <th>58</th>\n",
       "      <th>59</th>\n",
       "      <th>60</th>\n",
       "      <th>61</th>\n",
       "      <th>62</th>\n",
       "      <th>63</th>\n",
       "      <th>64</th>\n",
       "      <th>65</th>\n",
       "      <th>66</th>\n",
       "      <th>67</th>\n",
       "      <th>68</th>\n",
       "      <th>69</th>\n",
       "      <th>70</th>\n",
       "      <th>71</th>\n",
       "      <th>72</th>\n",
       "      <th>73</th>\n",
       "      <th>74</th>\n",
       "      <th>75</th>\n",
       "      <th>76</th>\n",
       "      <th>77</th>\n",
       "      <th>78</th>\n",
       "      <th>79</th>\n",
       "      <th>80</th>\n",
       "      <th>81</th>\n",
       "      <th>82</th>\n",
       "      <th>83</th>\n",
       "      <th>84</th>\n",
       "      <th>85</th>\n",
       "      <th>86</th>\n",
       "      <th>87</th>\n",
       "      <th>88</th>\n",
       "      <th>89</th>\n",
       "      <th>90</th>\n",
       "      <th>91</th>\n",
       "      <th>92</th>\n",
       "      <th>93</th>\n",
       "      <th>94</th>\n",
       "      <th>95</th>\n",
       "      <th>96</th>\n",
       "      <th>97</th>\n",
       "      <th>98</th>\n",
       "      <th>99</th>\n",
       "      <th>100</th>\n",
       "      <th>101</th>\n",
       "      <th>102</th>\n",
       "      <th>103</th>\n",
       "      <th>104</th>\n",
       "      <th>105</th>\n",
       "      <th>106</th>\n",
       "      <th>107</th>\n",
       "      <th>108</th>\n",
       "      <th>109</th>\n",
       "      <th>110</th>\n",
       "      <th>111</th>\n",
       "      <th>112</th>\n",
       "      <th>113</th>\n",
       "      <th>114</th>\n",
       "      <th>115</th>\n",
       "      <th>116</th>\n",
       "      <th>117</th>\n",
       "      <th>118</th>\n",
       "      <th>119</th>\n",
       "      <th>120</th>\n",
       "      <th>121</th>\n",
       "      <th>122</th>\n",
       "      <th>123</th>\n",
       "      <th>124</th>\n",
       "      <th>125</th>\n",
       "      <th>126</th>\n",
       "      <th>127</th>\n",
       "      <th>128</th>\n",
       "      <th>129</th>\n",
       "      <th>130</th>\n",
       "      <th>131</th>\n",
       "      <th>132</th>\n",
       "      <th>133</th>\n",
       "      <th>134</th>\n",
       "      <th>135</th>\n",
       "      <th>136</th>\n",
       "      <th>137</th>\n",
       "      <th>138</th>\n",
       "      <th>139</th>\n",
       "      <th>140</th>\n",
       "      <th>141</th>\n",
       "      <th>142</th>\n",
       "      <th>143</th>\n",
       "      <th>144</th>\n",
       "      <th>145</th>\n",
       "      <th>146</th>\n",
       "      <th>147</th>\n",
       "      <th>148</th>\n",
       "      <th>149</th>\n",
       "      <th>150</th>\n",
       "      <th>151</th>\n",
       "      <th>152</th>\n",
       "      <th>153</th>\n",
       "      <th>154</th>\n",
       "      <th>155</th>\n",
       "      <th>156</th>\n",
       "      <th>157</th>\n",
       "      <th>158</th>\n",
       "      <th>159</th>\n",
       "      <th>160</th>\n",
       "      <th>161</th>\n",
       "      <th>162</th>\n",
       "      <th>163</th>\n",
       "      <th>164</th>\n",
       "      <th>165</th>\n",
       "      <th>166</th>\n",
       "      <th>167</th>\n",
       "      <th>168</th>\n",
       "      <th>169</th>\n",
       "      <th>170</th>\n",
       "      <th>171</th>\n",
       "      <th>172</th>\n",
       "      <th>173</th>\n",
       "      <th>174</th>\n",
       "      <th>175</th>\n",
       "      <th>176</th>\n",
       "      <th>177</th>\n",
       "      <th>178</th>\n",
       "      <th>179</th>\n",
       "      <th>180</th>\n",
       "      <th>181</th>\n",
       "      <th>182</th>\n",
       "      <th>183</th>\n",
       "      <th>184</th>\n",
       "      <th>185</th>\n",
       "      <th>186</th>\n",
       "      <th>187</th>\n",
       "      <th>188</th>\n",
       "      <th>189</th>\n",
       "      <th>190</th>\n",
       "      <th>191</th>\n",
       "      <th>192</th>\n",
       "      <th>193</th>\n",
       "      <th>194</th>\n",
       "      <th>195</th>\n",
       "      <th>196</th>\n",
       "      <th>197</th>\n",
       "      <th>198</th>\n",
       "      <th>199</th>\n",
       "      <th>200</th>\n",
       "      <th>201</th>\n",
       "      <th>202</th>\n",
       "      <th>203</th>\n",
       "      <th>204</th>\n",
       "      <th>205</th>\n",
       "      <th>206</th>\n",
       "      <th>207</th>\n",
       "      <th>208</th>\n",
       "      <th>209</th>\n",
       "      <th>210</th>\n",
       "      <th>211</th>\n",
       "      <th>212</th>\n",
       "      <th>213</th>\n",
       "      <th>214</th>\n",
       "      <th>215</th>\n",
       "      <th>216</th>\n",
       "      <th>217</th>\n",
       "      <th>218</th>\n",
       "      <th>219</th>\n",
       "      <th>220</th>\n",
       "      <th>created_at_day_of_the_year</th>\n",
       "      <th>year</th>\n",
       "      <th>month</th>\n",
       "    </tr>\n",
       "  </thead>\n",
       "  <tbody>\n",
       "    <tr>\n",
       "      <th>44208</th>\n",
       "      <td>5421E013565F7F1AFA0CFE8AD87A99AB</td>\n",
       "      <td>46.990002</td>\n",
       "      <td>1</td>\n",
       "      <td>0</td>\n",
       "      <td>0.0</td>\n",
       "      <td>0.0</td>\n",
       "      <td>0.612372</td>\n",
       "      <td>0.921962</td>\n",
       "      <td>-0.202603</td>\n",
       "      <td>0.201644</td>\n",
       "      <td>0.027883</td>\n",
       "      <td>0.480924</td>\n",
       "      <td>-0.847797</td>\n",
       "      <td>-0.297774</td>\n",
       "      <td>-0.414589</td>\n",
       "      <td>1.681062</td>\n",
       "      <td>0.465758</td>\n",
       "      <td>0.910244</td>\n",
       "      <td>-2.149250</td>\n",
       "      <td>-2.270085</td>\n",
       "      <td>-1.701837</td>\n",
       "      <td>-0.247114</td>\n",
       "      <td>-0.819454</td>\n",
       "      <td>0.927107</td>\n",
       "      <td>1.013751</td>\n",
       "      <td>0.054008</td>\n",
       "      <td>-0.549068</td>\n",
       "      <td>-1.151687</td>\n",
       "      <td>-1.012792</td>\n",
       "      <td>-0.154113</td>\n",
       "      <td>2.233285</td>\n",
       "      <td>-0.110032</td>\n",
       "      <td>-0.313683</td>\n",
       "      <td>-1.470379</td>\n",
       "      <td>-0.990195</td>\n",
       "      <td>1.213581</td>\n",
       "      <td>0.945220</td>\n",
       "      <td>0.127053</td>\n",
       "      <td>0.886860</td>\n",
       "      <td>0.399266</td>\n",
       "      <td>-0.491119</td>\n",
       "      <td>0.258435</td>\n",
       "      <td>-0.249791</td>\n",
       "      <td>0.953746</td>\n",
       "      <td>0.941808</td>\n",
       "      <td>0.569349</td>\n",
       "      <td>0.253124</td>\n",
       "      <td>-1.124561</td>\n",
       "      <td>1.785446</td>\n",
       "      <td>0.054284</td>\n",
       "      <td>-0.223640</td>\n",
       "      <td>1.119226</td>\n",
       "      <td>1.520381</td>\n",
       "      <td>0.693328</td>\n",
       "      <td>0.129818</td>\n",
       "      <td>0.489036</td>\n",
       "      <td>1.933933</td>\n",
       "      <td>-1.452338</td>\n",
       "      <td>-0.220426</td>\n",
       "      <td>-0.772190</td>\n",
       "      <td>0.239840</td>\n",
       "      <td>0.383264</td>\n",
       "      <td>-0.639122</td>\n",
       "      <td>-0.521321</td>\n",
       "      <td>1.352267</td>\n",
       "      <td>1.250092</td>\n",
       "      <td>1.558873</td>\n",
       "      <td>-0.929664</td>\n",
       "      <td>0.436795</td>\n",
       "      <td>0.850540</td>\n",
       "      <td>-0.160297</td>\n",
       "      <td>1.002970</td>\n",
       "      <td>-0.391215</td>\n",
       "      <td>-0.092367</td>\n",
       "      <td>1.227552</td>\n",
       "      <td>0.937428</td>\n",
       "      <td>0.098412</td>\n",
       "      <td>0.078503</td>\n",
       "      <td>1.175277</td>\n",
       "      <td>0.917639</td>\n",
       "      <td>-0.321050</td>\n",
       "      <td>0.962657</td>\n",
       "      <td>-0.420428</td>\n",
       "      <td>0.792536</td>\n",
       "      <td>0.955240</td>\n",
       "      <td>0.847806</td>\n",
       "      <td>1.331405</td>\n",
       "      <td>-0.398860</td>\n",
       "      <td>0.457248</td>\n",
       "      <td>-1.297461</td>\n",
       "      <td>-1.673792</td>\n",
       "      <td>-0.858226</td>\n",
       "      <td>-1.014065</td>\n",
       "      <td>-0.041807</td>\n",
       "      <td>-0.439070</td>\n",
       "      <td>-0.160724</td>\n",
       "      <td>-0.584101</td>\n",
       "      <td>-0.998875</td>\n",
       "      <td>-1.136102</td>\n",
       "      <td>-1.438717</td>\n",
       "      <td>-1.639215</td>\n",
       "      <td>-0.446174</td>\n",
       "      <td>0.538729</td>\n",
       "      <td>1.444875</td>\n",
       "      <td>-0.720641</td>\n",
       "      <td>0.230464</td>\n",
       "      <td>0.771936</td>\n",
       "      <td>-1.115001</td>\n",
       "      <td>0.549142</td>\n",
       "      <td>-0.260043</td>\n",
       "      <td>0.113597</td>\n",
       "      <td>1.043823</td>\n",
       "      <td>-0.296960</td>\n",
       "      <td>0.547029</td>\n",
       "      <td>0.107469</td>\n",
       "      <td>1.396710</td>\n",
       "      <td>0.310142</td>\n",
       "      <td>-0.390403</td>\n",
       "      <td>0.268747</td>\n",
       "      <td>0.925746</td>\n",
       "      <td>0.315216</td>\n",
       "      <td>0.044480</td>\n",
       "      <td>0.134911</td>\n",
       "      <td>0.092306</td>\n",
       "      <td>0.383198</td>\n",
       "      <td>-0.007106</td>\n",
       "      <td>0.321449</td>\n",
       "      <td>-0.140343</td>\n",
       "      <td>-0.212127</td>\n",
       "      <td>0.132247</td>\n",
       "      <td>-0.239555</td>\n",
       "      <td>-0.898615</td>\n",
       "      <td>1.330596</td>\n",
       "      <td>-0.024629</td>\n",
       "      <td>-0.001123</td>\n",
       "      <td>0.851209</td>\n",
       "      <td>-0.598079</td>\n",
       "      <td>-0.918452</td>\n",
       "      <td>1.244818</td>\n",
       "      <td>-0.639142</td>\n",
       "      <td>-0.488102</td>\n",
       "      <td>-0.140695</td>\n",
       "      <td>1.584107</td>\n",
       "      <td>1.050629</td>\n",
       "      <td>0.407757</td>\n",
       "      <td>-1.333895</td>\n",
       "      <td>0.357115</td>\n",
       "      <td>-0.807828</td>\n",
       "      <td>-0.247712</td>\n",
       "      <td>0.153462</td>\n",
       "      <td>-0.167412</td>\n",
       "      <td>2.547471</td>\n",
       "      <td>1.080254</td>\n",
       "      <td>-0.716317</td>\n",
       "      <td>0.657381</td>\n",
       "      <td>0.771118</td>\n",
       "      <td>1.716084</td>\n",
       "      <td>-0.033039</td>\n",
       "      <td>-0.047118</td>\n",
       "      <td>-0.609030</td>\n",
       "      <td>-1.231619</td>\n",
       "      <td>1.213005</td>\n",
       "      <td>0.150806</td>\n",
       "      <td>-0.645272</td>\n",
       "      <td>0.697884</td>\n",
       "      <td>-1.651765</td>\n",
       "      <td>0.539463</td>\n",
       "      <td>1.363539</td>\n",
       "      <td>-1.067418</td>\n",
       "      <td>-0.751450</td>\n",
       "      <td>-1.340119</td>\n",
       "      <td>-0.330318</td>\n",
       "      <td>-0.273569</td>\n",
       "      <td>0.588018</td>\n",
       "      <td>-0.469029</td>\n",
       "      <td>1.422958</td>\n",
       "      <td>2.066719</td>\n",
       "      <td>0.925512</td>\n",
       "      <td>-1.187204</td>\n",
       "      <td>-0.154885</td>\n",
       "      <td>-0.720887</td>\n",
       "      <td>-0.616084</td>\n",
       "      <td>-0.087842</td>\n",
       "      <td>0.816454</td>\n",
       "      <td>-0.545247</td>\n",
       "      <td>0.506026</td>\n",
       "      <td>0.942514</td>\n",
       "      <td>-0.698180</td>\n",
       "      <td>-1.451078</td>\n",
       "      <td>-1.850516</td>\n",
       "      <td>-0.046616</td>\n",
       "      <td>-0.540395</td>\n",
       "      <td>-0.374718</td>\n",
       "      <td>0.736330</td>\n",
       "      <td>1.232586</td>\n",
       "      <td>1.623165</td>\n",
       "      <td>0.188401</td>\n",
       "      <td>0.550698</td>\n",
       "      <td>1.466799</td>\n",
       "      <td>0.168480</td>\n",
       "      <td>0.076813</td>\n",
       "      <td>-0.464321</td>\n",
       "      <td>0.714886</td>\n",
       "      <td>0.305455</td>\n",
       "      <td>-0.225403</td>\n",
       "      <td>-0.312075</td>\n",
       "      <td>-1.227738</td>\n",
       "      <td>-0.386652</td>\n",
       "      <td>1.740621</td>\n",
       "      <td>-0.411584</td>\n",
       "      <td>-0.911094</td>\n",
       "      <td>-1.185759</td>\n",
       "      <td>-0.932699</td>\n",
       "      <td>-1.546780</td>\n",
       "      <td>0.489515</td>\n",
       "      <td>0.715739</td>\n",
       "      <td>0.835501</td>\n",
       "      <td>0.780047</td>\n",
       "      <td>-0.831133</td>\n",
       "      <td>-1.087504</td>\n",
       "      <td>-0.067741</td>\n",
       "      <td>1.921461</td>\n",
       "      <td>0.333087</td>\n",
       "      <td>-0.517615</td>\n",
       "      <td>0.008957</td>\n",
       "      <td>-0.273704</td>\n",
       "      <td>-1.819881</td>\n",
       "      <td>0.176162</td>\n",
       "      <td>21</td>\n",
       "      <td>2019</td>\n",
       "      <td>1</td>\n",
       "    </tr>\n",
       "    <tr>\n",
       "      <th>16365</th>\n",
       "      <td>1EE42F91B329FEEBF2CD3DADD8A704F2</td>\n",
       "      <td>7.990000</td>\n",
       "      <td>2</td>\n",
       "      <td>0</td>\n",
       "      <td>0.0</td>\n",
       "      <td>0.0</td>\n",
       "      <td>0.724356</td>\n",
       "      <td>-0.067840</td>\n",
       "      <td>0.150709</td>\n",
       "      <td>2.328436</td>\n",
       "      <td>-0.290366</td>\n",
       "      <td>0.522021</td>\n",
       "      <td>0.880264</td>\n",
       "      <td>-0.440631</td>\n",
       "      <td>0.635810</td>\n",
       "      <td>-1.139494</td>\n",
       "      <td>0.811569</td>\n",
       "      <td>0.079848</td>\n",
       "      <td>-0.898761</td>\n",
       "      <td>-0.896586</td>\n",
       "      <td>0.046787</td>\n",
       "      <td>-0.322809</td>\n",
       "      <td>0.486583</td>\n",
       "      <td>-0.762113</td>\n",
       "      <td>0.471105</td>\n",
       "      <td>-0.052026</td>\n",
       "      <td>1.475905</td>\n",
       "      <td>-0.667470</td>\n",
       "      <td>0.111695</td>\n",
       "      <td>0.192273</td>\n",
       "      <td>-0.480790</td>\n",
       "      <td>0.579859</td>\n",
       "      <td>0.741601</td>\n",
       "      <td>-2.533859</td>\n",
       "      <td>1.858290</td>\n",
       "      <td>-0.207586</td>\n",
       "      <td>-2.660383</td>\n",
       "      <td>1.561860</td>\n",
       "      <td>0.370328</td>\n",
       "      <td>1.401307</td>\n",
       "      <td>0.880507</td>\n",
       "      <td>1.651745</td>\n",
       "      <td>-0.412075</td>\n",
       "      <td>0.126259</td>\n",
       "      <td>0.381490</td>\n",
       "      <td>0.679652</td>\n",
       "      <td>-0.008994</td>\n",
       "      <td>0.368217</td>\n",
       "      <td>1.068059</td>\n",
       "      <td>0.566060</td>\n",
       "      <td>1.828005</td>\n",
       "      <td>-0.453355</td>\n",
       "      <td>0.014733</td>\n",
       "      <td>1.162692</td>\n",
       "      <td>0.125434</td>\n",
       "      <td>-0.344077</td>\n",
       "      <td>-1.222933</td>\n",
       "      <td>0.301036</td>\n",
       "      <td>-0.373913</td>\n",
       "      <td>-1.456977</td>\n",
       "      <td>-0.404777</td>\n",
       "      <td>1.286745</td>\n",
       "      <td>0.396842</td>\n",
       "      <td>-1.122855</td>\n",
       "      <td>1.508495</td>\n",
       "      <td>0.121888</td>\n",
       "      <td>0.315083</td>\n",
       "      <td>-0.219856</td>\n",
       "      <td>1.961327</td>\n",
       "      <td>-0.277637</td>\n",
       "      <td>0.227770</td>\n",
       "      <td>-0.550152</td>\n",
       "      <td>0.748862</td>\n",
       "      <td>-0.378454</td>\n",
       "      <td>0.406217</td>\n",
       "      <td>0.494230</td>\n",
       "      <td>-1.752230</td>\n",
       "      <td>-0.039102</td>\n",
       "      <td>-0.788485</td>\n",
       "      <td>0.890652</td>\n",
       "      <td>-0.484236</td>\n",
       "      <td>0.009555</td>\n",
       "      <td>-0.046385</td>\n",
       "      <td>-0.357785</td>\n",
       "      <td>-1.819315</td>\n",
       "      <td>-0.762455</td>\n",
       "      <td>-0.060153</td>\n",
       "      <td>-0.748355</td>\n",
       "      <td>0.905856</td>\n",
       "      <td>0.065803</td>\n",
       "      <td>-0.217972</td>\n",
       "      <td>-0.317368</td>\n",
       "      <td>-0.989315</td>\n",
       "      <td>1.459561</td>\n",
       "      <td>2.123958</td>\n",
       "      <td>0.875842</td>\n",
       "      <td>-0.753476</td>\n",
       "      <td>-2.268110</td>\n",
       "      <td>1.772420</td>\n",
       "      <td>0.903355</td>\n",
       "      <td>-0.201853</td>\n",
       "      <td>-0.550362</td>\n",
       "      <td>0.490444</td>\n",
       "      <td>0.697215</td>\n",
       "      <td>-0.094359</td>\n",
       "      <td>-0.464907</td>\n",
       "      <td>0.372264</td>\n",
       "      <td>-0.215233</td>\n",
       "      <td>0.473508</td>\n",
       "      <td>-0.692480</td>\n",
       "      <td>-0.126951</td>\n",
       "      <td>-0.199219</td>\n",
       "      <td>0.376778</td>\n",
       "      <td>-2.538980</td>\n",
       "      <td>0.562634</td>\n",
       "      <td>0.956415</td>\n",
       "      <td>-1.397052</td>\n",
       "      <td>-0.800463</td>\n",
       "      <td>0.269841</td>\n",
       "      <td>-0.461149</td>\n",
       "      <td>-0.261296</td>\n",
       "      <td>1.572924</td>\n",
       "      <td>0.588501</td>\n",
       "      <td>-0.378916</td>\n",
       "      <td>0.045048</td>\n",
       "      <td>1.240677</td>\n",
       "      <td>-1.622308</td>\n",
       "      <td>1.263365</td>\n",
       "      <td>0.893915</td>\n",
       "      <td>-0.123347</td>\n",
       "      <td>-0.351411</td>\n",
       "      <td>0.170902</td>\n",
       "      <td>-2.392353</td>\n",
       "      <td>1.654146</td>\n",
       "      <td>1.220198</td>\n",
       "      <td>-1.430403</td>\n",
       "      <td>-1.082256</td>\n",
       "      <td>-1.416995</td>\n",
       "      <td>-2.121985</td>\n",
       "      <td>-1.130668</td>\n",
       "      <td>1.007383</td>\n",
       "      <td>-0.336415</td>\n",
       "      <td>-0.159741</td>\n",
       "      <td>0.530320</td>\n",
       "      <td>-0.020750</td>\n",
       "      <td>1.370681</td>\n",
       "      <td>0.700501</td>\n",
       "      <td>-0.045101</td>\n",
       "      <td>1.227183</td>\n",
       "      <td>-0.029032</td>\n",
       "      <td>-1.291845</td>\n",
       "      <td>-1.099750</td>\n",
       "      <td>-0.680441</td>\n",
       "      <td>1.748543</td>\n",
       "      <td>-0.280800</td>\n",
       "      <td>-0.906108</td>\n",
       "      <td>-1.114797</td>\n",
       "      <td>-0.293999</td>\n",
       "      <td>-0.282804</td>\n",
       "      <td>1.972581</td>\n",
       "      <td>-0.118984</td>\n",
       "      <td>-0.107502</td>\n",
       "      <td>0.419659</td>\n",
       "      <td>0.235941</td>\n",
       "      <td>-0.708115</td>\n",
       "      <td>0.944379</td>\n",
       "      <td>0.317125</td>\n",
       "      <td>-0.671941</td>\n",
       "      <td>0.616259</td>\n",
       "      <td>1.437161</td>\n",
       "      <td>0.239249</td>\n",
       "      <td>0.239710</td>\n",
       "      <td>0.559669</td>\n",
       "      <td>-0.901764</td>\n",
       "      <td>0.144581</td>\n",
       "      <td>-1.097954</td>\n",
       "      <td>-0.066487</td>\n",
       "      <td>0.599805</td>\n",
       "      <td>1.356679</td>\n",
       "      <td>0.396123</td>\n",
       "      <td>-0.686846</td>\n",
       "      <td>-0.394678</td>\n",
       "      <td>-0.169760</td>\n",
       "      <td>-0.812225</td>\n",
       "      <td>2.246857</td>\n",
       "      <td>1.086763</td>\n",
       "      <td>1.077189</td>\n",
       "      <td>-1.445982</td>\n",
       "      <td>1.901408</td>\n",
       "      <td>0.865409</td>\n",
       "      <td>-1.677861</td>\n",
       "      <td>1.497794</td>\n",
       "      <td>0.666082</td>\n",
       "      <td>0.238397</td>\n",
       "      <td>-0.931435</td>\n",
       "      <td>-0.423745</td>\n",
       "      <td>0.482272</td>\n",
       "      <td>0.586181</td>\n",
       "      <td>-0.513108</td>\n",
       "      <td>-1.147745</td>\n",
       "      <td>-0.051339</td>\n",
       "      <td>0.569638</td>\n",
       "      <td>-1.473404</td>\n",
       "      <td>-0.433471</td>\n",
       "      <td>1.430395</td>\n",
       "      <td>0.559820</td>\n",
       "      <td>1.226119</td>\n",
       "      <td>-0.902143</td>\n",
       "      <td>-0.346873</td>\n",
       "      <td>0.647245</td>\n",
       "      <td>-0.635515</td>\n",
       "      <td>1.893897</td>\n",
       "      <td>1.212653</td>\n",
       "      <td>-0.696940</td>\n",
       "      <td>0.816907</td>\n",
       "      <td>0.898685</td>\n",
       "      <td>0.694584</td>\n",
       "      <td>-0.417111</td>\n",
       "      <td>0.998766</td>\n",
       "      <td>0.816450</td>\n",
       "      <td>1.909645</td>\n",
       "      <td>-0.072683</td>\n",
       "      <td>-0.193836</td>\n",
       "      <td>-0.003363</td>\n",
       "      <td>-1.432835</td>\n",
       "      <td>0.691090</td>\n",
       "      <td>-0.781820</td>\n",
       "      <td>1.682892</td>\n",
       "      <td>26</td>\n",
       "      <td>2019</td>\n",
       "      <td>1</td>\n",
       "    </tr>\n",
       "    <tr>\n",
       "      <th>101324</th>\n",
       "      <td>BF1B2F4B901C21A1D8645018EA9AEB05</td>\n",
       "      <td>21.990000</td>\n",
       "      <td>1</td>\n",
       "      <td>0</td>\n",
       "      <td>0.0</td>\n",
       "      <td>0.0</td>\n",
       "      <td>0.724356</td>\n",
       "      <td>-0.624019</td>\n",
       "      <td>1.511007</td>\n",
       "      <td>0.013622</td>\n",
       "      <td>-0.723155</td>\n",
       "      <td>0.904510</td>\n",
       "      <td>0.486764</td>\n",
       "      <td>-0.088933</td>\n",
       "      <td>-0.908588</td>\n",
       "      <td>-0.310797</td>\n",
       "      <td>0.536106</td>\n",
       "      <td>0.630806</td>\n",
       "      <td>-2.195246</td>\n",
       "      <td>-0.684126</td>\n",
       "      <td>0.796012</td>\n",
       "      <td>0.002632</td>\n",
       "      <td>0.110768</td>\n",
       "      <td>0.233651</td>\n",
       "      <td>-0.692895</td>\n",
       "      <td>-1.131129</td>\n",
       "      <td>0.531135</td>\n",
       "      <td>-0.257219</td>\n",
       "      <td>-1.854267</td>\n",
       "      <td>0.557649</td>\n",
       "      <td>-0.946920</td>\n",
       "      <td>-0.027608</td>\n",
       "      <td>-0.317817</td>\n",
       "      <td>1.461394</td>\n",
       "      <td>0.644374</td>\n",
       "      <td>1.588839</td>\n",
       "      <td>-0.053702</td>\n",
       "      <td>-0.375186</td>\n",
       "      <td>0.726561</td>\n",
       "      <td>-1.783368</td>\n",
       "      <td>1.173379</td>\n",
       "      <td>-0.635554</td>\n",
       "      <td>2.579640</td>\n",
       "      <td>-0.403204</td>\n",
       "      <td>-1.082560</td>\n",
       "      <td>-0.814175</td>\n",
       "      <td>-0.171806</td>\n",
       "      <td>-0.495449</td>\n",
       "      <td>0.771658</td>\n",
       "      <td>-1.592439</td>\n",
       "      <td>1.461430</td>\n",
       "      <td>-1.615064</td>\n",
       "      <td>0.773151</td>\n",
       "      <td>0.324295</td>\n",
       "      <td>-0.780205</td>\n",
       "      <td>0.081179</td>\n",
       "      <td>0.382039</td>\n",
       "      <td>0.343487</td>\n",
       "      <td>-0.995388</td>\n",
       "      <td>0.195770</td>\n",
       "      <td>-0.238935</td>\n",
       "      <td>-0.343346</td>\n",
       "      <td>-0.145408</td>\n",
       "      <td>1.393574</td>\n",
       "      <td>0.014116</td>\n",
       "      <td>0.466304</td>\n",
       "      <td>-0.646398</td>\n",
       "      <td>1.370504</td>\n",
       "      <td>-1.364876</td>\n",
       "      <td>-0.965881</td>\n",
       "      <td>0.173093</td>\n",
       "      <td>-0.160296</td>\n",
       "      <td>-1.099712</td>\n",
       "      <td>1.594431</td>\n",
       "      <td>-0.967223</td>\n",
       "      <td>0.968922</td>\n",
       "      <td>0.602087</td>\n",
       "      <td>1.928222</td>\n",
       "      <td>-2.486945</td>\n",
       "      <td>-0.167338</td>\n",
       "      <td>-0.430766</td>\n",
       "      <td>-2.203768</td>\n",
       "      <td>1.163165</td>\n",
       "      <td>0.067487</td>\n",
       "      <td>-0.750368</td>\n",
       "      <td>0.698325</td>\n",
       "      <td>2.643028</td>\n",
       "      <td>0.094897</td>\n",
       "      <td>0.012248</td>\n",
       "      <td>-0.488946</td>\n",
       "      <td>0.255163</td>\n",
       "      <td>-2.149520</td>\n",
       "      <td>-1.407026</td>\n",
       "      <td>-1.356031</td>\n",
       "      <td>1.503356</td>\n",
       "      <td>-0.952713</td>\n",
       "      <td>-0.984572</td>\n",
       "      <td>1.187780</td>\n",
       "      <td>-0.097268</td>\n",
       "      <td>-2.149834</td>\n",
       "      <td>-0.180831</td>\n",
       "      <td>-0.139809</td>\n",
       "      <td>1.009257</td>\n",
       "      <td>0.802206</td>\n",
       "      <td>1.851101</td>\n",
       "      <td>0.200405</td>\n",
       "      <td>-1.783730</td>\n",
       "      <td>0.963415</td>\n",
       "      <td>0.849671</td>\n",
       "      <td>0.591965</td>\n",
       "      <td>2.968945</td>\n",
       "      <td>1.464092</td>\n",
       "      <td>0.022945</td>\n",
       "      <td>0.550168</td>\n",
       "      <td>-0.238854</td>\n",
       "      <td>0.749752</td>\n",
       "      <td>1.432269</td>\n",
       "      <td>1.383771</td>\n",
       "      <td>-0.791134</td>\n",
       "      <td>0.004133</td>\n",
       "      <td>0.658366</td>\n",
       "      <td>-0.230291</td>\n",
       "      <td>-0.233615</td>\n",
       "      <td>-0.139981</td>\n",
       "      <td>0.521984</td>\n",
       "      <td>-0.074840</td>\n",
       "      <td>-0.655681</td>\n",
       "      <td>-0.421290</td>\n",
       "      <td>-0.726900</td>\n",
       "      <td>0.507316</td>\n",
       "      <td>0.122927</td>\n",
       "      <td>-0.048699</td>\n",
       "      <td>0.353485</td>\n",
       "      <td>2.191738</td>\n",
       "      <td>0.280994</td>\n",
       "      <td>0.709629</td>\n",
       "      <td>0.224425</td>\n",
       "      <td>-1.196688</td>\n",
       "      <td>-0.418082</td>\n",
       "      <td>1.121193</td>\n",
       "      <td>0.929310</td>\n",
       "      <td>0.178278</td>\n",
       "      <td>-0.496455</td>\n",
       "      <td>-0.464165</td>\n",
       "      <td>-0.715969</td>\n",
       "      <td>0.083804</td>\n",
       "      <td>-0.163663</td>\n",
       "      <td>-0.595954</td>\n",
       "      <td>0.393340</td>\n",
       "      <td>-0.311919</td>\n",
       "      <td>0.856345</td>\n",
       "      <td>0.580003</td>\n",
       "      <td>-0.798948</td>\n",
       "      <td>-1.702571</td>\n",
       "      <td>-0.833144</td>\n",
       "      <td>1.034359</td>\n",
       "      <td>0.113969</td>\n",
       "      <td>-0.943302</td>\n",
       "      <td>-1.232637</td>\n",
       "      <td>-0.401914</td>\n",
       "      <td>1.214222</td>\n",
       "      <td>0.611978</td>\n",
       "      <td>0.012218</td>\n",
       "      <td>-0.157439</td>\n",
       "      <td>0.165469</td>\n",
       "      <td>0.749340</td>\n",
       "      <td>1.236933</td>\n",
       "      <td>-0.781957</td>\n",
       "      <td>-1.654170</td>\n",
       "      <td>0.375916</td>\n",
       "      <td>-1.152788</td>\n",
       "      <td>-0.415337</td>\n",
       "      <td>0.701336</td>\n",
       "      <td>-0.374023</td>\n",
       "      <td>1.265534</td>\n",
       "      <td>-0.680054</td>\n",
       "      <td>2.542648</td>\n",
       "      <td>-0.045792</td>\n",
       "      <td>-1.316862</td>\n",
       "      <td>0.045358</td>\n",
       "      <td>-0.206545</td>\n",
       "      <td>0.445696</td>\n",
       "      <td>0.849107</td>\n",
       "      <td>1.510303</td>\n",
       "      <td>0.650201</td>\n",
       "      <td>0.006018</td>\n",
       "      <td>-2.109483</td>\n",
       "      <td>0.156569</td>\n",
       "      <td>-0.428730</td>\n",
       "      <td>0.205159</td>\n",
       "      <td>-0.141652</td>\n",
       "      <td>0.724909</td>\n",
       "      <td>-1.109020</td>\n",
       "      <td>2.212733</td>\n",
       "      <td>-0.290529</td>\n",
       "      <td>-0.189157</td>\n",
       "      <td>0.511648</td>\n",
       "      <td>1.566270</td>\n",
       "      <td>0.907419</td>\n",
       "      <td>0.640371</td>\n",
       "      <td>-0.247020</td>\n",
       "      <td>2.484256</td>\n",
       "      <td>0.516816</td>\n",
       "      <td>-0.806847</td>\n",
       "      <td>0.031935</td>\n",
       "      <td>1.144562</td>\n",
       "      <td>-1.077539</td>\n",
       "      <td>-0.806992</td>\n",
       "      <td>0.285955</td>\n",
       "      <td>1.699261</td>\n",
       "      <td>-0.879219</td>\n",
       "      <td>-0.052899</td>\n",
       "      <td>2.494937</td>\n",
       "      <td>-1.184683</td>\n",
       "      <td>-0.206976</td>\n",
       "      <td>-0.478159</td>\n",
       "      <td>1.179875</td>\n",
       "      <td>-1.244443</td>\n",
       "      <td>-1.743874</td>\n",
       "      <td>-1.056181</td>\n",
       "      <td>-0.271553</td>\n",
       "      <td>0.128694</td>\n",
       "      <td>0.504247</td>\n",
       "      <td>0.350777</td>\n",
       "      <td>-0.331372</td>\n",
       "      <td>-1.964920</td>\n",
       "      <td>0.935363</td>\n",
       "      <td>0.063050</td>\n",
       "      <td>29</td>\n",
       "      <td>2019</td>\n",
       "      <td>1</td>\n",
       "    </tr>\n",
       "    <tr>\n",
       "      <th>30435</th>\n",
       "      <td>391F63B419F364635C25479CC36C4D0A</td>\n",
       "      <td>29.990000</td>\n",
       "      <td>1</td>\n",
       "      <td>0</td>\n",
       "      <td>0.0</td>\n",
       "      <td>0.0</td>\n",
       "      <td>0.465657</td>\n",
       "      <td>-0.067840</td>\n",
       "      <td>0.150709</td>\n",
       "      <td>2.328436</td>\n",
       "      <td>-0.290366</td>\n",
       "      <td>0.522021</td>\n",
       "      <td>0.304236</td>\n",
       "      <td>-0.584262</td>\n",
       "      <td>0.938575</td>\n",
       "      <td>-0.669923</td>\n",
       "      <td>0.262506</td>\n",
       "      <td>0.251218</td>\n",
       "      <td>0.450535</td>\n",
       "      <td>-0.185744</td>\n",
       "      <td>0.619189</td>\n",
       "      <td>-0.267000</td>\n",
       "      <td>1.369442</td>\n",
       "      <td>0.608293</td>\n",
       "      <td>-0.240902</td>\n",
       "      <td>-1.024839</td>\n",
       "      <td>0.045368</td>\n",
       "      <td>-0.610328</td>\n",
       "      <td>-0.589110</td>\n",
       "      <td>0.675529</td>\n",
       "      <td>-1.650631</td>\n",
       "      <td>-0.051878</td>\n",
       "      <td>0.186911</td>\n",
       "      <td>0.440306</td>\n",
       "      <td>0.029629</td>\n",
       "      <td>-0.966936</td>\n",
       "      <td>0.964290</td>\n",
       "      <td>0.501585</td>\n",
       "      <td>-0.687224</td>\n",
       "      <td>-1.564060</td>\n",
       "      <td>0.097364</td>\n",
       "      <td>0.780488</td>\n",
       "      <td>1.556275</td>\n",
       "      <td>0.492453</td>\n",
       "      <td>-0.001538</td>\n",
       "      <td>1.889178</td>\n",
       "      <td>-0.789004</td>\n",
       "      <td>-2.447404</td>\n",
       "      <td>-0.360645</td>\n",
       "      <td>0.743582</td>\n",
       "      <td>-0.329562</td>\n",
       "      <td>-0.704013</td>\n",
       "      <td>-0.925741</td>\n",
       "      <td>-0.661564</td>\n",
       "      <td>1.268953</td>\n",
       "      <td>1.556540</td>\n",
       "      <td>1.690455</td>\n",
       "      <td>1.111556</td>\n",
       "      <td>-0.336552</td>\n",
       "      <td>-0.518094</td>\n",
       "      <td>1.427678</td>\n",
       "      <td>0.469628</td>\n",
       "      <td>-0.325258</td>\n",
       "      <td>1.585741</td>\n",
       "      <td>-0.165238</td>\n",
       "      <td>1.108610</td>\n",
       "      <td>1.800153</td>\n",
       "      <td>0.400655</td>\n",
       "      <td>0.918383</td>\n",
       "      <td>-0.580371</td>\n",
       "      <td>0.079059</td>\n",
       "      <td>0.484147</td>\n",
       "      <td>0.815305</td>\n",
       "      <td>1.409844</td>\n",
       "      <td>-0.343976</td>\n",
       "      <td>0.619437</td>\n",
       "      <td>-0.487306</td>\n",
       "      <td>0.542478</td>\n",
       "      <td>-0.429941</td>\n",
       "      <td>0.253536</td>\n",
       "      <td>0.782587</td>\n",
       "      <td>-0.010679</td>\n",
       "      <td>-1.085891</td>\n",
       "      <td>-0.667453</td>\n",
       "      <td>0.246153</td>\n",
       "      <td>0.144532</td>\n",
       "      <td>0.536192</td>\n",
       "      <td>-0.223417</td>\n",
       "      <td>-0.442519</td>\n",
       "      <td>1.207395</td>\n",
       "      <td>-0.099154</td>\n",
       "      <td>-0.908887</td>\n",
       "      <td>-0.025421</td>\n",
       "      <td>-0.819387</td>\n",
       "      <td>1.588689</td>\n",
       "      <td>0.178688</td>\n",
       "      <td>0.930466</td>\n",
       "      <td>1.551952</td>\n",
       "      <td>1.379833</td>\n",
       "      <td>1.706382</td>\n",
       "      <td>0.330671</td>\n",
       "      <td>1.007475</td>\n",
       "      <td>0.216551</td>\n",
       "      <td>-0.391759</td>\n",
       "      <td>-0.034685</td>\n",
       "      <td>1.540286</td>\n",
       "      <td>-0.677974</td>\n",
       "      <td>-1.102565</td>\n",
       "      <td>-1.072846</td>\n",
       "      <td>-1.667536</td>\n",
       "      <td>0.290898</td>\n",
       "      <td>1.144506</td>\n",
       "      <td>0.252350</td>\n",
       "      <td>-0.577217</td>\n",
       "      <td>1.566132</td>\n",
       "      <td>-1.072344</td>\n",
       "      <td>0.475203</td>\n",
       "      <td>0.458309</td>\n",
       "      <td>-3.141783</td>\n",
       "      <td>-0.268750</td>\n",
       "      <td>-0.089324</td>\n",
       "      <td>1.451274</td>\n",
       "      <td>0.179450</td>\n",
       "      <td>-0.399748</td>\n",
       "      <td>0.803009</td>\n",
       "      <td>2.720978</td>\n",
       "      <td>0.915351</td>\n",
       "      <td>-0.428530</td>\n",
       "      <td>1.572081</td>\n",
       "      <td>-0.435653</td>\n",
       "      <td>0.160252</td>\n",
       "      <td>1.268008</td>\n",
       "      <td>1.047271</td>\n",
       "      <td>-0.086747</td>\n",
       "      <td>0.775871</td>\n",
       "      <td>-1.199753</td>\n",
       "      <td>0.134107</td>\n",
       "      <td>-0.378488</td>\n",
       "      <td>1.720445</td>\n",
       "      <td>-1.335739</td>\n",
       "      <td>0.224703</td>\n",
       "      <td>0.727829</td>\n",
       "      <td>0.143556</td>\n",
       "      <td>-0.239334</td>\n",
       "      <td>1.121522</td>\n",
       "      <td>0.542859</td>\n",
       "      <td>0.961941</td>\n",
       "      <td>0.287489</td>\n",
       "      <td>1.959922</td>\n",
       "      <td>-0.952204</td>\n",
       "      <td>-0.679668</td>\n",
       "      <td>1.567825</td>\n",
       "      <td>1.621594</td>\n",
       "      <td>1.563182</td>\n",
       "      <td>0.090953</td>\n",
       "      <td>0.195654</td>\n",
       "      <td>-1.520281</td>\n",
       "      <td>-0.359930</td>\n",
       "      <td>0.040201</td>\n",
       "      <td>2.121363</td>\n",
       "      <td>0.774897</td>\n",
       "      <td>-0.024568</td>\n",
       "      <td>-0.507634</td>\n",
       "      <td>-0.592242</td>\n",
       "      <td>1.358225</td>\n",
       "      <td>0.087105</td>\n",
       "      <td>0.145382</td>\n",
       "      <td>-1.344602</td>\n",
       "      <td>0.718083</td>\n",
       "      <td>0.319475</td>\n",
       "      <td>1.306113</td>\n",
       "      <td>1.524674</td>\n",
       "      <td>-1.782601</td>\n",
       "      <td>-0.022192</td>\n",
       "      <td>-0.612031</td>\n",
       "      <td>-1.583057</td>\n",
       "      <td>-2.346048</td>\n",
       "      <td>0.729508</td>\n",
       "      <td>0.931229</td>\n",
       "      <td>0.432490</td>\n",
       "      <td>-0.299713</td>\n",
       "      <td>-0.096959</td>\n",
       "      <td>-0.773585</td>\n",
       "      <td>1.648818</td>\n",
       "      <td>-0.363377</td>\n",
       "      <td>-0.451923</td>\n",
       "      <td>0.234932</td>\n",
       "      <td>-0.766291</td>\n",
       "      <td>-0.559349</td>\n",
       "      <td>-0.242764</td>\n",
       "      <td>-2.642123</td>\n",
       "      <td>1.568539</td>\n",
       "      <td>-0.935559</td>\n",
       "      <td>0.432555</td>\n",
       "      <td>1.314065</td>\n",
       "      <td>0.306033</td>\n",
       "      <td>1.315836</td>\n",
       "      <td>0.114850</td>\n",
       "      <td>1.645813</td>\n",
       "      <td>1.281722</td>\n",
       "      <td>0.774847</td>\n",
       "      <td>-1.455272</td>\n",
       "      <td>2.061877</td>\n",
       "      <td>0.925651</td>\n",
       "      <td>-0.620588</td>\n",
       "      <td>-0.442717</td>\n",
       "      <td>-0.076401</td>\n",
       "      <td>1.636284</td>\n",
       "      <td>0.001360</td>\n",
       "      <td>0.979518</td>\n",
       "      <td>0.578004</td>\n",
       "      <td>-0.148863</td>\n",
       "      <td>0.050046</td>\n",
       "      <td>0.061476</td>\n",
       "      <td>0.404825</td>\n",
       "      <td>-0.845187</td>\n",
       "      <td>-0.666800</td>\n",
       "      <td>-0.097852</td>\n",
       "      <td>-0.447142</td>\n",
       "      <td>0.246986</td>\n",
       "      <td>-0.426461</td>\n",
       "      <td>-0.402951</td>\n",
       "      <td>0.406769</td>\n",
       "      <td>-1.126900</td>\n",
       "      <td>-0.631121</td>\n",
       "      <td>-0.652817</td>\n",
       "      <td>0.153128</td>\n",
       "      <td>0.028224</td>\n",
       "      <td>32</td>\n",
       "      <td>2019</td>\n",
       "      <td>2</td>\n",
       "    </tr>\n",
       "    <tr>\n",
       "      <th>125066</th>\n",
       "      <td>ECC92A19F0DE821519B715D10CBF7C62</td>\n",
       "      <td>21.990000</td>\n",
       "      <td>1</td>\n",
       "      <td>1</td>\n",
       "      <td>0.0</td>\n",
       "      <td>0.0</td>\n",
       "      <td>0.559017</td>\n",
       "      <td>0.875186</td>\n",
       "      <td>-1.645548</td>\n",
       "      <td>0.642215</td>\n",
       "      <td>0.908327</td>\n",
       "      <td>0.901892</td>\n",
       "      <td>-0.755705</td>\n",
       "      <td>0.783308</td>\n",
       "      <td>-0.307439</td>\n",
       "      <td>-1.522661</td>\n",
       "      <td>1.668300</td>\n",
       "      <td>0.719553</td>\n",
       "      <td>0.194142</td>\n",
       "      <td>-0.730628</td>\n",
       "      <td>0.216632</td>\n",
       "      <td>0.437416</td>\n",
       "      <td>-1.545235</td>\n",
       "      <td>1.673624</td>\n",
       "      <td>-1.133956</td>\n",
       "      <td>-0.233528</td>\n",
       "      <td>1.079545</td>\n",
       "      <td>0.145044</td>\n",
       "      <td>-0.811108</td>\n",
       "      <td>-0.752590</td>\n",
       "      <td>1.363430</td>\n",
       "      <td>-0.879811</td>\n",
       "      <td>-0.610438</td>\n",
       "      <td>-0.951029</td>\n",
       "      <td>0.378804</td>\n",
       "      <td>0.378011</td>\n",
       "      <td>0.247819</td>\n",
       "      <td>-0.406224</td>\n",
       "      <td>-0.596674</td>\n",
       "      <td>-1.366255</td>\n",
       "      <td>1.112961</td>\n",
       "      <td>-0.766514</td>\n",
       "      <td>-0.606418</td>\n",
       "      <td>-0.509940</td>\n",
       "      <td>-0.988046</td>\n",
       "      <td>-0.723300</td>\n",
       "      <td>0.271737</td>\n",
       "      <td>-0.151972</td>\n",
       "      <td>1.281473</td>\n",
       "      <td>-0.165055</td>\n",
       "      <td>-1.376808</td>\n",
       "      <td>-0.134692</td>\n",
       "      <td>0.274100</td>\n",
       "      <td>-0.152386</td>\n",
       "      <td>0.156195</td>\n",
       "      <td>1.636918</td>\n",
       "      <td>-1.681410</td>\n",
       "      <td>1.460837</td>\n",
       "      <td>1.270968</td>\n",
       "      <td>0.676703</td>\n",
       "      <td>1.540692</td>\n",
       "      <td>-1.125937</td>\n",
       "      <td>1.115910</td>\n",
       "      <td>-0.201906</td>\n",
       "      <td>-0.565239</td>\n",
       "      <td>0.571940</td>\n",
       "      <td>0.554017</td>\n",
       "      <td>-0.150816</td>\n",
       "      <td>-1.327072</td>\n",
       "      <td>0.979624</td>\n",
       "      <td>0.851839</td>\n",
       "      <td>-0.362268</td>\n",
       "      <td>-0.913012</td>\n",
       "      <td>1.483056</td>\n",
       "      <td>0.675197</td>\n",
       "      <td>1.026970</td>\n",
       "      <td>1.335004</td>\n",
       "      <td>-1.196045</td>\n",
       "      <td>0.018900</td>\n",
       "      <td>-0.277807</td>\n",
       "      <td>-1.015991</td>\n",
       "      <td>0.634107</td>\n",
       "      <td>0.281236</td>\n",
       "      <td>-0.369071</td>\n",
       "      <td>1.069699</td>\n",
       "      <td>-0.360222</td>\n",
       "      <td>-0.118105</td>\n",
       "      <td>1.411660</td>\n",
       "      <td>-0.379275</td>\n",
       "      <td>-0.398694</td>\n",
       "      <td>-1.446372</td>\n",
       "      <td>-0.647852</td>\n",
       "      <td>0.989704</td>\n",
       "      <td>-0.090475</td>\n",
       "      <td>-0.067663</td>\n",
       "      <td>-0.267582</td>\n",
       "      <td>-0.201935</td>\n",
       "      <td>-0.091022</td>\n",
       "      <td>-0.773949</td>\n",
       "      <td>0.449768</td>\n",
       "      <td>0.867668</td>\n",
       "      <td>1.745601</td>\n",
       "      <td>-0.080651</td>\n",
       "      <td>0.380470</td>\n",
       "      <td>-0.241313</td>\n",
       "      <td>0.856202</td>\n",
       "      <td>0.348895</td>\n",
       "      <td>0.017251</td>\n",
       "      <td>0.005993</td>\n",
       "      <td>0.036643</td>\n",
       "      <td>-0.196737</td>\n",
       "      <td>-1.253686</td>\n",
       "      <td>1.208820</td>\n",
       "      <td>-0.492125</td>\n",
       "      <td>0.651769</td>\n",
       "      <td>-1.555048</td>\n",
       "      <td>0.244747</td>\n",
       "      <td>-1.056503</td>\n",
       "      <td>1.628619</td>\n",
       "      <td>-0.757059</td>\n",
       "      <td>-0.776429</td>\n",
       "      <td>-0.693104</td>\n",
       "      <td>1.301879</td>\n",
       "      <td>0.530626</td>\n",
       "      <td>0.465346</td>\n",
       "      <td>-0.036559</td>\n",
       "      <td>-0.190655</td>\n",
       "      <td>0.804803</td>\n",
       "      <td>-0.222295</td>\n",
       "      <td>1.568636</td>\n",
       "      <td>1.051229</td>\n",
       "      <td>0.505075</td>\n",
       "      <td>-0.155486</td>\n",
       "      <td>0.046443</td>\n",
       "      <td>0.068823</td>\n",
       "      <td>-0.263596</td>\n",
       "      <td>-0.488407</td>\n",
       "      <td>-0.737820</td>\n",
       "      <td>1.364162</td>\n",
       "      <td>-1.146195</td>\n",
       "      <td>0.831852</td>\n",
       "      <td>-3.442716</td>\n",
       "      <td>-0.034193</td>\n",
       "      <td>-0.210411</td>\n",
       "      <td>-1.490019</td>\n",
       "      <td>-0.779911</td>\n",
       "      <td>-0.308630</td>\n",
       "      <td>2.101658</td>\n",
       "      <td>0.778674</td>\n",
       "      <td>-1.428703</td>\n",
       "      <td>-0.712247</td>\n",
       "      <td>1.659510</td>\n",
       "      <td>1.035748</td>\n",
       "      <td>0.815659</td>\n",
       "      <td>0.540708</td>\n",
       "      <td>-1.419733</td>\n",
       "      <td>-0.296199</td>\n",
       "      <td>-0.105358</td>\n",
       "      <td>1.229134</td>\n",
       "      <td>0.080069</td>\n",
       "      <td>0.591803</td>\n",
       "      <td>-0.509850</td>\n",
       "      <td>-1.385357</td>\n",
       "      <td>0.891816</td>\n",
       "      <td>-0.749898</td>\n",
       "      <td>-1.317077</td>\n",
       "      <td>0.002792</td>\n",
       "      <td>-0.632507</td>\n",
       "      <td>0.337478</td>\n",
       "      <td>-0.611900</td>\n",
       "      <td>2.519188</td>\n",
       "      <td>-0.610679</td>\n",
       "      <td>-0.059128</td>\n",
       "      <td>0.284290</td>\n",
       "      <td>-1.184061</td>\n",
       "      <td>0.408363</td>\n",
       "      <td>-1.340370</td>\n",
       "      <td>-0.425356</td>\n",
       "      <td>0.531581</td>\n",
       "      <td>0.656857</td>\n",
       "      <td>0.702033</td>\n",
       "      <td>-0.377305</td>\n",
       "      <td>-1.843171</td>\n",
       "      <td>-0.976932</td>\n",
       "      <td>-0.428947</td>\n",
       "      <td>0.312479</td>\n",
       "      <td>0.550851</td>\n",
       "      <td>1.365765</td>\n",
       "      <td>-1.212978</td>\n",
       "      <td>-0.263776</td>\n",
       "      <td>1.647996</td>\n",
       "      <td>-0.997971</td>\n",
       "      <td>-1.676262</td>\n",
       "      <td>-0.763834</td>\n",
       "      <td>1.672037</td>\n",
       "      <td>1.261900</td>\n",
       "      <td>0.205500</td>\n",
       "      <td>1.636774</td>\n",
       "      <td>-1.053994</td>\n",
       "      <td>-0.850005</td>\n",
       "      <td>1.692306</td>\n",
       "      <td>0.354211</td>\n",
       "      <td>1.090352</td>\n",
       "      <td>-0.819530</td>\n",
       "      <td>2.266315</td>\n",
       "      <td>0.646173</td>\n",
       "      <td>0.218348</td>\n",
       "      <td>-0.759255</td>\n",
       "      <td>-0.850777</td>\n",
       "      <td>-1.326027</td>\n",
       "      <td>0.052536</td>\n",
       "      <td>0.301043</td>\n",
       "      <td>0.489292</td>\n",
       "      <td>1.331765</td>\n",
       "      <td>-0.471300</td>\n",
       "      <td>-0.056741</td>\n",
       "      <td>-0.275652</td>\n",
       "      <td>1.082351</td>\n",
       "      <td>0.364303</td>\n",
       "      <td>1.425254</td>\n",
       "      <td>0.861861</td>\n",
       "      <td>0.778375</td>\n",
       "      <td>-0.675612</td>\n",
       "      <td>-0.318906</td>\n",
       "      <td>-0.328868</td>\n",
       "      <td>0.490945</td>\n",
       "      <td>1.185763</td>\n",
       "      <td>0.345322</td>\n",
       "      <td>33</td>\n",
       "      <td>2019</td>\n",
       "      <td>2</td>\n",
       "    </tr>\n",
       "  </tbody>\n",
       "</table>\n",
       "</div>"
      ],
      "text/plain": [
       "                                     sku  sale_price  status  gender  \\\n",
       "44208   5421E013565F7F1AFA0CFE8AD87A99AB   46.990002       1       0   \n",
       "16365   1EE42F91B329FEEBF2CD3DADD8A704F2    7.990000       2       0   \n",
       "101324  BF1B2F4B901C21A1D8645018EA9AEB05   21.990000       1       0   \n",
       "30435   391F63B419F364635C25479CC36C4D0A   29.990000       1       0   \n",
       "125066  ECC92A19F0DE821519B715D10CBF7C62   21.990000       1       1   \n",
       "\n",
       "        f_corr_-5.0_1.0  normalized_std_price_5_days  \\\n",
       "44208               0.0                          0.0   \n",
       "16365               0.0                          0.0   \n",
       "101324              0.0                          0.0   \n",
       "30435               0.0                          0.0   \n",
       "125066              0.0                          0.0   \n",
       "\n",
       "        normalized_std_sales_5_days         0         1         2         3  \\\n",
       "44208                      0.612372  0.921962 -0.202603  0.201644  0.027883   \n",
       "16365                      0.724356 -0.067840  0.150709  2.328436 -0.290366   \n",
       "101324                     0.724356 -0.624019  1.511007  0.013622 -0.723155   \n",
       "30435                      0.465657 -0.067840  0.150709  2.328436 -0.290366   \n",
       "125066                     0.559017  0.875186 -1.645548  0.642215  0.908327   \n",
       "\n",
       "               4         5         6         7         8         9        10  \\\n",
       "44208   0.480924 -0.847797 -0.297774 -0.414589  1.681062  0.465758  0.910244   \n",
       "16365   0.522021  0.880264 -0.440631  0.635810 -1.139494  0.811569  0.079848   \n",
       "101324  0.904510  0.486764 -0.088933 -0.908588 -0.310797  0.536106  0.630806   \n",
       "30435   0.522021  0.304236 -0.584262  0.938575 -0.669923  0.262506  0.251218   \n",
       "125066  0.901892 -0.755705  0.783308 -0.307439 -1.522661  1.668300  0.719553   \n",
       "\n",
       "              11        12        13        14        15        16        17  \\\n",
       "44208  -2.149250 -2.270085 -1.701837 -0.247114 -0.819454  0.927107  1.013751   \n",
       "16365  -0.898761 -0.896586  0.046787 -0.322809  0.486583 -0.762113  0.471105   \n",
       "101324 -2.195246 -0.684126  0.796012  0.002632  0.110768  0.233651 -0.692895   \n",
       "30435   0.450535 -0.185744  0.619189 -0.267000  1.369442  0.608293 -0.240902   \n",
       "125066  0.194142 -0.730628  0.216632  0.437416 -1.545235  1.673624 -1.133956   \n",
       "\n",
       "              18        19        20        21        22        23        24  \\\n",
       "44208   0.054008 -0.549068 -1.151687 -1.012792 -0.154113  2.233285 -0.110032   \n",
       "16365  -0.052026  1.475905 -0.667470  0.111695  0.192273 -0.480790  0.579859   \n",
       "101324 -1.131129  0.531135 -0.257219 -1.854267  0.557649 -0.946920 -0.027608   \n",
       "30435  -1.024839  0.045368 -0.610328 -0.589110  0.675529 -1.650631 -0.051878   \n",
       "125066 -0.233528  1.079545  0.145044 -0.811108 -0.752590  1.363430 -0.879811   \n",
       "\n",
       "              25        26        27        28        29        30        31  \\\n",
       "44208  -0.313683 -1.470379 -0.990195  1.213581  0.945220  0.127053  0.886860   \n",
       "16365   0.741601 -2.533859  1.858290 -0.207586 -2.660383  1.561860  0.370328   \n",
       "101324 -0.317817  1.461394  0.644374  1.588839 -0.053702 -0.375186  0.726561   \n",
       "30435   0.186911  0.440306  0.029629 -0.966936  0.964290  0.501585 -0.687224   \n",
       "125066 -0.610438 -0.951029  0.378804  0.378011  0.247819 -0.406224 -0.596674   \n",
       "\n",
       "              32        33        34        35        36        37        38  \\\n",
       "44208   0.399266 -0.491119  0.258435 -0.249791  0.953746  0.941808  0.569349   \n",
       "16365   1.401307  0.880507  1.651745 -0.412075  0.126259  0.381490  0.679652   \n",
       "101324 -1.783368  1.173379 -0.635554  2.579640 -0.403204 -1.082560 -0.814175   \n",
       "30435  -1.564060  0.097364  0.780488  1.556275  0.492453 -0.001538  1.889178   \n",
       "125066 -1.366255  1.112961 -0.766514 -0.606418 -0.509940 -0.988046 -0.723300   \n",
       "\n",
       "              39        40        41        42        43        44        45  \\\n",
       "44208   0.253124 -1.124561  1.785446  0.054284 -0.223640  1.119226  1.520381   \n",
       "16365  -0.008994  0.368217  1.068059  0.566060  1.828005 -0.453355  0.014733   \n",
       "101324 -0.171806 -0.495449  0.771658 -1.592439  1.461430 -1.615064  0.773151   \n",
       "30435  -0.789004 -2.447404 -0.360645  0.743582 -0.329562 -0.704013 -0.925741   \n",
       "125066  0.271737 -0.151972  1.281473 -0.165055 -1.376808 -0.134692  0.274100   \n",
       "\n",
       "              46        47        48        49        50        51        52  \\\n",
       "44208   0.693328  0.129818  0.489036  1.933933 -1.452338 -0.220426 -0.772190   \n",
       "16365   1.162692  0.125434 -0.344077 -1.222933  0.301036 -0.373913 -1.456977   \n",
       "101324  0.324295 -0.780205  0.081179  0.382039  0.343487 -0.995388  0.195770   \n",
       "30435  -0.661564  1.268953  1.556540  1.690455  1.111556 -0.336552 -0.518094   \n",
       "125066 -0.152386  0.156195  1.636918 -1.681410  1.460837  1.270968  0.676703   \n",
       "\n",
       "              53        54        55        56        57        58        59  \\\n",
       "44208   0.239840  0.383264 -0.639122 -0.521321  1.352267  1.250092  1.558873   \n",
       "16365  -0.404777  1.286745  0.396842 -1.122855  1.508495  0.121888  0.315083   \n",
       "101324 -0.238935 -0.343346 -0.145408  1.393574  0.014116  0.466304 -0.646398   \n",
       "30435   1.427678  0.469628 -0.325258  1.585741 -0.165238  1.108610  1.800153   \n",
       "125066  1.540692 -1.125937  1.115910 -0.201906 -0.565239  0.571940  0.554017   \n",
       "\n",
       "              60        61        62        63        64        65        66  \\\n",
       "44208  -0.929664  0.436795  0.850540 -0.160297  1.002970 -0.391215 -0.092367   \n",
       "16365  -0.219856  1.961327 -0.277637  0.227770 -0.550152  0.748862 -0.378454   \n",
       "101324  1.370504 -1.364876 -0.965881  0.173093 -0.160296 -1.099712  1.594431   \n",
       "30435   0.400655  0.918383 -0.580371  0.079059  0.484147  0.815305  1.409844   \n",
       "125066 -0.150816 -1.327072  0.979624  0.851839 -0.362268 -0.913012  1.483056   \n",
       "\n",
       "              67        68        69        70        71        72        73  \\\n",
       "44208   1.227552  0.937428  0.098412  0.078503  1.175277  0.917639 -0.321050   \n",
       "16365   0.406217  0.494230 -1.752230 -0.039102 -0.788485  0.890652 -0.484236   \n",
       "101324 -0.967223  0.968922  0.602087  1.928222 -2.486945 -0.167338 -0.430766   \n",
       "30435  -0.343976  0.619437 -0.487306  0.542478 -0.429941  0.253536  0.782587   \n",
       "125066  0.675197  1.026970  1.335004 -1.196045  0.018900 -0.277807 -1.015991   \n",
       "\n",
       "              74        75        76        77        78        79        80  \\\n",
       "44208   0.962657 -0.420428  0.792536  0.955240  0.847806  1.331405 -0.398860   \n",
       "16365   0.009555 -0.046385 -0.357785 -1.819315 -0.762455 -0.060153 -0.748355   \n",
       "101324 -2.203768  1.163165  0.067487 -0.750368  0.698325  2.643028  0.094897   \n",
       "30435  -0.010679 -1.085891 -0.667453  0.246153  0.144532  0.536192 -0.223417   \n",
       "125066  0.634107  0.281236 -0.369071  1.069699 -0.360222 -0.118105  1.411660   \n",
       "\n",
       "              81        82        83        84        85        86        87  \\\n",
       "44208   0.457248 -1.297461 -1.673792 -0.858226 -1.014065 -0.041807 -0.439070   \n",
       "16365   0.905856  0.065803 -0.217972 -0.317368 -0.989315  1.459561  2.123958   \n",
       "101324  0.012248 -0.488946  0.255163 -2.149520 -1.407026 -1.356031  1.503356   \n",
       "30435  -0.442519  1.207395 -0.099154 -0.908887 -0.025421 -0.819387  1.588689   \n",
       "125066 -0.379275 -0.398694 -1.446372 -0.647852  0.989704 -0.090475 -0.067663   \n",
       "\n",
       "              88        89        90        91        92        93        94  \\\n",
       "44208  -0.160724 -0.584101 -0.998875 -1.136102 -1.438717 -1.639215 -0.446174   \n",
       "16365   0.875842 -0.753476 -2.268110  1.772420  0.903355 -0.201853 -0.550362   \n",
       "101324 -0.952713 -0.984572  1.187780 -0.097268 -2.149834 -0.180831 -0.139809   \n",
       "30435   0.178688  0.930466  1.551952  1.379833  1.706382  0.330671  1.007475   \n",
       "125066 -0.267582 -0.201935 -0.091022 -0.773949  0.449768  0.867668  1.745601   \n",
       "\n",
       "              95        96        97        98        99       100       101  \\\n",
       "44208   0.538729  1.444875 -0.720641  0.230464  0.771936 -1.115001  0.549142   \n",
       "16365   0.490444  0.697215 -0.094359 -0.464907  0.372264 -0.215233  0.473508   \n",
       "101324  1.009257  0.802206  1.851101  0.200405 -1.783730  0.963415  0.849671   \n",
       "30435   0.216551 -0.391759 -0.034685  1.540286 -0.677974 -1.102565 -1.072846   \n",
       "125066 -0.080651  0.380470 -0.241313  0.856202  0.348895  0.017251  0.005993   \n",
       "\n",
       "             102       103       104       105       106       107       108  \\\n",
       "44208  -0.260043  0.113597  1.043823 -0.296960  0.547029  0.107469  1.396710   \n",
       "16365  -0.692480 -0.126951 -0.199219  0.376778 -2.538980  0.562634  0.956415   \n",
       "101324  0.591965  2.968945  1.464092  0.022945  0.550168 -0.238854  0.749752   \n",
       "30435  -1.667536  0.290898  1.144506  0.252350 -0.577217  1.566132 -1.072344   \n",
       "125066  0.036643 -0.196737 -1.253686  1.208820 -0.492125  0.651769 -1.555048   \n",
       "\n",
       "             109       110       111       112       113       114       115  \\\n",
       "44208   0.310142 -0.390403  0.268747  0.925746  0.315216  0.044480  0.134911   \n",
       "16365  -1.397052 -0.800463  0.269841 -0.461149 -0.261296  1.572924  0.588501   \n",
       "101324  1.432269  1.383771 -0.791134  0.004133  0.658366 -0.230291 -0.233615   \n",
       "30435   0.475203  0.458309 -3.141783 -0.268750 -0.089324  1.451274  0.179450   \n",
       "125066  0.244747 -1.056503  1.628619 -0.757059 -0.776429 -0.693104  1.301879   \n",
       "\n",
       "             116       117       118       119       120       121       122  \\\n",
       "44208   0.092306  0.383198 -0.007106  0.321449 -0.140343 -0.212127  0.132247   \n",
       "16365  -0.378916  0.045048  1.240677 -1.622308  1.263365  0.893915 -0.123347   \n",
       "101324 -0.139981  0.521984 -0.074840 -0.655681 -0.421290 -0.726900  0.507316   \n",
       "30435  -0.399748  0.803009  2.720978  0.915351 -0.428530  1.572081 -0.435653   \n",
       "125066  0.530626  0.465346 -0.036559 -0.190655  0.804803 -0.222295  1.568636   \n",
       "\n",
       "             123       124       125       126       127       128       129  \\\n",
       "44208  -0.239555 -0.898615  1.330596 -0.024629 -0.001123  0.851209 -0.598079   \n",
       "16365  -0.351411  0.170902 -2.392353  1.654146  1.220198 -1.430403 -1.082256   \n",
       "101324  0.122927 -0.048699  0.353485  2.191738  0.280994  0.709629  0.224425   \n",
       "30435   0.160252  1.268008  1.047271 -0.086747  0.775871 -1.199753  0.134107   \n",
       "125066  1.051229  0.505075 -0.155486  0.046443  0.068823 -0.263596 -0.488407   \n",
       "\n",
       "             130       131       132       133       134       135       136  \\\n",
       "44208  -0.918452  1.244818 -0.639142 -0.488102 -0.140695  1.584107  1.050629   \n",
       "16365  -1.416995 -2.121985 -1.130668  1.007383 -0.336415 -0.159741  0.530320   \n",
       "101324 -1.196688 -0.418082  1.121193  0.929310  0.178278 -0.496455 -0.464165   \n",
       "30435  -0.378488  1.720445 -1.335739  0.224703  0.727829  0.143556 -0.239334   \n",
       "125066 -0.737820  1.364162 -1.146195  0.831852 -3.442716 -0.034193 -0.210411   \n",
       "\n",
       "             137       138       139       140       141       142       143  \\\n",
       "44208   0.407757 -1.333895  0.357115 -0.807828 -0.247712  0.153462 -0.167412   \n",
       "16365  -0.020750  1.370681  0.700501 -0.045101  1.227183 -0.029032 -1.291845   \n",
       "101324 -0.715969  0.083804 -0.163663 -0.595954  0.393340 -0.311919  0.856345   \n",
       "30435   1.121522  0.542859  0.961941  0.287489  1.959922 -0.952204 -0.679668   \n",
       "125066 -1.490019 -0.779911 -0.308630  2.101658  0.778674 -1.428703 -0.712247   \n",
       "\n",
       "             144       145       146       147       148       149       150  \\\n",
       "44208   2.547471  1.080254 -0.716317  0.657381  0.771118  1.716084 -0.033039   \n",
       "16365  -1.099750 -0.680441  1.748543 -0.280800 -0.906108 -1.114797 -0.293999   \n",
       "101324  0.580003 -0.798948 -1.702571 -0.833144  1.034359  0.113969 -0.943302   \n",
       "30435   1.567825  1.621594  1.563182  0.090953  0.195654 -1.520281 -0.359930   \n",
       "125066  1.659510  1.035748  0.815659  0.540708 -1.419733 -0.296199 -0.105358   \n",
       "\n",
       "             151       152       153       154       155       156       157  \\\n",
       "44208  -0.047118 -0.609030 -1.231619  1.213005  0.150806 -0.645272  0.697884   \n",
       "16365  -0.282804  1.972581 -0.118984 -0.107502  0.419659  0.235941 -0.708115   \n",
       "101324 -1.232637 -0.401914  1.214222  0.611978  0.012218 -0.157439  0.165469   \n",
       "30435   0.040201  2.121363  0.774897 -0.024568 -0.507634 -0.592242  1.358225   \n",
       "125066  1.229134  0.080069  0.591803 -0.509850 -1.385357  0.891816 -0.749898   \n",
       "\n",
       "             158       159       160       161       162       163       164  \\\n",
       "44208  -1.651765  0.539463  1.363539 -1.067418 -0.751450 -1.340119 -0.330318   \n",
       "16365   0.944379  0.317125 -0.671941  0.616259  1.437161  0.239249  0.239710   \n",
       "101324  0.749340  1.236933 -0.781957 -1.654170  0.375916 -1.152788 -0.415337   \n",
       "30435   0.087105  0.145382 -1.344602  0.718083  0.319475  1.306113  1.524674   \n",
       "125066 -1.317077  0.002792 -0.632507  0.337478 -0.611900  2.519188 -0.610679   \n",
       "\n",
       "             165       166       167       168       169       170       171  \\\n",
       "44208  -0.273569  0.588018 -0.469029  1.422958  2.066719  0.925512 -1.187204   \n",
       "16365   0.559669 -0.901764  0.144581 -1.097954 -0.066487  0.599805  1.356679   \n",
       "101324  0.701336 -0.374023  1.265534 -0.680054  2.542648 -0.045792 -1.316862   \n",
       "30435  -1.782601 -0.022192 -0.612031 -1.583057 -2.346048  0.729508  0.931229   \n",
       "125066 -0.059128  0.284290 -1.184061  0.408363 -1.340370 -0.425356  0.531581   \n",
       "\n",
       "             172       173       174       175       176       177       178  \\\n",
       "44208  -0.154885 -0.720887 -0.616084 -0.087842  0.816454 -0.545247  0.506026   \n",
       "16365   0.396123 -0.686846 -0.394678 -0.169760 -0.812225  2.246857  1.086763   \n",
       "101324  0.045358 -0.206545  0.445696  0.849107  1.510303  0.650201  0.006018   \n",
       "30435   0.432490 -0.299713 -0.096959 -0.773585  1.648818 -0.363377 -0.451923   \n",
       "125066  0.656857  0.702033 -0.377305 -1.843171 -0.976932 -0.428947  0.312479   \n",
       "\n",
       "             179       180       181       182       183       184       185  \\\n",
       "44208   0.942514 -0.698180 -1.451078 -1.850516 -0.046616 -0.540395 -0.374718   \n",
       "16365   1.077189 -1.445982  1.901408  0.865409 -1.677861  1.497794  0.666082   \n",
       "101324 -2.109483  0.156569 -0.428730  0.205159 -0.141652  0.724909 -1.109020   \n",
       "30435   0.234932 -0.766291 -0.559349 -0.242764 -2.642123  1.568539 -0.935559   \n",
       "125066  0.550851  1.365765 -1.212978 -0.263776  1.647996 -0.997971 -1.676262   \n",
       "\n",
       "             186       187       188       189       190       191       192  \\\n",
       "44208   0.736330  1.232586  1.623165  0.188401  0.550698  1.466799  0.168480   \n",
       "16365   0.238397 -0.931435 -0.423745  0.482272  0.586181 -0.513108 -1.147745   \n",
       "101324  2.212733 -0.290529 -0.189157  0.511648  1.566270  0.907419  0.640371   \n",
       "30435   0.432555  1.314065  0.306033  1.315836  0.114850  1.645813  1.281722   \n",
       "125066 -0.763834  1.672037  1.261900  0.205500  1.636774 -1.053994 -0.850005   \n",
       "\n",
       "             193       194       195       196       197       198       199  \\\n",
       "44208   0.076813 -0.464321  0.714886  0.305455 -0.225403 -0.312075 -1.227738   \n",
       "16365  -0.051339  0.569638 -1.473404 -0.433471  1.430395  0.559820  1.226119   \n",
       "101324 -0.247020  2.484256  0.516816 -0.806847  0.031935  1.144562 -1.077539   \n",
       "30435   0.774847 -1.455272  2.061877  0.925651 -0.620588 -0.442717 -0.076401   \n",
       "125066  1.692306  0.354211  1.090352 -0.819530  2.266315  0.646173  0.218348   \n",
       "\n",
       "             200       201       202       203       204       205       206  \\\n",
       "44208  -0.386652  1.740621 -0.411584 -0.911094 -1.185759 -0.932699 -1.546780   \n",
       "16365  -0.902143 -0.346873  0.647245 -0.635515  1.893897  1.212653 -0.696940   \n",
       "101324 -0.806992  0.285955  1.699261 -0.879219 -0.052899  2.494937 -1.184683   \n",
       "30435   1.636284  0.001360  0.979518  0.578004 -0.148863  0.050046  0.061476   \n",
       "125066 -0.759255 -0.850777 -1.326027  0.052536  0.301043  0.489292  1.331765   \n",
       "\n",
       "             207       208       209       210       211       212       213  \\\n",
       "44208   0.489515  0.715739  0.835501  0.780047 -0.831133 -1.087504 -0.067741   \n",
       "16365   0.816907  0.898685  0.694584 -0.417111  0.998766  0.816450  1.909645   \n",
       "101324 -0.206976 -0.478159  1.179875 -1.244443 -1.743874 -1.056181 -0.271553   \n",
       "30435   0.404825 -0.845187 -0.666800 -0.097852 -0.447142  0.246986 -0.426461   \n",
       "125066 -0.471300 -0.056741 -0.275652  1.082351  0.364303  1.425254  0.861861   \n",
       "\n",
       "             214       215       216       217       218       219       220  \\\n",
       "44208   1.921461  0.333087 -0.517615  0.008957 -0.273704 -1.819881  0.176162   \n",
       "16365  -0.072683 -0.193836 -0.003363 -1.432835  0.691090 -0.781820  1.682892   \n",
       "101324  0.128694  0.504247  0.350777 -0.331372 -1.964920  0.935363  0.063050   \n",
       "30435  -0.402951  0.406769 -1.126900 -0.631121 -0.652817  0.153128  0.028224   \n",
       "125066  0.778375 -0.675612 -0.318906 -0.328868  0.490945  1.185763  0.345322   \n",
       "\n",
       "        created_at_day_of_the_year  year  month  \n",
       "44208                           21  2019      1  \n",
       "16365                           26  2019      1  \n",
       "101324                          29  2019      1  \n",
       "30435                           32  2019      2  \n",
       "125066                          33  2019      2  "
      ]
     },
     "execution_count": 132,
     "metadata": {},
     "output_type": "execute_result"
    }
   ],
   "source": [
    "X_train.head()"
   ]
  },
  {
   "cell_type": "code",
   "execution_count": 133,
   "metadata": {},
   "outputs": [],
   "source": [
    "# drop 'sku', 'year', 'month' from X_train and X_val\n",
    "X_train.drop(columns=['sku', 'year', 'month'], inplace=True)\n",
    "X_val.drop(columns=['sku', 'year', 'month'], inplace=True)\n",
    "\n",
    "X_test.drop(columns=['year', 'month'], inplace=True)"
   ]
  },
  {
   "cell_type": "code",
   "execution_count": 119,
   "metadata": {},
   "outputs": [],
   "source": [
    "# drop column \"36\" from X_train and X_val\n",
    "#X_train.drop(columns=[36], inplace=True)\n",
    "#X_val.drop(columns=[36], inplace=True)\n",
    "#X_test.drop(columns=[36], inplace=True)\n"
   ]
  },
  {
   "cell_type": "code",
   "execution_count": 126,
   "metadata": {},
   "outputs": [
    {
     "name": "stdout",
     "output_type": "stream",
     "text": [
      "sale_price                     float64\n",
      "date                            object\n",
      "status                           int64\n",
      "gender                           int64\n",
      "f_corr_-5.0_1.0                float64\n",
      "normalized_std_price_5_days    float64\n",
      "normalized_std_sales_5_days    float64\n",
      "0                              float32\n",
      "1                              float32\n",
      "2                              float32\n",
      "3                              float32\n",
      "4                              float32\n",
      "5                              float32\n",
      "6                              float32\n",
      "7                              float32\n",
      "8                              float32\n",
      "9                              float32\n",
      "10                             float32\n",
      "11                             float32\n",
      "12                             float32\n",
      "13                             float32\n",
      "14                             float32\n",
      "15                             float32\n",
      "16                             float32\n",
      "17                             float32\n",
      "18                             float32\n",
      "19                             float32\n",
      "20                             float32\n",
      "21                             float32\n",
      "22                             float32\n",
      "23                             float32\n",
      "24                             float32\n",
      "25                             float32\n",
      "26                             float32\n",
      "27                             float32\n",
      "28                             float32\n",
      "29                             float32\n",
      "30                             float32\n",
      "31                             float32\n",
      "32                             float32\n",
      "33                             float32\n",
      "34                             float32\n",
      "35                             float32\n",
      "37                             float32\n",
      "38                             float32\n",
      "39                             float32\n",
      "40                             float32\n",
      "41                             float32\n",
      "42                             float32\n",
      "43                             float32\n",
      "44                             float32\n",
      "45                             float32\n",
      "46                             float32\n",
      "47                             float32\n",
      "48                             float32\n",
      "49                             float32\n",
      "50                             float32\n",
      "51                             float32\n",
      "52                             float32\n",
      "53                             float32\n",
      "54                             float32\n",
      "55                             float32\n",
      "56                             float32\n",
      "57                             float32\n",
      "58                             float32\n",
      "59                             float32\n",
      "60                             float32\n",
      "61                             float32\n",
      "62                             float32\n",
      "63                             float32\n",
      "64                             float32\n",
      "65                             float32\n",
      "66                             float32\n",
      "67                             float32\n",
      "68                             float32\n",
      "69                             float32\n",
      "70                             float32\n",
      "71                             float32\n",
      "72                             float32\n",
      "73                             float32\n",
      "74                             float32\n",
      "75                             float32\n",
      "76                             float32\n",
      "77                             float32\n",
      "78                             float32\n",
      "79                             float32\n",
      "80                             float32\n",
      "81                             float32\n",
      "82                             float32\n",
      "83                             float32\n",
      "84                             float32\n",
      "85                             float32\n",
      "86                             float32\n",
      "87                             float32\n",
      "88                             float32\n",
      "89                             float32\n",
      "90                             float32\n",
      "91                             float32\n",
      "92                             float32\n",
      "93                             float32\n",
      "94                             float32\n",
      "95                             float32\n",
      "96                             float32\n",
      "97                             float32\n",
      "98                             float32\n",
      "99                             float32\n",
      "100                            float32\n",
      "101                            float32\n",
      "102                            float32\n",
      "103                            float32\n",
      "104                            float32\n",
      "105                            float32\n",
      "106                            float32\n",
      "107                            float32\n",
      "108                            float32\n",
      "109                            float32\n",
      "110                            float32\n",
      "111                            float32\n",
      "112                            float32\n",
      "113                            float32\n",
      "114                            float32\n",
      "115                            float32\n",
      "116                            float32\n",
      "117                            float32\n",
      "118                            float32\n",
      "119                            float32\n",
      "120                            float32\n",
      "121                            float32\n",
      "122                            float32\n",
      "123                            float32\n",
      "124                            float32\n",
      "125                            float32\n",
      "126                            float32\n",
      "127                            float32\n",
      "128                            float32\n",
      "129                            float32\n",
      "130                            float32\n",
      "131                            float32\n",
      "132                            float32\n",
      "133                            float32\n",
      "134                            float32\n",
      "135                            float32\n",
      "136                            float32\n",
      "137                            float32\n",
      "138                            float32\n",
      "139                            float32\n",
      "140                            float32\n",
      "141                            float32\n",
      "142                            float32\n",
      "143                            float32\n",
      "144                            float32\n",
      "145                            float32\n",
      "146                            float32\n",
      "147                            float32\n",
      "148                            float32\n",
      "149                            float32\n",
      "150                            float32\n",
      "151                            float32\n",
      "152                            float32\n",
      "153                            float32\n",
      "154                            float32\n",
      "155                            float32\n",
      "156                            float32\n",
      "157                            float32\n",
      "158                            float32\n",
      "159                            float32\n",
      "160                            float32\n",
      "161                            float32\n",
      "162                            float32\n",
      "163                            float32\n",
      "164                            float32\n",
      "165                            float32\n",
      "166                            float32\n",
      "167                            float32\n",
      "168                            float32\n",
      "169                            float32\n",
      "170                            float32\n",
      "171                            float32\n",
      "172                            float32\n",
      "173                            float32\n",
      "174                            float32\n",
      "175                            float32\n",
      "176                            float32\n",
      "177                            float32\n",
      "178                            float32\n",
      "179                            float32\n",
      "180                            float32\n",
      "181                            float32\n",
      "182                            float32\n",
      "183                            float32\n",
      "184                            float32\n",
      "185                            float32\n",
      "186                            float32\n",
      "187                            float32\n",
      "188                            float32\n",
      "189                            float32\n",
      "190                            float32\n",
      "191                            float32\n",
      "192                            float32\n",
      "193                            float32\n",
      "194                            float32\n",
      "195                            float32\n",
      "196                            float32\n",
      "197                            float32\n",
      "198                            float32\n",
      "199                            float32\n",
      "200                            float32\n",
      "201                            float32\n",
      "202                            float32\n",
      "203                            float32\n",
      "204                            float32\n",
      "205                            float32\n",
      "206                            float32\n",
      "207                            float32\n",
      "208                            float32\n",
      "209                            float32\n",
      "210                            float32\n",
      "211                            float32\n",
      "212                            float32\n",
      "213                            float32\n",
      "214                            float32\n",
      "215                            float32\n",
      "216                            float32\n",
      "217                            float32\n",
      "218                            float32\n",
      "219                            float32\n",
      "220                            float32\n",
      "created_at_day_of_the_year       int64\n",
      "dtype: object\n"
     ]
    }
   ],
   "source": [
    "# show all dtypes from all columns\n",
    "\n",
    "pd.set_option('display.max_rows', None)\n",
    "print(X_train.dtypes)\n"
   ]
  },
  {
   "cell_type": "code",
   "execution_count": null,
   "metadata": {},
   "outputs": [],
   "source": []
  },
  {
   "cell_type": "code",
   "execution_count": 134,
   "metadata": {},
   "outputs": [
    {
     "name": "stderr",
     "output_type": "stream",
     "text": [
      "[I 2023-09-13 19:45:04,278] A new study created in memory with name: no-name-c6a38b35-d30e-41e4-a585-bb26db503f9b\n"
     ]
    },
    {
     "name": "stdout",
     "output_type": "stream",
     "text": [
      "[LightGBM] [Warning] min_data_in_leaf is set=16, min_child_samples=20 will be ignored. Current value: min_data_in_leaf=16\n"
     ]
    },
    {
     "name": "stderr",
     "output_type": "stream",
     "text": [
      "[I 2023-09-13 19:45:04,621] Trial 0 finished with value: 1.1228310151958358 and parameters: {'max_depth': 2, 'min_data_in_leaf': 16, 'subsample': 0.784477558438928, 'n_estimators': 54, 'learning_rate': 0.04014058691646706, 'colsample_bytree': 0.602353685083011}. Best is trial 0 with value: 1.1228310151958358.\n"
     ]
    },
    {
     "name": "stdout",
     "output_type": "stream",
     "text": [
      "[LightGBM] [Warning] min_data_in_leaf is set=12, min_child_samples=20 will be ignored. Current value: min_data_in_leaf=12\n"
     ]
    },
    {
     "name": "stderr",
     "output_type": "stream",
     "text": [
      "[I 2023-09-13 19:45:05,721] Trial 1 finished with value: 2.0590349666437224 and parameters: {'max_depth': 10, 'min_data_in_leaf': 12, 'subsample': 0.9525202999653877, 'n_estimators': 70, 'learning_rate': 0.12777834133040228, 'colsample_bytree': 0.969409046514714}. Best is trial 0 with value: 1.1228310151958358.\n"
     ]
    },
    {
     "name": "stdout",
     "output_type": "stream",
     "text": [
      "[LightGBM] [Warning] min_data_in_leaf is set=14, min_child_samples=20 will be ignored. Current value: min_data_in_leaf=14\n"
     ]
    },
    {
     "name": "stderr",
     "output_type": "stream",
     "text": [
      "[I 2023-09-13 19:45:06,508] Trial 2 finished with value: 2.086162592513635 and parameters: {'max_depth': 8, 'min_data_in_leaf': 14, 'subsample': 0.7466086675632426, 'n_estimators': 64, 'learning_rate': 0.16177333953735426, 'colsample_bytree': 0.9914715636951007}. Best is trial 0 with value: 1.1228310151958358.\n"
     ]
    },
    {
     "name": "stdout",
     "output_type": "stream",
     "text": [
      "[LightGBM] [Warning] min_data_in_leaf is set=16, min_child_samples=20 will be ignored. Current value: min_data_in_leaf=16\n"
     ]
    },
    {
     "name": "stderr",
     "output_type": "stream",
     "text": [
      "[I 2023-09-13 19:45:07,391] Trial 3 finished with value: 2.092488551681676 and parameters: {'max_depth': 10, 'min_data_in_leaf': 16, 'subsample': 0.71812979118186, 'n_estimators': 98, 'learning_rate': 0.1099540989865389, 'colsample_bytree': 0.6520209261525521}. Best is trial 0 with value: 1.1228310151958358.\n"
     ]
    },
    {
     "name": "stdout",
     "output_type": "stream",
     "text": [
      "[LightGBM] [Warning] min_data_in_leaf is set=10, min_child_samples=20 will be ignored. Current value: min_data_in_leaf=10\n"
     ]
    },
    {
     "name": "stderr",
     "output_type": "stream",
     "text": [
      "[I 2023-09-13 19:45:07,639] Trial 4 finished with value: 1.6790706348370557 and parameters: {'max_depth': 3, 'min_data_in_leaf': 10, 'subsample': 0.9093081414937982, 'n_estimators': 82, 'learning_rate': 0.1716724283998891, 'colsample_bytree': 0.8505452316950718}. Best is trial 0 with value: 1.1228310151958358.\n"
     ]
    },
    {
     "name": "stdout",
     "output_type": "stream",
     "text": [
      "[LightGBM] [Warning] min_data_in_leaf is set=16, min_child_samples=20 will be ignored. Current value: min_data_in_leaf=16\n"
     ]
    },
    {
     "name": "stderr",
     "output_type": "stream",
     "text": [
      "[I 2023-09-13 19:45:08,465] Trial 5 finished with value: 1.9707931137802093 and parameters: {'max_depth': 8, 'min_data_in_leaf': 16, 'subsample': 0.8795536441216674, 'n_estimators': 59, 'learning_rate': 0.13101016233201537, 'colsample_bytree': 0.9089652942761981}. Best is trial 0 with value: 1.1228310151958358.\n"
     ]
    },
    {
     "name": "stdout",
     "output_type": "stream",
     "text": [
      "[LightGBM] [Warning] min_data_in_leaf is set=7, min_child_samples=20 will be ignored. Current value: min_data_in_leaf=7\n"
     ]
    },
    {
     "name": "stderr",
     "output_type": "stream",
     "text": [
      "[I 2023-09-13 19:45:09,417] Trial 6 finished with value: 1.8664549592698534 and parameters: {'max_depth': 5, 'min_data_in_leaf': 7, 'subsample': 0.6129648684891668, 'n_estimators': 82, 'learning_rate': 0.09821960038054307, 'colsample_bytree': 0.9305860118502494}. Best is trial 0 with value: 1.1228310151958358.\n"
     ]
    },
    {
     "name": "stdout",
     "output_type": "stream",
     "text": [
      "[LightGBM] [Warning] min_data_in_leaf is set=20, min_child_samples=20 will be ignored. Current value: min_data_in_leaf=20\n"
     ]
    },
    {
     "name": "stderr",
     "output_type": "stream",
     "text": [
      "[I 2023-09-13 19:45:09,998] Trial 7 finished with value: 2.094539329414144 and parameters: {'max_depth': 9, 'min_data_in_leaf': 20, 'subsample': 0.6151156708966166, 'n_estimators': 73, 'learning_rate': 0.16680715123925755, 'colsample_bytree': 0.6279824136631964}. Best is trial 0 with value: 1.1228310151958358.\n"
     ]
    },
    {
     "name": "stdout",
     "output_type": "stream",
     "text": [
      "[LightGBM] [Warning] min_data_in_leaf is set=10, min_child_samples=20 will be ignored. Current value: min_data_in_leaf=10\n"
     ]
    },
    {
     "name": "stderr",
     "output_type": "stream",
     "text": [
      "[I 2023-09-13 19:45:11,098] Trial 8 finished with value: 2.0247933224836 and parameters: {'max_depth': 9, 'min_data_in_leaf': 10, 'subsample': 0.628731867040346, 'n_estimators': 91, 'learning_rate': 0.07868929169159125, 'colsample_bytree': 0.7271126620211835}. Best is trial 0 with value: 1.1228310151958358.\n"
     ]
    },
    {
     "name": "stdout",
     "output_type": "stream",
     "text": [
      "[LightGBM] [Warning] min_data_in_leaf is set=15, min_child_samples=20 will be ignored. Current value: min_data_in_leaf=15\n"
     ]
    },
    {
     "name": "stderr",
     "output_type": "stream",
     "text": [
      "[I 2023-09-13 19:45:11,750] Trial 9 finished with value: 1.7858209351512462 and parameters: {'max_depth': 9, 'min_data_in_leaf': 15, 'subsample': 0.7247533773029522, 'n_estimators': 51, 'learning_rate': 0.0839198313499117, 'colsample_bytree': 0.9508728324807512}. Best is trial 0 with value: 1.1228310151958358.\n",
      "[I 2023-09-13 19:45:11,922] Trial 10 finished with value: 1.1081941568130373 and parameters: {'max_depth': 2, 'min_data_in_leaf': 20, 'subsample': 0.8380186464832848, 'n_estimators': 50, 'learning_rate': 0.01569907285202666, 'colsample_bytree': 0.7537200454555818}. Best is trial 10 with value: 1.1081941568130373.\n"
     ]
    },
    {
     "name": "stdout",
     "output_type": "stream",
     "text": [
      "[LightGBM] [Warning] min_data_in_leaf is set=20, min_child_samples=20 will be ignored. Current value: min_data_in_leaf=20\n",
      "[LightGBM] [Warning] min_data_in_leaf is set=20, min_child_samples=20 will be ignored. Current value: min_data_in_leaf=20\n"
     ]
    },
    {
     "name": "stderr",
     "output_type": "stream",
     "text": [
      "[I 2023-09-13 19:45:12,093] Trial 11 finished with value: 1.1085308286417945 and parameters: {'max_depth': 2, 'min_data_in_leaf': 20, 'subsample': 0.8301602715692501, 'n_estimators': 50, 'learning_rate': 0.016218743317496384, 'colsample_bytree': 0.7449012073347615}. Best is trial 10 with value: 1.1081941568130373.\n"
     ]
    },
    {
     "name": "stdout",
     "output_type": "stream",
     "text": [
      "[LightGBM] [Warning] min_data_in_leaf is set=20, min_child_samples=20 will be ignored. Current value: min_data_in_leaf=20\n"
     ]
    },
    {
     "name": "stderr",
     "output_type": "stream",
     "text": [
      "[I 2023-09-13 19:45:12,352] Trial 12 finished with value: 1.1185915969862836 and parameters: {'max_depth': 4, 'min_data_in_leaf': 20, 'subsample': 0.8470454478021574, 'n_estimators': 50, 'learning_rate': 0.01302340173356382, 'colsample_bytree': 0.7706372327330681}. Best is trial 10 with value: 1.1081941568130373.\n",
      "[I 2023-09-13 19:45:12,517] Trial 13 finished with value: 1.107888370713473 and parameters: {'max_depth': 2, 'min_data_in_leaf': 18, 'subsample': 0.8325752118486046, 'n_estimators': 62, 'learning_rate': 0.012006775091858126, 'colsample_bytree': 0.7515416994474313}. Best is trial 13 with value: 1.107888370713473.\n"
     ]
    },
    {
     "name": "stdout",
     "output_type": "stream",
     "text": [
      "[LightGBM] [Warning] min_data_in_leaf is set=18, min_child_samples=20 will be ignored. Current value: min_data_in_leaf=18\n",
      "[LightGBM] [Warning] min_data_in_leaf is set=19, min_child_samples=20 will be ignored. Current value: min_data_in_leaf=19\n"
     ]
    },
    {
     "name": "stderr",
     "output_type": "stream",
     "text": [
      "[I 2023-09-13 19:45:12,987] Trial 14 finished with value: 1.3917348844694557 and parameters: {'max_depth': 6, 'min_data_in_leaf': 19, 'subsample': 0.9573241143911606, 'n_estimators': 63, 'learning_rate': 0.04782018772225821, 'colsample_bytree': 0.8152485792701092}. Best is trial 13 with value: 1.107888370713473.\n"
     ]
    },
    {
     "name": "stdout",
     "output_type": "stream",
     "text": [
      "[LightGBM] [Warning] min_data_in_leaf is set=18, min_child_samples=20 will be ignored. Current value: min_data_in_leaf=18\n"
     ]
    },
    {
     "name": "stderr",
     "output_type": "stream",
     "text": [
      "[I 2023-09-13 19:45:13,401] Trial 15 finished with value: 1.2276363761150182 and parameters: {'max_depth': 4, 'min_data_in_leaf': 18, 'subsample': 0.89196991728301, 'n_estimators': 59, 'learning_rate': 0.045799793724247875, 'colsample_bytree': 0.6870842070592342}. Best is trial 13 with value: 1.107888370713473.\n"
     ]
    },
    {
     "name": "stdout",
     "output_type": "stream",
     "text": [
      "[LightGBM] [Warning] min_data_in_leaf is set=18, min_child_samples=20 will be ignored. Current value: min_data_in_leaf=18\n"
     ]
    },
    {
     "name": "stderr",
     "output_type": "stream",
     "text": [
      "[I 2023-09-13 19:45:13,728] Trial 16 finished with value: 1.1166149363089537 and parameters: {'max_depth': 3, 'min_data_in_leaf': 18, 'subsample': 0.8112526315836798, 'n_estimators': 69, 'learning_rate': 0.013566941120458899, 'colsample_bytree': 0.6934468232639255}. Best is trial 13 with value: 1.107888370713473.\n",
      "[I 2023-09-13 19:45:14,021] Trial 17 finished with value: 1.14778734786897 and parameters: {'max_depth': 2, 'min_data_in_leaf': 18, 'subsample': 0.996876572717378, 'n_estimators': 57, 'learning_rate': 0.06402331671420601, 'colsample_bytree': 0.7986602869143578}. Best is trial 13 with value: 1.107888370713473.\n"
     ]
    },
    {
     "name": "stdout",
     "output_type": "stream",
     "text": [
      "[LightGBM] [Warning] min_data_in_leaf is set=18, min_child_samples=20 will be ignored. Current value: min_data_in_leaf=18\n",
      "[LightGBM] [Warning] min_data_in_leaf is set=5, min_child_samples=20 will be ignored. Current value: min_data_in_leaf=5\n"
     ]
    },
    {
     "name": "stderr",
     "output_type": "stream",
     "text": [
      "[I 2023-09-13 19:45:14,627] Trial 18 finished with value: 1.3144395517136451 and parameters: {'max_depth': 5, 'min_data_in_leaf': 5, 'subsample': 0.7842482531919316, 'n_estimators': 65, 'learning_rate': 0.030020484691480234, 'colsample_bytree': 0.8458936317695537}. Best is trial 13 with value: 1.107888370713473.\n"
     ]
    },
    {
     "name": "stdout",
     "output_type": "stream",
     "text": [
      "[LightGBM] [Warning] min_data_in_leaf is set=13, min_child_samples=20 will be ignored. Current value: min_data_in_leaf=13\n"
     ]
    },
    {
     "name": "stderr",
     "output_type": "stream",
     "text": [
      "[I 2023-09-13 19:45:14,877] Trial 19 finished with value: 1.2556282452935073 and parameters: {'max_depth': 3, 'min_data_in_leaf': 13, 'subsample': 0.8526919348616645, 'n_estimators': 78, 'learning_rate': 0.058783132395954986, 'colsample_bytree': 0.7515487712974326}. Best is trial 13 with value: 1.107888370713473.\n"
     ]
    },
    {
     "name": "stdout",
     "output_type": "stream",
     "text": [
      "[LightGBM] [Warning] min_data_in_leaf is set=17, min_child_samples=20 will be ignored. Current value: min_data_in_leaf=17\n"
     ]
    },
    {
     "name": "stderr",
     "output_type": "stream",
     "text": [
      "[I 2023-09-13 19:45:15,291] Trial 20 finished with value: 1.2206371028211733 and parameters: {'max_depth': 6, 'min_data_in_leaf': 17, 'subsample': 0.8598476834985862, 'n_estimators': 56, 'learning_rate': 0.028736097685667053, 'colsample_bytree': 0.6862811620839595}. Best is trial 13 with value: 1.107888370713473.\n",
      "[I 2023-09-13 19:45:15,436] Trial 21 finished with value: 1.1074726539740025 and parameters: {'max_depth': 2, 'min_data_in_leaf': 20, 'subsample': 0.8238809355339173, 'n_estimators': 50, 'learning_rate': 0.013255822427767818, 'colsample_bytree': 0.7339689848226759}. Best is trial 21 with value: 1.1074726539740025.\n"
     ]
    },
    {
     "name": "stdout",
     "output_type": "stream",
     "text": [
      "[LightGBM] [Warning] min_data_in_leaf is set=20, min_child_samples=20 will be ignored. Current value: min_data_in_leaf=20\n",
      "[LightGBM] [Warning] min_data_in_leaf is set=19, min_child_samples=20 will be ignored. Current value: min_data_in_leaf=19\n"
     ]
    },
    {
     "name": "stderr",
     "output_type": "stream",
     "text": [
      "[I 2023-09-13 19:45:15,619] Trial 22 finished with value: 1.1204259292453793 and parameters: {'max_depth': 2, 'min_data_in_leaf': 19, 'subsample': 0.8098386164428468, 'n_estimators': 61, 'learning_rate': 0.029417360194315276, 'colsample_bytree': 0.7156314951167275}. Best is trial 21 with value: 1.1074726539740025.\n"
     ]
    },
    {
     "name": "stdout",
     "output_type": "stream",
     "text": [
      "[LightGBM] [Warning] min_data_in_leaf is set=20, min_child_samples=20 will be ignored. Current value: min_data_in_leaf=20\n"
     ]
    },
    {
     "name": "stderr",
     "output_type": "stream",
     "text": [
      "[I 2023-09-13 19:45:15,894] Trial 23 finished with value: 1.115317922283867 and parameters: {'max_depth': 4, 'min_data_in_leaf': 20, 'subsample': 0.8358403478813888, 'n_estimators': 54, 'learning_rate': 0.010910481055679246, 'colsample_bytree': 0.7547651661673042}. Best is trial 21 with value: 1.1074726539740025.\n",
      "[I 2023-09-13 19:45:16,135] Trial 24 finished with value: 1.1502515156811413 and parameters: {'max_depth': 3, 'min_data_in_leaf': 18, 'subsample': 0.8888103986272748, 'n_estimators': 67, 'learning_rate': 0.032784382231852024, 'colsample_bytree': 0.78587293412881}. Best is trial 21 with value: 1.1074726539740025.\n"
     ]
    },
    {
     "name": "stdout",
     "output_type": "stream",
     "text": [
      "[LightGBM] [Warning] min_data_in_leaf is set=18, min_child_samples=20 will be ignored. Current value: min_data_in_leaf=18\n"
     ]
    },
    {
     "name": "stderr",
     "output_type": "stream",
     "text": [
      "[I 2023-09-13 19:45:16,285] Trial 25 finished with value: 1.1319947597847657 and parameters: {'max_depth': 2, 'min_data_in_leaf': 17, 'subsample': 0.7776368846606044, 'n_estimators': 53, 'learning_rate': 0.05369564212285241, 'colsample_bytree': 0.7741254225045501}. Best is trial 21 with value: 1.1074726539740025.\n"
     ]
    },
    {
     "name": "stdout",
     "output_type": "stream",
     "text": [
      "[LightGBM] [Warning] min_data_in_leaf is set=17, min_child_samples=20 will be ignored. Current value: min_data_in_leaf=17\n"
     ]
    },
    {
     "name": "stderr",
     "output_type": "stream",
     "text": [
      "[I 2023-09-13 19:45:16,624] Trial 26 finished with value: 1.1346174998089946 and parameters: {'max_depth': 3, 'min_data_in_leaf': 19, 'subsample': 0.818358553971906, 'n_estimators': 58, 'learning_rate': 0.027764463198386366, 'colsample_bytree': 0.7297079725476666}. Best is trial 21 with value: 1.1074726539740025.\n"
     ]
    },
    {
     "name": "stdout",
     "output_type": "stream",
     "text": [
      "[LightGBM] [Warning] min_data_in_leaf is set=19, min_child_samples=20 will be ignored. Current value: min_data_in_leaf=19\n",
      "[LightGBM] [Warning] min_data_in_leaf is set=11, min_child_samples=20 will be ignored. Current value: min_data_in_leaf=11\n"
     ]
    },
    {
     "name": "stderr",
     "output_type": "stream",
     "text": [
      "[I 2023-09-13 19:45:16,997] Trial 27 finished with value: 1.4616135650225683 and parameters: {'max_depth': 5, 'min_data_in_leaf': 11, 'subsample': 0.8605693199793887, 'n_estimators': 61, 'learning_rate': 0.06441556470483784, 'colsample_bytree': 0.7085771513269787}. Best is trial 21 with value: 1.1074726539740025.\n"
     ]
    },
    {
     "name": "stdout",
     "output_type": "stream",
     "text": [
      "[LightGBM] [Warning] min_data_in_leaf is set=14, min_child_samples=20 will be ignored. Current value: min_data_in_leaf=14\n"
     ]
    },
    {
     "name": "stderr",
     "output_type": "stream",
     "text": [
      "[I 2023-09-13 19:45:17,244] Trial 28 finished with value: 1.2007510914648776 and parameters: {'max_depth': 4, 'min_data_in_leaf': 14, 'subsample': 0.9242748070467233, 'n_estimators': 54, 'learning_rate': 0.041196468010413885, 'colsample_bytree': 0.6696708602901325}. Best is trial 21 with value: 1.1074726539740025.\n",
      "[I 2023-09-13 19:45:17,434] Trial 29 finished with value: 1.1443158107231515 and parameters: {'max_depth': 2, 'min_data_in_leaf': 15, 'subsample': 0.7891164873960939, 'n_estimators': 76, 'learning_rate': 0.04568956500934801, 'colsample_bytree': 0.648371272997317}. Best is trial 21 with value: 1.1074726539740025.\n"
     ]
    },
    {
     "name": "stdout",
     "output_type": "stream",
     "text": [
      "[LightGBM] [Warning] min_data_in_leaf is set=15, min_child_samples=20 will be ignored. Current value: min_data_in_leaf=15\n",
      "[LightGBM] [Warning] min_data_in_leaf is set=17, min_child_samples=20 will be ignored. Current value: min_data_in_leaf=17\n"
     ]
    },
    {
     "name": "stderr",
     "output_type": "stream",
     "text": [
      "[I 2023-09-13 19:45:17,857] Trial 30 finished with value: 1.1907598162637567 and parameters: {'max_depth': 7, 'min_data_in_leaf': 17, 'subsample': 0.7629178552997209, 'n_estimators': 54, 'learning_rate': 0.021194917590351157, 'colsample_bytree': 0.6184269193886489}. Best is trial 21 with value: 1.1074726539740025.\n",
      "[I 2023-09-13 19:45:17,996] Trial 31 finished with value: 1.1061355867458609 and parameters: {'max_depth': 2, 'min_data_in_leaf': 20, 'subsample': 0.8351302807082532, 'n_estimators': 51, 'learning_rate': 0.010283539339441988, 'colsample_bytree': 0.7441088081337763}. Best is trial 31 with value: 1.1061355867458609.\n"
     ]
    },
    {
     "name": "stdout",
     "output_type": "stream",
     "text": [
      "[LightGBM] [Warning] min_data_in_leaf is set=20, min_child_samples=20 will be ignored. Current value: min_data_in_leaf=20\n",
      "[LightGBM] [Warning] min_data_in_leaf is set=19, min_child_samples=20 will be ignored. Current value: min_data_in_leaf=19\n"
     ]
    },
    {
     "name": "stderr",
     "output_type": "stream",
     "text": [
      "[I 2023-09-13 19:45:18,149] Trial 32 finished with value: 1.1113023817746814 and parameters: {'max_depth': 2, 'min_data_in_leaf': 19, 'subsample': 0.8270795940576208, 'n_estimators': 52, 'learning_rate': 0.021240591841278772, 'colsample_bytree': 0.7334253219854479}. Best is trial 31 with value: 1.1061355867458609.\n",
      "[I 2023-09-13 19:45:18,365] Trial 33 finished with value: 1.1437946059924504 and parameters: {'max_depth': 3, 'min_data_in_leaf': 20, 'subsample': 0.8022972606312464, 'n_estimators': 56, 'learning_rate': 0.03399307135089902, 'colsample_bytree': 0.764115058045169}. Best is trial 31 with value: 1.1061355867458609.\n"
     ]
    },
    {
     "name": "stdout",
     "output_type": "stream",
     "text": [
      "[LightGBM] [Warning] min_data_in_leaf is set=20, min_child_samples=20 will be ignored. Current value: min_data_in_leaf=20\n",
      "[LightGBM] [Warning] min_data_in_leaf is set=19, min_child_samples=20 will be ignored. Current value: min_data_in_leaf=19\n"
     ]
    },
    {
     "name": "stderr",
     "output_type": "stream",
     "text": [
      "[I 2023-09-13 19:45:18,509] Trial 34 finished with value: 1.1070318690627337 and parameters: {'max_depth': 2, 'min_data_in_leaf': 19, 'subsample': 0.8539479304649595, 'n_estimators': 50, 'learning_rate': 0.012599749635391556, 'colsample_bytree': 0.7099749145452491}. Best is trial 31 with value: 1.1061355867458609.\n",
      "[I 2023-09-13 19:45:18,707] Trial 35 finished with value: 1.1605434848677392 and parameters: {'max_depth': 3, 'min_data_in_leaf': 17, 'subsample': 0.8013690424683485, 'n_estimators': 62, 'learning_rate': 0.04015359126407937, 'colsample_bytree': 0.7127339052212154}. Best is trial 31 with value: 1.1061355867458609.\n"
     ]
    },
    {
     "name": "stdout",
     "output_type": "stream",
     "text": [
      "[LightGBM] [Warning] min_data_in_leaf is set=17, min_child_samples=20 will be ignored. Current value: min_data_in_leaf=17\n",
      "[LightGBM] [Warning] min_data_in_leaf is set=16, min_child_samples=20 will be ignored. Current value: min_data_in_leaf=16\n"
     ]
    },
    {
     "name": "stderr",
     "output_type": "stream",
     "text": [
      "[I 2023-09-13 19:45:18,880] Trial 36 finished with value: 1.1091616822079007 and parameters: {'max_depth': 2, 'min_data_in_leaf': 16, 'subsample': 0.8696770146588603, 'n_estimators': 66, 'learning_rate': 0.010543243788427928, 'colsample_bytree': 0.705802168103877}. Best is trial 31 with value: 1.1061355867458609.\n",
      "[I 2023-09-13 19:45:19,096] Trial 37 finished with value: 1.1415500975431592 and parameters: {'max_depth': 3, 'min_data_in_leaf': 19, 'subsample': 0.8758268901276577, 'n_estimators': 71, 'learning_rate': 0.025441774225144976, 'colsample_bytree': 0.6686402082083721}. Best is trial 31 with value: 1.1061355867458609.\n"
     ]
    },
    {
     "name": "stdout",
     "output_type": "stream",
     "text": [
      "[LightGBM] [Warning] min_data_in_leaf is set=19, min_child_samples=20 will be ignored. Current value: min_data_in_leaf=19\n",
      "[LightGBM] [Warning] min_data_in_leaf is set=18, min_child_samples=20 will be ignored. Current value: min_data_in_leaf=18\n"
     ]
    },
    {
     "name": "stderr",
     "output_type": "stream",
     "text": [
      "[I 2023-09-13 19:45:19,454] Trial 38 finished with value: 1.2608770439058268 and parameters: {'max_depth': 4, 'min_data_in_leaf': 18, 'subsample': 0.9055463165355926, 'n_estimators': 89, 'learning_rate': 0.0369500727986643, 'colsample_bytree': 0.7354791837508879}. Best is trial 31 with value: 1.1061355867458609.\n",
      "[I 2023-09-13 19:45:19,608] Trial 39 finished with value: 1.1141499949597555 and parameters: {'max_depth': 2, 'min_data_in_leaf': 16, 'subsample': 0.7643317915391312, 'n_estimators': 55, 'learning_rate': 0.022603504872440908, 'colsample_bytree': 0.8137155461208976}. Best is trial 31 with value: 1.1061355867458609.\n"
     ]
    },
    {
     "name": "stdout",
     "output_type": "stream",
     "text": [
      "[LightGBM] [Warning] min_data_in_leaf is set=16, min_child_samples=20 will be ignored. Current value: min_data_in_leaf=16\n",
      "[LightGBM] [Warning] min_data_in_leaf is set=8, min_child_samples=20 will be ignored. Current value: min_data_in_leaf=8\n"
     ]
    },
    {
     "name": "stderr",
     "output_type": "stream",
     "text": [
      "[I 2023-09-13 19:45:19,915] Trial 40 finished with value: 1.1104298860942332 and parameters: {'max_depth': 3, 'min_data_in_leaf': 8, 'subsample': 0.8392845726487248, 'n_estimators': 52, 'learning_rate': 0.010506955396040081, 'colsample_bytree': 0.7245155633022382}. Best is trial 31 with value: 1.1061355867458609.\n",
      "[I 2023-09-13 19:45:20,049] Trial 41 finished with value: 1.1111631944689095 and parameters: {'max_depth': 2, 'min_data_in_leaf': 20, 'subsample': 0.8336360957376013, 'n_estimators': 50, 'learning_rate': 0.02123890877715491, 'colsample_bytree': 0.7555369371733475}. Best is trial 31 with value: 1.1061355867458609.\n"
     ]
    },
    {
     "name": "stdout",
     "output_type": "stream",
     "text": [
      "[LightGBM] [Warning] min_data_in_leaf is set=20, min_child_samples=20 will be ignored. Current value: min_data_in_leaf=20\n",
      "[LightGBM] [Warning] min_data_in_leaf is set=19, min_child_samples=20 will be ignored. Current value: min_data_in_leaf=19\n"
     ]
    },
    {
     "name": "stderr",
     "output_type": "stream",
     "text": [
      "[I 2023-09-13 19:45:20,217] Trial 42 finished with value: 1.1125951951668716 and parameters: {'max_depth': 2, 'min_data_in_leaf': 19, 'subsample': 0.8538087363908993, 'n_estimators': 59, 'learning_rate': 0.02000252046594112, 'colsample_bytree': 0.7881625884350343}. Best is trial 31 with value: 1.1061355867458609.\n",
      "[I 2023-09-13 19:45:20,373] Trial 43 finished with value: 1.118520584091382 and parameters: {'max_depth': 2, 'min_data_in_leaf': 20, 'subsample': 0.8204951371218817, 'n_estimators': 51, 'learning_rate': 0.03668604894797713, 'colsample_bytree': 0.7408552572763099}. Best is trial 31 with value: 1.1061355867458609.\n"
     ]
    },
    {
     "name": "stdout",
     "output_type": "stream",
     "text": [
      "[LightGBM] [Warning] min_data_in_leaf is set=20, min_child_samples=20 will be ignored. Current value: min_data_in_leaf=20\n",
      "[LightGBM] [Warning] min_data_in_leaf is set=19, min_child_samples=20 will be ignored. Current value: min_data_in_leaf=19\n"
     ]
    },
    {
     "name": "stderr",
     "output_type": "stream",
     "text": [
      "[I 2023-09-13 19:45:20,572] Trial 44 finished with value: 1.1182864303699478 and parameters: {'max_depth': 3, 'min_data_in_leaf': 19, 'subsample': 0.8651248749104503, 'n_estimators': 50, 'learning_rate': 0.017968072292240983, 'colsample_bytree': 0.7757364112361989}. Best is trial 31 with value: 1.1061355867458609.\n",
      "[I 2023-09-13 19:45:20,717] Trial 45 finished with value: 1.1074990869773536 and parameters: {'max_depth': 2, 'min_data_in_leaf': 20, 'subsample': 0.7957903510162856, 'n_estimators': 57, 'learning_rate': 0.011064740953182677, 'colsample_bytree': 0.7423647377469246}. Best is trial 31 with value: 1.1061355867458609.\n"
     ]
    },
    {
     "name": "stdout",
     "output_type": "stream",
     "text": [
      "[LightGBM] [Warning] min_data_in_leaf is set=20, min_child_samples=20 will be ignored. Current value: min_data_in_leaf=20\n",
      "[LightGBM] [Warning] min_data_in_leaf is set=18, min_child_samples=20 will be ignored. Current value: min_data_in_leaf=18\n"
     ]
    },
    {
     "name": "stderr",
     "output_type": "stream",
     "text": [
      "[I 2023-09-13 19:45:21,222] Trial 46 finished with value: 1.1383971046733412 and parameters: {'max_depth': 7, 'min_data_in_leaf': 18, 'subsample': 0.7927513130905204, 'n_estimators': 58, 'learning_rate': 0.01067610648086575, 'colsample_bytree': 0.7172336030755374}. Best is trial 31 with value: 1.1061355867458609.\n"
     ]
    },
    {
     "name": "stdout",
     "output_type": "stream",
     "text": [
      "[LightGBM] [Warning] min_data_in_leaf is set=15, min_child_samples=20 will be ignored. Current value: min_data_in_leaf=15\n"
     ]
    },
    {
     "name": "stderr",
     "output_type": "stream",
     "text": [
      "[I 2023-09-13 19:45:22,223] Trial 47 finished with value: 1.8728903394985927 and parameters: {'max_depth': 10, 'min_data_in_leaf': 15, 'subsample': 0.8174846140863101, 'n_estimators': 99, 'learning_rate': 0.051274655276070294, 'colsample_bytree': 0.696395866833583}. Best is trial 31 with value: 1.1061355867458609.\n",
      "[I 2023-09-13 19:45:22,433] Trial 48 finished with value: 1.15560348714574 and parameters: {'max_depth': 3, 'min_data_in_leaf': 20, 'subsample': 0.7421573647940515, 'n_estimators': 60, 'learning_rate': 0.038558343468255464, 'colsample_bytree': 0.7436141538924597}. Best is trial 31 with value: 1.1061355867458609.\n"
     ]
    },
    {
     "name": "stdout",
     "output_type": "stream",
     "text": [
      "[LightGBM] [Warning] min_data_in_leaf is set=20, min_child_samples=20 will be ignored. Current value: min_data_in_leaf=20\n",
      "[LightGBM] [Warning] min_data_in_leaf is set=19, min_child_samples=20 will be ignored. Current value: min_data_in_leaf=19\n"
     ]
    },
    {
     "name": "stderr",
     "output_type": "stream",
     "text": [
      "[I 2023-09-13 19:45:22,697] Trial 49 finished with value: 1.1461981961208276 and parameters: {'max_depth': 4, 'min_data_in_leaf': 19, 'subsample': 0.8496661303475169, 'n_estimators': 56, 'learning_rate': 0.02369947337704229, 'colsample_bytree': 0.6794245791086566}. Best is trial 31 with value: 1.1061355867458609.\n"
     ]
    },
    {
     "name": "stdout",
     "output_type": "stream",
     "text": [
      "Fitting model for quantile 0.1\n",
      "[LightGBM] [Warning] min_data_in_leaf is set=10, min_child_samples=20 will be ignored. Current value: min_data_in_leaf=10\n",
      "[1]\tvalid_0's quantile: 0.0917538\n",
      "[2]\tvalid_0's quantile: 0.0971707\n",
      "[3]\tvalid_0's quantile: 0.0994587\n",
      "[4]\tvalid_0's quantile: 0.101518\n",
      "[5]\tvalid_0's quantile: 0.103738\n",
      "[6]\tvalid_0's quantile: 0.105286\n",
      "[7]\tvalid_0's quantile: 0.106598\n",
      "[8]\tvalid_0's quantile: 0.108312\n",
      "[9]\tvalid_0's quantile: 0.111004\n",
      "[10]\tvalid_0's quantile: 0.112238\n",
      "[11]\tvalid_0's quantile: 0.115017\n",
      "[12]\tvalid_0's quantile: 0.117504\n",
      "[13]\tvalid_0's quantile: 0.118044\n",
      "[14]\tvalid_0's quantile: 0.118334\n",
      "[15]\tvalid_0's quantile: 0.118851\n",
      "[16]\tvalid_0's quantile: 0.11882\n",
      "[17]\tvalid_0's quantile: 0.118823\n",
      "[18]\tvalid_0's quantile: 0.118797\n",
      "[19]\tvalid_0's quantile: 0.118743\n",
      "[20]\tvalid_0's quantile: 0.118697\n",
      "[21]\tvalid_0's quantile: 0.118685\n",
      "Fitting model for quantile 0.5\n",
      "[1]\tvalid_0's quantile: 0.425504\n",
      "[2]\tvalid_0's quantile: 0.427596\n",
      "[3]\tvalid_0's quantile: 0.429582\n",
      "[4]\tvalid_0's quantile: 0.430401\n",
      "[5]\tvalid_0's quantile: 0.4315\n",
      "[6]\tvalid_0's quantile: 0.432213\n",
      "[7]\tvalid_0's quantile: 0.433505\n",
      "[8]\tvalid_0's quantile: 0.434033\n",
      "[9]\tvalid_0's quantile: 0.434489\n",
      "[10]\tvalid_0's quantile: 0.436132\n",
      "[11]\tvalid_0's quantile: 0.436631\n",
      "[12]\tvalid_0's quantile: 0.437773\n",
      "[13]\tvalid_0's quantile: 0.439225\n",
      "[14]\tvalid_0's quantile: 0.439884\n",
      "[15]\tvalid_0's quantile: 0.440938\n",
      "[16]\tvalid_0's quantile: 0.442409\n",
      "[17]\tvalid_0's quantile: 0.44293\n",
      "[18]\tvalid_0's quantile: 0.443639\n",
      "[19]\tvalid_0's quantile: 0.443716\n",
      "[20]\tvalid_0's quantile: 0.444315\n",
      "[21]\tvalid_0's quantile: 0.444898\n",
      "Fitting model for quantile 0.9\n",
      "[1]\tvalid_0's quantile: 0.212623\n",
      "[2]\tvalid_0's quantile: 0.212623\n",
      "[3]\tvalid_0's quantile: 0.212623\n",
      "[4]\tvalid_0's quantile: 0.212623\n",
      "[5]\tvalid_0's quantile: 0.212623\n",
      "[6]\tvalid_0's quantile: 0.212623\n",
      "[7]\tvalid_0's quantile: 0.212623\n",
      "[8]\tvalid_0's quantile: 0.212623\n",
      "[9]\tvalid_0's quantile: 0.212623\n",
      "[10]\tvalid_0's quantile: 0.212623\n",
      "[11]\tvalid_0's quantile: 0.212623\n",
      "[12]\tvalid_0's quantile: 0.212623\n",
      "[13]\tvalid_0's quantile: 0.212623\n",
      "[14]\tvalid_0's quantile: 0.212623\n",
      "[15]\tvalid_0's quantile: 0.212623\n",
      "[16]\tvalid_0's quantile: 0.212623\n",
      "[17]\tvalid_0's quantile: 0.212623\n",
      "[18]\tvalid_0's quantile: 0.212623\n",
      "[19]\tvalid_0's quantile: 0.212716\n",
      "[20]\tvalid_0's quantile: 0.212736\n",
      "[21]\tvalid_0's quantile: 0.212753\n",
      "[22]\tvalid_0's quantile: 0.212765\n",
      "[23]\tvalid_0's quantile: 0.212812\n",
      "[24]\tvalid_0's quantile: 0.21311\n",
      "[25]\tvalid_0's quantile: 0.213311\n",
      "[26]\tvalid_0's quantile: 0.213869\n",
      "[27]\tvalid_0's quantile: 0.213972\n",
      "[28]\tvalid_0's quantile: 0.214159\n",
      "[29]\tvalid_0's quantile: 0.214328\n",
      "[30]\tvalid_0's quantile: 0.214403\n",
      "[31]\tvalid_0's quantile: 0.214546\n",
      "[32]\tvalid_0's quantile: 0.214709\n",
      "[33]\tvalid_0's quantile: 0.214855\n",
      "[34]\tvalid_0's quantile: 0.214974\n",
      "[35]\tvalid_0's quantile: 0.215082\n",
      "Quantile 0.1: Training Loss = 0.09247382198952893, Validation Loss = 0.09175375064666241\n",
      "Quantile 0.5: Training Loss = 0.4309227748691096, Validation Loss = 0.4255043973098807\n",
      "Quantile 0.9: Training Loss = 0.2070680628272251, Validation Loss = 0.2126228658732777\n"
     ]
    }
   ],
   "source": [
    "from src.train.quantile_training import DemandCurveTrainer\n",
    "trainer = DemandCurveTrainer(X_train, y_train, X_val, y_val,  tune_params=True)\n",
    "trainer.train_models()\n",
    "trainer.evaluate_models()\n",
    "#trainer.plot_feature_importance()\n",
    "# Predict demand curve (Assume test_data is prepared with SKUs and prices)\n",
    "sku_demand_curves, demand_curve_pricing, price_points_per_sku = trainer.predict_demand_curve(X_test, 'sku', 'sale_price')\n"
   ]
  },
  {
   "cell_type": "code",
   "execution_count": 135,
   "metadata": {},
   "outputs": [],
   "source": [
    "import plotly.express as px\n",
    "import pandas as pd\n",
    "\n",
    "\n",
    "def plot_demand_curve_for_sku(sku_demand_curves, price_points_per_sku, selected_sku):\n",
    "    # Create the DataFrame properly\n",
    "    data = []\n",
    "    for sku, sku_demand_curve in sku_demand_curves.items():\n",
    "        if sku == selected_sku:  # Only proceed if the SKU matches\n",
    "            for q, demand_predictions in sku_demand_curve.items():\n",
    "                for price, prediction in zip(price_points_per_sku[sku], demand_predictions):\n",
    "                    data.append({'SKU': sku, 'Price Points': price, 'Predicted Sales': prediction, 'Quantile': f'Quantile {q}'})\n",
    "    \n",
    "    df = pd.DataFrame(data)\n",
    "    \n",
    "    # Create the Plotly figure for the selected SKU\n",
    "    fig = px.line(df, x='Price Points', y='Predicted Sales', color='Quantile',\n",
    "                  title=f'Demand Curve for SKU: {selected_sku}',\n",
    "                  labels={'Price Points': 'Price Points', 'Predicted Sales': 'Predicted Sales'})\n",
    "    fig.show()"
   ]
  },
  {
   "cell_type": "code",
   "execution_count": 136,
   "metadata": {},
   "outputs": [
    {
     "data": {
      "application/vnd.plotly.v1+json": {
       "config": {
        "plotlyServerURL": "https://plot.ly"
       },
       "data": [
        {
         "hovertemplate": "Quantile=Quantile 0.1<br>Price Points=%{x}<br>Predicted Sales=%{y}<extra></extra>",
         "legendgroup": "Quantile 0.1",
         "line": {
          "color": "#636efa",
          "dash": "solid"
         },
         "marker": {
          "symbol": "circle"
         },
         "mode": "lines",
         "name": "Quantile 0.1",
         "orientation": "v",
         "showlegend": true,
         "type": "scatter",
         "x": [
          29.78400077819824,
          31.53600082397461,
          33.288000869750974,
          34.3392008972168,
          35.040000915527344,
          35.74080093383789,
          36.792000961303714,
          38.544001007080084,
          40.29600105285644,
          42.04800109863281
         ],
         "xaxis": "x",
         "y": [
          1,
          1,
          1,
          1,
          1,
          1,
          1,
          1,
          1,
          1
         ],
         "yaxis": "y"
        },
        {
         "hovertemplate": "Quantile=Quantile 0.5<br>Price Points=%{x}<br>Predicted Sales=%{y}<extra></extra>",
         "legendgroup": "Quantile 0.5",
         "line": {
          "color": "#EF553B",
          "dash": "solid"
         },
         "marker": {
          "symbol": "circle"
         },
         "mode": "lines",
         "name": "Quantile 0.5",
         "orientation": "v",
         "showlegend": true,
         "type": "scatter",
         "x": [
          29.78400077819824,
          31.53600082397461,
          33.288000869750974,
          34.3392008972168,
          35.040000915527344,
          35.74080093383789,
          36.792000961303714,
          38.544001007080084,
          40.29600105285644,
          42.04800109863281
         ],
         "xaxis": "x",
         "y": [
          1.9,
          1.9,
          1.9,
          1.9,
          1.9,
          1.9,
          1.9,
          1.9,
          1.9,
          1.9
         ],
         "yaxis": "y"
        },
        {
         "hovertemplate": "Quantile=Quantile 0.9<br>Price Points=%{x}<br>Predicted Sales=%{y}<extra></extra>",
         "legendgroup": "Quantile 0.9",
         "line": {
          "color": "#00cc96",
          "dash": "solid"
         },
         "marker": {
          "symbol": "circle"
         },
         "mode": "lines",
         "name": "Quantile 0.9",
         "orientation": "v",
         "showlegend": true,
         "type": "scatter",
         "x": [
          29.78400077819824,
          31.53600082397461,
          33.288000869750974,
          34.3392008972168,
          35.040000915527344,
          35.74080093383789,
          36.792000961303714,
          38.544001007080084,
          40.29600105285644,
          42.04800109863281
         ],
         "xaxis": "x",
         "y": [
          4,
          4,
          4,
          4,
          4,
          4,
          4,
          4,
          4,
          4
         ],
         "yaxis": "y"
        }
       ],
       "layout": {
        "legend": {
         "title": {
          "text": "Quantile"
         },
         "tracegroupgap": 0
        },
        "template": {
         "data": {
          "bar": [
           {
            "error_x": {
             "color": "#2a3f5f"
            },
            "error_y": {
             "color": "#2a3f5f"
            },
            "marker": {
             "line": {
              "color": "#E5ECF6",
              "width": 0.5
             },
             "pattern": {
              "fillmode": "overlay",
              "size": 10,
              "solidity": 0.2
             }
            },
            "type": "bar"
           }
          ],
          "barpolar": [
           {
            "marker": {
             "line": {
              "color": "#E5ECF6",
              "width": 0.5
             },
             "pattern": {
              "fillmode": "overlay",
              "size": 10,
              "solidity": 0.2
             }
            },
            "type": "barpolar"
           }
          ],
          "carpet": [
           {
            "aaxis": {
             "endlinecolor": "#2a3f5f",
             "gridcolor": "white",
             "linecolor": "white",
             "minorgridcolor": "white",
             "startlinecolor": "#2a3f5f"
            },
            "baxis": {
             "endlinecolor": "#2a3f5f",
             "gridcolor": "white",
             "linecolor": "white",
             "minorgridcolor": "white",
             "startlinecolor": "#2a3f5f"
            },
            "type": "carpet"
           }
          ],
          "choropleth": [
           {
            "colorbar": {
             "outlinewidth": 0,
             "ticks": ""
            },
            "type": "choropleth"
           }
          ],
          "contour": [
           {
            "colorbar": {
             "outlinewidth": 0,
             "ticks": ""
            },
            "colorscale": [
             [
              0,
              "#0d0887"
             ],
             [
              0.1111111111111111,
              "#46039f"
             ],
             [
              0.2222222222222222,
              "#7201a8"
             ],
             [
              0.3333333333333333,
              "#9c179e"
             ],
             [
              0.4444444444444444,
              "#bd3786"
             ],
             [
              0.5555555555555556,
              "#d8576b"
             ],
             [
              0.6666666666666666,
              "#ed7953"
             ],
             [
              0.7777777777777778,
              "#fb9f3a"
             ],
             [
              0.8888888888888888,
              "#fdca26"
             ],
             [
              1,
              "#f0f921"
             ]
            ],
            "type": "contour"
           }
          ],
          "contourcarpet": [
           {
            "colorbar": {
             "outlinewidth": 0,
             "ticks": ""
            },
            "type": "contourcarpet"
           }
          ],
          "heatmap": [
           {
            "colorbar": {
             "outlinewidth": 0,
             "ticks": ""
            },
            "colorscale": [
             [
              0,
              "#0d0887"
             ],
             [
              0.1111111111111111,
              "#46039f"
             ],
             [
              0.2222222222222222,
              "#7201a8"
             ],
             [
              0.3333333333333333,
              "#9c179e"
             ],
             [
              0.4444444444444444,
              "#bd3786"
             ],
             [
              0.5555555555555556,
              "#d8576b"
             ],
             [
              0.6666666666666666,
              "#ed7953"
             ],
             [
              0.7777777777777778,
              "#fb9f3a"
             ],
             [
              0.8888888888888888,
              "#fdca26"
             ],
             [
              1,
              "#f0f921"
             ]
            ],
            "type": "heatmap"
           }
          ],
          "heatmapgl": [
           {
            "colorbar": {
             "outlinewidth": 0,
             "ticks": ""
            },
            "colorscale": [
             [
              0,
              "#0d0887"
             ],
             [
              0.1111111111111111,
              "#46039f"
             ],
             [
              0.2222222222222222,
              "#7201a8"
             ],
             [
              0.3333333333333333,
              "#9c179e"
             ],
             [
              0.4444444444444444,
              "#bd3786"
             ],
             [
              0.5555555555555556,
              "#d8576b"
             ],
             [
              0.6666666666666666,
              "#ed7953"
             ],
             [
              0.7777777777777778,
              "#fb9f3a"
             ],
             [
              0.8888888888888888,
              "#fdca26"
             ],
             [
              1,
              "#f0f921"
             ]
            ],
            "type": "heatmapgl"
           }
          ],
          "histogram": [
           {
            "marker": {
             "pattern": {
              "fillmode": "overlay",
              "size": 10,
              "solidity": 0.2
             }
            },
            "type": "histogram"
           }
          ],
          "histogram2d": [
           {
            "colorbar": {
             "outlinewidth": 0,
             "ticks": ""
            },
            "colorscale": [
             [
              0,
              "#0d0887"
             ],
             [
              0.1111111111111111,
              "#46039f"
             ],
             [
              0.2222222222222222,
              "#7201a8"
             ],
             [
              0.3333333333333333,
              "#9c179e"
             ],
             [
              0.4444444444444444,
              "#bd3786"
             ],
             [
              0.5555555555555556,
              "#d8576b"
             ],
             [
              0.6666666666666666,
              "#ed7953"
             ],
             [
              0.7777777777777778,
              "#fb9f3a"
             ],
             [
              0.8888888888888888,
              "#fdca26"
             ],
             [
              1,
              "#f0f921"
             ]
            ],
            "type": "histogram2d"
           }
          ],
          "histogram2dcontour": [
           {
            "colorbar": {
             "outlinewidth": 0,
             "ticks": ""
            },
            "colorscale": [
             [
              0,
              "#0d0887"
             ],
             [
              0.1111111111111111,
              "#46039f"
             ],
             [
              0.2222222222222222,
              "#7201a8"
             ],
             [
              0.3333333333333333,
              "#9c179e"
             ],
             [
              0.4444444444444444,
              "#bd3786"
             ],
             [
              0.5555555555555556,
              "#d8576b"
             ],
             [
              0.6666666666666666,
              "#ed7953"
             ],
             [
              0.7777777777777778,
              "#fb9f3a"
             ],
             [
              0.8888888888888888,
              "#fdca26"
             ],
             [
              1,
              "#f0f921"
             ]
            ],
            "type": "histogram2dcontour"
           }
          ],
          "mesh3d": [
           {
            "colorbar": {
             "outlinewidth": 0,
             "ticks": ""
            },
            "type": "mesh3d"
           }
          ],
          "parcoords": [
           {
            "line": {
             "colorbar": {
              "outlinewidth": 0,
              "ticks": ""
             }
            },
            "type": "parcoords"
           }
          ],
          "pie": [
           {
            "automargin": true,
            "type": "pie"
           }
          ],
          "scatter": [
           {
            "fillpattern": {
             "fillmode": "overlay",
             "size": 10,
             "solidity": 0.2
            },
            "type": "scatter"
           }
          ],
          "scatter3d": [
           {
            "line": {
             "colorbar": {
              "outlinewidth": 0,
              "ticks": ""
             }
            },
            "marker": {
             "colorbar": {
              "outlinewidth": 0,
              "ticks": ""
             }
            },
            "type": "scatter3d"
           }
          ],
          "scattercarpet": [
           {
            "marker": {
             "colorbar": {
              "outlinewidth": 0,
              "ticks": ""
             }
            },
            "type": "scattercarpet"
           }
          ],
          "scattergeo": [
           {
            "marker": {
             "colorbar": {
              "outlinewidth": 0,
              "ticks": ""
             }
            },
            "type": "scattergeo"
           }
          ],
          "scattergl": [
           {
            "marker": {
             "colorbar": {
              "outlinewidth": 0,
              "ticks": ""
             }
            },
            "type": "scattergl"
           }
          ],
          "scattermapbox": [
           {
            "marker": {
             "colorbar": {
              "outlinewidth": 0,
              "ticks": ""
             }
            },
            "type": "scattermapbox"
           }
          ],
          "scatterpolar": [
           {
            "marker": {
             "colorbar": {
              "outlinewidth": 0,
              "ticks": ""
             }
            },
            "type": "scatterpolar"
           }
          ],
          "scatterpolargl": [
           {
            "marker": {
             "colorbar": {
              "outlinewidth": 0,
              "ticks": ""
             }
            },
            "type": "scatterpolargl"
           }
          ],
          "scatterternary": [
           {
            "marker": {
             "colorbar": {
              "outlinewidth": 0,
              "ticks": ""
             }
            },
            "type": "scatterternary"
           }
          ],
          "surface": [
           {
            "colorbar": {
             "outlinewidth": 0,
             "ticks": ""
            },
            "colorscale": [
             [
              0,
              "#0d0887"
             ],
             [
              0.1111111111111111,
              "#46039f"
             ],
             [
              0.2222222222222222,
              "#7201a8"
             ],
             [
              0.3333333333333333,
              "#9c179e"
             ],
             [
              0.4444444444444444,
              "#bd3786"
             ],
             [
              0.5555555555555556,
              "#d8576b"
             ],
             [
              0.6666666666666666,
              "#ed7953"
             ],
             [
              0.7777777777777778,
              "#fb9f3a"
             ],
             [
              0.8888888888888888,
              "#fdca26"
             ],
             [
              1,
              "#f0f921"
             ]
            ],
            "type": "surface"
           }
          ],
          "table": [
           {
            "cells": {
             "fill": {
              "color": "#EBF0F8"
             },
             "line": {
              "color": "white"
             }
            },
            "header": {
             "fill": {
              "color": "#C8D4E3"
             },
             "line": {
              "color": "white"
             }
            },
            "type": "table"
           }
          ]
         },
         "layout": {
          "annotationdefaults": {
           "arrowcolor": "#2a3f5f",
           "arrowhead": 0,
           "arrowwidth": 1
          },
          "autotypenumbers": "strict",
          "coloraxis": {
           "colorbar": {
            "outlinewidth": 0,
            "ticks": ""
           }
          },
          "colorscale": {
           "diverging": [
            [
             0,
             "#8e0152"
            ],
            [
             0.1,
             "#c51b7d"
            ],
            [
             0.2,
             "#de77ae"
            ],
            [
             0.3,
             "#f1b6da"
            ],
            [
             0.4,
             "#fde0ef"
            ],
            [
             0.5,
             "#f7f7f7"
            ],
            [
             0.6,
             "#e6f5d0"
            ],
            [
             0.7,
             "#b8e186"
            ],
            [
             0.8,
             "#7fbc41"
            ],
            [
             0.9,
             "#4d9221"
            ],
            [
             1,
             "#276419"
            ]
           ],
           "sequential": [
            [
             0,
             "#0d0887"
            ],
            [
             0.1111111111111111,
             "#46039f"
            ],
            [
             0.2222222222222222,
             "#7201a8"
            ],
            [
             0.3333333333333333,
             "#9c179e"
            ],
            [
             0.4444444444444444,
             "#bd3786"
            ],
            [
             0.5555555555555556,
             "#d8576b"
            ],
            [
             0.6666666666666666,
             "#ed7953"
            ],
            [
             0.7777777777777778,
             "#fb9f3a"
            ],
            [
             0.8888888888888888,
             "#fdca26"
            ],
            [
             1,
             "#f0f921"
            ]
           ],
           "sequentialminus": [
            [
             0,
             "#0d0887"
            ],
            [
             0.1111111111111111,
             "#46039f"
            ],
            [
             0.2222222222222222,
             "#7201a8"
            ],
            [
             0.3333333333333333,
             "#9c179e"
            ],
            [
             0.4444444444444444,
             "#bd3786"
            ],
            [
             0.5555555555555556,
             "#d8576b"
            ],
            [
             0.6666666666666666,
             "#ed7953"
            ],
            [
             0.7777777777777778,
             "#fb9f3a"
            ],
            [
             0.8888888888888888,
             "#fdca26"
            ],
            [
             1,
             "#f0f921"
            ]
           ]
          },
          "colorway": [
           "#636efa",
           "#EF553B",
           "#00cc96",
           "#ab63fa",
           "#FFA15A",
           "#19d3f3",
           "#FF6692",
           "#B6E880",
           "#FF97FF",
           "#FECB52"
          ],
          "font": {
           "color": "#2a3f5f"
          },
          "geo": {
           "bgcolor": "white",
           "lakecolor": "white",
           "landcolor": "#E5ECF6",
           "showlakes": true,
           "showland": true,
           "subunitcolor": "white"
          },
          "hoverlabel": {
           "align": "left"
          },
          "hovermode": "closest",
          "mapbox": {
           "style": "light"
          },
          "paper_bgcolor": "white",
          "plot_bgcolor": "#E5ECF6",
          "polar": {
           "angularaxis": {
            "gridcolor": "white",
            "linecolor": "white",
            "ticks": ""
           },
           "bgcolor": "#E5ECF6",
           "radialaxis": {
            "gridcolor": "white",
            "linecolor": "white",
            "ticks": ""
           }
          },
          "scene": {
           "xaxis": {
            "backgroundcolor": "#E5ECF6",
            "gridcolor": "white",
            "gridwidth": 2,
            "linecolor": "white",
            "showbackground": true,
            "ticks": "",
            "zerolinecolor": "white"
           },
           "yaxis": {
            "backgroundcolor": "#E5ECF6",
            "gridcolor": "white",
            "gridwidth": 2,
            "linecolor": "white",
            "showbackground": true,
            "ticks": "",
            "zerolinecolor": "white"
           },
           "zaxis": {
            "backgroundcolor": "#E5ECF6",
            "gridcolor": "white",
            "gridwidth": 2,
            "linecolor": "white",
            "showbackground": true,
            "ticks": "",
            "zerolinecolor": "white"
           }
          },
          "shapedefaults": {
           "line": {
            "color": "#2a3f5f"
           }
          },
          "ternary": {
           "aaxis": {
            "gridcolor": "white",
            "linecolor": "white",
            "ticks": ""
           },
           "baxis": {
            "gridcolor": "white",
            "linecolor": "white",
            "ticks": ""
           },
           "bgcolor": "#E5ECF6",
           "caxis": {
            "gridcolor": "white",
            "linecolor": "white",
            "ticks": ""
           }
          },
          "title": {
           "x": 0.05
          },
          "xaxis": {
           "automargin": true,
           "gridcolor": "white",
           "linecolor": "white",
           "ticks": "",
           "title": {
            "standoff": 15
           },
           "zerolinecolor": "white",
           "zerolinewidth": 2
          },
          "yaxis": {
           "automargin": true,
           "gridcolor": "white",
           "linecolor": "white",
           "ticks": "",
           "title": {
            "standoff": 15
           },
           "zerolinecolor": "white",
           "zerolinewidth": 2
          }
         }
        },
        "title": {
         "text": "Demand Curve for SKU: 0129A222FE10C9896DB191C537694699"
        },
        "xaxis": {
         "anchor": "y",
         "domain": [
          0,
          1
         ],
         "title": {
          "text": "Price Points"
         }
        },
        "yaxis": {
         "anchor": "x",
         "domain": [
          0,
          1
         ],
         "title": {
          "text": "Predicted Sales"
         }
        }
       }
      }
     },
     "metadata": {},
     "output_type": "display_data"
    }
   ],
   "source": [
    "plot_demand_curve_for_sku(sku_demand_curves, price_points_per_sku, selected_sku=\"0129A222FE10C9896DB191C537694699\")"
   ]
  },
  {
   "cell_type": "code",
   "execution_count": 137,
   "metadata": {},
   "outputs": [
    {
     "name": "stderr",
     "output_type": "stream",
     "text": [
      "[I 2023-09-13 19:45:55,713] A new study created in memory with name: no-name-06b9d2fa-4f7a-4bb3-9884-dc081a527c9e\n"
     ]
    },
    {
     "name": "stdout",
     "output_type": "stream",
     "text": [
      "[LightGBM] [Warning] min_data_in_leaf is set=11, min_child_samples=20 will be ignored. Current value: min_data_in_leaf=11\n"
     ]
    },
    {
     "name": "stderr",
     "output_type": "stream",
     "text": [
      "[I 2023-09-13 19:45:56,075] Trial 0 finished with value: 1.475300871577107 and parameters: {'max_depth': 4, 'min_data_in_leaf': 11, 'subsample': 0.914862833911796, 'n_estimators': 90, 'learning_rate': 0.06633438197259535, 'colsample_bytree': 0.7014996981315179}. Best is trial 0 with value: 1.475300871577107.\n"
     ]
    },
    {
     "name": "stdout",
     "output_type": "stream",
     "text": [
      "[LightGBM] [Warning] min_data_in_leaf is set=8, min_child_samples=20 will be ignored. Current value: min_data_in_leaf=8\n"
     ]
    },
    {
     "name": "stderr",
     "output_type": "stream",
     "text": [
      "[I 2023-09-13 19:45:56,303] Trial 1 finished with value: 1.6624264662712047 and parameters: {'max_depth': 3, 'min_data_in_leaf': 8, 'subsample': 0.733786453611167, 'n_estimators': 79, 'learning_rate': 0.1747974816813076, 'colsample_bytree': 0.7395072936181479}. Best is trial 0 with value: 1.475300871577107.\n"
     ]
    },
    {
     "name": "stdout",
     "output_type": "stream",
     "text": [
      "[LightGBM] [Warning] min_data_in_leaf is set=8, min_child_samples=20 will be ignored. Current value: min_data_in_leaf=8\n"
     ]
    },
    {
     "name": "stderr",
     "output_type": "stream",
     "text": [
      "[I 2023-09-13 19:45:57,102] Trial 2 finished with value: 2.0998143799319804 and parameters: {'max_depth': 7, 'min_data_in_leaf': 8, 'subsample': 0.8676420418250663, 'n_estimators': 70, 'learning_rate': 0.1357559773628564, 'colsample_bytree': 0.6036807864167467}. Best is trial 0 with value: 1.475300871577107.\n"
     ]
    },
    {
     "name": "stdout",
     "output_type": "stream",
     "text": [
      "[LightGBM] [Warning] min_data_in_leaf is set=13, min_child_samples=20 will be ignored. Current value: min_data_in_leaf=13\n"
     ]
    },
    {
     "name": "stderr",
     "output_type": "stream",
     "text": [
      "[I 2023-09-13 19:45:57,558] Trial 3 finished with value: 1.1742974640923123 and parameters: {'max_depth': 6, 'min_data_in_leaf': 13, 'subsample': 0.7731303748726855, 'n_estimators': 57, 'learning_rate': 0.01764937022640961, 'colsample_bytree': 0.657507223238209}. Best is trial 3 with value: 1.1742974640923123.\n"
     ]
    },
    {
     "name": "stdout",
     "output_type": "stream",
     "text": [
      "[LightGBM] [Warning] min_data_in_leaf is set=11, min_child_samples=20 will be ignored. Current value: min_data_in_leaf=11\n"
     ]
    },
    {
     "name": "stderr",
     "output_type": "stream",
     "text": [
      "[I 2023-09-13 19:45:58,019] Trial 4 finished with value: 1.805819774622091 and parameters: {'max_depth': 5, 'min_data_in_leaf': 11, 'subsample': 0.6212284593244791, 'n_estimators': 63, 'learning_rate': 0.12467497990312801, 'colsample_bytree': 0.8298688350620707}. Best is trial 3 with value: 1.1742974640923123.\n",
      "[I 2023-09-13 19:45:58,164] Trial 5 finished with value: 1.2263135178367064 and parameters: {'max_depth': 2, 'min_data_in_leaf': 16, 'subsample': 0.9211314246582029, 'n_estimators': 69, 'learning_rate': 0.11777071901807659, 'colsample_bytree': 0.8732083362883518}. Best is trial 3 with value: 1.1742974640923123.\n"
     ]
    },
    {
     "name": "stdout",
     "output_type": "stream",
     "text": [
      "[LightGBM] [Warning] min_data_in_leaf is set=16, min_child_samples=20 will be ignored. Current value: min_data_in_leaf=16\n",
      "[LightGBM] [Warning] min_data_in_leaf is set=19, min_child_samples=20 will be ignored. Current value: min_data_in_leaf=19\n"
     ]
    },
    {
     "name": "stderr",
     "output_type": "stream",
     "text": [
      "[I 2023-09-13 19:45:59,321] Trial 6 finished with value: 1.49041988060256 and parameters: {'max_depth': 9, 'min_data_in_leaf': 19, 'subsample': 0.8669340871755367, 'n_estimators': 92, 'learning_rate': 0.029731227875174786, 'colsample_bytree': 0.9429753023814309}. Best is trial 3 with value: 1.1742974640923123.\n"
     ]
    },
    {
     "name": "stdout",
     "output_type": "stream",
     "text": [
      "[LightGBM] [Warning] min_data_in_leaf is set=15, min_child_samples=20 will be ignored. Current value: min_data_in_leaf=15\n"
     ]
    },
    {
     "name": "stderr",
     "output_type": "stream",
     "text": [
      "[I 2023-09-13 19:46:00,086] Trial 7 finished with value: 1.5987395144645962 and parameters: {'max_depth': 7, 'min_data_in_leaf': 15, 'subsample': 0.9083694064433376, 'n_estimators': 78, 'learning_rate': 0.04975149670265009, 'colsample_bytree': 0.663740850639934}. Best is trial 3 with value: 1.1742974640923123.\n"
     ]
    },
    {
     "name": "stdout",
     "output_type": "stream",
     "text": [
      "[LightGBM] [Warning] min_data_in_leaf is set=6, min_child_samples=20 will be ignored. Current value: min_data_in_leaf=6\n"
     ]
    },
    {
     "name": "stderr",
     "output_type": "stream",
     "text": [
      "[I 2023-09-13 19:46:01,127] Trial 8 finished with value: 2.0903636349306796 and parameters: {'max_depth': 8, 'min_data_in_leaf': 6, 'subsample': 0.8274231981805448, 'n_estimators': 76, 'learning_rate': 0.12927835712471644, 'colsample_bytree': 0.7909570778791533}. Best is trial 3 with value: 1.1742974640923123.\n"
     ]
    },
    {
     "name": "stdout",
     "output_type": "stream",
     "text": [
      "[LightGBM] [Warning] min_data_in_leaf is set=15, min_child_samples=20 will be ignored. Current value: min_data_in_leaf=15\n"
     ]
    },
    {
     "name": "stderr",
     "output_type": "stream",
     "text": [
      "[I 2023-09-13 19:46:01,535] Trial 9 finished with value: 1.432644480750065 and parameters: {'max_depth': 7, 'min_data_in_leaf': 15, 'subsample': 0.7428294752916573, 'n_estimators': 50, 'learning_rate': 0.053313215954717004, 'colsample_bytree': 0.6026366926375734}. Best is trial 3 with value: 1.1742974640923123.\n"
     ]
    },
    {
     "name": "stdout",
     "output_type": "stream",
     "text": [
      "[LightGBM] [Warning] min_data_in_leaf is set=20, min_child_samples=20 will be ignored. Current value: min_data_in_leaf=20\n"
     ]
    },
    {
     "name": "stderr",
     "output_type": "stream",
     "text": [
      "[I 2023-09-13 19:46:02,325] Trial 10 finished with value: 1.1416646102561923 and parameters: {'max_depth': 10, 'min_data_in_leaf': 20, 'subsample': 0.978675916994799, 'n_estimators': 50, 'learning_rate': 0.010491377150892628, 'colsample_bytree': 0.9988663486918246}. Best is trial 10 with value: 1.1416646102561923.\n"
     ]
    },
    {
     "name": "stdout",
     "output_type": "stream",
     "text": [
      "[LightGBM] [Warning] min_data_in_leaf is set=20, min_child_samples=20 will be ignored. Current value: min_data_in_leaf=20\n"
     ]
    },
    {
     "name": "stderr",
     "output_type": "stream",
     "text": [
      "[I 2023-09-13 19:46:03,033] Trial 11 finished with value: 1.140165940993059 and parameters: {'max_depth': 10, 'min_data_in_leaf': 20, 'subsample': 0.9799079664098158, 'n_estimators': 50, 'learning_rate': 0.010155705799039539, 'colsample_bytree': 0.9976889824568975}. Best is trial 11 with value: 1.140165940993059.\n"
     ]
    },
    {
     "name": "stdout",
     "output_type": "stream",
     "text": [
      "[LightGBM] [Warning] min_data_in_leaf is set=20, min_child_samples=20 will be ignored. Current value: min_data_in_leaf=20\n"
     ]
    },
    {
     "name": "stderr",
     "output_type": "stream",
     "text": [
      "[I 2023-09-13 19:46:03,743] Trial 12 finished with value: 1.186245109030033 and parameters: {'max_depth': 10, 'min_data_in_leaf': 20, 'subsample': 0.9691372461432014, 'n_estimators': 50, 'learning_rate': 0.017276399404634657, 'colsample_bytree': 0.9882333119903393}. Best is trial 11 with value: 1.140165940993059.\n"
     ]
    },
    {
     "name": "stdout",
     "output_type": "stream",
     "text": [
      "[LightGBM] [Warning] min_data_in_leaf is set=18, min_child_samples=20 will be ignored. Current value: min_data_in_leaf=18\n"
     ]
    },
    {
     "name": "stderr",
     "output_type": "stream",
     "text": [
      "[I 2023-09-13 19:46:04,441] Trial 13 finished with value: 1.7718537224375792 and parameters: {'max_depth': 10, 'min_data_in_leaf': 18, 'subsample': 0.9960799067244336, 'n_estimators': 58, 'learning_rate': 0.07821656367995782, 'colsample_bytree': 0.995584484472701}. Best is trial 11 with value: 1.140165940993059.\n"
     ]
    },
    {
     "name": "stdout",
     "output_type": "stream",
     "text": [
      "[LightGBM] [Warning] min_data_in_leaf is set=17, min_child_samples=20 will be ignored. Current value: min_data_in_leaf=17\n"
     ]
    },
    {
     "name": "stderr",
     "output_type": "stream",
     "text": [
      "[I 2023-09-13 19:46:05,155] Trial 14 finished with value: 1.1557113580770697 and parameters: {'max_depth': 9, 'min_data_in_leaf': 17, 'subsample': 0.9999432807049045, 'n_estimators': 57, 'learning_rate': 0.010697140739682046, 'colsample_bytree': 0.914185453615808}. Best is trial 11 with value: 1.140165940993059.\n"
     ]
    },
    {
     "name": "stdout",
     "output_type": "stream",
     "text": [
      "[LightGBM] [Warning] min_data_in_leaf is set=20, min_child_samples=20 will be ignored. Current value: min_data_in_leaf=20\n"
     ]
    },
    {
     "name": "stderr",
     "output_type": "stream",
     "text": [
      "[I 2023-09-13 19:46:06,202] Trial 15 finished with value: 1.8545914002121515 and parameters: {'max_depth': 10, 'min_data_in_leaf': 20, 'subsample': 0.9514673344887081, 'n_estimators': 63, 'learning_rate': 0.09164802807864607, 'colsample_bytree': 0.9501518527637423}. Best is trial 11 with value: 1.140165940993059.\n"
     ]
    },
    {
     "name": "stdout",
     "output_type": "stream",
     "text": [
      "[LightGBM] [Warning] min_data_in_leaf is set=18, min_child_samples=20 will be ignored. Current value: min_data_in_leaf=18\n"
     ]
    },
    {
     "name": "stderr",
     "output_type": "stream",
     "text": [
      "[I 2023-09-13 19:46:07,150] Trial 16 finished with value: 1.4036815604642439 and parameters: {'max_depth': 9, 'min_data_in_leaf': 18, 'subsample': 0.9579669883617018, 'n_estimators': 50, 'learning_rate': 0.043539770893737666, 'colsample_bytree': 0.8893798183268684}. Best is trial 11 with value: 1.140165940993059.\n"
     ]
    },
    {
     "name": "stdout",
     "output_type": "stream",
     "text": [
      "[LightGBM] [Warning] min_data_in_leaf is set=13, min_child_samples=20 will be ignored. Current value: min_data_in_leaf=13\n"
     ]
    },
    {
     "name": "stderr",
     "output_type": "stream",
     "text": [
      "[I 2023-09-13 19:46:08,191] Trial 17 finished with value: 1.6134904557704823 and parameters: {'max_depth': 8, 'min_data_in_leaf': 13, 'subsample': 0.9980295715612705, 'n_estimators': 85, 'learning_rate': 0.03766230201355499, 'colsample_bytree': 0.9662832354646941}. Best is trial 11 with value: 1.140165940993059.\n"
     ]
    },
    {
     "name": "stdout",
     "output_type": "stream",
     "text": [
      "[LightGBM] [Warning] min_data_in_leaf is set=20, min_child_samples=20 will be ignored. Current value: min_data_in_leaf=20\n"
     ]
    },
    {
     "name": "stderr",
     "output_type": "stream",
     "text": [
      "[I 2023-09-13 19:46:08,976] Trial 18 finished with value: 1.1496319667596617 and parameters: {'max_depth': 8, 'min_data_in_leaf': 20, 'subsample': 0.9404150759897312, 'n_estimators': 63, 'learning_rate': 0.010397559143294011, 'colsample_bytree': 0.9241262816395491}. Best is trial 11 with value: 1.140165940993059.\n"
     ]
    },
    {
     "name": "stdout",
     "output_type": "stream",
     "text": [
      "[LightGBM] [Warning] min_data_in_leaf is set=17, min_child_samples=20 will be ignored. Current value: min_data_in_leaf=17\n"
     ]
    },
    {
     "name": "stderr",
     "output_type": "stream",
     "text": [
      "[I 2023-09-13 19:46:09,668] Trial 19 finished with value: 1.6187908637121076 and parameters: {'max_depth': 5, 'min_data_in_leaf': 17, 'subsample': 0.8954986173554498, 'n_estimators': 98, 'learning_rate': 0.06172960912614288, 'colsample_bytree': 0.9663521908900767}. Best is trial 11 with value: 1.140165940993059.\n"
     ]
    },
    {
     "name": "stdout",
     "output_type": "stream",
     "text": [
      "[LightGBM] [Warning] min_data_in_leaf is set=15, min_child_samples=20 will be ignored. Current value: min_data_in_leaf=15\n"
     ]
    },
    {
     "name": "stderr",
     "output_type": "stream",
     "text": [
      "[I 2023-09-13 19:46:10,582] Trial 20 finished with value: 1.4204855224624227 and parameters: {'max_depth': 10, 'min_data_in_leaf': 15, 'subsample': 0.9551626926777529, 'n_estimators': 55, 'learning_rate': 0.03611194272220597, 'colsample_bytree': 0.8746173606200515}. Best is trial 11 with value: 1.140165940993059.\n"
     ]
    },
    {
     "name": "stdout",
     "output_type": "stream",
     "text": [
      "[LightGBM] [Warning] min_data_in_leaf is set=20, min_child_samples=20 will be ignored. Current value: min_data_in_leaf=20\n"
     ]
    },
    {
     "name": "stderr",
     "output_type": "stream",
     "text": [
      "[I 2023-09-13 19:46:11,372] Trial 21 finished with value: 1.151951110807391 and parameters: {'max_depth': 8, 'min_data_in_leaf': 20, 'subsample': 0.9321569337261433, 'n_estimators': 65, 'learning_rate': 0.010316008855268356, 'colsample_bytree': 0.9986753438016656}. Best is trial 11 with value: 1.140165940993059.\n"
     ]
    },
    {
     "name": "stdout",
     "output_type": "stream",
     "text": [
      "[LightGBM] [Warning] min_data_in_leaf is set=18, min_child_samples=20 will be ignored. Current value: min_data_in_leaf=18\n"
     ]
    },
    {
     "name": "stderr",
     "output_type": "stream",
     "text": [
      "[I 2023-09-13 19:46:12,040] Trial 22 finished with value: 1.3463415945581507 and parameters: {'max_depth': 9, 'min_data_in_leaf': 18, 'subsample': 0.9665365070110777, 'n_estimators': 54, 'learning_rate': 0.03531669412433834, 'colsample_bytree': 0.9434705082440169}. Best is trial 11 with value: 1.140165940993059.\n"
     ]
    },
    {
     "name": "stdout",
     "output_type": "stream",
     "text": [
      "[LightGBM] [Warning] min_data_in_leaf is set=19, min_child_samples=20 will be ignored. Current value: min_data_in_leaf=19\n"
     ]
    },
    {
     "name": "stderr",
     "output_type": "stream",
     "text": [
      "[I 2023-09-13 19:46:12,848] Trial 23 finished with value: 1.2701738679386931 and parameters: {'max_depth': 8, 'min_data_in_leaf': 19, 'subsample': 0.8822432927808869, 'n_estimators': 61, 'learning_rate': 0.025857766782203216, 'colsample_bytree': 0.9202904990368399}. Best is trial 11 with value: 1.140165940993059.\n"
     ]
    },
    {
     "name": "stdout",
     "output_type": "stream",
     "text": [
      "[LightGBM] [Warning] min_data_in_leaf is set=20, min_child_samples=20 will be ignored. Current value: min_data_in_leaf=20\n"
     ]
    },
    {
     "name": "stderr",
     "output_type": "stream",
     "text": [
      "[I 2023-09-13 19:46:13,925] Trial 24 finished with value: 1.1619843999784927 and parameters: {'max_depth': 9, 'min_data_in_leaf': 20, 'subsample': 0.9368177532405483, 'n_estimators': 69, 'learning_rate': 0.010219031186327696, 'colsample_bytree': 0.9960247339278542}. Best is trial 11 with value: 1.140165940993059.\n"
     ]
    },
    {
     "name": "stdout",
     "output_type": "stream",
     "text": [
      "[LightGBM] [Warning] min_data_in_leaf is set=17, min_child_samples=20 will be ignored. Current value: min_data_in_leaf=17\n"
     ]
    },
    {
     "name": "stderr",
     "output_type": "stream",
     "text": [
      "[I 2023-09-13 19:46:14,720] Trial 25 finished with value: 1.2993362382163887 and parameters: {'max_depth': 10, 'min_data_in_leaf': 17, 'subsample': 0.9792045689643727, 'n_estimators': 53, 'learning_rate': 0.027549430124827516, 'colsample_bytree': 0.9227621551734517}. Best is trial 11 with value: 1.140165940993059.\n"
     ]
    },
    {
     "name": "stdout",
     "output_type": "stream",
     "text": [
      "[LightGBM] [Warning] min_data_in_leaf is set=19, min_child_samples=20 will be ignored. Current value: min_data_in_leaf=19\n"
     ]
    },
    {
     "name": "stderr",
     "output_type": "stream",
     "text": [
      "[I 2023-09-13 19:46:15,323] Trial 26 finished with value: 1.387209422393076 and parameters: {'max_depth': 6, 'min_data_in_leaf': 19, 'subsample': 0.9413525592140044, 'n_estimators': 60, 'learning_rate': 0.04993572036812695, 'colsample_bytree': 0.9685138855968185}. Best is trial 11 with value: 1.140165940993059.\n"
     ]
    },
    {
     "name": "stdout",
     "output_type": "stream",
     "text": [
      "[LightGBM] [Warning] min_data_in_leaf is set=16, min_child_samples=20 will be ignored. Current value: min_data_in_leaf=16\n"
     ]
    },
    {
     "name": "stderr",
     "output_type": "stream",
     "text": [
      "[I 2023-09-13 19:46:16,183] Trial 27 finished with value: 1.3260845280553908 and parameters: {'max_depth': 9, 'min_data_in_leaf': 16, 'subsample': 0.9744241958114023, 'n_estimators': 66, 'learning_rate': 0.02512664210700887, 'colsample_bytree': 0.9020224283901228}. Best is trial 11 with value: 1.140165940993059.\n"
     ]
    },
    {
     "name": "stdout",
     "output_type": "stream",
     "text": [
      "[LightGBM] [Warning] min_data_in_leaf is set=19, min_child_samples=20 will be ignored. Current value: min_data_in_leaf=19\n"
     ]
    },
    {
     "name": "stderr",
     "output_type": "stream",
     "text": [
      "[I 2023-09-13 19:46:16,756] Trial 28 finished with value: 1.5851911285162492 and parameters: {'max_depth': 8, 'min_data_in_leaf': 19, 'subsample': 0.9002747658552066, 'n_estimators': 53, 'learning_rate': 0.07121962425586989, 'colsample_bytree': 0.9454695871662694}. Best is trial 11 with value: 1.140165940993059.\n"
     ]
    },
    {
     "name": "stdout",
     "output_type": "stream",
     "text": [
      "[LightGBM] [Warning] min_data_in_leaf is set=11, min_child_samples=20 will be ignored. Current value: min_data_in_leaf=11\n"
     ]
    },
    {
     "name": "stderr",
     "output_type": "stream",
     "text": [
      "[I 2023-09-13 19:46:17,788] Trial 29 finished with value: 1.8688517666940594 and parameters: {'max_depth': 10, 'min_data_in_leaf': 11, 'subsample': 0.919937062023512, 'n_estimators': 72, 'learning_rate': 0.06464082583579592, 'colsample_bytree': 0.8507482930182411}. Best is trial 11 with value: 1.140165940993059.\n"
     ]
    },
    {
     "name": "stdout",
     "output_type": "stream",
     "text": [
      "[LightGBM] [Warning] min_data_in_leaf is set=9, min_child_samples=20 will be ignored. Current value: min_data_in_leaf=9\n"
     ]
    },
    {
     "name": "stderr",
     "output_type": "stream",
     "text": [
      "[I 2023-09-13 19:46:18,777] Trial 30 finished with value: 1.537889889301957 and parameters: {'max_depth': 7, 'min_data_in_leaf': 9, 'subsample': 0.9306358536990395, 'n_estimators': 59, 'learning_rate': 0.04316360669803583, 'colsample_bytree': 0.9688368295731835}. Best is trial 11 with value: 1.140165940993059.\n"
     ]
    },
    {
     "name": "stdout",
     "output_type": "stream",
     "text": [
      "[LightGBM] [Warning] min_data_in_leaf is set=20, min_child_samples=20 will be ignored. Current value: min_data_in_leaf=20\n"
     ]
    },
    {
     "name": "stderr",
     "output_type": "stream",
     "text": [
      "[I 2023-09-13 19:46:19,522] Trial 31 finished with value: 1.1595853923236956 and parameters: {'max_depth': 8, 'min_data_in_leaf': 20, 'subsample': 0.9388646162049963, 'n_estimators': 66, 'learning_rate': 0.011163939542463289, 'colsample_bytree': 0.998364864293343}. Best is trial 11 with value: 1.140165940993059.\n"
     ]
    },
    {
     "name": "stdout",
     "output_type": "stream",
     "text": [
      "[LightGBM] [Warning] min_data_in_leaf is set=20, min_child_samples=20 will be ignored. Current value: min_data_in_leaf=20\n"
     ]
    },
    {
     "name": "stderr",
     "output_type": "stream",
     "text": [
      "[I 2023-09-13 19:46:20,181] Trial 32 finished with value: 1.2396523009768237 and parameters: {'max_depth': 6, 'min_data_in_leaf': 20, 'subsample': 0.9780878520909256, 'n_estimators': 81, 'learning_rate': 0.023091113385787537, 'colsample_bytree': 0.99854341893927}. Best is trial 11 with value: 1.140165940993059.\n"
     ]
    },
    {
     "name": "stdout",
     "output_type": "stream",
     "text": [
      "[LightGBM] [Warning] min_data_in_leaf is set=18, min_child_samples=20 will be ignored. Current value: min_data_in_leaf=18\n"
     ]
    },
    {
     "name": "stderr",
     "output_type": "stream",
     "text": [
      "[I 2023-09-13 19:46:20,986] Trial 33 finished with value: 1.294724840061002 and parameters: {'max_depth': 9, 'min_data_in_leaf': 18, 'subsample': 0.8630222217669714, 'n_estimators': 64, 'learning_rate': 0.0241976710261904, 'colsample_bytree': 0.968545632106892}. Best is trial 11 with value: 1.140165940993059.\n"
     ]
    },
    {
     "name": "stdout",
     "output_type": "stream",
     "text": [
      "[LightGBM] [Warning] min_data_in_leaf is set=19, min_child_samples=20 will be ignored. Current value: min_data_in_leaf=19\n"
     ]
    },
    {
     "name": "stderr",
     "output_type": "stream",
     "text": [
      "[I 2023-09-13 19:46:21,709] Trial 34 finished with value: 1.1591014379713944 and parameters: {'max_depth': 7, 'min_data_in_leaf': 19, 'subsample': 0.9274119392514054, 'n_estimators': 73, 'learning_rate': 0.011268913300372774, 'colsample_bytree': 0.9226586168648836}. Best is trial 11 with value: 1.140165940993059.\n"
     ]
    },
    {
     "name": "stdout",
     "output_type": "stream",
     "text": [
      "[LightGBM] [Warning] min_data_in_leaf is set=20, min_child_samples=20 will be ignored. Current value: min_data_in_leaf=20\n"
     ]
    },
    {
     "name": "stderr",
     "output_type": "stream",
     "text": [
      "[I 2023-09-13 19:46:22,008] Trial 35 finished with value: 1.1707459361669086 and parameters: {'max_depth': 4, 'min_data_in_leaf': 20, 'subsample': 0.9003390353162113, 'n_estimators': 55, 'learning_rate': 0.03316701804108029, 'colsample_bytree': 0.9376368793825932}. Best is trial 11 with value: 1.140165940993059.\n"
     ]
    },
    {
     "name": "stdout",
     "output_type": "stream",
     "text": [
      "[LightGBM] [Warning] min_data_in_leaf is set=14, min_child_samples=20 will be ignored. Current value: min_data_in_leaf=14\n"
     ]
    },
    {
     "name": "stderr",
     "output_type": "stream",
     "text": [
      "[I 2023-09-13 19:46:22,955] Trial 36 finished with value: 1.2818455016269301 and parameters: {'max_depth': 8, 'min_data_in_leaf': 14, 'subsample': 0.8348822830799294, 'n_estimators': 67, 'learning_rate': 0.021319336842320433, 'colsample_bytree': 0.980734721926931}. Best is trial 11 with value: 1.140165940993059.\n"
     ]
    },
    {
     "name": "stdout",
     "output_type": "stream",
     "text": [
      "[LightGBM] [Warning] min_data_in_leaf is set=5, min_child_samples=20 will be ignored. Current value: min_data_in_leaf=5\n"
     ]
    },
    {
     "name": "stderr",
     "output_type": "stream",
     "text": [
      "[I 2023-09-13 19:46:23,703] Trial 37 finished with value: 1.5182050977865305 and parameters: {'max_depth': 5, 'min_data_in_leaf': 5, 'subsample': 0.9539135011946153, 'n_estimators': 62, 'learning_rate': 0.05709826891940988, 'colsample_bytree': 0.9549788777002614}. Best is trial 11 with value: 1.140165940993059.\n"
     ]
    },
    {
     "name": "stdout",
     "output_type": "stream",
     "text": [
      "[LightGBM] [Warning] min_data_in_leaf is set=16, min_child_samples=20 will be ignored. Current value: min_data_in_leaf=16\n"
     ]
    },
    {
     "name": "stderr",
     "output_type": "stream",
     "text": [
      "[I 2023-09-13 19:46:24,497] Trial 38 finished with value: 1.4572132005305407 and parameters: {'max_depth': 10, 'min_data_in_leaf': 16, 'subsample': 0.9187980021155512, 'n_estimators': 57, 'learning_rate': 0.03891529514318468, 'colsample_bytree': 0.8933599016486355}. Best is trial 11 with value: 1.140165940993059.\n",
      "[I 2023-09-13 19:46:24,721] Trial 39 finished with value: 1.3761324634820804 and parameters: {'max_depth': 3, 'min_data_in_leaf': 18, 'subsample': 0.9842154230870506, 'n_estimators': 52, 'learning_rate': 0.15064937471172898, 'colsample_bytree': 0.976471439503523}. Best is trial 11 with value: 1.140165940993059.\n"
     ]
    },
    {
     "name": "stdout",
     "output_type": "stream",
     "text": [
      "[LightGBM] [Warning] min_data_in_leaf is set=18, min_child_samples=20 will be ignored. Current value: min_data_in_leaf=18\n",
      "[LightGBM] [Warning] min_data_in_leaf is set=19, min_child_samples=20 will be ignored. Current value: min_data_in_leaf=19\n"
     ]
    },
    {
     "name": "stderr",
     "output_type": "stream",
     "text": [
      "[I 2023-09-13 19:46:25,695] Trial 40 finished with value: 1.2748785399831288 and parameters: {'max_depth': 9, 'min_data_in_leaf': 19, 'subsample': 0.8821402197091183, 'n_estimators': 82, 'learning_rate': 0.01775831031349924, 'colsample_bytree': 0.934880098256986}. Best is trial 11 with value: 1.140165940993059.\n"
     ]
    },
    {
     "name": "stdout",
     "output_type": "stream",
     "text": [
      "[LightGBM] [Warning] min_data_in_leaf is set=17, min_child_samples=20 will be ignored. Current value: min_data_in_leaf=17\n"
     ]
    },
    {
     "name": "stderr",
     "output_type": "stream",
     "text": [
      "[I 2023-09-13 19:46:26,520] Trial 41 finished with value: 1.1716158052893815 and parameters: {'max_depth': 9, 'min_data_in_leaf': 17, 'subsample': 0.9999239935987696, 'n_estimators': 57, 'learning_rate': 0.013293626281759233, 'colsample_bytree': 0.9108387311029281}. Best is trial 11 with value: 1.140165940993059.\n"
     ]
    },
    {
     "name": "stdout",
     "output_type": "stream",
     "text": [
      "[LightGBM] [Warning] min_data_in_leaf is set=17, min_child_samples=20 will be ignored. Current value: min_data_in_leaf=17\n"
     ]
    },
    {
     "name": "stderr",
     "output_type": "stream",
     "text": [
      "[I 2023-09-13 19:46:27,301] Trial 42 finished with value: 1.2234052489291476 and parameters: {'max_depth': 10, 'min_data_in_leaf': 17, 'subsample': 0.964879823628989, 'n_estimators': 55, 'learning_rate': 0.019168308833468456, 'colsample_bytree': 0.9265063426126549}. Best is trial 11 with value: 1.140165940993059.\n"
     ]
    },
    {
     "name": "stdout",
     "output_type": "stream",
     "text": [
      "[LightGBM] [Warning] min_data_in_leaf is set=20, min_child_samples=20 will be ignored. Current value: min_data_in_leaf=20\n"
     ]
    },
    {
     "name": "stderr",
     "output_type": "stream",
     "text": [
      "[I 2023-09-13 19:46:27,947] Trial 43 finished with value: 1.275811069889851 and parameters: {'max_depth': 8, 'min_data_in_leaf': 20, 'subsample': 0.9844135748584728, 'n_estimators': 51, 'learning_rate': 0.03062041718655184, 'colsample_bytree': 0.9817246021474973}. Best is trial 11 with value: 1.140165940993059.\n"
     ]
    },
    {
     "name": "stdout",
     "output_type": "stream",
     "text": [
      "[LightGBM] [Warning] min_data_in_leaf is set=19, min_child_samples=20 will be ignored. Current value: min_data_in_leaf=19\n"
     ]
    },
    {
     "name": "stderr",
     "output_type": "stream",
     "text": [
      "[I 2023-09-13 19:46:28,673] Trial 44 finished with value: 1.147723163992194 and parameters: {'max_depth': 9, 'min_data_in_leaf': 19, 'subsample': 0.9997543727274107, 'n_estimators': 57, 'learning_rate': 0.010570595426567431, 'colsample_bytree': 0.9525793522778705}. Best is trial 11 with value: 1.140165940993059.\n"
     ]
    },
    {
     "name": "stdout",
     "output_type": "stream",
     "text": [
      "[LightGBM] [Warning] min_data_in_leaf is set=19, min_child_samples=20 will be ignored. Current value: min_data_in_leaf=19\n"
     ]
    },
    {
     "name": "stderr",
     "output_type": "stream",
     "text": [
      "[I 2023-09-13 19:46:29,911] Trial 45 finished with value: 1.5371682625755587 and parameters: {'max_depth': 10, 'min_data_in_leaf': 19, 'subsample': 0.9461502316054009, 'n_estimators': 65, 'learning_rate': 0.04470292058884518, 'colsample_bytree': 0.9533357037512934}. Best is trial 11 with value: 1.140165940993059.\n"
     ]
    },
    {
     "name": "stdout",
     "output_type": "stream",
     "text": [
      "[LightGBM] [Warning] min_data_in_leaf is set=20, min_child_samples=20 will be ignored. Current value: min_data_in_leaf=20\n"
     ]
    },
    {
     "name": "stderr",
     "output_type": "stream",
     "text": [
      "[I 2023-09-13 19:46:30,605] Trial 46 finished with value: 1.1830496199053857 and parameters: {'max_depth': 7, 'min_data_in_leaf': 20, 'subsample': 0.9658395180512553, 'n_estimators': 59, 'learning_rate': 0.01790910988657042, 'colsample_bytree': 0.9996526690814624}. Best is trial 11 with value: 1.140165940993059.\n"
     ]
    },
    {
     "name": "stdout",
     "output_type": "stream",
     "text": [
      "[LightGBM] [Warning] min_data_in_leaf is set=18, min_child_samples=20 will be ignored. Current value: min_data_in_leaf=18\n"
     ]
    },
    {
     "name": "stderr",
     "output_type": "stream",
     "text": [
      "[I 2023-09-13 19:46:31,527] Trial 47 finished with value: 1.3410447364016949 and parameters: {'max_depth': 9, 'min_data_in_leaf': 18, 'subsample': 0.9139661485885024, 'n_estimators': 61, 'learning_rate': 0.02987134629444054, 'colsample_bytree': 0.9800793143609413}. Best is trial 11 with value: 1.140165940993059.\n"
     ]
    },
    {
     "name": "stdout",
     "output_type": "stream",
     "text": [
      "[LightGBM] [Warning] min_data_in_leaf is set=9, min_child_samples=20 will be ignored. Current value: min_data_in_leaf=9\n"
     ]
    },
    {
     "name": "stderr",
     "output_type": "stream",
     "text": [
      "[I 2023-09-13 19:46:33,872] Trial 48 finished with value: 1.6038188109481675 and parameters: {'max_depth': 10, 'min_data_in_leaf': 9, 'subsample': 0.986504795119258, 'n_estimators': 50, 'learning_rate': 0.04872574947041404, 'colsample_bytree': 0.9526346539940451}. Best is trial 11 with value: 1.140165940993059.\n"
     ]
    },
    {
     "name": "stdout",
     "output_type": "stream",
     "text": [
      "[LightGBM] [Warning] min_data_in_leaf is set=19, min_child_samples=20 will be ignored. Current value: min_data_in_leaf=19\n"
     ]
    },
    {
     "name": "stderr",
     "output_type": "stream",
     "text": [
      "[I 2023-09-13 19:46:34,827] Trial 49 finished with value: 1.1975558794986096 and parameters: {'max_depth': 8, 'min_data_in_leaf': 19, 'subsample': 0.9491652629401307, 'n_estimators': 57, 'learning_rate': 0.01921525884835504, 'colsample_bytree': 0.7926211878387852}. Best is trial 11 with value: 1.140165940993059.\n"
     ]
    },
    {
     "ename": "KeyError",
     "evalue": "0.1",
     "output_type": "error",
     "traceback": [
      "\u001b[0;31m---------------------------------------------------------------------------\u001b[0m",
      "\u001b[0;31mKeyError\u001b[0m                                  Traceback (most recent call last)",
      "\u001b[1;32m/Users/servandodavidtorresgarcia/Servando/Relu/Relu/notebooks/looker_ecommerce_dataset_v1.ipynb Cell 73\u001b[0m line \u001b[0;36m<cell line: 3>\u001b[0;34m()\u001b[0m\n\u001b[1;32m      <a href='vscode-notebook-cell:/Users/servandodavidtorresgarcia/Servando/Relu/Relu/notebooks/looker_ecommerce_dataset_v1.ipynb#Y130sZmlsZQ%3D%3D?line=0'>1</a>\u001b[0m \u001b[39mfrom\u001b[39;00m \u001b[39msrc\u001b[39;00m\u001b[39m.\u001b[39;00m\u001b[39mtrain\u001b[39;00m\u001b[39m.\u001b[39;00m\u001b[39mquantile_training\u001b[39;00m \u001b[39mimport\u001b[39;00m DemandCurveTrainer\n\u001b[1;32m      <a href='vscode-notebook-cell:/Users/servandodavidtorresgarcia/Servando/Relu/Relu/notebooks/looker_ecommerce_dataset_v1.ipynb#Y130sZmlsZQ%3D%3D?line=1'>2</a>\u001b[0m trainer \u001b[39m=\u001b[39m DemandCurveTrainer(X_train, y_train, X_val, y_val,  tune_params\u001b[39m=\u001b[39m\u001b[39mTrue\u001b[39;00m)\n\u001b[0;32m----> <a href='vscode-notebook-cell:/Users/servandodavidtorresgarcia/Servando/Relu/Relu/notebooks/looker_ecommerce_dataset_v1.ipynb#Y130sZmlsZQ%3D%3D?line=2'>3</a>\u001b[0m trainer\u001b[39m.\u001b[39;49mplot_feature_importance()\n",
      "File \u001b[0;32m~/Servando/Relu/Relu/src/train/quantile_training.py:120\u001b[0m, in \u001b[0;36mDemandCurveTrainer.plot_feature_importance\u001b[0;34m(self)\u001b[0m\n\u001b[1;32m    118\u001b[0m plt\u001b[39m.\u001b[39mfigure()\n\u001b[1;32m    119\u001b[0m plt\u001b[39m.\u001b[39mtitle(\u001b[39mf\u001b[39m\u001b[39m'\u001b[39m\u001b[39mFeature importances for quantile \u001b[39m\u001b[39m{\u001b[39;00mq\u001b[39m}\u001b[39;00m\u001b[39m'\u001b[39m)\n\u001b[0;32m--> 120\u001b[0m sorted_idx \u001b[39m=\u001b[39m \u001b[39mself\u001b[39;49m\u001b[39m.\u001b[39;49mmodels[q]\u001b[39m.\u001b[39mfeature_importances_\u001b[39m.\u001b[39margsort()\n\u001b[1;32m    121\u001b[0m \u001b[39mprint\u001b[39m(\u001b[39mf\u001b[39m\u001b[39m\"\u001b[39m\u001b[39mDebug: sorted_idx: \u001b[39m\u001b[39m{\u001b[39;00msorted_idx\u001b[39m}\u001b[39;00m\u001b[39m\"\u001b[39m)\n\u001b[1;32m    122\u001b[0m \u001b[39mprint\u001b[39m(\u001b[39mf\u001b[39m\u001b[39m\"\u001b[39m\u001b[39mDebug: X_train.columns: \u001b[39m\u001b[39m{\u001b[39;00m\u001b[39mself\u001b[39m\u001b[39m.\u001b[39mX_train\u001b[39m.\u001b[39mcolumns\u001b[39m}\u001b[39;00m\u001b[39m\"\u001b[39m)\n",
      "\u001b[0;31mKeyError\u001b[0m: 0.1"
     ]
    },
    {
     "data": {
      "image/png": "[encoded data removed]",
      "text/plain": [
       "<Figure size 640x480 with 1 Axes>"
      ]
     },
     "metadata": {},
     "output_type": "display_data"
    }
   ],
   "source": [
    "from src.train.quantile_training import DemandCurveTrainer\n",
    "trainer = DemandCurveTrainer(X_train, y_train, X_val, y_val,  tune_params=True)\n",
    "trainer.plot_feature_importance()"
   ]
  },
  {
   "cell_type": "markdown",
   "metadata": {},
   "source": []
  }
 ],
 "metadata": {
  "kernelspec": {
   "display_name": "relu",
   "language": "python",
   "name": "python3"
  },
  "language_info": {
   "codemirror_mode": {
    "name": "ipython",
    "version": 3
   },
   "file_extension": ".py",
   "mimetype": "text/x-python",
   "name": "python",
   "nbconvert_exporter": "python",
   "pygments_lexer": "ipython3",
   "version": "3.8.16"
  },
  "orig_nbformat": 4
 },
 "nbformat": 4,
 "nbformat_minor": 2
}
