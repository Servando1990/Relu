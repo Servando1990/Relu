{
 "cells": [
  {
   "cell_type": "code",
   "execution_count": 1,
   "metadata": {},
   "outputs": [],
   "source": [
    "%load_ext autoreload\n",
    "%autoreload 2\n"
   ]
  },
  {
   "cell_type": "code",
   "execution_count": 2,
   "metadata": {},
   "outputs": [],
   "source": [
    "import pandas as pd\n",
    "import numpy as np\n",
    "def generate_synthetic_data(n=1000):\n",
    "\n",
    "\n",
    "    # Set a seed for reproducibility\n",
    "    np.random.seed(42)\n",
    "\n",
    "    # Dates ranging over a year\n",
    "    dates = pd.date_range(start='2022-01-01', periods=n)\n",
    "\n",
    "    # Product categories\n",
    "    categories = ['Electronics', 'Furniture', 'Grocery', 'Clothing']\n",
    "    product_categories = np.random.choice(categories, n)\n",
    "\n",
    "    # Products and SKUs\n",
    "    products = [f'Product_{i}' for i in range(1, 51)]  # 50 products\n",
    "    product_list = np.random.choice(products, n)\n",
    "    SKUs = [f'SKU_{i}' for i in range(1, 51)]  # 50 SKUs\n",
    "    sku_list = np.random.choice(SKUs, n)\n",
    "\n",
    "    # Prices normally distributed and positive\n",
    "    prices = np.abs(np.random.normal(loc=100, scale=20, size=n))\n",
    "\n",
    "    # Quantity sold - we assume that it's a Poisson distribution\n",
    "    quantity = np.random.poisson(lam=10, size=n)\n",
    "\n",
    "    # Competitor's price - usually it would be around the actual product price\n",
    "    competitor_prices = prices + np.random.normal(loc=0, scale=10, size=n)\n",
    "\n",
    "    # Discounts\n",
    "    discounts = np.random.choice([0, 5, 10, 15, 20], size=n)  # in percentage\n",
    "\n",
    "    # Create a dataframe\n",
    "    df = pd.DataFrame({\n",
    "        'date': dates,\n",
    "        'product': product_list,\n",
    "        'SKU': sku_list,\n",
    "        'category': product_categories,\n",
    "        'price': prices,\n",
    "        'quantity': quantity,\n",
    "        'competitor_price': competitor_prices,\n",
    "        'discount': discounts\n",
    "    })\n",
    "\n",
    "    # Black Friday dates\n",
    "    df['black_friday_date'] = pd.to_datetime(['2022-11-25' if date.month >= 11 else '2023-11-24' for date in df['date']])\n",
    "    \n",
    "\n",
    "    #df.to_csv('synthetic_data.csv', index=False)\n",
    "    print(f\"Synthetic data of size {n} generated and saved to 'synthetic_data.csv'\")\n",
    "\n",
    "    return df\n",
    "\n",
    "# Call the function with a custom size\n",
    "\n"
   ]
  },
  {
   "cell_type": "code",
   "execution_count": 3,
   "metadata": {},
   "outputs": [
    {
     "name": "stdout",
     "output_type": "stream",
     "text": [
      "Synthetic data of size 5000 generated and saved to 'synthetic_data.csv'\n"
     ]
    }
   ],
   "source": [
    "df = generate_synthetic_data(n=5000)"
   ]
  },
  {
   "cell_type": "code",
   "execution_count": 5,
   "metadata": {},
   "outputs": [
    {
     "data": {
      "text/html": [
       "<div>\n",
       "<style scoped>\n",
       "    .dataframe tbody tr th:only-of-type {\n",
       "        vertical-align: middle;\n",
       "    }\n",
       "\n",
       "    .dataframe tbody tr th {\n",
       "        vertical-align: top;\n",
       "    }\n",
       "\n",
       "    .dataframe thead th {\n",
       "        text-align: right;\n",
       "    }\n",
       "</style>\n",
       "<table border=\"1\" class=\"dataframe\">\n",
       "  <thead>\n",
       "    <tr style=\"text-align: right;\">\n",
       "      <th></th>\n",
       "      <th>date</th>\n",
       "      <th>product</th>\n",
       "      <th>SKU</th>\n",
       "      <th>category</th>\n",
       "      <th>price</th>\n",
       "      <th>quantity</th>\n",
       "      <th>competitor_price</th>\n",
       "      <th>discount</th>\n",
       "      <th>black_friday_date</th>\n",
       "    </tr>\n",
       "  </thead>\n",
       "  <tbody>\n",
       "    <tr>\n",
       "      <th>0</th>\n",
       "      <td>2022-01-01</td>\n",
       "      <td>Product_47</td>\n",
       "      <td>SKU_37</td>\n",
       "      <td>Grocery</td>\n",
       "      <td>132.432952</td>\n",
       "      <td>12</td>\n",
       "      <td>156.235766</td>\n",
       "      <td>20</td>\n",
       "      <td>2023-11-24</td>\n",
       "    </tr>\n",
       "    <tr>\n",
       "      <th>1</th>\n",
       "      <td>2022-01-02</td>\n",
       "      <td>Product_47</td>\n",
       "      <td>SKU_36</td>\n",
       "      <td>Clothing</td>\n",
       "      <td>132.682820</td>\n",
       "      <td>7</td>\n",
       "      <td>133.821708</td>\n",
       "      <td>15</td>\n",
       "      <td>2023-11-24</td>\n",
       "    </tr>\n",
       "    <tr>\n",
       "      <th>2</th>\n",
       "      <td>2022-01-03</td>\n",
       "      <td>Product_4</td>\n",
       "      <td>SKU_36</td>\n",
       "      <td>Electronics</td>\n",
       "      <td>98.879707</td>\n",
       "      <td>8</td>\n",
       "      <td>98.533180</td>\n",
       "      <td>10</td>\n",
       "      <td>2023-11-24</td>\n",
       "    </tr>\n",
       "    <tr>\n",
       "      <th>3</th>\n",
       "      <td>2022-01-04</td>\n",
       "      <td>Product_7</td>\n",
       "      <td>SKU_4</td>\n",
       "      <td>Grocery</td>\n",
       "      <td>105.060170</td>\n",
       "      <td>8</td>\n",
       "      <td>105.503424</td>\n",
       "      <td>20</td>\n",
       "      <td>2023-11-24</td>\n",
       "    </tr>\n",
       "    <tr>\n",
       "      <th>4</th>\n",
       "      <td>2022-01-05</td>\n",
       "      <td>Product_45</td>\n",
       "      <td>SKU_36</td>\n",
       "      <td>Grocery</td>\n",
       "      <td>87.767968</td>\n",
       "      <td>10</td>\n",
       "      <td>90.016462</td>\n",
       "      <td>5</td>\n",
       "      <td>2023-11-24</td>\n",
       "    </tr>\n",
       "  </tbody>\n",
       "</table>\n",
       "</div>"
      ],
      "text/plain": [
       "        date     product     SKU     category       price  quantity  \\\n",
       "0 2022-01-01  Product_47  SKU_37      Grocery  132.432952        12   \n",
       "1 2022-01-02  Product_47  SKU_36     Clothing  132.682820         7   \n",
       "2 2022-01-03   Product_4  SKU_36  Electronics   98.879707         8   \n",
       "3 2022-01-04   Product_7   SKU_4      Grocery  105.060170         8   \n",
       "4 2022-01-05  Product_45  SKU_36      Grocery   87.767968        10   \n",
       "\n",
       "   competitor_price  discount black_friday_date  \n",
       "0        156.235766        20        2023-11-24  \n",
       "1        133.821708        15        2023-11-24  \n",
       "2         98.533180        10        2023-11-24  \n",
       "3        105.503424        20        2023-11-24  \n",
       "4         90.016462         5        2023-11-24  "
      ]
     },
     "execution_count": 5,
     "metadata": {},
     "output_type": "execute_result"
    }
   ],
   "source": [
    "df.head()\n"
   ]
  },
  {
   "cell_type": "code",
   "execution_count": 4,
   "metadata": {},
   "outputs": [],
   "source": [
    "import sys\n",
    "sys.path.append('../src')"
   ]
  },
  {
   "cell_type": "code",
   "execution_count": 49,
   "metadata": {},
   "outputs": [],
   "source": [
    "from data.feature_engineering import FeatureEngineeringProcess\n"
   ]
  },
  {
   "cell_type": "code",
   "execution_count": 50,
   "metadata": {},
   "outputs": [
    {
     "name": "stdout",
     "output_type": "stream",
     "text": [
      "updated ___\n"
     ]
    }
   ],
   "source": [
    "#date_fe = FeatureEngineeringProcess.datetime_transform\n",
    "feature_engineering = FeatureEngineeringProcess()\n",
    "df = feature_engineering.datetime_transform(df, date_feature='date', \n",
    "                                            features=['month', 'day', 'day_name', 'week', 'year',\n",
    "                                                       'quarter', 'season','holidays'],\n",
    "                                                       )"
   ]
  },
  {
   "cell_type": "code",
   "execution_count": 51,
   "metadata": {},
   "outputs": [
    {
     "data": {
      "text/html": [
       "<div>\n",
       "<style scoped>\n",
       "    .dataframe tbody tr th:only-of-type {\n",
       "        vertical-align: middle;\n",
       "    }\n",
       "\n",
       "    .dataframe tbody tr th {\n",
       "        vertical-align: top;\n",
       "    }\n",
       "\n",
       "    .dataframe thead th {\n",
       "        text-align: right;\n",
       "    }\n",
       "</style>\n",
       "<table border=\"1\" class=\"dataframe\">\n",
       "  <thead>\n",
       "    <tr style=\"text-align: right;\">\n",
       "      <th></th>\n",
       "      <th>date</th>\n",
       "      <th>product</th>\n",
       "      <th>SKU</th>\n",
       "      <th>category</th>\n",
       "      <th>price</th>\n",
       "      <th>quantity</th>\n",
       "      <th>competitor_price</th>\n",
       "      <th>discount</th>\n",
       "      <th>black_friday_date</th>\n",
       "      <th>date_month</th>\n",
       "      <th>date_day</th>\n",
       "      <th>date_day_name</th>\n",
       "      <th>date_week</th>\n",
       "      <th>date_year</th>\n",
       "      <th>date_quarter</th>\n",
       "      <th>date_season</th>\n",
       "      <th>date_holidays</th>\n",
       "    </tr>\n",
       "  </thead>\n",
       "  <tbody>\n",
       "    <tr>\n",
       "      <th>0</th>\n",
       "      <td>2022-01-01</td>\n",
       "      <td>Product_47</td>\n",
       "      <td>SKU_37</td>\n",
       "      <td>Grocery</td>\n",
       "      <td>132.432952</td>\n",
       "      <td>12</td>\n",
       "      <td>156.235766</td>\n",
       "      <td>20</td>\n",
       "      <td>2023-11-24</td>\n",
       "      <td>1</td>\n",
       "      <td>1</td>\n",
       "      <td>Saturday</td>\n",
       "      <td>52</td>\n",
       "      <td>2022</td>\n",
       "      <td>1</td>\n",
       "      <td>Winter</td>\n",
       "      <td>1</td>\n",
       "    </tr>\n",
       "    <tr>\n",
       "      <th>1</th>\n",
       "      <td>2022-01-02</td>\n",
       "      <td>Product_47</td>\n",
       "      <td>SKU_36</td>\n",
       "      <td>Clothing</td>\n",
       "      <td>132.682820</td>\n",
       "      <td>7</td>\n",
       "      <td>133.821708</td>\n",
       "      <td>15</td>\n",
       "      <td>2023-11-24</td>\n",
       "      <td>1</td>\n",
       "      <td>2</td>\n",
       "      <td>Sunday</td>\n",
       "      <td>52</td>\n",
       "      <td>2022</td>\n",
       "      <td>1</td>\n",
       "      <td>Winter</td>\n",
       "      <td>0</td>\n",
       "    </tr>\n",
       "    <tr>\n",
       "      <th>2</th>\n",
       "      <td>2022-01-03</td>\n",
       "      <td>Product_4</td>\n",
       "      <td>SKU_36</td>\n",
       "      <td>Electronics</td>\n",
       "      <td>98.879707</td>\n",
       "      <td>8</td>\n",
       "      <td>98.533180</td>\n",
       "      <td>10</td>\n",
       "      <td>2023-11-24</td>\n",
       "      <td>1</td>\n",
       "      <td>3</td>\n",
       "      <td>Monday</td>\n",
       "      <td>1</td>\n",
       "      <td>2022</td>\n",
       "      <td>1</td>\n",
       "      <td>Winter</td>\n",
       "      <td>0</td>\n",
       "    </tr>\n",
       "    <tr>\n",
       "      <th>3</th>\n",
       "      <td>2022-01-04</td>\n",
       "      <td>Product_7</td>\n",
       "      <td>SKU_4</td>\n",
       "      <td>Grocery</td>\n",
       "      <td>105.060170</td>\n",
       "      <td>8</td>\n",
       "      <td>105.503424</td>\n",
       "      <td>20</td>\n",
       "      <td>2023-11-24</td>\n",
       "      <td>1</td>\n",
       "      <td>4</td>\n",
       "      <td>Tuesday</td>\n",
       "      <td>1</td>\n",
       "      <td>2022</td>\n",
       "      <td>1</td>\n",
       "      <td>Winter</td>\n",
       "      <td>0</td>\n",
       "    </tr>\n",
       "    <tr>\n",
       "      <th>4</th>\n",
       "      <td>2022-01-05</td>\n",
       "      <td>Product_45</td>\n",
       "      <td>SKU_36</td>\n",
       "      <td>Grocery</td>\n",
       "      <td>87.767968</td>\n",
       "      <td>10</td>\n",
       "      <td>90.016462</td>\n",
       "      <td>5</td>\n",
       "      <td>2023-11-24</td>\n",
       "      <td>1</td>\n",
       "      <td>5</td>\n",
       "      <td>Wednesday</td>\n",
       "      <td>1</td>\n",
       "      <td>2022</td>\n",
       "      <td>1</td>\n",
       "      <td>Winter</td>\n",
       "      <td>0</td>\n",
       "    </tr>\n",
       "  </tbody>\n",
       "</table>\n",
       "</div>"
      ],
      "text/plain": [
       "        date     product     SKU     category       price  quantity  \\\n",
       "0 2022-01-01  Product_47  SKU_37      Grocery  132.432952        12   \n",
       "1 2022-01-02  Product_47  SKU_36     Clothing  132.682820         7   \n",
       "2 2022-01-03   Product_4  SKU_36  Electronics   98.879707         8   \n",
       "3 2022-01-04   Product_7   SKU_4      Grocery  105.060170         8   \n",
       "4 2022-01-05  Product_45  SKU_36      Grocery   87.767968        10   \n",
       "\n",
       "   competitor_price  discount black_friday_date  date_month  date_day  \\\n",
       "0        156.235766        20        2023-11-24           1         1   \n",
       "1        133.821708        15        2023-11-24           1         2   \n",
       "2         98.533180        10        2023-11-24           1         3   \n",
       "3        105.503424        20        2023-11-24           1         4   \n",
       "4         90.016462         5        2023-11-24           1         5   \n",
       "\n",
       "  date_day_name  date_week  date_year  date_quarter date_season  date_holidays  \n",
       "0      Saturday         52       2022             1      Winter              1  \n",
       "1        Sunday         52       2022             1      Winter              0  \n",
       "2        Monday          1       2022             1      Winter              0  \n",
       "3       Tuesday          1       2022             1      Winter              0  \n",
       "4     Wednesday          1       2022             1      Winter              0  "
      ]
     },
     "execution_count": 51,
     "metadata": {},
     "output_type": "execute_result"
    }
   ],
   "source": [
    "df.head()"
   ]
  },
  {
   "cell_type": "code",
   "execution_count": 52,
   "metadata": {},
   "outputs": [
    {
     "data": {
      "text/plain": [
       "0    4822\n",
       "1     178\n",
       "Name: date_holidays, dtype: int64"
      ]
     },
     "execution_count": 52,
     "metadata": {},
     "output_type": "execute_result"
    }
   ],
   "source": [
    "df.date_holidays.value_counts()"
   ]
  },
  {
   "cell_type": "code",
   "execution_count": 26,
   "metadata": {},
   "outputs": [
    {
     "data": {
      "text/plain": [
       "\"New Year's Day\""
      ]
     },
     "execution_count": 26,
     "metadata": {},
     "output_type": "execute_result"
    }
   ],
   "source": [
    "from datetime import date\n",
    "import holidays\n",
    "\n",
    "us_holidays = holidays.US()  # this is a dict\n",
    "# the below is the same, but takes a string:\n",
    "us_holidays = holidays.country_holidays('US')  # this is a dict\n",
    "\n",
    "\n",
    "\n",
    "date(2015, 1, 1) in us_holidays  # True\n",
    "date(2015, 1, 2) in us_holidays  # False\n",
    "us_holidays.get('2014-01-01')  # \"New Year's Day\""
   ]
  },
  {
   "cell_type": "code",
   "execution_count": 46,
   "metadata": {},
   "outputs": [
    {
     "data": {
      "text/plain": [
       "dict_keys([datetime.date(2022, 1, 1), datetime.date(2022, 1, 6), datetime.date(2022, 4, 17), datetime.date(2022, 4, 18), datetime.date(2022, 5, 1), datetime.date(2022, 5, 3), datetime.date(2022, 6, 5), datetime.date(2022, 6, 16), datetime.date(2022, 8, 15), datetime.date(2022, 11, 1), datetime.date(2022, 11, 11), datetime.date(2022, 12, 25), datetime.date(2022, 12, 26)])"
      ]
     },
     "execution_count": 46,
     "metadata": {},
     "output_type": "execute_result"
    }
   ],
   "source": [
    "holidays.CountryHoliday('PL', years=2022).keys()"
   ]
  },
  {
   "cell_type": "code",
   "execution_count": null,
   "metadata": {},
   "outputs": [],
   "source": []
  }
 ],
 "metadata": {
  "kernelspec": {
   "display_name": "relu",
   "language": "python",
   "name": "python3"
  },
  "language_info": {
   "codemirror_mode": {
    "name": "ipython",
    "version": 3
   },
   "file_extension": ".py",
   "mimetype": "text/x-python",
   "name": "python",
   "nbconvert_exporter": "python",
   "pygments_lexer": "ipython3",
   "version": "3.8.16"
  },
  "orig_nbformat": 4
 },
 "nbformat": 4,
 "nbformat_minor": 2
}
