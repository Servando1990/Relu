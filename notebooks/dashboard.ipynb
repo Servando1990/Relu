{
 "cells": [
  {
   "cell_type": "code",
   "execution_count": 1,
   "metadata": {},
   "outputs": [
    {
     "name": "stderr",
     "output_type": "stream",
     "text": [
      "/Users/servandodavidtorresgarcia/miniconda3/envs/relu/lib/python3.8/site-packages/tqdm/auto.py:21: TqdmWarning: IProgress not found. Please update jupyter and ipywidgets. See https://ipywidgets.readthedocs.io/en/stable/user_install.html\n",
      "  from .autonotebook import tqdm as notebook_tqdm\n"
     ]
    },
    {
     "name": "stdout",
     "output_type": "stream",
     "text": [
      "Running on local URL:  http://127.0.0.1:7860\n",
      "\n",
      "To create a public link, set `share=True` in `launch()`.\n"
     ]
    },
    {
     "data": {
      "text/html": [
       "<div><iframe src=\"http://127.0.0.1:7860/\" width=\"100%\" height=\"500\" allow=\"autoplay; camera; microphone; clipboard-read; clipboard-write;\" frameborder=\"0\" allowfullscreen></iframe></div>"
      ],
      "text/plain": [
       "<IPython.core.display.HTML object>"
      ]
     },
     "metadata": {},
     "output_type": "display_data"
    },
    {
     "data": {
      "text/plain": []
     },
     "execution_count": 1,
     "metadata": {},
     "output_type": "execute_result"
    }
   ],
   "source": [
    "import gradio as gr\n",
    "\n",
    "def greet(name):\n",
    "    return \"Hello \" + name + \"!\"\n",
    "\n",
    "demo = gr.Interface(fn=greet, inputs=\"text\", outputs=\"text\")\n",
    "\n",
    "demo.launch()   "
   ]
  },
  {
   "cell_type": "code",
   "execution_count": 2,
   "metadata": {},
   "outputs": [
    {
     "name": "stdout",
     "output_type": "stream",
     "text": [
      "Running on local URL:  http://127.0.0.1:7861\n",
      "\n",
      "To create a public link, set `share=True` in `launch()`.\n"
     ]
    },
    {
     "data": {
      "text/html": [
       "<div><iframe src=\"http://127.0.0.1:7861/\" width=\"100%\" height=\"500\" allow=\"autoplay; camera; microphone; clipboard-read; clipboard-write;\" frameborder=\"0\" allowfullscreen></iframe></div>"
      ],
      "text/plain": [
       "<IPython.core.display.HTML object>"
      ]
     },
     "metadata": {},
     "output_type": "display_data"
    },
    {
     "data": {
      "text/plain": []
     },
     "execution_count": 2,
     "metadata": {},
     "output_type": "execute_result"
    }
   ],
   "source": [
    "import gradio as gr\n",
    "\n",
    "def greet(name):\n",
    "    return \"Hello \" + name + \"!\"\n",
    "\n",
    "demo = gr.Interface(\n",
    "    fn=greet,\n",
    "    inputs=gr.Textbox(lines=2, placeholder=\"Name Here...\"),\n",
    "    outputs=\"text\",\n",
    ")\n",
    "demo.launch()\n"
   ]
  },
  {
   "cell_type": "code",
   "execution_count": 3,
   "metadata": {},
   "outputs": [],
   "source": [
    "import pandas as pd\n",
    "predictions = pd.read_csv('../data/processed/predictions.csv')\n",
    "optimal_prices = pd.read_csv('../data/processed/optimal_prices.csv')"
   ]
  },
  {
   "cell_type": "code",
   "execution_count": 8,
   "metadata": {},
   "outputs": [
    {
     "data": {
      "text/html": [
       "<div>\n",
       "<style scoped>\n",
       "    .dataframe tbody tr th:only-of-type {\n",
       "        vertical-align: middle;\n",
       "    }\n",
       "\n",
       "    .dataframe tbody tr th {\n",
       "        vertical-align: top;\n",
       "    }\n",
       "\n",
       "    .dataframe thead th {\n",
       "        text-align: right;\n",
       "    }\n",
       "</style>\n",
       "<table border=\"1\" class=\"dataframe\">\n",
       "  <thead>\n",
       "    <tr style=\"text-align: right;\">\n",
       "      <th></th>\n",
       "      <th>SKU</th>\n",
       "      <th>price</th>\n",
       "      <th>predicted_sales_xgboost</th>\n",
       "    </tr>\n",
       "  </thead>\n",
       "  <tbody>\n",
       "    <tr>\n",
       "      <th>21450</th>\n",
       "      <td>SET436-KR-NP-XL</td>\n",
       "      <td>1399.00</td>\n",
       "      <td>1.195112</td>\n",
       "    </tr>\n",
       "    <tr>\n",
       "      <th>21451</th>\n",
       "      <td>SET436-KR-NP-XL</td>\n",
       "      <td>1259.10</td>\n",
       "      <td>1.195260</td>\n",
       "    </tr>\n",
       "    <tr>\n",
       "      <th>21452</th>\n",
       "      <td>SET436-KR-NP-XL</td>\n",
       "      <td>1189.15</td>\n",
       "      <td>1.195260</td>\n",
       "    </tr>\n",
       "    <tr>\n",
       "      <th>21453</th>\n",
       "      <td>SET436-KR-NP-XL</td>\n",
       "      <td>1538.90</td>\n",
       "      <td>1.157757</td>\n",
       "    </tr>\n",
       "    <tr>\n",
       "      <th>21454</th>\n",
       "      <td>SET436-KR-NP-XL</td>\n",
       "      <td>1608.85</td>\n",
       "      <td>1.123298</td>\n",
       "    </tr>\n",
       "    <tr>\n",
       "      <th>21455</th>\n",
       "      <td>SET436-KR-NP-XS</td>\n",
       "      <td>1399.00</td>\n",
       "      <td>1.195112</td>\n",
       "    </tr>\n",
       "    <tr>\n",
       "      <th>21456</th>\n",
       "      <td>SET436-KR-NP-XS</td>\n",
       "      <td>1259.10</td>\n",
       "      <td>1.195260</td>\n",
       "    </tr>\n",
       "    <tr>\n",
       "      <th>21457</th>\n",
       "      <td>SET436-KR-NP-XS</td>\n",
       "      <td>1189.15</td>\n",
       "      <td>1.195260</td>\n",
       "    </tr>\n",
       "    <tr>\n",
       "      <th>21458</th>\n",
       "      <td>SET436-KR-NP-XS</td>\n",
       "      <td>1538.90</td>\n",
       "      <td>1.157757</td>\n",
       "    </tr>\n",
       "    <tr>\n",
       "      <th>21459</th>\n",
       "      <td>SET436-KR-NP-XS</td>\n",
       "      <td>1608.85</td>\n",
       "      <td>1.123298</td>\n",
       "    </tr>\n",
       "    <tr>\n",
       "      <th>21460</th>\n",
       "      <td>SET436-KR-NP-XXL</td>\n",
       "      <td>1399.00</td>\n",
       "      <td>1.195112</td>\n",
       "    </tr>\n",
       "    <tr>\n",
       "      <th>21461</th>\n",
       "      <td>SET436-KR-NP-XXL</td>\n",
       "      <td>1259.10</td>\n",
       "      <td>1.195260</td>\n",
       "    </tr>\n",
       "    <tr>\n",
       "      <th>21462</th>\n",
       "      <td>SET436-KR-NP-XXL</td>\n",
       "      <td>1189.15</td>\n",
       "      <td>1.195260</td>\n",
       "    </tr>\n",
       "    <tr>\n",
       "      <th>21463</th>\n",
       "      <td>SET436-KR-NP-XXL</td>\n",
       "      <td>1538.90</td>\n",
       "      <td>1.157757</td>\n",
       "    </tr>\n",
       "    <tr>\n",
       "      <th>21464</th>\n",
       "      <td>SET436-KR-NP-XXL</td>\n",
       "      <td>1608.85</td>\n",
       "      <td>1.123298</td>\n",
       "    </tr>\n",
       "    <tr>\n",
       "      <th>21465</th>\n",
       "      <td>SET436-KR-NP-XXXL</td>\n",
       "      <td>1399.00</td>\n",
       "      <td>1.120115</td>\n",
       "    </tr>\n",
       "    <tr>\n",
       "      <th>21466</th>\n",
       "      <td>SET436-KR-NP-XXXL</td>\n",
       "      <td>1259.10</td>\n",
       "      <td>1.164224</td>\n",
       "    </tr>\n",
       "    <tr>\n",
       "      <th>21467</th>\n",
       "      <td>SET436-KR-NP-XXXL</td>\n",
       "      <td>1189.15</td>\n",
       "      <td>1.164224</td>\n",
       "    </tr>\n",
       "    <tr>\n",
       "      <th>21468</th>\n",
       "      <td>SET436-KR-NP-XXXL</td>\n",
       "      <td>1538.90</td>\n",
       "      <td>1.082760</td>\n",
       "    </tr>\n",
       "    <tr>\n",
       "      <th>21469</th>\n",
       "      <td>SET436-KR-NP-XXXL</td>\n",
       "      <td>1608.85</td>\n",
       "      <td>1.055716</td>\n",
       "    </tr>\n",
       "  </tbody>\n",
       "</table>\n",
       "</div>"
      ],
      "text/plain": [
       "                     SKU    price  predicted_sales_xgboost\n",
       "21450    SET436-KR-NP-XL  1399.00                 1.195112\n",
       "21451    SET436-KR-NP-XL  1259.10                 1.195260\n",
       "21452    SET436-KR-NP-XL  1189.15                 1.195260\n",
       "21453    SET436-KR-NP-XL  1538.90                 1.157757\n",
       "21454    SET436-KR-NP-XL  1608.85                 1.123298\n",
       "21455    SET436-KR-NP-XS  1399.00                 1.195112\n",
       "21456    SET436-KR-NP-XS  1259.10                 1.195260\n",
       "21457    SET436-KR-NP-XS  1189.15                 1.195260\n",
       "21458    SET436-KR-NP-XS  1538.90                 1.157757\n",
       "21459    SET436-KR-NP-XS  1608.85                 1.123298\n",
       "21460   SET436-KR-NP-XXL  1399.00                 1.195112\n",
       "21461   SET436-KR-NP-XXL  1259.10                 1.195260\n",
       "21462   SET436-KR-NP-XXL  1189.15                 1.195260\n",
       "21463   SET436-KR-NP-XXL  1538.90                 1.157757\n",
       "21464   SET436-KR-NP-XXL  1608.85                 1.123298\n",
       "21465  SET436-KR-NP-XXXL  1399.00                 1.120115\n",
       "21466  SET436-KR-NP-XXXL  1259.10                 1.164224\n",
       "21467  SET436-KR-NP-XXXL  1189.15                 1.164224\n",
       "21468  SET436-KR-NP-XXXL  1538.90                 1.082760\n",
       "21469  SET436-KR-NP-XXXL  1608.85                 1.055716"
      ]
     },
     "execution_count": 8,
     "metadata": {},
     "output_type": "execute_result"
    }
   ],
   "source": [
    "predictions.tail(209)\n"
   ]
  },
  {
   "attachments": {},
   "cell_type": "markdown",
   "metadata": {},
   "source": [
    "By selecting a single row from this table and substituting various values into the price column, you can obtain different sales values, which together form the predicted demand curve for a specific product"
   ]
  },
  {
   "cell_type": "code",
   "execution_count": 11,
   "metadata": {},
   "outputs": [
    {
     "ename": "NameError",
     "evalue": "name 'sku' is not defined",
     "output_type": "error",
     "traceback": [
      "\u001b[0;31m---------------------------------------------------------------------------\u001b[0m",
      "\u001b[0;31mNameError\u001b[0m                                 Traceback (most recent call last)",
      "\u001b[1;32m/Users/servandodavidtorresgarcia/Servando/Relu/Relu/notebooks/dashboard.ipynb Cell 6\u001b[0m in \u001b[0;36m<cell line: 3>\u001b[0;34m()\u001b[0m\n\u001b[1;32m      <a href='vscode-notebook-cell:/Users/servandodavidtorresgarcia/Servando/Relu/Relu/notebooks/dashboard.ipynb#X10sZmlsZQ%3D%3D?line=0'>1</a>\u001b[0m \u001b[39mimport\u001b[39;00m \u001b[39mmatplotlib\u001b[39;00m\u001b[39m.\u001b[39;00m\u001b[39mpyplot\u001b[39;00m \u001b[39mas\u001b[39;00m \u001b[39mplt\u001b[39;00m\n\u001b[1;32m      <a href='vscode-notebook-cell:/Users/servandodavidtorresgarcia/Servando/Relu/Relu/notebooks/dashboard.ipynb#X10sZmlsZQ%3D%3D?line=1'>2</a>\u001b[0m \u001b[39m# Plot the demand curve for this SKU\u001b[39;00m\n\u001b[0;32m----> <a href='vscode-notebook-cell:/Users/servandodavidtorresgarcia/Servando/Relu/Relu/notebooks/dashboard.ipynb#X10sZmlsZQ%3D%3D?line=2'>3</a>\u001b[0m sku_results \u001b[39m=\u001b[39m predictions[predictions[\u001b[39m'\u001b[39m\u001b[39mSKU\u001b[39m\u001b[39m'\u001b[39m] \u001b[39m==\u001b[39m sku]\n\u001b[1;32m      <a href='vscode-notebook-cell:/Users/servandodavidtorresgarcia/Servando/Relu/Relu/notebooks/dashboard.ipynb#X10sZmlsZQ%3D%3D?line=3'>4</a>\u001b[0m plt\u001b[39m.\u001b[39mplot(sku_results[\u001b[39m'\u001b[39m\u001b[39mprice\u001b[39m\u001b[39m'\u001b[39m], sku_results[\u001b[39m'\u001b[39m\u001b[39mpredicted_sales_xgboost\u001b[39m\u001b[39m'\u001b[39m], label\u001b[39m=\u001b[39msku)\n\u001b[1;32m      <a href='vscode-notebook-cell:/Users/servandodavidtorresgarcia/Servando/Relu/Relu/notebooks/dashboard.ipynb#X10sZmlsZQ%3D%3D?line=5'>6</a>\u001b[0m     \u001b[39m# Add labels and legend to the plot\u001b[39;00m\n",
      "\u001b[0;31mNameError\u001b[0m: name 'sku' is not defined"
     ]
    }
   ],
   "source": [
    "import matplotlib.pyplot as plt\n",
    "# Plot the demand curve for this SKU\n",
    "sku_results = predictions[predictions['SKU'] == sku]\n",
    "plt.plot(sku_results['price'], sku_results['predicted_sales_xgboost'], label=sku)\n",
    "\n",
    "    # Add labels and legend to the plot\n",
    "plt.xlabel('Price')\n",
    "plt.ylabel('Predicted Sales')\n",
    "plt.legend()\n",
    "\n",
    "    # Show the plot\n",
    "plt.show()"
   ]
  },
  {
   "cell_type": "code",
   "execution_count": null,
   "metadata": {},
   "outputs": [],
   "source": [
    "import matplotlib.pyplot as plt\n",
    "\n",
    "def perform_inference(train_data, test_data):\n",
    "    # Fit the XGBoost model\n",
    "    xgboost_model = XGBRegressor()\n",
    "    xgboost_model.fit(train_data.drop(columns=['SKU', 'sales']), train_data['sales'])\n",
    "\n",
    "    # Group test data by SKU\n",
    "    grouped = test_data.groupby('SKU')\n",
    "\n",
    "    # Create an empty dataframe to store the results\n",
    "    results = pd.DataFrame(columns=['SKU', 'price', 'predicted_sales_xgboost'])\n",
    "\n",
    "    # Perform inference for each SKU in test data\n",
    "    for sku, group_data in grouped:\n",
    "        print(f\"Performing inference for SKU: {sku}\")\n",
    "\n",
    "        # Select one row from group data (one set of feature values for this SKU)\n",
    "        feature_values = group_data.iloc[0]\n",
    "\n",
    "        # Set the base price from data\n",
    "        base_price = feature_values['price']\n",
    "\n",
    "        # Define the price points\n",
    "        price_points = [base_price, \n",
    "                        base_price * 0.9,   # base_price - 10%\n",
    "                        base_price * 0.85,  # base_price - 15%\n",
    "                        base_price * 1.1,   # base_price + 10%\n",
    "                        base_price * 1.15]  # base_price + 15%\n",
    "\n",
    "        # For each price point, use the trained model to predict sales and print the result\n",
    "        for price in price_points:\n",
    "            # Change the price while keeping other features constant\n",
    "            test_features = feature_values.copy()\n",
    "            test_features['price'] = price\n",
    "\n",
    "            # Remove the SKU field to match the input shape expected by the model\n",
    "            test_features = test_features.drop(['SKU', 'sales'])\n",
    " \n",
    "            # Predict sales using the XGBoost model and append the results to the dataframe\n",
    "            predicted_sales_xgboost = xgboost_model.predict(test_features.values.reshape(1, -1))[0]\n",
    "            results = results.append({'SKU': sku, 'price': price, 'predicted_sales_xgboost': predicted_sales_xgboost}, ignore_index=True)\n",
    "\n",
    "        # Plot the demand curve for this SKU\n",
    "        sku_results = results[results['SKU'] == sku]\n",
    "        plt.plot(sku_results['price'], sku_results['predicted_sales_xgboost'], label=sku)\n",
    "\n",
    "    # Add labels and legend to the plot\n",
    "    plt.xlabel('Price')\n",
    "    plt.ylabel('Predicted Sales')\n",
    "    plt.legend()\n",
    "\n",
    "    # Show the plot\n",
    "    plt.show()\n",
    "\n",
    "    return results"
   ]
  },
  {
   "cell_type": "code",
   "execution_count": 16,
   "metadata": {},
   "outputs": [],
   "source": [
    "import matplotlib.pyplot as plt\n",
    "\n",
    "def plot_demand_curve(predictions, sku):\n",
    "    # Select the predictions for the given SKU\n",
    "    sku_predictions = predictions[predictions['SKU'] == sku]\n",
    "\n",
    "    # Plot the predicted sales against the price points\n",
    "    plt.plot(sku_predictions['price'], sku_predictions['predicted_sales_xgboost'], label=sku)\n",
    "\n",
    "    # Add labels and legend to the plot\n",
    "    plt.xlabel('Price')\n",
    "    plt.ylabel('Predicted Sales')\n",
    "    plt.legend()\n",
    "\n",
    "    # Show the plot\n",
    "    plt.show()"
   ]
  },
  {
   "cell_type": "code",
   "execution_count": 17,
   "metadata": {},
   "outputs": [
    {
     "data": {
      "image/png": "[encoded data removed]",
      "text/plain": [
       "<Figure size 640x480 with 1 Axes>"
      ]
     },
     "metadata": {},
     "output_type": "display_data"
    }
   ],
   "source": [
    "plot_demand_curve(predictions, 'SET436-KR-NP-XL')"
   ]
  },
  {
   "cell_type": "code",
   "execution_count": 28,
   "metadata": {},
   "outputs": [
    {
     "name": "stdout",
     "output_type": "stream",
     "text": [
      "Running on local URL:  http://127.0.0.1:7870\n",
      "\n",
      "To create a public link, set `share=True` in `launch()`.\n"
     ]
    },
    {
     "data": {
      "text/html": [
       "<div><iframe src=\"http://127.0.0.1:7870/\" width=\"100%\" height=\"500\" allow=\"autoplay; camera; microphone; clipboard-read; clipboard-write;\" frameborder=\"0\" allowfullscreen></iframe></div>"
      ],
      "text/plain": [
       "<IPython.core.display.HTML object>"
      ]
     },
     "metadata": {},
     "output_type": "display_data"
    },
    {
     "data": {
      "text/plain": []
     },
     "execution_count": 28,
     "metadata": {},
     "output_type": "execute_result"
    }
   ],
   "source": [
    "import gradio as gr\n",
    "import pandas as pd\n",
    "import plotly.graph_objs as go\n",
    "\n",
    "\n",
    "def plot_demand_curve(sku):\n",
    "    # Load the predictions dataframe\n",
    "    predictions = pd.read_csv('../data/processed/predictions.csv')\n",
    "\n",
    "    # Select the predictions for the given SKU\n",
    "    sku_predictions = predictions[predictions['SKU'] == sku]\n",
    "\n",
    "    # Create a scatter plot of the predicted sales against the price points\n",
    "    fig = go.Figure()\n",
    "    fig.add_trace(go.Scatter(x=sku_predictions['price'], y=sku_predictions['predicted_sales_xgboost'], mode='lines+markers'))\n",
    "\n",
    "    # Set the plot title and axis labels\n",
    "    plot = fig.update_layout(title=f'Demand Curve for SKU {sku}', xaxis_title='Price', yaxis_title='Predicted Sales')\n",
    "\n",
    "    # Return the plot as an HTML div\n",
    "    return gr.update(value=plot, visible=True)\n",
    "\n",
    "# Define the Gradio interface\n",
    "#inputs = gr.inputs.Textbox(label='SKU')\n",
    "inputs = gr.Textbox(lines=2, placeholder=\"Name Here...\")\n",
    "pip_plot = gr.Plot(visible=False)\n",
    "interface = gr.Interface(fn=plot_demand_curve, inputs=inputs, outputs=pip_plot, examples=[['SET436-KR-NP-XL']])\n",
    "\n",
    "# Run the Gradio interface\n",
    "interface.launch()"
   ]
  }
 ],
 "metadata": {
  "kernelspec": {
   "display_name": "relu",
   "language": "python",
   "name": "python3"
  },
  "language_info": {
   "codemirror_mode": {
    "name": "ipython",
    "version": 3
   },
   "file_extension": ".py",
   "mimetype": "text/x-python",
   "name": "python",
   "nbconvert_exporter": "python",
   "pygments_lexer": "ipython3",
   "version": "3.8.16"
  },
  "orig_nbformat": 4
 },
 "nbformat": 4,
 "nbformat_minor": 2
}
