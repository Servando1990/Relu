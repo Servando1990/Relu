{
 "cells": [
  {
   "cell_type": "code",
   "execution_count": 1,
   "metadata": {},
   "outputs": [],
   "source": [
    "\n",
    "from src.data.dataset_reader import DatasetReader\n",
    "from pathlib import Path\n",
    "import pandas as pd\n",
    "pd.set_option('display.max_columns', None)\n",
    "%load_ext autoreload\n",
    "%autoreload 2\n",
    "# ignore warnings\n",
    "import warnings\n",
    "warnings.filterwarnings('ignore')\n",
    "data_folder = Path(\"../data/raw\").resolve()\n",
    "\n",
    "amazon = DatasetReader(data_folder).get_data_csv('Amazon_Sale_Report.csv')\n",
    "\n"
   ]
  },
  {
   "cell_type": "code",
   "execution_count": 27,
   "metadata": {},
   "outputs": [],
   "source": [
    "from src.data.feature_engineering import FeatureEngineeringProcess\n",
    "fep = FeatureEngineeringProcess()\n"
   ]
  },
  {
   "cell_type": "code",
   "execution_count": 3,
   "metadata": {},
   "outputs": [],
   "source": [
    "# Create a new feature called sales that is the  the count of \"Amount\" grouped by \"SKU\" in the amazon dataset\n",
    "#amazon['sales'] = amazon.groupby('SKU')['Amount'].transform('count')\n",
    "#amazon.drop(columns=[ 'Order ID', 'ASIN', 'Unnamed: 22', 'index'], inplace=True\n",
    "amazon['Date'] = pd.to_datetime(amazon['Date'])\n",
    "amazon['ship-postal-code'] = amazon['ship-postal-code'].astype('object')\n",
    "amazon.rename(columns={'Amount': 'price'}, inplace=True)\n",
    "amazon_beta =  amazon[['Order ID','Date', 'SKU', 'Qty', 'price']]"
   ]
  },
  {
   "cell_type": "code",
   "execution_count": 42,
   "metadata": {},
   "outputs": [
    {
     "name": "stdout",
     "output_type": "stream",
     "text": [
      "The selected dataframe has 6 columns and 0 columns with missing values.\n"
     ]
    },
    {
     "data": {
      "text/html": [
       "<div>\n",
       "<style scoped>\n",
       "    .dataframe tbody tr th:only-of-type {\n",
       "        vertical-align: middle;\n",
       "    }\n",
       "\n",
       "    .dataframe tbody tr th {\n",
       "        vertical-align: top;\n",
       "    }\n",
       "\n",
       "    .dataframe thead th {\n",
       "        text-align: right;\n",
       "    }\n",
       "</style>\n",
       "<table border=\"1\" class=\"dataframe\">\n",
       "  <thead>\n",
       "    <tr style=\"text-align: right;\">\n",
       "      <th></th>\n",
       "      <th>Missing Values</th>\n",
       "      <th>% of Total Values</th>\n",
       "    </tr>\n",
       "  </thead>\n",
       "  <tbody>\n",
       "  </tbody>\n",
       "</table>\n",
       "</div>"
      ],
      "text/plain": [
       "Empty DataFrame\n",
       "Columns: [Missing Values, % of Total Values]\n",
       "Index: []"
      ]
     },
     "execution_count": 42,
     "metadata": {},
     "output_type": "execute_result"
    }
   ],
   "source": [
    "from src.data.eda import Eda\n",
    "eda = Eda(    \n",
    ")\n",
    "\n",
    "eda.missing_values_table(amazon_beta)"
   ]
  },
  {
   "cell_type": "code",
   "execution_count": 8,
   "metadata": {},
   "outputs": [],
   "source": [
    "# impute price missing values with the mean\n",
    "amazon_beta['price'].fillna(amazon_beta['price'].mean(), inplace=True)"
   ]
  },
  {
   "cell_type": "code",
   "execution_count": 5,
   "metadata": {},
   "outputs": [],
   "source": [
    "#toy = amazon_beta.query('SKU == \"SET389-KR-NP-S\"').sort_values(by='Date', ascending=True)\n",
    "#toy['sales'] = toy.groupby(['SKU', 'Date', 'price'])['Order ID'].transform('count')"
   ]
  },
  {
   "cell_type": "code",
   "execution_count": 10,
   "metadata": {},
   "outputs": [],
   "source": [
    "\n",
    "# Create a column called \"sales\" that is the count of the \"Order ID\" grouped by \"SKU\" and \"Date\" and price in the amazon_beta dataset\n",
    "amazon_beta['sales'] = amazon_beta.groupby(['SKU', 'Date', 'price'])['Order ID'].transform('count')\n",
    "amazon_beta.sort_values(by=['SKU', 'Date'], ascending=True, inplace=True)"
   ]
  },
  {
   "cell_type": "code",
   "execution_count": 11,
   "metadata": {},
   "outputs": [],
   "source": [
    "amazon_beta_fe1 = fep.price_sales_correlation_features_updated(amazon_beta, 10, [(-5.0, 1.0), (-3.0, 1.0), (-2.0, 1.0), (1.0, 1.0), (-1.0, 0.5), (-1.0, 0.33)])\n"
   ]
  },
  {
   "cell_type": "code",
   "execution_count": 12,
   "metadata": {},
   "outputs": [
    {
     "name": "stdout",
     "output_type": "stream",
     "text": [
      "The selected dataframe has 12 columns and 6 columns with missing values.\n"
     ]
    },
    {
     "data": {
      "text/html": [
       "<div>\n",
       "<style scoped>\n",
       "    .dataframe tbody tr th:only-of-type {\n",
       "        vertical-align: middle;\n",
       "    }\n",
       "\n",
       "    .dataframe tbody tr th {\n",
       "        vertical-align: top;\n",
       "    }\n",
       "\n",
       "    .dataframe thead th {\n",
       "        text-align: right;\n",
       "    }\n",
       "</style>\n",
       "<table border=\"1\" class=\"dataframe\">\n",
       "  <thead>\n",
       "    <tr style=\"text-align: right;\">\n",
       "      <th></th>\n",
       "      <th>Missing Values</th>\n",
       "      <th>% of Total Values</th>\n",
       "    </tr>\n",
       "  </thead>\n",
       "  <tbody>\n",
       "    <tr>\n",
       "      <th>f_corr_-5.0_1.0</th>\n",
       "      <td>57436</td>\n",
       "      <td>44.5</td>\n",
       "    </tr>\n",
       "    <tr>\n",
       "      <th>f_corr_-3.0_1.0</th>\n",
       "      <td>57436</td>\n",
       "      <td>44.5</td>\n",
       "    </tr>\n",
       "    <tr>\n",
       "      <th>f_corr_-2.0_1.0</th>\n",
       "      <td>57436</td>\n",
       "      <td>44.5</td>\n",
       "    </tr>\n",
       "    <tr>\n",
       "      <th>f_corr_-1.0_0.5</th>\n",
       "      <td>57436</td>\n",
       "      <td>44.5</td>\n",
       "    </tr>\n",
       "    <tr>\n",
       "      <th>f_corr_-1.0_0.33</th>\n",
       "      <td>57436</td>\n",
       "      <td>44.5</td>\n",
       "    </tr>\n",
       "    <tr>\n",
       "      <th>f_corr_1.0_1.0</th>\n",
       "      <td>43722</td>\n",
       "      <td>33.9</td>\n",
       "    </tr>\n",
       "  </tbody>\n",
       "</table>\n",
       "</div>"
      ],
      "text/plain": [
       "                  Missing Values  % of Total Values\n",
       "f_corr_-5.0_1.0            57436               44.5\n",
       "f_corr_-3.0_1.0            57436               44.5\n",
       "f_corr_-2.0_1.0            57436               44.5\n",
       "f_corr_-1.0_0.5            57436               44.5\n",
       "f_corr_-1.0_0.33           57436               44.5\n",
       "f_corr_1.0_1.0             43722               33.9"
      ]
     },
     "execution_count": 12,
     "metadata": {},
     "output_type": "execute_result"
    }
   ],
   "source": [
    "\n",
    "#amazon_beta_fe1.query('SKU == \"SET389-KR-NP-S\"').sort_values(by='Date', ascending=True).head()\n",
    "# calculate average number of Date in each SKU\n",
    "#amazon_beta_fe1.groupby('SKU')['Date'].nunique().mean()\n",
    "# add a column called \"days\" that is the count of \"Date\" of each SKU\n",
    "#amazon_beta_fe1['days'] = amazon_beta_fe1.groupby('SKU')['Date'].transform('nunique')\n",
    "#amazon_beta_fe1.drop(columns=['days'], inplace=True)\n",
    "eda.missing_values_table(amazon_beta_fe1)\n"
   ]
  },
  {
   "cell_type": "code",
   "execution_count": 25,
   "metadata": {},
   "outputs": [],
   "source": [
    "amazon_beta_fe2 = fep.normalize_features(amazon_beta_fe1, [5, 10, 15], 28)"
   ]
  },
  {
   "cell_type": "code",
   "execution_count": 26,
   "metadata": {},
   "outputs": [
    {
     "data": {
      "text/plain": [
       "Order ID                            0\n",
       "Date                                0\n",
       "SKU                                 0\n",
       "Qty                                 0\n",
       "price                               0\n",
       "sales                               0\n",
       "f_corr_-5.0_1.0                     0\n",
       "f_corr_-3.0_1.0                     0\n",
       "f_corr_-2.0_1.0                     0\n",
       "f_corr_1.0_1.0                      0\n",
       "f_corr_-1.0_0.5                     0\n",
       "f_corr_-1.0_0.33                    0\n",
       "normalized_log_avg_price_5_days     0\n",
       "normalized_log_avg_sales_5_days     0\n",
       "normalized_std_price_5_days         0\n",
       "normalized_std_sales_5_days         0\n",
       "normalized_log_avg_price_10_days    0\n",
       "normalized_log_avg_sales_10_days    0\n",
       "normalized_std_price_10_days        0\n",
       "normalized_std_sales_10_days        0\n",
       "normalized_log_avg_price_15_days    0\n",
       "normalized_log_avg_sales_15_days    0\n",
       "normalized_std_price_15_days        0\n",
       "normalized_std_sales_15_days        0\n",
       "dtype: int64"
      ]
     },
     "execution_count": 26,
     "metadata": {},
     "output_type": "execute_result"
    }
   ],
   "source": [
    "# check for infs\n",
    "import numpy as np\n",
    "amazon_beta_fe2[amazon_beta_fe2 == np.inf].count()"
   ]
  },
  {
   "cell_type": "code",
   "execution_count": 28,
   "metadata": {},
   "outputs": [],
   "source": [
    "amazon_beta_fe3, insuficient_data = fep.filter_stability_periods(amazon_beta_fe2, 7, 0.04)"
   ]
  },
  {
   "cell_type": "code",
   "execution_count": 29,
   "metadata": {},
   "outputs": [
    {
     "ename": "KeyError",
     "evalue": "\"['avg_price_last_7_days', 'price_variation'] not in index\"",
     "output_type": "error",
     "traceback": [
      "\u001b[0;31m---------------------------------------------------------------------------\u001b[0m",
      "\u001b[0;31mKeyError\u001b[0m                                  Traceback (most recent call last)",
      "\u001b[1;32m/Users/servandodavidtorresgarcia/Servando/Relu/Relu/notebooks/amazon_sales_complete_training.ipynb Cell 13\u001b[0m in \u001b[0;36m<cell line: 1>\u001b[0;34m()\u001b[0m\n\u001b[0;32m----> <a href='vscode-notebook-cell:/Users/servandodavidtorresgarcia/Servando/Relu/Relu/notebooks/amazon_sales_complete_training.ipynb#X20sZmlsZQ%3D%3D?line=0'>1</a>\u001b[0m amazon_beta_fe3[[\u001b[39m'\u001b[39;49m\u001b[39mSKU\u001b[39;49m\u001b[39m'\u001b[39;49m,\u001b[39m'\u001b[39;49m\u001b[39mDate\u001b[39;49m\u001b[39m'\u001b[39;49m ,\u001b[39m'\u001b[39;49m\u001b[39mprice\u001b[39;49m\u001b[39m'\u001b[39;49m, \u001b[39m'\u001b[39;49m\u001b[39mavg_price_last_7_days\u001b[39;49m\u001b[39m'\u001b[39;49m, \u001b[39m'\u001b[39;49m\u001b[39mprice_variation\u001b[39;49m\u001b[39m'\u001b[39;49m]]\u001b[39m.\u001b[39mquery(\u001b[39m'\u001b[39m\u001b[39mSKU == \u001b[39m\u001b[39m\"\u001b[39m\u001b[39mSET389-KR-NP-S\u001b[39m\u001b[39m\"\u001b[39m\u001b[39m'\u001b[39m)\n",
      "File \u001b[0;32m~/miniconda3/envs/relu/lib/python3.8/site-packages/pandas/core/frame.py:3511\u001b[0m, in \u001b[0;36mDataFrame.__getitem__\u001b[0;34m(self, key)\u001b[0m\n\u001b[1;32m   3509\u001b[0m     \u001b[39mif\u001b[39;00m is_iterator(key):\n\u001b[1;32m   3510\u001b[0m         key \u001b[39m=\u001b[39m \u001b[39mlist\u001b[39m(key)\n\u001b[0;32m-> 3511\u001b[0m     indexer \u001b[39m=\u001b[39m \u001b[39mself\u001b[39;49m\u001b[39m.\u001b[39;49mcolumns\u001b[39m.\u001b[39;49m_get_indexer_strict(key, \u001b[39m\"\u001b[39;49m\u001b[39mcolumns\u001b[39;49m\u001b[39m\"\u001b[39;49m)[\u001b[39m1\u001b[39m]\n\u001b[1;32m   3513\u001b[0m \u001b[39m# take() does not accept boolean indexers\u001b[39;00m\n\u001b[1;32m   3514\u001b[0m \u001b[39mif\u001b[39;00m \u001b[39mgetattr\u001b[39m(indexer, \u001b[39m\"\u001b[39m\u001b[39mdtype\u001b[39m\u001b[39m\"\u001b[39m, \u001b[39mNone\u001b[39;00m) \u001b[39m==\u001b[39m \u001b[39mbool\u001b[39m:\n",
      "File \u001b[0;32m~/miniconda3/envs/relu/lib/python3.8/site-packages/pandas/core/indexes/base.py:5782\u001b[0m, in \u001b[0;36mIndex._get_indexer_strict\u001b[0;34m(self, key, axis_name)\u001b[0m\n\u001b[1;32m   5779\u001b[0m \u001b[39melse\u001b[39;00m:\n\u001b[1;32m   5780\u001b[0m     keyarr, indexer, new_indexer \u001b[39m=\u001b[39m \u001b[39mself\u001b[39m\u001b[39m.\u001b[39m_reindex_non_unique(keyarr)\n\u001b[0;32m-> 5782\u001b[0m \u001b[39mself\u001b[39;49m\u001b[39m.\u001b[39;49m_raise_if_missing(keyarr, indexer, axis_name)\n\u001b[1;32m   5784\u001b[0m keyarr \u001b[39m=\u001b[39m \u001b[39mself\u001b[39m\u001b[39m.\u001b[39mtake(indexer)\n\u001b[1;32m   5785\u001b[0m \u001b[39mif\u001b[39;00m \u001b[39misinstance\u001b[39m(key, Index):\n\u001b[1;32m   5786\u001b[0m     \u001b[39m# GH 42790 - Preserve name from an Index\u001b[39;00m\n",
      "File \u001b[0;32m~/miniconda3/envs/relu/lib/python3.8/site-packages/pandas/core/indexes/base.py:5845\u001b[0m, in \u001b[0;36mIndex._raise_if_missing\u001b[0;34m(self, key, indexer, axis_name)\u001b[0m\n\u001b[1;32m   5842\u001b[0m     \u001b[39mraise\u001b[39;00m \u001b[39mKeyError\u001b[39;00m(\u001b[39mf\u001b[39m\u001b[39m\"\u001b[39m\u001b[39mNone of [\u001b[39m\u001b[39m{\u001b[39;00mkey\u001b[39m}\u001b[39;00m\u001b[39m] are in the [\u001b[39m\u001b[39m{\u001b[39;00maxis_name\u001b[39m}\u001b[39;00m\u001b[39m]\u001b[39m\u001b[39m\"\u001b[39m)\n\u001b[1;32m   5844\u001b[0m not_found \u001b[39m=\u001b[39m \u001b[39mlist\u001b[39m(ensure_index(key)[missing_mask\u001b[39m.\u001b[39mnonzero()[\u001b[39m0\u001b[39m]]\u001b[39m.\u001b[39munique())\n\u001b[0;32m-> 5845\u001b[0m \u001b[39mraise\u001b[39;00m \u001b[39mKeyError\u001b[39;00m(\u001b[39mf\u001b[39m\u001b[39m\"\u001b[39m\u001b[39m{\u001b[39;00mnot_found\u001b[39m}\u001b[39;00m\u001b[39m not in index\u001b[39m\u001b[39m\"\u001b[39m)\n",
      "\u001b[0;31mKeyError\u001b[0m: \"['avg_price_last_7_days', 'price_variation'] not in index\""
     ]
    }
   ],
   "source": [
    "#amazon_beta_fe3[['SKU','Date' ,'price', 'avg_price_last_7_days', 'price_variation']].query('SKU == \"SET389-KR-NP-S\"')"
   ]
  },
  {
   "cell_type": "code",
   "execution_count": 17,
   "metadata": {},
   "outputs": [
    {
     "data": {
      "text/html": [
       "<div>\n",
       "<style scoped>\n",
       "    .dataframe tbody tr th:only-of-type {\n",
       "        vertical-align: middle;\n",
       "    }\n",
       "\n",
       "    .dataframe tbody tr th {\n",
       "        vertical-align: top;\n",
       "    }\n",
       "\n",
       "    .dataframe thead th {\n",
       "        text-align: right;\n",
       "    }\n",
       "</style>\n",
       "<table border=\"1\" class=\"dataframe\">\n",
       "  <thead>\n",
       "    <tr style=\"text-align: right;\">\n",
       "      <th></th>\n",
       "      <th>SKU</th>\n",
       "      <th>Date</th>\n",
       "      <th>price</th>\n",
       "      <th>avg_price_last_7_days</th>\n",
       "      <th>price_variation</th>\n",
       "    </tr>\n",
       "  </thead>\n",
       "  <tbody>\n",
       "    <tr>\n",
       "      <th>47784</th>\n",
       "      <td>SET389-KR-NP-S</td>\n",
       "      <td>2022-04-01</td>\n",
       "      <td>749.00</td>\n",
       "      <td>NaN</td>\n",
       "      <td>NaN</td>\n",
       "    </tr>\n",
       "    <tr>\n",
       "      <th>41605</th>\n",
       "      <td>SET389-KR-NP-S</td>\n",
       "      <td>2022-04-05</td>\n",
       "      <td>0.00</td>\n",
       "      <td>NaN</td>\n",
       "      <td>NaN</td>\n",
       "    </tr>\n",
       "    <tr>\n",
       "      <th>36996</th>\n",
       "      <td>SET389-KR-NP-S</td>\n",
       "      <td>2022-04-08</td>\n",
       "      <td>680.00</td>\n",
       "      <td>NaN</td>\n",
       "      <td>NaN</td>\n",
       "    </tr>\n",
       "    <tr>\n",
       "      <th>18468</th>\n",
       "      <td>SET389-KR-NP-S</td>\n",
       "      <td>2022-04-19</td>\n",
       "      <td>680.00</td>\n",
       "      <td>NaN</td>\n",
       "      <td>NaN</td>\n",
       "    </tr>\n",
       "    <tr>\n",
       "      <th>16932</th>\n",
       "      <td>SET389-KR-NP-S</td>\n",
       "      <td>2022-04-20</td>\n",
       "      <td>647.62</td>\n",
       "      <td>NaN</td>\n",
       "      <td>NaN</td>\n",
       "    </tr>\n",
       "    <tr>\n",
       "      <th>10192</th>\n",
       "      <td>SET389-KR-NP-S</td>\n",
       "      <td>2022-04-24</td>\n",
       "      <td>680.00</td>\n",
       "      <td>NaN</td>\n",
       "      <td>NaN</td>\n",
       "    </tr>\n",
       "  </tbody>\n",
       "</table>\n",
       "</div>"
      ],
      "text/plain": [
       "                  SKU       Date   price  avg_price_last_7_days  \\\n",
       "47784  SET389-KR-NP-S 2022-04-01  749.00                    NaN   \n",
       "41605  SET389-KR-NP-S 2022-04-05    0.00                    NaN   \n",
       "36996  SET389-KR-NP-S 2022-04-08  680.00                    NaN   \n",
       "18468  SET389-KR-NP-S 2022-04-19  680.00                    NaN   \n",
       "16932  SET389-KR-NP-S 2022-04-20  647.62                    NaN   \n",
       "10192  SET389-KR-NP-S 2022-04-24  680.00                    NaN   \n",
       "\n",
       "       price_variation  \n",
       "47784              NaN  \n",
       "41605              NaN  \n",
       "36996              NaN  \n",
       "18468              NaN  \n",
       "16932              NaN  \n",
       "10192              NaN  "
      ]
     },
     "execution_count": 17,
     "metadata": {},
     "output_type": "execute_result"
    }
   ],
   "source": [
    "#insuficient_data[['SKU','Date' ,'price', 'avg_price_last_7_days', 'price_variation']].query('SKU == \"SET389-KR-NP-S\"')\n"
   ]
  },
  {
   "cell_type": "code",
   "execution_count": 30,
   "metadata": {},
   "outputs": [
    {
     "name": "stdout",
     "output_type": "stream",
     "text": [
      "The selected dataframe has 24 columns and 18 columns with missing values.\n"
     ]
    },
    {
     "data": {
      "text/html": [
       "<div>\n",
       "<style scoped>\n",
       "    .dataframe tbody tr th:only-of-type {\n",
       "        vertical-align: middle;\n",
       "    }\n",
       "\n",
       "    .dataframe tbody tr th {\n",
       "        vertical-align: top;\n",
       "    }\n",
       "\n",
       "    .dataframe thead th {\n",
       "        text-align: right;\n",
       "    }\n",
       "</style>\n",
       "<table border=\"1\" class=\"dataframe\">\n",
       "  <thead>\n",
       "    <tr style=\"text-align: right;\">\n",
       "      <th></th>\n",
       "      <th>Missing Values</th>\n",
       "      <th>% of Total Values</th>\n",
       "    </tr>\n",
       "  </thead>\n",
       "  <tbody>\n",
       "    <tr>\n",
       "      <th>f_corr_-5.0_1.0</th>\n",
       "      <td>48954</td>\n",
       "      <td>67.4</td>\n",
       "    </tr>\n",
       "    <tr>\n",
       "      <th>f_corr_-2.0_1.0</th>\n",
       "      <td>48954</td>\n",
       "      <td>67.4</td>\n",
       "    </tr>\n",
       "    <tr>\n",
       "      <th>f_corr_-1.0_0.5</th>\n",
       "      <td>48954</td>\n",
       "      <td>67.4</td>\n",
       "    </tr>\n",
       "    <tr>\n",
       "      <th>f_corr_-1.0_0.33</th>\n",
       "      <td>48954</td>\n",
       "      <td>67.4</td>\n",
       "    </tr>\n",
       "    <tr>\n",
       "      <th>f_corr_-3.0_1.0</th>\n",
       "      <td>48954</td>\n",
       "      <td>67.4</td>\n",
       "    </tr>\n",
       "    <tr>\n",
       "      <th>normalized_log_avg_sales_15_days</th>\n",
       "      <td>46679</td>\n",
       "      <td>64.3</td>\n",
       "    </tr>\n",
       "    <tr>\n",
       "      <th>normalized_log_avg_price_15_days</th>\n",
       "      <td>46679</td>\n",
       "      <td>64.3</td>\n",
       "    </tr>\n",
       "    <tr>\n",
       "      <th>normalized_log_avg_price_10_days</th>\n",
       "      <td>44363</td>\n",
       "      <td>61.1</td>\n",
       "    </tr>\n",
       "    <tr>\n",
       "      <th>normalized_log_avg_sales_10_days</th>\n",
       "      <td>44363</td>\n",
       "      <td>61.1</td>\n",
       "    </tr>\n",
       "    <tr>\n",
       "      <th>normalized_std_price_15_days</th>\n",
       "      <td>43792</td>\n",
       "      <td>60.3</td>\n",
       "    </tr>\n",
       "    <tr>\n",
       "      <th>normalized_std_sales_15_days</th>\n",
       "      <td>43792</td>\n",
       "      <td>60.3</td>\n",
       "    </tr>\n",
       "    <tr>\n",
       "      <th>normalized_log_avg_sales_5_days</th>\n",
       "      <td>40477</td>\n",
       "      <td>55.7</td>\n",
       "    </tr>\n",
       "    <tr>\n",
       "      <th>normalized_log_avg_price_5_days</th>\n",
       "      <td>40477</td>\n",
       "      <td>55.7</td>\n",
       "    </tr>\n",
       "    <tr>\n",
       "      <th>normalized_std_price_10_days</th>\n",
       "      <td>38003</td>\n",
       "      <td>52.3</td>\n",
       "    </tr>\n",
       "    <tr>\n",
       "      <th>normalized_std_sales_10_days</th>\n",
       "      <td>38003</td>\n",
       "      <td>52.3</td>\n",
       "    </tr>\n",
       "    <tr>\n",
       "      <th>f_corr_1.0_1.0</th>\n",
       "      <td>38003</td>\n",
       "      <td>52.3</td>\n",
       "    </tr>\n",
       "    <tr>\n",
       "      <th>normalized_std_price_5_days</th>\n",
       "      <td>24173</td>\n",
       "      <td>33.3</td>\n",
       "    </tr>\n",
       "    <tr>\n",
       "      <th>normalized_std_sales_5_days</th>\n",
       "      <td>24173</td>\n",
       "      <td>33.3</td>\n",
       "    </tr>\n",
       "  </tbody>\n",
       "</table>\n",
       "</div>"
      ],
      "text/plain": [
       "                                  Missing Values  % of Total Values\n",
       "f_corr_-5.0_1.0                            48954               67.4\n",
       "f_corr_-2.0_1.0                            48954               67.4\n",
       "f_corr_-1.0_0.5                            48954               67.4\n",
       "f_corr_-1.0_0.33                           48954               67.4\n",
       "f_corr_-3.0_1.0                            48954               67.4\n",
       "normalized_log_avg_sales_15_days           46679               64.3\n",
       "normalized_log_avg_price_15_days           46679               64.3\n",
       "normalized_log_avg_price_10_days           44363               61.1\n",
       "normalized_log_avg_sales_10_days           44363               61.1\n",
       "normalized_std_price_15_days               43792               60.3\n",
       "normalized_std_sales_15_days               43792               60.3\n",
       "normalized_log_avg_sales_5_days            40477               55.7\n",
       "normalized_log_avg_price_5_days            40477               55.7\n",
       "normalized_std_price_10_days               38003               52.3\n",
       "normalized_std_sales_10_days               38003               52.3\n",
       "f_corr_1.0_1.0                             38003               52.3\n",
       "normalized_std_price_5_days                24173               33.3\n",
       "normalized_std_sales_5_days                24173               33.3"
      ]
     },
     "execution_count": 30,
     "metadata": {},
     "output_type": "execute_result"
    }
   ],
   "source": [
    "\n",
    "eda.missing_values_table(amazon_beta_fe3)"
   ]
  },
  {
   "cell_type": "code",
   "execution_count": 31,
   "metadata": {},
   "outputs": [
    {
     "name": "stdout",
     "output_type": "stream",
     "text": [
      "Features to drop: ['f_corr_-3.0_1.0', 'f_corr_-2.0_1.0', 'f_corr_-1.0_0.5', 'f_corr_-1.0_0.33']\n"
     ]
    },
    {
     "data": {
      "text/plain": [
       "<Axes: >"
      ]
     },
     "execution_count": 31,
     "metadata": {},
     "output_type": "execute_result"
    },
    {
     "data": {
      "image/png": "[encoded data removed]",
      "text/plain": [
       "<Figure size 640x480 with 2 Axes>"
      ]
     },
     "metadata": {},
     "output_type": "display_data"
    }
   ],
   "source": [
    "import seaborn as sns\n",
    "# Create a correlation matrix to check for multicollinearity\n",
    "corr_matrix = amazon_beta_fe3.corr().abs()\n",
    "# Select upper triangle of correlation matrix\n",
    "upper = corr_matrix.where(np.triu(np.ones(corr_matrix.shape), k=1).astype(np.bool))\n",
    "# Find index of feature columns with correlation greater than 0.95\n",
    "to_drop = [column for column in upper.columns if any(upper[column] > 0.95)]\n",
    "print(f\"Features to drop: {to_drop}\")\n",
    "# Plot the heatmap, make the plot readeble and annotate the values\n",
    "\n",
    "sns.heatmap(corr_matrix, annot=False, cmap=\"YlGnBu\", fmt='.2f', linewidths=.5, annot_kws={\"size\": 7})\n",
    "\n",
    "# Drop features\n",
    "#amazon_beta_fe3.drop(to_drop, axis=1, inplace=True)\n"
   ]
  },
  {
   "cell_type": "code",
   "execution_count": 34,
   "metadata": {},
   "outputs": [],
   "source": [
    "amazon_beta_train= fep.datetime_transform(amazon_beta_fe3, 'Date',['day_of_the_year'])"
   ]
  },
  {
   "cell_type": "code",
   "execution_count": 35,
   "metadata": {},
   "outputs": [
    {
     "name": "stdout",
     "output_type": "stream",
     "text": [
      "The selected dataframe has 25 columns and 18 columns with missing values.\n"
     ]
    },
    {
     "data": {
      "text/html": [
       "<div>\n",
       "<style scoped>\n",
       "    .dataframe tbody tr th:only-of-type {\n",
       "        vertical-align: middle;\n",
       "    }\n",
       "\n",
       "    .dataframe tbody tr th {\n",
       "        vertical-align: top;\n",
       "    }\n",
       "\n",
       "    .dataframe thead th {\n",
       "        text-align: right;\n",
       "    }\n",
       "</style>\n",
       "<table border=\"1\" class=\"dataframe\">\n",
       "  <thead>\n",
       "    <tr style=\"text-align: right;\">\n",
       "      <th></th>\n",
       "      <th>Missing Values</th>\n",
       "      <th>% of Total Values</th>\n",
       "    </tr>\n",
       "  </thead>\n",
       "  <tbody>\n",
       "    <tr>\n",
       "      <th>f_corr_-5.0_1.0</th>\n",
       "      <td>48954</td>\n",
       "      <td>67.4</td>\n",
       "    </tr>\n",
       "    <tr>\n",
       "      <th>f_corr_-2.0_1.0</th>\n",
       "      <td>48954</td>\n",
       "      <td>67.4</td>\n",
       "    </tr>\n",
       "    <tr>\n",
       "      <th>f_corr_-1.0_0.5</th>\n",
       "      <td>48954</td>\n",
       "      <td>67.4</td>\n",
       "    </tr>\n",
       "    <tr>\n",
       "      <th>f_corr_-1.0_0.33</th>\n",
       "      <td>48954</td>\n",
       "      <td>67.4</td>\n",
       "    </tr>\n",
       "    <tr>\n",
       "      <th>f_corr_-3.0_1.0</th>\n",
       "      <td>48954</td>\n",
       "      <td>67.4</td>\n",
       "    </tr>\n",
       "    <tr>\n",
       "      <th>normalized_log_avg_sales_15_days</th>\n",
       "      <td>46679</td>\n",
       "      <td>64.3</td>\n",
       "    </tr>\n",
       "    <tr>\n",
       "      <th>normalized_log_avg_price_15_days</th>\n",
       "      <td>46679</td>\n",
       "      <td>64.3</td>\n",
       "    </tr>\n",
       "    <tr>\n",
       "      <th>normalized_log_avg_price_10_days</th>\n",
       "      <td>44363</td>\n",
       "      <td>61.1</td>\n",
       "    </tr>\n",
       "    <tr>\n",
       "      <th>normalized_log_avg_sales_10_days</th>\n",
       "      <td>44363</td>\n",
       "      <td>61.1</td>\n",
       "    </tr>\n",
       "    <tr>\n",
       "      <th>normalized_std_price_15_days</th>\n",
       "      <td>43792</td>\n",
       "      <td>60.3</td>\n",
       "    </tr>\n",
       "    <tr>\n",
       "      <th>normalized_std_sales_15_days</th>\n",
       "      <td>43792</td>\n",
       "      <td>60.3</td>\n",
       "    </tr>\n",
       "    <tr>\n",
       "      <th>normalized_log_avg_sales_5_days</th>\n",
       "      <td>40477</td>\n",
       "      <td>55.7</td>\n",
       "    </tr>\n",
       "    <tr>\n",
       "      <th>normalized_log_avg_price_5_days</th>\n",
       "      <td>40477</td>\n",
       "      <td>55.7</td>\n",
       "    </tr>\n",
       "    <tr>\n",
       "      <th>normalized_std_price_10_days</th>\n",
       "      <td>38003</td>\n",
       "      <td>52.3</td>\n",
       "    </tr>\n",
       "    <tr>\n",
       "      <th>normalized_std_sales_10_days</th>\n",
       "      <td>38003</td>\n",
       "      <td>52.3</td>\n",
       "    </tr>\n",
       "    <tr>\n",
       "      <th>f_corr_1.0_1.0</th>\n",
       "      <td>38003</td>\n",
       "      <td>52.3</td>\n",
       "    </tr>\n",
       "    <tr>\n",
       "      <th>normalized_std_price_5_days</th>\n",
       "      <td>24173</td>\n",
       "      <td>33.3</td>\n",
       "    </tr>\n",
       "    <tr>\n",
       "      <th>normalized_std_sales_5_days</th>\n",
       "      <td>24173</td>\n",
       "      <td>33.3</td>\n",
       "    </tr>\n",
       "  </tbody>\n",
       "</table>\n",
       "</div>"
      ],
      "text/plain": [
       "                                  Missing Values  % of Total Values\n",
       "f_corr_-5.0_1.0                            48954               67.4\n",
       "f_corr_-2.0_1.0                            48954               67.4\n",
       "f_corr_-1.0_0.5                            48954               67.4\n",
       "f_corr_-1.0_0.33                           48954               67.4\n",
       "f_corr_-3.0_1.0                            48954               67.4\n",
       "normalized_log_avg_sales_15_days           46679               64.3\n",
       "normalized_log_avg_price_15_days           46679               64.3\n",
       "normalized_log_avg_price_10_days           44363               61.1\n",
       "normalized_log_avg_sales_10_days           44363               61.1\n",
       "normalized_std_price_15_days               43792               60.3\n",
       "normalized_std_sales_15_days               43792               60.3\n",
       "normalized_log_avg_sales_5_days            40477               55.7\n",
       "normalized_log_avg_price_5_days            40477               55.7\n",
       "normalized_std_price_10_days               38003               52.3\n",
       "normalized_std_sales_10_days               38003               52.3\n",
       "f_corr_1.0_1.0                             38003               52.3\n",
       "normalized_std_price_5_days                24173               33.3\n",
       "normalized_std_sales_5_days                24173               33.3"
      ]
     },
     "execution_count": 35,
     "metadata": {},
     "output_type": "execute_result"
    }
   ],
   "source": [
    "eda.missing_values_table(amazon_beta_train)"
   ]
  },
  {
   "cell_type": "code",
   "execution_count": 36,
   "metadata": {},
   "outputs": [
    {
     "data": {
      "text/html": [
       "<div>\n",
       "<style scoped>\n",
       "    .dataframe tbody tr th:only-of-type {\n",
       "        vertical-align: middle;\n",
       "    }\n",
       "\n",
       "    .dataframe tbody tr th {\n",
       "        vertical-align: top;\n",
       "    }\n",
       "\n",
       "    .dataframe thead th {\n",
       "        text-align: right;\n",
       "    }\n",
       "</style>\n",
       "<table border=\"1\" class=\"dataframe\">\n",
       "  <thead>\n",
       "    <tr style=\"text-align: right;\">\n",
       "      <th></th>\n",
       "      <th>Order ID</th>\n",
       "      <th>Date</th>\n",
       "      <th>SKU</th>\n",
       "      <th>Qty</th>\n",
       "      <th>price</th>\n",
       "      <th>sales</th>\n",
       "      <th>f_corr_-5.0_1.0</th>\n",
       "      <th>f_corr_-3.0_1.0</th>\n",
       "      <th>f_corr_-2.0_1.0</th>\n",
       "      <th>f_corr_1.0_1.0</th>\n",
       "      <th>f_corr_-1.0_0.5</th>\n",
       "      <th>f_corr_-1.0_0.33</th>\n",
       "      <th>normalized_log_avg_price_5_days</th>\n",
       "      <th>normalized_log_avg_sales_5_days</th>\n",
       "      <th>normalized_std_price_5_days</th>\n",
       "      <th>normalized_std_sales_5_days</th>\n",
       "      <th>normalized_log_avg_price_10_days</th>\n",
       "      <th>normalized_log_avg_sales_10_days</th>\n",
       "      <th>normalized_std_price_10_days</th>\n",
       "      <th>normalized_std_sales_10_days</th>\n",
       "      <th>normalized_log_avg_price_15_days</th>\n",
       "      <th>normalized_log_avg_sales_15_days</th>\n",
       "      <th>normalized_std_price_15_days</th>\n",
       "      <th>normalized_std_sales_15_days</th>\n",
       "      <th>Date_day_of_the_year</th>\n",
       "    </tr>\n",
       "  </thead>\n",
       "  <tbody>\n",
       "    <tr>\n",
       "      <th>38234</th>\n",
       "      <td>403-7294691-2015536</td>\n",
       "      <td>2022-04-07</td>\n",
       "      <td>AN201-RED-M</td>\n",
       "      <td>1</td>\n",
       "      <td>229.0</td>\n",
       "      <td>1</td>\n",
       "      <td>NaN</td>\n",
       "      <td>NaN</td>\n",
       "      <td>NaN</td>\n",
       "      <td>NaN</td>\n",
       "      <td>NaN</td>\n",
       "      <td>NaN</td>\n",
       "      <td>NaN</td>\n",
       "      <td>NaN</td>\n",
       "      <td>NaN</td>\n",
       "      <td>NaN</td>\n",
       "      <td>NaN</td>\n",
       "      <td>NaN</td>\n",
       "      <td>NaN</td>\n",
       "      <td>NaN</td>\n",
       "      <td>NaN</td>\n",
       "      <td>NaN</td>\n",
       "      <td>NaN</td>\n",
       "      <td>NaN</td>\n",
       "      <td>97</td>\n",
       "    </tr>\n",
       "    <tr>\n",
       "      <th>90899</th>\n",
       "      <td>404-8297237-4618714</td>\n",
       "      <td>2022-05-01</td>\n",
       "      <td>AN201-RED-M</td>\n",
       "      <td>1</td>\n",
       "      <td>229.0</td>\n",
       "      <td>1</td>\n",
       "      <td>NaN</td>\n",
       "      <td>NaN</td>\n",
       "      <td>NaN</td>\n",
       "      <td>NaN</td>\n",
       "      <td>NaN</td>\n",
       "      <td>NaN</td>\n",
       "      <td>NaN</td>\n",
       "      <td>NaN</td>\n",
       "      <td>NaN</td>\n",
       "      <td>NaN</td>\n",
       "      <td>NaN</td>\n",
       "      <td>NaN</td>\n",
       "      <td>NaN</td>\n",
       "      <td>NaN</td>\n",
       "      <td>NaN</td>\n",
       "      <td>NaN</td>\n",
       "      <td>NaN</td>\n",
       "      <td>NaN</td>\n",
       "      <td>121</td>\n",
       "    </tr>\n",
       "  </tbody>\n",
       "</table>\n",
       "</div>"
      ],
      "text/plain": [
       "                  Order ID       Date          SKU  Qty  price  sales  \\\n",
       "38234  403-7294691-2015536 2022-04-07  AN201-RED-M    1  229.0      1   \n",
       "90899  404-8297237-4618714 2022-05-01  AN201-RED-M    1  229.0      1   \n",
       "\n",
       "       f_corr_-5.0_1.0  f_corr_-3.0_1.0  f_corr_-2.0_1.0  f_corr_1.0_1.0  \\\n",
       "38234              NaN              NaN              NaN             NaN   \n",
       "90899              NaN              NaN              NaN             NaN   \n",
       "\n",
       "       f_corr_-1.0_0.5  f_corr_-1.0_0.33  normalized_log_avg_price_5_days  \\\n",
       "38234              NaN               NaN                              NaN   \n",
       "90899              NaN               NaN                              NaN   \n",
       "\n",
       "       normalized_log_avg_sales_5_days  normalized_std_price_5_days  \\\n",
       "38234                              NaN                          NaN   \n",
       "90899                              NaN                          NaN   \n",
       "\n",
       "       normalized_std_sales_5_days  normalized_log_avg_price_10_days  \\\n",
       "38234                          NaN                               NaN   \n",
       "90899                          NaN                               NaN   \n",
       "\n",
       "       normalized_log_avg_sales_10_days  normalized_std_price_10_days  \\\n",
       "38234                               NaN                           NaN   \n",
       "90899                               NaN                           NaN   \n",
       "\n",
       "       normalized_std_sales_10_days  normalized_log_avg_price_15_days  \\\n",
       "38234                           NaN                               NaN   \n",
       "90899                           NaN                               NaN   \n",
       "\n",
       "       normalized_log_avg_sales_15_days  normalized_std_price_15_days  \\\n",
       "38234                               NaN                           NaN   \n",
       "90899                               NaN                           NaN   \n",
       "\n",
       "       normalized_std_sales_15_days  Date_day_of_the_year  \n",
       "38234                           NaN                    97  \n",
       "90899                           NaN                   121  "
      ]
     },
     "execution_count": 36,
     "metadata": {},
     "output_type": "execute_result"
    }
   ],
   "source": [
    "amazon_beta_train.head(2)"
   ]
  },
  {
   "cell_type": "code",
   "execution_count": 37,
   "metadata": {},
   "outputs": [],
   "source": [
    "# Drop Order Id, price_variation, insufficient_data\n",
    "amazon_beta_train.drop(columns=['Order ID'], inplace=True)"
   ]
  },
  {
   "cell_type": "code",
   "execution_count": 45,
   "metadata": {},
   "outputs": [
    {
     "name": "stdout",
     "output_type": "stream",
     "text": [
      "The selected dataframe has 24 columns and 18 columns with missing values.\n"
     ]
    },
    {
     "data": {
      "text/html": [
       "<div>\n",
       "<style scoped>\n",
       "    .dataframe tbody tr th:only-of-type {\n",
       "        vertical-align: middle;\n",
       "    }\n",
       "\n",
       "    .dataframe tbody tr th {\n",
       "        vertical-align: top;\n",
       "    }\n",
       "\n",
       "    .dataframe thead th {\n",
       "        text-align: right;\n",
       "    }\n",
       "</style>\n",
       "<table border=\"1\" class=\"dataframe\">\n",
       "  <thead>\n",
       "    <tr style=\"text-align: right;\">\n",
       "      <th></th>\n",
       "      <th>Missing Values</th>\n",
       "      <th>% of Total Values</th>\n",
       "    </tr>\n",
       "  </thead>\n",
       "  <tbody>\n",
       "    <tr>\n",
       "      <th>f_corr_-5.0_1.0</th>\n",
       "      <td>48954</td>\n",
       "      <td>67.4</td>\n",
       "    </tr>\n",
       "    <tr>\n",
       "      <th>f_corr_-2.0_1.0</th>\n",
       "      <td>48954</td>\n",
       "      <td>67.4</td>\n",
       "    </tr>\n",
       "    <tr>\n",
       "      <th>f_corr_-1.0_0.5</th>\n",
       "      <td>48954</td>\n",
       "      <td>67.4</td>\n",
       "    </tr>\n",
       "    <tr>\n",
       "      <th>f_corr_-1.0_0.33</th>\n",
       "      <td>48954</td>\n",
       "      <td>67.4</td>\n",
       "    </tr>\n",
       "    <tr>\n",
       "      <th>f_corr_-3.0_1.0</th>\n",
       "      <td>48954</td>\n",
       "      <td>67.4</td>\n",
       "    </tr>\n",
       "    <tr>\n",
       "      <th>normalized_log_avg_sales_15_days</th>\n",
       "      <td>46679</td>\n",
       "      <td>64.3</td>\n",
       "    </tr>\n",
       "    <tr>\n",
       "      <th>normalized_log_avg_price_15_days</th>\n",
       "      <td>46679</td>\n",
       "      <td>64.3</td>\n",
       "    </tr>\n",
       "    <tr>\n",
       "      <th>normalized_log_avg_price_10_days</th>\n",
       "      <td>44363</td>\n",
       "      <td>61.1</td>\n",
       "    </tr>\n",
       "    <tr>\n",
       "      <th>normalized_log_avg_sales_10_days</th>\n",
       "      <td>44363</td>\n",
       "      <td>61.1</td>\n",
       "    </tr>\n",
       "    <tr>\n",
       "      <th>normalized_std_price_15_days</th>\n",
       "      <td>43792</td>\n",
       "      <td>60.3</td>\n",
       "    </tr>\n",
       "    <tr>\n",
       "      <th>normalized_std_sales_15_days</th>\n",
       "      <td>43792</td>\n",
       "      <td>60.3</td>\n",
       "    </tr>\n",
       "    <tr>\n",
       "      <th>normalized_log_avg_sales_5_days</th>\n",
       "      <td>40477</td>\n",
       "      <td>55.7</td>\n",
       "    </tr>\n",
       "    <tr>\n",
       "      <th>normalized_log_avg_price_5_days</th>\n",
       "      <td>40477</td>\n",
       "      <td>55.7</td>\n",
       "    </tr>\n",
       "    <tr>\n",
       "      <th>normalized_std_price_10_days</th>\n",
       "      <td>38003</td>\n",
       "      <td>52.3</td>\n",
       "    </tr>\n",
       "    <tr>\n",
       "      <th>normalized_std_sales_10_days</th>\n",
       "      <td>38003</td>\n",
       "      <td>52.3</td>\n",
       "    </tr>\n",
       "    <tr>\n",
       "      <th>f_corr_1.0_1.0</th>\n",
       "      <td>38003</td>\n",
       "      <td>52.3</td>\n",
       "    </tr>\n",
       "    <tr>\n",
       "      <th>normalized_std_price_5_days</th>\n",
       "      <td>24173</td>\n",
       "      <td>33.3</td>\n",
       "    </tr>\n",
       "    <tr>\n",
       "      <th>normalized_std_sales_5_days</th>\n",
       "      <td>24173</td>\n",
       "      <td>33.3</td>\n",
       "    </tr>\n",
       "  </tbody>\n",
       "</table>\n",
       "</div>"
      ],
      "text/plain": [
       "                                  Missing Values  % of Total Values\n",
       "f_corr_-5.0_1.0                            48954               67.4\n",
       "f_corr_-2.0_1.0                            48954               67.4\n",
       "f_corr_-1.0_0.5                            48954               67.4\n",
       "f_corr_-1.0_0.33                           48954               67.4\n",
       "f_corr_-3.0_1.0                            48954               67.4\n",
       "normalized_log_avg_sales_15_days           46679               64.3\n",
       "normalized_log_avg_price_15_days           46679               64.3\n",
       "normalized_log_avg_price_10_days           44363               61.1\n",
       "normalized_log_avg_sales_10_days           44363               61.1\n",
       "normalized_std_price_15_days               43792               60.3\n",
       "normalized_std_sales_15_days               43792               60.3\n",
       "normalized_log_avg_sales_5_days            40477               55.7\n",
       "normalized_log_avg_price_5_days            40477               55.7\n",
       "normalized_std_price_10_days               38003               52.3\n",
       "normalized_std_sales_10_days               38003               52.3\n",
       "f_corr_1.0_1.0                             38003               52.3\n",
       "normalized_std_price_5_days                24173               33.3\n",
       "normalized_std_sales_5_days                24173               33.3"
      ]
     },
     "execution_count": 45,
     "metadata": {},
     "output_type": "execute_result"
    }
   ],
   "source": [
    "eda.missing_values_table(amazon_beta_train)"
   ]
  },
  {
   "cell_type": "code",
   "execution_count": 46,
   "metadata": {},
   "outputs": [
    {
     "name": "stdout",
     "output_type": "stream",
     "text": [
      "Min date: 2022-03-31 00:00:00\n",
      "Max date: 2022-06-29 00:00:00\n"
     ]
    }
   ],
   "source": [
    "# print min and max dates of amazon_beta_train\n",
    "print(f\"Min date: {amazon_beta_train['Date'].min()}\")   \n",
    "print(f\"Max date: {amazon_beta_train['Date'].max()}\")"
   ]
  },
  {
   "cell_type": "code",
   "execution_count": 53,
   "metadata": {},
   "outputs": [],
   "source": [
    "# drop multicolinear features\n",
    "amazon_beta_train.drop(to_drop, axis=1, inplace=True)"
   ]
  },
  {
   "cell_type": "code",
   "execution_count": 54,
   "metadata": {},
   "outputs": [],
   "source": [
    "# impute missing values with the 0\n",
    "amazon_beta_train.fillna(0, inplace=True)"
   ]
  },
  {
   "cell_type": "code",
   "execution_count": 55,
   "metadata": {},
   "outputs": [
    {
     "name": "stdout",
     "output_type": "stream",
     "text": [
      "Training data covers from 2022-03-31 00:00:00 to 2022-04-29 00:00:00\n",
      "Validation data covers from 2022-04-30 00:00:00 to 2022-06-22 00:00:00\n",
      "Test data covers from 2022-06-23 00:00:00 to 2022-06-29 00:00:00\n"
     ]
    }
   ],
   "source": [
    "from src.data.data_splitter import DataSplitter\n",
    "\n",
    "\n",
    "data_splitter = DataSplitter(amazon_beta_train, target_variable='sales', train_months=1, val_months=1, test_weeks=1)\n",
    "\n",
    "X_train, y_train, X_val, y_val, X_test, y_test = data_splitter.split_data()\n",
    "\n"
   ]
  },
  {
   "cell_type": "code",
   "execution_count": 56,
   "metadata": {},
   "outputs": [
    {
     "name": "stderr",
     "output_type": "stream",
     "text": [
      "Failed to detect the name of this notebook, you can set it manually with the WANDB_NOTEBOOK_NAME environment variable to enable code saving.\n",
      "\u001b[34m\u001b[1mwandb\u001b[0m: Logging into wandb.ai. (Learn how to deploy a W&B server locally: https://wandb.me/wandb-server)\n",
      "\u001b[34m\u001b[1mwandb\u001b[0m: You can find your API key in your browser here: https://wandb.ai/authorize\n",
      "\u001b[34m\u001b[1mwandb\u001b[0m: Paste an API key from your profile and hit enter, or press ctrl+c to quit:\u001b[34m\u001b[1mwandb\u001b[0m: Paste an API key from your profile and hit enter, or press ctrl+c to quit:\u001b[34m\u001b[1mwandb\u001b[0m: Appending key for api.wandb.ai to your netrc file: /Users/servandodavidtorresgarcia/.netrc\n"
     ]
    },
    {
     "name": "stdout",
     "output_type": "stream",
     "text": [
      "Create sweep with ID: qeaoqlgh\n",
      "Sweep URL: https://wandb.ai/servando/my-project/sweeps/qeaoqlgh\n"
     ]
    }
   ],
   "source": [
    "import wandb\n",
    "from src.models.xgb_model import QuantileXGB\n",
    "quantile_xgb = QuantileXGB()\n",
    "sweep_config = {\n",
    "    'method': 'bayes',  # We are using Bayesian optimization\n",
    "    'metric': {\n",
    "      'name': 'val_loss',  # We want to minimize validation loss\n",
    "      'goal': 'minimize'  \n",
    "    },\n",
    "    'parameters': {\n",
    "        'learning_rate': {'min': 0.01, 'max': 0.1},\n",
    "        'max_depth': {'min': 3, 'max': 10},\n",
    "        'n_estimators': {'min': 50, 'max': 200},\n",
    "        'subsample': {'min': 0.5, 'max': 1.0},\n",
    "        'colsample_bytree': {'min': 0.5, 'max': 1.0},\n",
    "        'reg_alpha': {'min': 0.0, 'max': 1.0},\n",
    "        'reg_lambda': {'min': 0.0, 'max': 1.0},\n",
    "    }\n",
    "}\n",
    "\n",
    "\n",
    "sweep_id = wandb.sweep(sweep_config, project='my-project')\n",
    "\n",
    "def sweep_run():\n",
    "    with wandb.init() as run:\n",
    "        config = wandb.config\n",
    "        model = QuantileXGB(**config)\n",
    "        val_loss = model.train(X_train, y_train, X_val, y_val, config)\n",
    "        wandb.log({'val_loss': val_loss})\n"
   ]
  },
  {
   "cell_type": "code",
   "execution_count": 57,
   "metadata": {},
   "outputs": [
    {
     "name": "stdout",
     "output_type": "stream",
     "text": [
      "Create sweep with ID: esur1eoq\n",
      "Sweep URL: https://wandb.ai/servando/relu-project/sweeps/esur1eoq\n"
     ]
    },
    {
     "name": "stderr",
     "output_type": "stream",
     "text": [
      "\u001b[34m\u001b[1mwandb\u001b[0m: Agent Starting Run: qhyiytq5 with config:\n",
      "\u001b[34m\u001b[1mwandb\u001b[0m: \tcolsample_bytree: 0.8735137482594453\n",
      "\u001b[34m\u001b[1mwandb\u001b[0m: \tlearning_rate: 0.027185695322436303\n",
      "\u001b[34m\u001b[1mwandb\u001b[0m: \tmax_depth: 4\n",
      "\u001b[34m\u001b[1mwandb\u001b[0m: \tn_estimators: 163\n",
      "\u001b[34m\u001b[1mwandb\u001b[0m: \treg_alpha: 0.8810997547541417\n",
      "\u001b[34m\u001b[1mwandb\u001b[0m: \treg_lambda: 0.7836773632494645\n",
      "\u001b[34m\u001b[1mwandb\u001b[0m: \tsubsample: 0.893641961678205\n",
      "Failed to detect the name of this notebook, you can set it manually with the WANDB_NOTEBOOK_NAME environment variable to enable code saving.\n",
      "\u001b[34m\u001b[1mwandb\u001b[0m: Currently logged in as: \u001b[33mservando\u001b[0m. Use \u001b[1m`wandb login --relogin`\u001b[0m to force relogin\n"
     ]
    },
    {
     "data": {
      "text/html": [
       "wandb version 0.15.7 is available!  To upgrade, please run:\n",
       " $ pip install wandb --upgrade"
      ],
      "text/plain": [
       "<IPython.core.display.HTML object>"
      ]
     },
     "metadata": {},
     "output_type": "display_data"
    },
    {
     "data": {
      "text/html": [
       "Tracking run with wandb version 0.15.5"
      ],
      "text/plain": [
       "<IPython.core.display.HTML object>"
      ]
     },
     "metadata": {},
     "output_type": "display_data"
    },
    {
     "data": {
      "text/html": [
       "Run data is saved locally in <code>/Users/servandodavidtorresgarcia/Servando/Relu/Relu/notebooks/wandb/run-20230726_203142-qhyiytq5</code>"
      ],
      "text/plain": [
       "<IPython.core.display.HTML object>"
      ]
     },
     "metadata": {},
     "output_type": "display_data"
    },
    {
     "data": {
      "text/html": [
       "Syncing run <strong><a href='https://wandb.ai/servando/relu-project/runs/qhyiytq5' target=\"_blank\">summer-sweep-1</a></strong> to <a href='https://wandb.ai/servando/relu-project' target=\"_blank\">Weights & Biases</a> (<a href='https://wandb.me/run' target=\"_blank\">docs</a>)<br/>Sweep page: <a href='https://wandb.ai/servando/relu-project/sweeps/esur1eoq' target=\"_blank\">https://wandb.ai/servando/relu-project/sweeps/esur1eoq</a>"
      ],
      "text/plain": [
       "<IPython.core.display.HTML object>"
      ]
     },
     "metadata": {},
     "output_type": "display_data"
    },
    {
     "data": {
      "text/html": [
       " View project at <a href='https://wandb.ai/servando/relu-project' target=\"_blank\">https://wandb.ai/servando/relu-project</a>"
      ],
      "text/plain": [
       "<IPython.core.display.HTML object>"
      ]
     },
     "metadata": {},
     "output_type": "display_data"
    },
    {
     "data": {
      "text/html": [
       " View sweep at <a href='https://wandb.ai/servando/relu-project/sweeps/esur1eoq' target=\"_blank\">https://wandb.ai/servando/relu-project/sweeps/esur1eoq</a>"
      ],
      "text/plain": [
       "<IPython.core.display.HTML object>"
      ]
     },
     "metadata": {},
     "output_type": "display_data"
    },
    {
     "data": {
      "text/html": [
       " View run at <a href='https://wandb.ai/servando/relu-project/runs/qhyiytq5' target=\"_blank\">https://wandb.ai/servando/relu-project/runs/qhyiytq5</a>"
      ],
      "text/plain": [
       "<IPython.core.display.HTML object>"
      ]
     },
     "metadata": {},
     "output_type": "display_data"
    },
    {
     "data": {
      "text/html": [
       "Finishing last run (ID:qhyiytq5) before initializing another..."
      ],
      "text/plain": [
       "<IPython.core.display.HTML object>"
      ]
     },
     "metadata": {},
     "output_type": "display_data"
    },
    {
     "data": {
      "text/html": [
       "Waiting for W&B process to finish... <strong style=\"color:green\">(success).</strong>"
      ],
      "text/plain": [
       "<IPython.core.display.HTML object>"
      ]
     },
     "metadata": {},
     "output_type": "display_data"
    },
    {
     "data": {
      "text/html": [
       " View run <strong style=\"color:#cdcd00\">summer-sweep-1</strong> at: <a href='https://wandb.ai/servando/relu-project/runs/qhyiytq5' target=\"_blank\">https://wandb.ai/servando/relu-project/runs/qhyiytq5</a><br/>Synced 5 W&B file(s), 0 media file(s), 0 artifact file(s) and 0 other file(s)"
      ],
      "text/plain": [
       "<IPython.core.display.HTML object>"
      ]
     },
     "metadata": {},
     "output_type": "display_data"
    },
    {
     "data": {
      "text/html": [
       "Find logs at: <code>./wandb/run-20230726_203142-qhyiytq5/logs</code>"
      ],
      "text/plain": [
       "<IPython.core.display.HTML object>"
      ]
     },
     "metadata": {},
     "output_type": "display_data"
    },
    {
     "data": {
      "text/html": [
       "Successfully finished last run (ID:qhyiytq5). Initializing new run:<br/>"
      ],
      "text/plain": [
       "<IPython.core.display.HTML object>"
      ]
     },
     "metadata": {},
     "output_type": "display_data"
    },
    {
     "name": "stderr",
     "output_type": "stream",
     "text": [
      "\u001b[34m\u001b[1mwandb\u001b[0m: Ctrl + C detected. Stopping sweep.\n"
     ]
    },
    {
     "name": "stdout",
     "output_type": "stream",
     "text": [
      "Problem at: /Users/servandodavidtorresgarcia/Servando/Relu/Relu/src/models/xgb_model.py 41 train\n"
     ]
    },
    {
     "name": "stderr",
     "output_type": "stream",
     "text": [
      "Traceback (most recent call last):\n",
      "  File \"/Users/servandodavidtorresgarcia/miniconda3/envs/relu/lib/python3.8/site-packages/wandb/sdk/wandb_init.py\", line 1154, in init\n",
      "    run = wi.init()\n",
      "  File \"/Users/servandodavidtorresgarcia/miniconda3/envs/relu/lib/python3.8/site-packages/wandb/sdk/wandb_init.py\", line 800, in init\n",
      "    run_start_result = run_start_handle.wait(timeout=30)\n",
      "  File \"/Users/servandodavidtorresgarcia/miniconda3/envs/relu/lib/python3.8/site-packages/wandb/sdk/lib/mailbox.py\", line 283, in wait\n",
      "    found, abandoned = self._slot._get_and_clear(timeout=wait_timeout)\n",
      "  File \"/Users/servandodavidtorresgarcia/miniconda3/envs/relu/lib/python3.8/site-packages/wandb/sdk/lib/mailbox.py\", line 130, in _get_and_clear\n",
      "    if self._wait(timeout=timeout):\n",
      "  File \"/Users/servandodavidtorresgarcia/miniconda3/envs/relu/lib/python3.8/site-packages/wandb/sdk/lib/mailbox.py\", line 126, in _wait\n",
      "    return self._event.wait(timeout=timeout)\n",
      "  File \"/Users/servandodavidtorresgarcia/miniconda3/envs/relu/lib/python3.8/threading.py\", line 558, in wait\n",
      "    signaled = self._cond.wait(timeout)\n",
      "  File \"/Users/servandodavidtorresgarcia/miniconda3/envs/relu/lib/python3.8/threading.py\", line 306, in wait\n",
      "    gotit = waiter.acquire(True, timeout)\n",
      "Exception\n"
     ]
    }
   ],
   "source": [
    "sweep_id = wandb.sweep(sweep_config, project='relu-project')\n",
    "wandb.agent(sweep_id, function=sweep_run)\n"
   ]
  }
 ],
 "metadata": {
  "kernelspec": {
   "display_name": "relu",
   "language": "python",
   "name": "python3"
  },
  "language_info": {
   "codemirror_mode": {
    "name": "ipython",
    "version": 3
   },
   "file_extension": ".py",
   "mimetype": "text/x-python",
   "name": "python",
   "nbconvert_exporter": "python",
   "pygments_lexer": "ipython3",
   "version": "3.8.16"
  },
  "orig_nbformat": 4
 },
 "nbformat": 4,
 "nbformat_minor": 2
}
