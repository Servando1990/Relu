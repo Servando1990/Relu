{
 "cells": [
  {
   "cell_type": "code",
   "execution_count": 121,
   "metadata": {},
   "outputs": [
    {
     "name": "stdout",
     "output_type": "stream",
     "text": [
      "The autoreload extension is already loaded. To reload it, use:\n",
      "  %reload_ext autoreload\n"
     ]
    }
   ],
   "source": [
    "\n",
    "from src.data.dataset_reader import DatasetReader\n",
    "from pathlib import Path\n",
    "import pandas as pd\n",
    "pd.set_option('display.max_columns', None)\n",
    "%load_ext autoreload\n",
    "%autoreload 2\n",
    "# ignore warnings\n",
    "import warnings\n",
    "warnings.filterwarnings('ignore')\n",
    "data_folder = Path(\"../data/raw\").resolve()\n",
    "\n",
    "amazon = DatasetReader(data_folder).get_data_csv('Amazon_Sale_Report.csv')\n",
    "\n"
   ]
  },
  {
   "cell_type": "code",
   "execution_count": 132,
   "metadata": {},
   "outputs": [],
   "source": [
    "from src.data.feature_engineering import FeatureEngineeringProcess\n",
    "fep = FeatureEngineeringProcess()\n"
   ]
  },
  {
   "cell_type": "code",
   "execution_count": 73,
   "metadata": {},
   "outputs": [],
   "source": [
    "# Create a new feature called sales that is the  the count of \"Amount\" grouped by \"SKU\" in the amazon dataset\n",
    "#amazon['sales'] = amazon.groupby('SKU')['Amount'].transform('count')\n",
    "#amazon.drop(columns=[ 'Order ID', 'ASIN', 'Unnamed: 22', 'index'], inplace=True\n",
    "amazon['Date'] = pd.to_datetime(amazon['Date'])\n",
    "amazon['ship-postal-code'] = amazon['ship-postal-code'].astype('object')\n",
    "amazon_beta =  amazon[['Order ID','Date', 'SKU', 'Qty', 'Amount']]"
   ]
  },
  {
   "cell_type": "code",
   "execution_count": 75,
   "metadata": {},
   "outputs": [
    {
     "data": {
      "text/html": [
       "<div>\n",
       "<style scoped>\n",
       "    .dataframe tbody tr th:only-of-type {\n",
       "        vertical-align: middle;\n",
       "    }\n",
       "\n",
       "    .dataframe tbody tr th {\n",
       "        vertical-align: top;\n",
       "    }\n",
       "\n",
       "    .dataframe thead th {\n",
       "        text-align: right;\n",
       "    }\n",
       "</style>\n",
       "<table border=\"1\" class=\"dataframe\">\n",
       "  <thead>\n",
       "    <tr style=\"text-align: right;\">\n",
       "      <th></th>\n",
       "      <th>index</th>\n",
       "      <th>Order ID</th>\n",
       "      <th>Date</th>\n",
       "      <th>Status</th>\n",
       "      <th>Fulfilment</th>\n",
       "      <th>Sales Channel</th>\n",
       "      <th>ship-service-level</th>\n",
       "      <th>Style</th>\n",
       "      <th>SKU</th>\n",
       "      <th>Category</th>\n",
       "      <th>Size</th>\n",
       "      <th>ASIN</th>\n",
       "      <th>Courier Status</th>\n",
       "      <th>Qty</th>\n",
       "      <th>currency</th>\n",
       "      <th>Amount</th>\n",
       "      <th>ship-city</th>\n",
       "      <th>ship-state</th>\n",
       "      <th>ship-postal-code</th>\n",
       "      <th>ship-country</th>\n",
       "      <th>promotion-ids</th>\n",
       "      <th>B2B</th>\n",
       "      <th>fulfilled-by</th>\n",
       "      <th>Unnamed: 22</th>\n",
       "    </tr>\n",
       "  </thead>\n",
       "  <tbody>\n",
       "    <tr>\n",
       "      <th>0</th>\n",
       "      <td>0</td>\n",
       "      <td>405-8078784-5731545</td>\n",
       "      <td>2022-04-30</td>\n",
       "      <td>Cancelled</td>\n",
       "      <td>Merchant</td>\n",
       "      <td>Amazon.in</td>\n",
       "      <td>Standard</td>\n",
       "      <td>SET389</td>\n",
       "      <td>SET389-KR-NP-S</td>\n",
       "      <td>Set</td>\n",
       "      <td>S</td>\n",
       "      <td>B09KXVBD7Z</td>\n",
       "      <td>NaN</td>\n",
       "      <td>0</td>\n",
       "      <td>INR</td>\n",
       "      <td>647.62</td>\n",
       "      <td>MUMBAI</td>\n",
       "      <td>MAHARASHTRA</td>\n",
       "      <td>400081.0</td>\n",
       "      <td>IN</td>\n",
       "      <td>NaN</td>\n",
       "      <td>False</td>\n",
       "      <td>Easy Ship</td>\n",
       "      <td>NaN</td>\n",
       "    </tr>\n",
       "    <tr>\n",
       "      <th>1</th>\n",
       "      <td>1</td>\n",
       "      <td>171-9198151-1101146</td>\n",
       "      <td>2022-04-30</td>\n",
       "      <td>Shipped - Delivered to Buyer</td>\n",
       "      <td>Merchant</td>\n",
       "      <td>Amazon.in</td>\n",
       "      <td>Standard</td>\n",
       "      <td>JNE3781</td>\n",
       "      <td>JNE3781-KR-XXXL</td>\n",
       "      <td>kurta</td>\n",
       "      <td>3XL</td>\n",
       "      <td>B09K3WFS32</td>\n",
       "      <td>Shipped</td>\n",
       "      <td>1</td>\n",
       "      <td>INR</td>\n",
       "      <td>406.00</td>\n",
       "      <td>BENGALURU</td>\n",
       "      <td>KARNATAKA</td>\n",
       "      <td>560085.0</td>\n",
       "      <td>IN</td>\n",
       "      <td>Amazon PLCC Free-Financing Universal Merchant ...</td>\n",
       "      <td>False</td>\n",
       "      <td>Easy Ship</td>\n",
       "      <td>NaN</td>\n",
       "    </tr>\n",
       "    <tr>\n",
       "      <th>2</th>\n",
       "      <td>2</td>\n",
       "      <td>404-0687676-7273146</td>\n",
       "      <td>2022-04-30</td>\n",
       "      <td>Shipped</td>\n",
       "      <td>Amazon</td>\n",
       "      <td>Amazon.in</td>\n",
       "      <td>Expedited</td>\n",
       "      <td>JNE3371</td>\n",
       "      <td>JNE3371-KR-XL</td>\n",
       "      <td>kurta</td>\n",
       "      <td>XL</td>\n",
       "      <td>B07WV4JV4D</td>\n",
       "      <td>Shipped</td>\n",
       "      <td>1</td>\n",
       "      <td>INR</td>\n",
       "      <td>329.00</td>\n",
       "      <td>NAVI MUMBAI</td>\n",
       "      <td>MAHARASHTRA</td>\n",
       "      <td>410210.0</td>\n",
       "      <td>IN</td>\n",
       "      <td>IN Core Free Shipping 2015/04/08 23-48-5-108</td>\n",
       "      <td>True</td>\n",
       "      <td>NaN</td>\n",
       "      <td>NaN</td>\n",
       "    </tr>\n",
       "    <tr>\n",
       "      <th>3</th>\n",
       "      <td>3</td>\n",
       "      <td>403-9615377-8133951</td>\n",
       "      <td>2022-04-30</td>\n",
       "      <td>Cancelled</td>\n",
       "      <td>Merchant</td>\n",
       "      <td>Amazon.in</td>\n",
       "      <td>Standard</td>\n",
       "      <td>J0341</td>\n",
       "      <td>J0341-DR-L</td>\n",
       "      <td>Western Dress</td>\n",
       "      <td>L</td>\n",
       "      <td>B099NRCT7B</td>\n",
       "      <td>NaN</td>\n",
       "      <td>0</td>\n",
       "      <td>INR</td>\n",
       "      <td>753.33</td>\n",
       "      <td>PUDUCHERRY</td>\n",
       "      <td>PUDUCHERRY</td>\n",
       "      <td>605008.0</td>\n",
       "      <td>IN</td>\n",
       "      <td>NaN</td>\n",
       "      <td>False</td>\n",
       "      <td>Easy Ship</td>\n",
       "      <td>NaN</td>\n",
       "    </tr>\n",
       "    <tr>\n",
       "      <th>4</th>\n",
       "      <td>4</td>\n",
       "      <td>407-1069790-7240320</td>\n",
       "      <td>2022-04-30</td>\n",
       "      <td>Shipped</td>\n",
       "      <td>Amazon</td>\n",
       "      <td>Amazon.in</td>\n",
       "      <td>Expedited</td>\n",
       "      <td>JNE3671</td>\n",
       "      <td>JNE3671-TU-XXXL</td>\n",
       "      <td>Top</td>\n",
       "      <td>3XL</td>\n",
       "      <td>B098714BZP</td>\n",
       "      <td>Shipped</td>\n",
       "      <td>1</td>\n",
       "      <td>INR</td>\n",
       "      <td>574.00</td>\n",
       "      <td>CHENNAI</td>\n",
       "      <td>TAMIL NADU</td>\n",
       "      <td>600073.0</td>\n",
       "      <td>IN</td>\n",
       "      <td>NaN</td>\n",
       "      <td>False</td>\n",
       "      <td>NaN</td>\n",
       "      <td>NaN</td>\n",
       "    </tr>\n",
       "  </tbody>\n",
       "</table>\n",
       "</div>"
      ],
      "text/plain": [
       "   index             Order ID       Date                        Status  \\\n",
       "0      0  405-8078784-5731545 2022-04-30                     Cancelled   \n",
       "1      1  171-9198151-1101146 2022-04-30  Shipped - Delivered to Buyer   \n",
       "2      2  404-0687676-7273146 2022-04-30                       Shipped   \n",
       "3      3  403-9615377-8133951 2022-04-30                     Cancelled   \n",
       "4      4  407-1069790-7240320 2022-04-30                       Shipped   \n",
       "\n",
       "  Fulfilment Sales Channel  ship-service-level    Style              SKU  \\\n",
       "0   Merchant      Amazon.in           Standard   SET389   SET389-KR-NP-S   \n",
       "1   Merchant      Amazon.in           Standard  JNE3781  JNE3781-KR-XXXL   \n",
       "2     Amazon      Amazon.in          Expedited  JNE3371    JNE3371-KR-XL   \n",
       "3   Merchant      Amazon.in           Standard    J0341       J0341-DR-L   \n",
       "4     Amazon      Amazon.in          Expedited  JNE3671  JNE3671-TU-XXXL   \n",
       "\n",
       "        Category Size        ASIN Courier Status  Qty currency  Amount  \\\n",
       "0            Set    S  B09KXVBD7Z            NaN    0      INR  647.62   \n",
       "1          kurta  3XL  B09K3WFS32        Shipped    1      INR  406.00   \n",
       "2          kurta   XL  B07WV4JV4D        Shipped    1      INR  329.00   \n",
       "3  Western Dress    L  B099NRCT7B            NaN    0      INR  753.33   \n",
       "4            Top  3XL  B098714BZP        Shipped    1      INR  574.00   \n",
       "\n",
       "     ship-city   ship-state ship-postal-code ship-country  \\\n",
       "0       MUMBAI  MAHARASHTRA         400081.0           IN   \n",
       "1    BENGALURU    KARNATAKA         560085.0           IN   \n",
       "2  NAVI MUMBAI  MAHARASHTRA         410210.0           IN   \n",
       "3   PUDUCHERRY   PUDUCHERRY         605008.0           IN   \n",
       "4      CHENNAI   TAMIL NADU         600073.0           IN   \n",
       "\n",
       "                                       promotion-ids    B2B fulfilled-by  \\\n",
       "0                                                NaN  False    Easy Ship   \n",
       "1  Amazon PLCC Free-Financing Universal Merchant ...  False    Easy Ship   \n",
       "2       IN Core Free Shipping 2015/04/08 23-48-5-108   True          NaN   \n",
       "3                                                NaN  False    Easy Ship   \n",
       "4                                                NaN  False          NaN   \n",
       "\n",
       "  Unnamed: 22  \n",
       "0         NaN  \n",
       "1         NaN  \n",
       "2         NaN  \n",
       "3         NaN  \n",
       "4         NaN  "
      ]
     },
     "execution_count": 75,
     "metadata": {},
     "output_type": "execute_result"
    }
   ],
   "source": [
    "amazon.head()"
   ]
  },
  {
   "cell_type": "code",
   "execution_count": 76,
   "metadata": {},
   "outputs": [
    {
     "data": {
      "text/html": [
       "<div>\n",
       "<style scoped>\n",
       "    .dataframe tbody tr th:only-of-type {\n",
       "        vertical-align: middle;\n",
       "    }\n",
       "\n",
       "    .dataframe tbody tr th {\n",
       "        vertical-align: top;\n",
       "    }\n",
       "\n",
       "    .dataframe thead th {\n",
       "        text-align: right;\n",
       "    }\n",
       "</style>\n",
       "<table border=\"1\" class=\"dataframe\">\n",
       "  <thead>\n",
       "    <tr style=\"text-align: right;\">\n",
       "      <th></th>\n",
       "      <th>Order ID</th>\n",
       "      <th>Date</th>\n",
       "      <th>SKU</th>\n",
       "      <th>Qty</th>\n",
       "      <th>Amount</th>\n",
       "    </tr>\n",
       "  </thead>\n",
       "  <tbody>\n",
       "    <tr>\n",
       "      <th>0</th>\n",
       "      <td>405-8078784-5731545</td>\n",
       "      <td>2022-04-30</td>\n",
       "      <td>SET389-KR-NP-S</td>\n",
       "      <td>0</td>\n",
       "      <td>647.62</td>\n",
       "    </tr>\n",
       "    <tr>\n",
       "      <th>1</th>\n",
       "      <td>171-9198151-1101146</td>\n",
       "      <td>2022-04-30</td>\n",
       "      <td>JNE3781-KR-XXXL</td>\n",
       "      <td>1</td>\n",
       "      <td>406.00</td>\n",
       "    </tr>\n",
       "    <tr>\n",
       "      <th>2</th>\n",
       "      <td>404-0687676-7273146</td>\n",
       "      <td>2022-04-30</td>\n",
       "      <td>JNE3371-KR-XL</td>\n",
       "      <td>1</td>\n",
       "      <td>329.00</td>\n",
       "    </tr>\n",
       "    <tr>\n",
       "      <th>3</th>\n",
       "      <td>403-9615377-8133951</td>\n",
       "      <td>2022-04-30</td>\n",
       "      <td>J0341-DR-L</td>\n",
       "      <td>0</td>\n",
       "      <td>753.33</td>\n",
       "    </tr>\n",
       "    <tr>\n",
       "      <th>4</th>\n",
       "      <td>407-1069790-7240320</td>\n",
       "      <td>2022-04-30</td>\n",
       "      <td>JNE3671-TU-XXXL</td>\n",
       "      <td>1</td>\n",
       "      <td>574.00</td>\n",
       "    </tr>\n",
       "  </tbody>\n",
       "</table>\n",
       "</div>"
      ],
      "text/plain": [
       "              Order ID       Date              SKU  Qty  Amount\n",
       "0  405-8078784-5731545 2022-04-30   SET389-KR-NP-S    0  647.62\n",
       "1  171-9198151-1101146 2022-04-30  JNE3781-KR-XXXL    1  406.00\n",
       "2  404-0687676-7273146 2022-04-30    JNE3371-KR-XL    1  329.00\n",
       "3  403-9615377-8133951 2022-04-30       J0341-DR-L    0  753.33\n",
       "4  407-1069790-7240320 2022-04-30  JNE3671-TU-XXXL    1  574.00"
      ]
     },
     "execution_count": 76,
     "metadata": {},
     "output_type": "execute_result"
    }
   ],
   "source": [
    "amazon_beta.head()"
   ]
  },
  {
   "cell_type": "code",
   "execution_count": 77,
   "metadata": {},
   "outputs": [
    {
     "name": "stdout",
     "output_type": "stream",
     "text": [
      "The selected dataframe has 5 columns and 1 columns with missing values.\n"
     ]
    },
    {
     "data": {
      "text/html": [
       "<div>\n",
       "<style scoped>\n",
       "    .dataframe tbody tr th:only-of-type {\n",
       "        vertical-align: middle;\n",
       "    }\n",
       "\n",
       "    .dataframe tbody tr th {\n",
       "        vertical-align: top;\n",
       "    }\n",
       "\n",
       "    .dataframe thead th {\n",
       "        text-align: right;\n",
       "    }\n",
       "</style>\n",
       "<table border=\"1\" class=\"dataframe\">\n",
       "  <thead>\n",
       "    <tr style=\"text-align: right;\">\n",
       "      <th></th>\n",
       "      <th>Missing Values</th>\n",
       "      <th>% of Total Values</th>\n",
       "    </tr>\n",
       "  </thead>\n",
       "  <tbody>\n",
       "    <tr>\n",
       "      <th>Amount</th>\n",
       "      <td>7795</td>\n",
       "      <td>6.0</td>\n",
       "    </tr>\n",
       "  </tbody>\n",
       "</table>\n",
       "</div>"
      ],
      "text/plain": [
       "        Missing Values  % of Total Values\n",
       "Amount            7795                6.0"
      ]
     },
     "execution_count": 77,
     "metadata": {},
     "output_type": "execute_result"
    }
   ],
   "source": [
    "from src.data.eda import Eda\n",
    "eda = Eda(    \n",
    ")\n",
    "\n",
    "eda.missing_values_table(amazon_beta)"
   ]
  },
  {
   "cell_type": "code",
   "execution_count": 78,
   "metadata": {},
   "outputs": [],
   "source": [
    "amazon_beta.rename(columns={'Amount': 'price'}, inplace=True)"
   ]
  },
  {
   "cell_type": "code",
   "execution_count": 79,
   "metadata": {},
   "outputs": [],
   "source": [
    "toy = amazon_beta.query('SKU == \"SET389-KR-NP-S\"').sort_values(by='Date', ascending=True)\n",
    "toy['sales'] = toy.groupby(['SKU', 'Date', 'price'])['Order ID'].transform('count')"
   ]
  },
  {
   "cell_type": "code",
   "execution_count": 80,
   "metadata": {},
   "outputs": [
    {
     "data": {
      "text/html": [
       "<div>\n",
       "<style scoped>\n",
       "    .dataframe tbody tr th:only-of-type {\n",
       "        vertical-align: middle;\n",
       "    }\n",
       "\n",
       "    .dataframe tbody tr th {\n",
       "        vertical-align: top;\n",
       "    }\n",
       "\n",
       "    .dataframe thead th {\n",
       "        text-align: right;\n",
       "    }\n",
       "</style>\n",
       "<table border=\"1\" class=\"dataframe\">\n",
       "  <thead>\n",
       "    <tr style=\"text-align: right;\">\n",
       "      <th></th>\n",
       "      <th>Order ID</th>\n",
       "      <th>Date</th>\n",
       "      <th>SKU</th>\n",
       "      <th>Qty</th>\n",
       "      <th>price</th>\n",
       "    </tr>\n",
       "  </thead>\n",
       "  <tbody>\n",
       "    <tr>\n",
       "      <th>0</th>\n",
       "      <td>405-8078784-5731545</td>\n",
       "      <td>2022-04-30</td>\n",
       "      <td>SET389-KR-NP-S</td>\n",
       "      <td>0</td>\n",
       "      <td>647.62</td>\n",
       "    </tr>\n",
       "    <tr>\n",
       "      <th>1</th>\n",
       "      <td>171-9198151-1101146</td>\n",
       "      <td>2022-04-30</td>\n",
       "      <td>JNE3781-KR-XXXL</td>\n",
       "      <td>1</td>\n",
       "      <td>406.00</td>\n",
       "    </tr>\n",
       "    <tr>\n",
       "      <th>2</th>\n",
       "      <td>404-0687676-7273146</td>\n",
       "      <td>2022-04-30</td>\n",
       "      <td>JNE3371-KR-XL</td>\n",
       "      <td>1</td>\n",
       "      <td>329.00</td>\n",
       "    </tr>\n",
       "    <tr>\n",
       "      <th>3</th>\n",
       "      <td>403-9615377-8133951</td>\n",
       "      <td>2022-04-30</td>\n",
       "      <td>J0341-DR-L</td>\n",
       "      <td>0</td>\n",
       "      <td>753.33</td>\n",
       "    </tr>\n",
       "    <tr>\n",
       "      <th>4</th>\n",
       "      <td>407-1069790-7240320</td>\n",
       "      <td>2022-04-30</td>\n",
       "      <td>JNE3671-TU-XXXL</td>\n",
       "      <td>1</td>\n",
       "      <td>574.00</td>\n",
       "    </tr>\n",
       "  </tbody>\n",
       "</table>\n",
       "</div>"
      ],
      "text/plain": [
       "              Order ID       Date              SKU  Qty   price\n",
       "0  405-8078784-5731545 2022-04-30   SET389-KR-NP-S    0  647.62\n",
       "1  171-9198151-1101146 2022-04-30  JNE3781-KR-XXXL    1  406.00\n",
       "2  404-0687676-7273146 2022-04-30    JNE3371-KR-XL    1  329.00\n",
       "3  403-9615377-8133951 2022-04-30       J0341-DR-L    0  753.33\n",
       "4  407-1069790-7240320 2022-04-30  JNE3671-TU-XXXL    1  574.00"
      ]
     },
     "execution_count": 80,
     "metadata": {},
     "output_type": "execute_result"
    }
   ],
   "source": [
    "amazon_beta.head()"
   ]
  },
  {
   "cell_type": "code",
   "execution_count": 81,
   "metadata": {},
   "outputs": [],
   "source": [
    "\n",
    "# Create a column called \"sales\" that is the count of the \"Order ID\" grouped by \"SKU\" and \"Date\" and price in the amazon_beta dataset\n",
    "amazon_beta['sales'] = amazon_beta.groupby(['SKU', 'Date', 'price'])['Order ID'].transform('count')\n"
   ]
  },
  {
   "cell_type": "code",
   "execution_count": 82,
   "metadata": {},
   "outputs": [
    {
     "data": {
      "text/html": [
       "<div>\n",
       "<style scoped>\n",
       "    .dataframe tbody tr th:only-of-type {\n",
       "        vertical-align: middle;\n",
       "    }\n",
       "\n",
       "    .dataframe tbody tr th {\n",
       "        vertical-align: top;\n",
       "    }\n",
       "\n",
       "    .dataframe thead th {\n",
       "        text-align: right;\n",
       "    }\n",
       "</style>\n",
       "<table border=\"1\" class=\"dataframe\">\n",
       "  <thead>\n",
       "    <tr style=\"text-align: right;\">\n",
       "      <th></th>\n",
       "      <th>Order ID</th>\n",
       "      <th>Date</th>\n",
       "      <th>SKU</th>\n",
       "      <th>Qty</th>\n",
       "      <th>price</th>\n",
       "      <th>sales</th>\n",
       "    </tr>\n",
       "  </thead>\n",
       "  <tbody>\n",
       "    <tr>\n",
       "      <th>0</th>\n",
       "      <td>405-8078784-5731545</td>\n",
       "      <td>2022-04-30</td>\n",
       "      <td>SET389-KR-NP-S</td>\n",
       "      <td>0</td>\n",
       "      <td>647.62</td>\n",
       "      <td>1.0</td>\n",
       "    </tr>\n",
       "    <tr>\n",
       "      <th>1</th>\n",
       "      <td>171-9198151-1101146</td>\n",
       "      <td>2022-04-30</td>\n",
       "      <td>JNE3781-KR-XXXL</td>\n",
       "      <td>1</td>\n",
       "      <td>406.00</td>\n",
       "      <td>3.0</td>\n",
       "    </tr>\n",
       "    <tr>\n",
       "      <th>2</th>\n",
       "      <td>404-0687676-7273146</td>\n",
       "      <td>2022-04-30</td>\n",
       "      <td>JNE3371-KR-XL</td>\n",
       "      <td>1</td>\n",
       "      <td>329.00</td>\n",
       "      <td>2.0</td>\n",
       "    </tr>\n",
       "    <tr>\n",
       "      <th>3</th>\n",
       "      <td>403-9615377-8133951</td>\n",
       "      <td>2022-04-30</td>\n",
       "      <td>J0341-DR-L</td>\n",
       "      <td>0</td>\n",
       "      <td>753.33</td>\n",
       "      <td>2.0</td>\n",
       "    </tr>\n",
       "    <tr>\n",
       "      <th>4</th>\n",
       "      <td>407-1069790-7240320</td>\n",
       "      <td>2022-04-30</td>\n",
       "      <td>JNE3671-TU-XXXL</td>\n",
       "      <td>1</td>\n",
       "      <td>574.00</td>\n",
       "      <td>1.0</td>\n",
       "    </tr>\n",
       "  </tbody>\n",
       "</table>\n",
       "</div>"
      ],
      "text/plain": [
       "              Order ID       Date              SKU  Qty   price  sales\n",
       "0  405-8078784-5731545 2022-04-30   SET389-KR-NP-S    0  647.62    1.0\n",
       "1  171-9198151-1101146 2022-04-30  JNE3781-KR-XXXL    1  406.00    3.0\n",
       "2  404-0687676-7273146 2022-04-30    JNE3371-KR-XL    1  329.00    2.0\n",
       "3  403-9615377-8133951 2022-04-30       J0341-DR-L    0  753.33    2.0\n",
       "4  407-1069790-7240320 2022-04-30  JNE3671-TU-XXXL    1  574.00    1.0"
      ]
     },
     "execution_count": 82,
     "metadata": {},
     "output_type": "execute_result"
    }
   ],
   "source": [
    "amazon_beta.head()"
   ]
  },
  {
   "cell_type": "code",
   "execution_count": 83,
   "metadata": {},
   "outputs": [],
   "source": [
    "amazon_beta.sort_values(by=['SKU', 'Date'], ascending=True, inplace=True)"
   ]
  },
  {
   "cell_type": "code",
   "execution_count": 113,
   "metadata": {},
   "outputs": [],
   "source": [
    "\n",
    "# drop Nan values\n",
    "amazon_beta.dropna(inplace=True)"
   ]
  },
  {
   "cell_type": "code",
   "execution_count": 114,
   "metadata": {},
   "outputs": [],
   "source": [
    "amazon_beta_fe1 = fep.price_sales_correlation_features_updated(amazon_beta, 10, [(-5.0, 1.0), (-3.0, 1.0), (-2.0, 1.0), (1.0, 1.0), (-1.0, 0.5), (-1.0, 0.33)])\n"
   ]
  },
  {
   "cell_type": "code",
   "execution_count": 130,
   "metadata": {},
   "outputs": [
    {
     "data": {
      "text/html": [
       "<div>\n",
       "<style scoped>\n",
       "    .dataframe tbody tr th:only-of-type {\n",
       "        vertical-align: middle;\n",
       "    }\n",
       "\n",
       "    .dataframe tbody tr th {\n",
       "        vertical-align: top;\n",
       "    }\n",
       "\n",
       "    .dataframe thead th {\n",
       "        text-align: right;\n",
       "    }\n",
       "</style>\n",
       "<table border=\"1\" class=\"dataframe\">\n",
       "  <thead>\n",
       "    <tr style=\"text-align: right;\">\n",
       "      <th></th>\n",
       "      <th>Order ID</th>\n",
       "      <th>Date</th>\n",
       "      <th>SKU</th>\n",
       "      <th>Qty</th>\n",
       "      <th>price</th>\n",
       "      <th>sales</th>\n",
       "      <th>f_corr_-5.0_1.0</th>\n",
       "      <th>f_corr_-3.0_1.0</th>\n",
       "      <th>f_corr_-2.0_1.0</th>\n",
       "      <th>f_corr_1.0_1.0</th>\n",
       "      <th>f_corr_-1.0_0.5</th>\n",
       "      <th>f_corr_-1.0_0.33</th>\n",
       "    </tr>\n",
       "  </thead>\n",
       "  <tbody>\n",
       "    <tr>\n",
       "      <th>47784</th>\n",
       "      <td>406-4493775-5535509</td>\n",
       "      <td>2022-04-01</td>\n",
       "      <td>SET389-KR-NP-S</td>\n",
       "      <td>1</td>\n",
       "      <td>749.00</td>\n",
       "      <td>1.0</td>\n",
       "      <td>NaN</td>\n",
       "      <td>NaN</td>\n",
       "      <td>NaN</td>\n",
       "      <td>NaN</td>\n",
       "      <td>NaN</td>\n",
       "      <td>NaN</td>\n",
       "    </tr>\n",
       "    <tr>\n",
       "      <th>41605</th>\n",
       "      <td>408-5859715-9071508</td>\n",
       "      <td>2022-04-05</td>\n",
       "      <td>SET389-KR-NP-S</td>\n",
       "      <td>1</td>\n",
       "      <td>0.00</td>\n",
       "      <td>1.0</td>\n",
       "      <td>NaN</td>\n",
       "      <td>NaN</td>\n",
       "      <td>NaN</td>\n",
       "      <td>NaN</td>\n",
       "      <td>NaN</td>\n",
       "      <td>NaN</td>\n",
       "    </tr>\n",
       "    <tr>\n",
       "      <th>36996</th>\n",
       "      <td>402-3547090-0699503</td>\n",
       "      <td>2022-04-08</td>\n",
       "      <td>SET389-KR-NP-S</td>\n",
       "      <td>1</td>\n",
       "      <td>680.00</td>\n",
       "      <td>1.0</td>\n",
       "      <td>NaN</td>\n",
       "      <td>NaN</td>\n",
       "      <td>NaN</td>\n",
       "      <td>NaN</td>\n",
       "      <td>NaN</td>\n",
       "      <td>NaN</td>\n",
       "    </tr>\n",
       "    <tr>\n",
       "      <th>18468</th>\n",
       "      <td>405-2959500-2916317</td>\n",
       "      <td>2022-04-19</td>\n",
       "      <td>SET389-KR-NP-S</td>\n",
       "      <td>1</td>\n",
       "      <td>680.00</td>\n",
       "      <td>1.0</td>\n",
       "      <td>NaN</td>\n",
       "      <td>NaN</td>\n",
       "      <td>NaN</td>\n",
       "      <td>NaN</td>\n",
       "      <td>NaN</td>\n",
       "      <td>NaN</td>\n",
       "    </tr>\n",
       "    <tr>\n",
       "      <th>16932</th>\n",
       "      <td>406-8338408-6778764</td>\n",
       "      <td>2022-04-20</td>\n",
       "      <td>SET389-KR-NP-S</td>\n",
       "      <td>0</td>\n",
       "      <td>647.62</td>\n",
       "      <td>1.0</td>\n",
       "      <td>NaN</td>\n",
       "      <td>NaN</td>\n",
       "      <td>NaN</td>\n",
       "      <td>NaN</td>\n",
       "      <td>NaN</td>\n",
       "      <td>NaN</td>\n",
       "    </tr>\n",
       "  </tbody>\n",
       "</table>\n",
       "</div>"
      ],
      "text/plain": [
       "                  Order ID       Date             SKU  Qty   price  sales  \\\n",
       "47784  406-4493775-5535509 2022-04-01  SET389-KR-NP-S    1  749.00    1.0   \n",
       "41605  408-5859715-9071508 2022-04-05  SET389-KR-NP-S    1    0.00    1.0   \n",
       "36996  402-3547090-0699503 2022-04-08  SET389-KR-NP-S    1  680.00    1.0   \n",
       "18468  405-2959500-2916317 2022-04-19  SET389-KR-NP-S    1  680.00    1.0   \n",
       "16932  406-8338408-6778764 2022-04-20  SET389-KR-NP-S    0  647.62    1.0   \n",
       "\n",
       "       f_corr_-5.0_1.0  f_corr_-3.0_1.0  f_corr_-2.0_1.0  f_corr_1.0_1.0  \\\n",
       "47784              NaN              NaN              NaN             NaN   \n",
       "41605              NaN              NaN              NaN             NaN   \n",
       "36996              NaN              NaN              NaN             NaN   \n",
       "18468              NaN              NaN              NaN             NaN   \n",
       "16932              NaN              NaN              NaN             NaN   \n",
       "\n",
       "       f_corr_-1.0_0.5  f_corr_-1.0_0.33  \n",
       "47784              NaN               NaN  \n",
       "41605              NaN               NaN  \n",
       "36996              NaN               NaN  \n",
       "18468              NaN               NaN  \n",
       "16932              NaN               NaN  "
      ]
     },
     "execution_count": 130,
     "metadata": {},
     "output_type": "execute_result"
    }
   ],
   "source": [
    "\n",
    "amazon_beta_fe1.query('SKU == \"SET389-KR-NP-S\"').sort_values(by='Date', ascending=True).head()\n",
    "# calculate average number of Date in each SKU\n",
    "#amazon_beta_fe1.groupby('SKU')['Date'].nunique().mean()\n",
    "# add a column called \"days\" that is the count of \"Date\" of each SKU\n",
    "#amazon_beta_fe1['days'] = amazon_beta_fe1.groupby('SKU')['Date'].transform('nunique')\n",
    "#amazon_beta_fe1.drop(columns=['days'], inplace=True)\n"
   ]
  },
  {
   "cell_type": "code",
   "execution_count": 133,
   "metadata": {},
   "outputs": [],
   "source": [
    "amazon_beta_fe2 = fep.normalize_features(amazon_beta, [5, 10, 15], 28)"
   ]
  },
  {
   "cell_type": "code",
   "execution_count": 127,
   "metadata": {},
   "outputs": [
    {
     "data": {
      "text/html": [
       "<div>\n",
       "<style scoped>\n",
       "    .dataframe tbody tr th:only-of-type {\n",
       "        vertical-align: middle;\n",
       "    }\n",
       "\n",
       "    .dataframe tbody tr th {\n",
       "        vertical-align: top;\n",
       "    }\n",
       "\n",
       "    .dataframe thead th {\n",
       "        text-align: right;\n",
       "    }\n",
       "</style>\n",
       "<table border=\"1\" class=\"dataframe\">\n",
       "  <thead>\n",
       "    <tr style=\"text-align: right;\">\n",
       "      <th></th>\n",
       "      <th>Order ID</th>\n",
       "      <th>Date</th>\n",
       "      <th>SKU</th>\n",
       "      <th>Qty</th>\n",
       "      <th>price</th>\n",
       "      <th>sales</th>\n",
       "      <th>normalized_avg_price_5_days</th>\n",
       "      <th>normalized_avg_sales_5_days</th>\n",
       "      <th>normalized_log_avg_price_5_days</th>\n",
       "      <th>normalized_log_avg_sales_5_days</th>\n",
       "      <th>normalized_std_price_5_days</th>\n",
       "      <th>normalized_std_sales_5_days</th>\n",
       "      <th>normalized_avg_price_10_days</th>\n",
       "      <th>normalized_avg_sales_10_days</th>\n",
       "      <th>normalized_log_avg_price_10_days</th>\n",
       "      <th>normalized_log_avg_sales_10_days</th>\n",
       "      <th>normalized_std_price_10_days</th>\n",
       "      <th>normalized_std_sales_10_days</th>\n",
       "      <th>normalized_avg_price_15_days</th>\n",
       "      <th>normalized_avg_sales_15_days</th>\n",
       "      <th>normalized_log_avg_price_15_days</th>\n",
       "      <th>normalized_log_avg_sales_15_days</th>\n",
       "      <th>normalized_std_price_15_days</th>\n",
       "      <th>normalized_std_sales_15_days</th>\n",
       "    </tr>\n",
       "  </thead>\n",
       "  <tbody>\n",
       "    <tr>\n",
       "      <th>98144</th>\n",
       "      <td>407-9280687-5435505</td>\n",
       "      <td>2022-06-23</td>\n",
       "      <td>SET462-KR-NP-S</td>\n",
       "      <td>1</td>\n",
       "      <td>999.0</td>\n",
       "      <td>1.0</td>\n",
       "      <td>NaN</td>\n",
       "      <td>NaN</td>\n",
       "      <td>NaN</td>\n",
       "      <td>NaN</td>\n",
       "      <td>NaN</td>\n",
       "      <td>NaN</td>\n",
       "      <td>NaN</td>\n",
       "      <td>NaN</td>\n",
       "      <td>NaN</td>\n",
       "      <td>NaN</td>\n",
       "      <td>NaN</td>\n",
       "      <td>NaN</td>\n",
       "      <td>NaN</td>\n",
       "      <td>NaN</td>\n",
       "      <td>NaN</td>\n",
       "      <td>NaN</td>\n",
       "      <td>NaN</td>\n",
       "      <td>NaN</td>\n",
       "    </tr>\n",
       "  </tbody>\n",
       "</table>\n",
       "</div>"
      ],
      "text/plain": [
       "                  Order ID       Date             SKU  Qty  price  sales  \\\n",
       "98144  407-9280687-5435505 2022-06-23  SET462-KR-NP-S    1  999.0    1.0   \n",
       "\n",
       "       normalized_avg_price_5_days  normalized_avg_sales_5_days  \\\n",
       "98144                          NaN                          NaN   \n",
       "\n",
       "       normalized_log_avg_price_5_days  normalized_log_avg_sales_5_days  \\\n",
       "98144                              NaN                              NaN   \n",
       "\n",
       "       normalized_std_price_5_days  normalized_std_sales_5_days  \\\n",
       "98144                          NaN                          NaN   \n",
       "\n",
       "       normalized_avg_price_10_days  normalized_avg_sales_10_days  \\\n",
       "98144                           NaN                           NaN   \n",
       "\n",
       "       normalized_log_avg_price_10_days  normalized_log_avg_sales_10_days  \\\n",
       "98144                               NaN                               NaN   \n",
       "\n",
       "       normalized_std_price_10_days  normalized_std_sales_10_days  \\\n",
       "98144                           NaN                           NaN   \n",
       "\n",
       "       normalized_avg_price_15_days  normalized_avg_sales_15_days  \\\n",
       "98144                           NaN                           NaN   \n",
       "\n",
       "       normalized_log_avg_price_15_days  normalized_log_avg_sales_15_days  \\\n",
       "98144                               NaN                               NaN   \n",
       "\n",
       "       normalized_std_price_15_days  normalized_std_sales_15_days  \n",
       "98144                           NaN                           NaN  "
      ]
     },
     "execution_count": 127,
     "metadata": {},
     "output_type": "execute_result"
    }
   ],
   "source": [
    "amazon_beta_fe2"
   ]
  },
  {
   "cell_type": "code",
   "execution_count": 116,
   "metadata": {},
   "outputs": [],
   "source": [
    "#amazon_beta_fe2.head()\n",
    "toy_sky = amazon_beta.query('SKU == \"SET389-KR-NP-S\"').sort_values(by='Date', ascending=True)"
   ]
  },
  {
   "cell_type": "code",
   "execution_count": 117,
   "metadata": {},
   "outputs": [],
   "source": [
    "toy_sky = fep.normalize_features(toy_sky, [5, 10, 15], 28)"
   ]
  },
  {
   "cell_type": "code",
   "execution_count": null,
   "metadata": {},
   "outputs": [],
   "source": [
    "amazon_beta_fe3, insuficient_data = fep.filter_stability_periods(amazon_beta_fe2, 7, 0.04)"
   ]
  },
  {
   "cell_type": "code",
   "execution_count": null,
   "metadata": {},
   "outputs": [],
   "source": [
    "amazon_beta_fe3.head(10)\n"
   ]
  },
  {
   "cell_type": "code",
   "execution_count": null,
   "metadata": {},
   "outputs": [],
   "source": [
    "# print without index amazon_beta_fe3.query('SKU == \"SET389-KR-NP-S\"') without index column\n",
    "\n",
    "\n",
    "#amazon_beta_fe3[['Order ID', 'Date', 'SKU', 'price', 'sales','avg_price_last_7_days', 'price_variation']].query('SKU == \"SET389-KR-NP-S\"')\n",
    "\n",
    "\n",
    "# NOTE: Still seeing repeated values in the \"price\" column. Either low the threshold or increase removal_percentage\n",
    "\n"
   ]
  },
  {
   "cell_type": "code",
   "execution_count": null,
   "metadata": {},
   "outputs": [],
   "source": [
    "\n",
    "eda.missing_values_table(amazon_beta_fe3)"
   ]
  },
  {
   "cell_type": "code",
   "execution_count": null,
   "metadata": {},
   "outputs": [],
   "source": [
    "# drop rows where price is null\n",
    "amazon_beta_train = amazon_beta_fe3.dropna(subset=['price'])"
   ]
  },
  {
   "cell_type": "code",
   "execution_count": null,
   "metadata": {},
   "outputs": [],
   "source": [
    "amazon_beta_train.fillna(0, inplace=True)"
   ]
  },
  {
   "cell_type": "code",
   "execution_count": null,
   "metadata": {},
   "outputs": [],
   "source": [
    "amazon_beta_train1= fep.datetime_transform(amazon_beta_train, 'Date',['day_of_the_year', 'month', 'day_of_the_week'])"
   ]
  },
  {
   "cell_type": "code",
   "execution_count": null,
   "metadata": {},
   "outputs": [],
   "source": [
    "# Drop Order Id, price_variation, insufficient_data\n",
    "amazon_beta_train1.drop(columns=['Order ID', 'price_variation', 'insufficient_data'], inplace=True)"
   ]
  },
  {
   "cell_type": "code",
   "execution_count": null,
   "metadata": {},
   "outputs": [],
   "source": [
    "#amazon_beta_train1.head()\n",
    "amazon_beta_train1.drop(columns=['Date_season'], inplace=True)"
   ]
  },
  {
   "cell_type": "code",
   "execution_count": null,
   "metadata": {},
   "outputs": [],
   "source": [
    "from src.data.data_splitter import DataSplitter\n",
    "\n",
    "splitter = DataSplitter(amazon_beta_train1, train_months=1, test_weeks=2)\n",
    "train, test = splitter.split_data()"
   ]
  },
  {
   "cell_type": "code",
   "execution_count": null,
   "metadata": {},
   "outputs": [],
   "source": [
    "train.shape, test.shape\n",
    "# print min and max dates of train and test\n",
    "train['Date'].min(), train['Date'].max(), test['Date'].min(), test['Date'].max()\n",
    "# Min Date: 2022-03-31 00:00:00, Max Date: 2022-06-29 00:00:00, Total Months: 3"
   ]
  },
  {
   "cell_type": "code",
   "execution_count": null,
   "metadata": {},
   "outputs": [],
   "source": [
    "# Drop Date column\n",
    "train.drop(columns=['Date'], inplace=True)\n",
    "test.drop(columns=['Date'], inplace=True)\n",
    "# one hot encode Date_season\n",
    "#train = pd.get_dummies(train, columns=['Date_season'])\n",
    "#test = pd.get_dummies(test, columns=['Date_season'])"
   ]
  },
  {
   "cell_type": "code",
   "execution_count": null,
   "metadata": {},
   "outputs": [],
   "source": [
    "# Clean memory usage and delete dataframes that are not needed\n",
    "#import gc\n",
    "#del amazon, amazon_beta, amazon_beta_fe1, amazon_beta_fe2, amazon_beta_fe3, amazon_beta_train, amazon_beta_train1\n",
    "#gc.collect()\n",
    "\n"
   ]
  },
  {
   "cell_type": "code",
   "execution_count": null,
   "metadata": {},
   "outputs": [],
   "source": [
    "# dump as pickel files train and test dataframes in the data/processed folder\n",
    "train.to_pickle('../data/processed/train.pkl')\n",
    "test.to_pickle('../data/processed/test.pkl')"
   ]
  },
  {
   "cell_type": "code",
   "execution_count": null,
   "metadata": {},
   "outputs": [],
   "source": [
    "# load train and test pickle from the data/processed folder\n",
    "train = pd.read_pickle('../data/processed/train.pkl')"
   ]
  },
  {
   "cell_type": "code",
   "execution_count": null,
   "metadata": {},
   "outputs": [],
   "source": [
    "# load test pickle from the data/processed folder\n",
    "test = pd.read_pickle('../data/processed/test.pkl')"
   ]
  },
  {
   "cell_type": "code",
   "execution_count": null,
   "metadata": {},
   "outputs": [],
   "source": [
    "train.columns"
   ]
  },
  {
   "cell_type": "code",
   "execution_count": null,
   "metadata": {},
   "outputs": [],
   "source": [
    "import psutil\n",
    "\n",
    "# Get memory usage in bytes\n",
    "memory_usage = psutil.virtual_memory()\n",
    "total_memory = memory_usage.total\n",
    "available_memory = memory_usage.available\n",
    "used_memory = memory_usage.used\n",
    "percent_memory_used = memory_usage.percent\n",
    "\n",
    "# Convert memory values to human-readable format\n",
    "total_memory_readable = psutil._common.bytes2human(total_memory)\n",
    "available_memory_readable = psutil._common.bytes2human(available_memory)\n",
    "used_memory_readable = psutil._common.bytes2human(used_memory)\n",
    "\n",
    "# Print memory usage information\n",
    "print(f\"Total Memory: {total_memory_readable}\")\n",
    "print(f\"Available Memory: {available_memory_readable}\")\n",
    "print(f\"Used Memory: {used_memory_readable}\")\n",
    "print(f\"Percent Memory Used: {percent_memory_used}%\")\n"
   ]
  },
  {
   "cell_type": "code",
   "execution_count": null,
   "metadata": {},
   "outputs": [],
   "source": [
    "may = 467\n",
    "june = 467\n",
    "july = 497\n",
    "august = 498\n",
    "september = 515\n",
    "october = 500\n",
    "november = 515\n",
    "december = 523\n",
    "\n",
    "# get total sum of sales for each month\n",
    "\n",
    "total_sales = may + june + july + august + september + october + november + december\n"
   ]
  },
  {
   "cell_type": "code",
   "execution_count": null,
   "metadata": {},
   "outputs": [],
   "source": [
    "import modal\n",
    "\n",
    "stub = modal.Stub(\"example-get-started\")\n",
    "@stub.function()\n",
    "def f():\n",
    "    return \"hello\"\n",
    "\n",
    "with stub.run():\n",
    "    assert \"hello\" == f.call()  # remote call works ✔️\n",
    "    f()  # raises error in notebook ⚠️"
   ]
  },
  {
   "cell_type": "code",
   "execution_count": null,
   "metadata": {},
   "outputs": [],
   "source": [
    "#check version of pandas\n",
    "pd.__version__"
   ]
  },
  {
   "cell_type": "code",
   "execution_count": null,
   "metadata": {},
   "outputs": [],
   "source": [
    "train.shape, test.shape"
   ]
  },
  {
   "cell_type": "code",
   "execution_count": null,
   "metadata": {},
   "outputs": [],
   "source": [
    "test.columns"
   ]
  },
  {
   "cell_type": "code",
   "execution_count": null,
   "metadata": {},
   "outputs": [],
   "source": [
    "train.columns"
   ]
  },
  {
   "cell_type": "code",
   "execution_count": null,
   "metadata": {},
   "outputs": [],
   "source": [
    "test.shape"
   ]
  },
  {
   "cell_type": "code",
   "execution_count": null,
   "metadata": {},
   "outputs": [],
   "source": [
    "import pandas as pd\n",
    "predicted_sales = pd.read_csv('../data/processed/predictions.csv')"
   ]
  },
  {
   "cell_type": "code",
   "execution_count": null,
   "metadata": {},
   "outputs": [],
   "source": [
    "\n",
    "predicted_sales.rename(columns={'predicted_sales_xgboost': 'predicted_sales'}, inplace=True)"
   ]
  },
  {
   "cell_type": "code",
   "execution_count": null,
   "metadata": {},
   "outputs": [],
   "source": [
    "predicted_sales.head()"
   ]
  },
  {
   "cell_type": "code",
   "execution_count": null,
   "metadata": {},
   "outputs": [],
   "source": [
    "input_df = predicted_sales.copy()"
   ]
  },
  {
   "cell_type": "code",
   "execution_count": null,
   "metadata": {},
   "outputs": [],
   "source": [
    "input_df = input_df.head(1)"
   ]
  },
  {
   "cell_type": "code",
   "execution_count": null,
   "metadata": {},
   "outputs": [],
   "source": [
    "input_df"
   ]
  },
  {
   "cell_type": "code",
   "execution_count": null,
   "metadata": {},
   "outputs": [],
   "source": [
    "from src.pricing.pricing_algorithm import grid_search_lambda\n",
    "import numpy as np\n",
    "\n",
    "# Function to find optimal price for a given SKU\n",
    "def find_optimal_price(sku_row, c, s, P0):\n",
    "    # Extracting SKU, price and predicted sales\n",
    "    sku = sku_row['SKU']\n",
    "    price = sku_row['price']\n",
    "    predicted_sale = sku_row['predicted_sales']\n",
    "    \n",
    "    print(f'\\nProcessing SKU: {sku}')\n",
    "    print(f'Original Price: {price}, Predicted Sales: {predicted_sale}')\n",
    "    \n",
    "    # Call grid_search_lambda function to find optimal price for the current SKU\n",
    "    prices = np.array([price])\n",
    "    predicted_sales = np.array([predicted_sale])\n",
    "    \n",
    "    print(f'Starting grid search for SKU: {sku}')\n",
    "    best_prices, best_lambdas = grid_search_lambda(P0, prices, predicted_sales, c, s)\n",
    "    \n",
    "    # Extract the optimal price\n",
    "    optimal_price = best_prices[0]\n",
    "    \n",
    "    print(f'Optimal Price for SKU {sku}: {optimal_price}\\n')\n",
    "    \n",
    "    # Return the optimal price\n",
    "    return optimal_price\n",
    "\n",
    "# Parameters (you should calibrate these values based on your business case)\n",
    "c = 10\n",
    "s = 2\n",
    "P0 = 100\n",
    "\n",
    "# Assuming that input_df is the DataFrame that contains your data with columns: 'SKU', 'price', 'predicted_sales'\n",
    "\n",
    "# Applying the function to each row in the DataFrame\n",
    "optimal_prices = input_df.apply(find_optimal_price, args=(c, s, P0), axis=1)\n",
    "\n",
    "# Creating a new DataFrame with SKU and optimal_prices\n",
    "result_df = pd.DataFrame({'SKU': input_df['SKU'], 'optimal_prices': optimal_prices})\n",
    "\n",
    "# Display the resulting DataFrame\n",
    "print('\\nFinal Result:')\n",
    "print(result_df)\n"
   ]
  },
  {
   "cell_type": "code",
   "execution_count": null,
   "metadata": {},
   "outputs": [],
   "source": [
    "lambda_min=3\n",
    "lambda_max=5\n",
    "lambda_step=1\n",
    "range(lambda_min, lambda_max + 1, lambda_step)"
   ]
  },
  {
   "cell_type": "code",
   "execution_count": null,
   "metadata": {},
   "outputs": [],
   "source": [
    "import pandas as pd\n",
    "predictions = pd.read_csv('../data/processed/predictions.csv')\n",
    "optimal_prices = pd.read_csv('../data/processed/optimal_prices.csv')"
   ]
  },
  {
   "cell_type": "code",
   "execution_count": null,
   "metadata": {},
   "outputs": [],
   "source": [
    "optimal_prices.tail(10)"
   ]
  },
  {
   "cell_type": "code",
   "execution_count": null,
   "metadata": {},
   "outputs": [],
   "source": [
    "optimal_prices.optimal_prices.value_counts()"
   ]
  },
  {
   "cell_type": "code",
   "execution_count": null,
   "metadata": {},
   "outputs": [],
   "source": [
    "print(optimal_prices.query('SKU == \"SET389-KR-NP-S\"').to_string(index=False))"
   ]
  },
  {
   "cell_type": "code",
   "execution_count": null,
   "metadata": {},
   "outputs": [],
   "source": [
    "print(predictions.query('SKU == \"SET389-KR-NP-S\"').to_string(index=False))"
   ]
  },
  {
   "cell_type": "code",
   "execution_count": null,
   "metadata": {},
   "outputs": [],
   "source": [
    "amazon.query('SKU == \"SET389-KR-NP-S\"').Amount.value_counts()"
   ]
  },
  {
   "cell_type": "code",
   "execution_count": null,
   "metadata": {},
   "outputs": [],
   "source": []
  }
 ],
 "metadata": {
  "kernelspec": {
   "display_name": "relu",
   "language": "python",
   "name": "python3"
  },
  "language_info": {
   "codemirror_mode": {
    "name": "ipython",
    "version": 3
   },
   "file_extension": ".py",
   "mimetype": "text/x-python",
   "name": "python",
   "nbconvert_exporter": "python",
   "pygments_lexer": "ipython3",
   "version": "3.8.16"
  },
  "orig_nbformat": 4
 },
 "nbformat": 4,
 "nbformat_minor": 2
}
