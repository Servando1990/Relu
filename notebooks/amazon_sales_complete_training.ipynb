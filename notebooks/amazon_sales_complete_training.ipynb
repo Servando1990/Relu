{
 "cells": [
  {
   "cell_type": "code",
   "execution_count": 1,
   "metadata": {},
   "outputs": [],
   "source": [
    "\n",
    "from src.data.dataset_reader import DatasetReader\n",
    "from pathlib import Path\n",
    "import pandas as pd\n",
    "pd.set_option('display.max_columns', None)\n",
    "%load_ext autoreload\n",
    "%autoreload 2\n",
    "# ignore warnings\n",
    "import warnings\n",
    "warnings.filterwarnings('ignore')\n",
    "data_folder = Path(\"../data/raw\").resolve()\n",
    "\n",
    "amazon = DatasetReader(data_folder).get_data_csv('Amazon_Sale_Report.csv')\n",
    "\n"
   ]
  },
  {
   "cell_type": "code",
   "execution_count": 2,
   "metadata": {},
   "outputs": [],
   "source": [
    "from src.data.feature_engineering import FeatureEngineeringProcess\n",
    "fep = FeatureEngineeringProcess()\n"
   ]
  },
  {
   "cell_type": "code",
   "execution_count": 3,
   "metadata": {},
   "outputs": [],
   "source": [
    "# Create a new feature called sales that is the  the count of \"Amount\" grouped by \"SKU\" in the amazon dataset\n",
    "#amazon['sales'] = amazon.groupby('SKU')['Amount'].transform('count')\n",
    "#amazon.drop(columns=[ 'Order ID', 'ASIN', 'Unnamed: 22', 'index'], inplace=True\n",
    "amazon['Date'] = pd.to_datetime(amazon['Date'])\n",
    "amazon['ship-postal-code'] = amazon['ship-postal-code'].astype('object')\n",
    "amazon.rename(columns={'Amount': 'price'}, inplace=True)\n",
    "amazon_beta =  amazon[['Order ID','Date', 'SKU', 'Qty', 'price']]"
   ]
  },
  {
   "cell_type": "code",
   "execution_count": 4,
   "metadata": {},
   "outputs": [
    {
     "name": "stdout",
     "output_type": "stream",
     "text": [
      "The selected dataframe has 5 columns and 1 columns with missing values.\n"
     ]
    },
    {
     "data": {
      "text/html": [
       "<div>\n",
       "<style scoped>\n",
       "    .dataframe tbody tr th:only-of-type {\n",
       "        vertical-align: middle;\n",
       "    }\n",
       "\n",
       "    .dataframe tbody tr th {\n",
       "        vertical-align: top;\n",
       "    }\n",
       "\n",
       "    .dataframe thead th {\n",
       "        text-align: right;\n",
       "    }\n",
       "</style>\n",
       "<table border=\"1\" class=\"dataframe\">\n",
       "  <thead>\n",
       "    <tr style=\"text-align: right;\">\n",
       "      <th></th>\n",
       "      <th>Missing Values</th>\n",
       "      <th>% of Total Values</th>\n",
       "    </tr>\n",
       "  </thead>\n",
       "  <tbody>\n",
       "    <tr>\n",
       "      <th>price</th>\n",
       "      <td>7795</td>\n",
       "      <td>6.0</td>\n",
       "    </tr>\n",
       "  </tbody>\n",
       "</table>\n",
       "</div>"
      ],
      "text/plain": [
       "       Missing Values  % of Total Values\n",
       "price            7795                6.0"
      ]
     },
     "execution_count": 4,
     "metadata": {},
     "output_type": "execute_result"
    }
   ],
   "source": [
    "from src.data.eda import Eda\n",
    "eda = Eda(    \n",
    ")\n",
    "\n",
    "eda.missing_values_table(amazon_beta)"
   ]
  },
  {
   "cell_type": "code",
   "execution_count": 5,
   "metadata": {},
   "outputs": [],
   "source": [
    "# impute price missing values with the mean\n",
    "amazon_beta['price'].fillna(amazon_beta['price'].mean(), inplace=True)"
   ]
  },
  {
   "cell_type": "code",
   "execution_count": null,
   "metadata": {},
   "outputs": [],
   "source": [
    "#toy = amazon_beta.query('SKU == \"SET389-KR-NP-S\"').sort_values(by='Date', ascending=True)\n",
    "#toy['sales'] = toy.groupby(['SKU', 'Date', 'price'])['Order ID'].transform('count')"
   ]
  },
  {
   "cell_type": "code",
   "execution_count": 6,
   "metadata": {},
   "outputs": [],
   "source": [
    "\n",
    "# Create a column called \"sales\" that is the count of the \"Order ID\" grouped by \"SKU\" and \"Date\" and price in the amazon_beta dataset\n",
    "amazon_beta['sales'] = amazon_beta.groupby(['SKU', 'Date', 'price'])['Order ID'].transform('count')\n",
    "amazon_beta.sort_values(by=['SKU', 'Date'], ascending=True, inplace=True)"
   ]
  },
  {
   "cell_type": "code",
   "execution_count": 7,
   "metadata": {},
   "outputs": [],
   "source": [
    "amazon_beta_fe1 = fep.price_sales_correlation_features_updated(amazon_beta, 10, [(-5.0, 1.0), (-3.0, 1.0), (-2.0, 1.0), (1.0, 1.0), (-1.0, 0.5), (-1.0, 0.33)])\n"
   ]
  },
  {
   "cell_type": "code",
   "execution_count": 8,
   "metadata": {},
   "outputs": [
    {
     "name": "stdout",
     "output_type": "stream",
     "text": [
      "The selected dataframe has 12 columns and 6 columns with missing values.\n"
     ]
    },
    {
     "data": {
      "text/html": [
       "<div>\n",
       "<style scoped>\n",
       "    .dataframe tbody tr th:only-of-type {\n",
       "        vertical-align: middle;\n",
       "    }\n",
       "\n",
       "    .dataframe tbody tr th {\n",
       "        vertical-align: top;\n",
       "    }\n",
       "\n",
       "    .dataframe thead th {\n",
       "        text-align: right;\n",
       "    }\n",
       "</style>\n",
       "<table border=\"1\" class=\"dataframe\">\n",
       "  <thead>\n",
       "    <tr style=\"text-align: right;\">\n",
       "      <th></th>\n",
       "      <th>Missing Values</th>\n",
       "      <th>% of Total Values</th>\n",
       "    </tr>\n",
       "  </thead>\n",
       "  <tbody>\n",
       "    <tr>\n",
       "      <th>f_corr_-5.0_1.0</th>\n",
       "      <td>57436</td>\n",
       "      <td>44.5</td>\n",
       "    </tr>\n",
       "    <tr>\n",
       "      <th>f_corr_-3.0_1.0</th>\n",
       "      <td>57436</td>\n",
       "      <td>44.5</td>\n",
       "    </tr>\n",
       "    <tr>\n",
       "      <th>f_corr_-2.0_1.0</th>\n",
       "      <td>57436</td>\n",
       "      <td>44.5</td>\n",
       "    </tr>\n",
       "    <tr>\n",
       "      <th>f_corr_-1.0_0.5</th>\n",
       "      <td>57436</td>\n",
       "      <td>44.5</td>\n",
       "    </tr>\n",
       "    <tr>\n",
       "      <th>f_corr_-1.0_0.33</th>\n",
       "      <td>57436</td>\n",
       "      <td>44.5</td>\n",
       "    </tr>\n",
       "    <tr>\n",
       "      <th>f_corr_1.0_1.0</th>\n",
       "      <td>43722</td>\n",
       "      <td>33.9</td>\n",
       "    </tr>\n",
       "  </tbody>\n",
       "</table>\n",
       "</div>"
      ],
      "text/plain": [
       "                  Missing Values  % of Total Values\n",
       "f_corr_-5.0_1.0            57436               44.5\n",
       "f_corr_-3.0_1.0            57436               44.5\n",
       "f_corr_-2.0_1.0            57436               44.5\n",
       "f_corr_-1.0_0.5            57436               44.5\n",
       "f_corr_-1.0_0.33           57436               44.5\n",
       "f_corr_1.0_1.0             43722               33.9"
      ]
     },
     "execution_count": 8,
     "metadata": {},
     "output_type": "execute_result"
    }
   ],
   "source": [
    "\n",
    "#amazon_beta_fe1.query('SKU == \"SET389-KR-NP-S\"').sort_values(by='Date', ascending=True).head()\n",
    "# calculate average number of Date in each SKU\n",
    "#amazon_beta_fe1.groupby('SKU')['Date'].nunique().mean()\n",
    "# add a column called \"days\" that is the count of \"Date\" of each SKU\n",
    "#amazon_beta_fe1['days'] = amazon_beta_fe1.groupby('SKU')['Date'].transform('nunique')\n",
    "#amazon_beta_fe1.drop(columns=['days'], inplace=True)\n",
    "eda.missing_values_table(amazon_beta_fe1)\n"
   ]
  },
  {
   "cell_type": "code",
   "execution_count": 9,
   "metadata": {},
   "outputs": [],
   "source": [
    "amazon_beta_fe2 = fep.normalize_features(amazon_beta_fe1, [5, 10, 15], 28)"
   ]
  },
  {
   "cell_type": "code",
   "execution_count": 10,
   "metadata": {},
   "outputs": [
    {
     "data": {
      "text/plain": [
       "Order ID                            0\n",
       "Date                                0\n",
       "SKU                                 0\n",
       "Qty                                 0\n",
       "price                               0\n",
       "sales                               0\n",
       "f_corr_-5.0_1.0                     0\n",
       "f_corr_-3.0_1.0                     0\n",
       "f_corr_-2.0_1.0                     0\n",
       "f_corr_1.0_1.0                      0\n",
       "f_corr_-1.0_0.5                     0\n",
       "f_corr_-1.0_0.33                    0\n",
       "normalized_log_avg_price_5_days     0\n",
       "normalized_log_avg_sales_5_days     0\n",
       "normalized_std_price_5_days         0\n",
       "normalized_std_sales_5_days         0\n",
       "normalized_log_avg_price_10_days    0\n",
       "normalized_log_avg_sales_10_days    0\n",
       "normalized_std_price_10_days        0\n",
       "normalized_std_sales_10_days        0\n",
       "normalized_log_avg_price_15_days    0\n",
       "normalized_log_avg_sales_15_days    0\n",
       "normalized_std_price_15_days        0\n",
       "normalized_std_sales_15_days        0\n",
       "dtype: int64"
      ]
     },
     "execution_count": 10,
     "metadata": {},
     "output_type": "execute_result"
    }
   ],
   "source": [
    "# check for infs\n",
    "import numpy as np\n",
    "amazon_beta_fe2[amazon_beta_fe2 == np.inf].count()"
   ]
  },
  {
   "cell_type": "code",
   "execution_count": 30,
   "metadata": {},
   "outputs": [],
   "source": [
    "amazon_beta_fe3, insuficient_data = fep.filter_stability_periods(amazon_beta_fe2, 7, 0.04)"
   ]
  },
  {
   "cell_type": "code",
   "execution_count": 31,
   "metadata": {},
   "outputs": [
    {
     "name": "stdout",
     "output_type": "stream",
     "text": [
      "The selected dataframe has 24 columns and 18 columns with missing values.\n"
     ]
    },
    {
     "data": {
      "text/html": [
       "<div>\n",
       "<style scoped>\n",
       "    .dataframe tbody tr th:only-of-type {\n",
       "        vertical-align: middle;\n",
       "    }\n",
       "\n",
       "    .dataframe tbody tr th {\n",
       "        vertical-align: top;\n",
       "    }\n",
       "\n",
       "    .dataframe thead th {\n",
       "        text-align: right;\n",
       "    }\n",
       "</style>\n",
       "<table border=\"1\" class=\"dataframe\">\n",
       "  <thead>\n",
       "    <tr style=\"text-align: right;\">\n",
       "      <th></th>\n",
       "      <th>Missing Values</th>\n",
       "      <th>% of Total Values</th>\n",
       "    </tr>\n",
       "  </thead>\n",
       "  <tbody>\n",
       "    <tr>\n",
       "      <th>f_corr_-5.0_1.0</th>\n",
       "      <td>48951</td>\n",
       "      <td>67.4</td>\n",
       "    </tr>\n",
       "    <tr>\n",
       "      <th>f_corr_-2.0_1.0</th>\n",
       "      <td>48951</td>\n",
       "      <td>67.4</td>\n",
       "    </tr>\n",
       "    <tr>\n",
       "      <th>f_corr_-1.0_0.5</th>\n",
       "      <td>48951</td>\n",
       "      <td>67.4</td>\n",
       "    </tr>\n",
       "    <tr>\n",
       "      <th>f_corr_-1.0_0.33</th>\n",
       "      <td>48951</td>\n",
       "      <td>67.4</td>\n",
       "    </tr>\n",
       "    <tr>\n",
       "      <th>f_corr_-3.0_1.0</th>\n",
       "      <td>48951</td>\n",
       "      <td>67.4</td>\n",
       "    </tr>\n",
       "    <tr>\n",
       "      <th>normalized_log_avg_sales_15_days</th>\n",
       "      <td>46702</td>\n",
       "      <td>64.3</td>\n",
       "    </tr>\n",
       "    <tr>\n",
       "      <th>normalized_log_avg_price_15_days</th>\n",
       "      <td>46702</td>\n",
       "      <td>64.3</td>\n",
       "    </tr>\n",
       "    <tr>\n",
       "      <th>normalized_log_avg_price_10_days</th>\n",
       "      <td>44390</td>\n",
       "      <td>61.1</td>\n",
       "    </tr>\n",
       "    <tr>\n",
       "      <th>normalized_log_avg_sales_10_days</th>\n",
       "      <td>44390</td>\n",
       "      <td>61.1</td>\n",
       "    </tr>\n",
       "    <tr>\n",
       "      <th>normalized_std_price_15_days</th>\n",
       "      <td>43781</td>\n",
       "      <td>60.3</td>\n",
       "    </tr>\n",
       "    <tr>\n",
       "      <th>normalized_std_sales_15_days</th>\n",
       "      <td>43781</td>\n",
       "      <td>60.3</td>\n",
       "    </tr>\n",
       "    <tr>\n",
       "      <th>normalized_log_avg_sales_5_days</th>\n",
       "      <td>40506</td>\n",
       "      <td>55.8</td>\n",
       "    </tr>\n",
       "    <tr>\n",
       "      <th>normalized_log_avg_price_5_days</th>\n",
       "      <td>40506</td>\n",
       "      <td>55.8</td>\n",
       "    </tr>\n",
       "    <tr>\n",
       "      <th>normalized_std_price_10_days</th>\n",
       "      <td>37990</td>\n",
       "      <td>52.3</td>\n",
       "    </tr>\n",
       "    <tr>\n",
       "      <th>normalized_std_sales_10_days</th>\n",
       "      <td>37990</td>\n",
       "      <td>52.3</td>\n",
       "    </tr>\n",
       "    <tr>\n",
       "      <th>f_corr_1.0_1.0</th>\n",
       "      <td>37990</td>\n",
       "      <td>52.3</td>\n",
       "    </tr>\n",
       "    <tr>\n",
       "      <th>normalized_std_price_5_days</th>\n",
       "      <td>24173</td>\n",
       "      <td>33.3</td>\n",
       "    </tr>\n",
       "    <tr>\n",
       "      <th>normalized_std_sales_5_days</th>\n",
       "      <td>24173</td>\n",
       "      <td>33.3</td>\n",
       "    </tr>\n",
       "  </tbody>\n",
       "</table>\n",
       "</div>"
      ],
      "text/plain": [
       "                                  Missing Values  % of Total Values\n",
       "f_corr_-5.0_1.0                            48951               67.4\n",
       "f_corr_-2.0_1.0                            48951               67.4\n",
       "f_corr_-1.0_0.5                            48951               67.4\n",
       "f_corr_-1.0_0.33                           48951               67.4\n",
       "f_corr_-3.0_1.0                            48951               67.4\n",
       "normalized_log_avg_sales_15_days           46702               64.3\n",
       "normalized_log_avg_price_15_days           46702               64.3\n",
       "normalized_log_avg_price_10_days           44390               61.1\n",
       "normalized_log_avg_sales_10_days           44390               61.1\n",
       "normalized_std_price_15_days               43781               60.3\n",
       "normalized_std_sales_15_days               43781               60.3\n",
       "normalized_log_avg_sales_5_days            40506               55.8\n",
       "normalized_log_avg_price_5_days            40506               55.8\n",
       "normalized_std_price_10_days               37990               52.3\n",
       "normalized_std_sales_10_days               37990               52.3\n",
       "f_corr_1.0_1.0                             37990               52.3\n",
       "normalized_std_price_5_days                24173               33.3\n",
       "normalized_std_sales_5_days                24173               33.3"
      ]
     },
     "execution_count": 31,
     "metadata": {},
     "output_type": "execute_result"
    }
   ],
   "source": [
    "\n",
    "eda.missing_values_table(amazon_beta_fe3)"
   ]
  },
  {
   "cell_type": "code",
   "execution_count": 32,
   "metadata": {},
   "outputs": [
    {
     "name": "stdout",
     "output_type": "stream",
     "text": [
      "Features to drop: ['f_corr_-3.0_1.0', 'f_corr_-2.0_1.0', 'f_corr_-1.0_0.5', 'f_corr_-1.0_0.33']\n"
     ]
    },
    {
     "data": {
      "text/plain": [
       "<Axes: >"
      ]
     },
     "execution_count": 32,
     "metadata": {},
     "output_type": "execute_result"
    },
    {
     "data": {
      "image/png": "[encoded data removed]",
      "text/plain": [
       "<Figure size 640x480 with 2 Axes>"
      ]
     },
     "metadata": {},
     "output_type": "display_data"
    }
   ],
   "source": [
    "import seaborn as sns\n",
    "# Create a correlation matrix to check for multicollinearity\n",
    "corr_matrix = amazon_beta_fe3.corr().abs()\n",
    "# Select upper triangle of correlation matrix\n",
    "upper = corr_matrix.where(np.triu(np.ones(corr_matrix.shape), k=1).astype(np.bool))\n",
    "# Find index of feature columns with correlation greater than 0.95\n",
    "to_drop = [column for column in upper.columns if any(upper[column] > 0.95)]\n",
    "print(f\"Features to drop: {to_drop}\")\n",
    "# Plot the heatmap, make the plot readeble and annotate the values\n",
    "\n",
    "sns.heatmap(corr_matrix, annot=False, cmap=\"YlGnBu\", fmt='.2f', linewidths=.5, annot_kws={\"size\": 7})\n",
    "\n",
    "# Drop features\n",
    "#amazon_beta_fe3.drop(to_drop, axis=1, inplace=True)\n"
   ]
  },
  {
   "cell_type": "code",
   "execution_count": 33,
   "metadata": {},
   "outputs": [],
   "source": [
    "amazon_beta_train= fep.datetime_transform(amazon_beta_fe3, 'Date',['day_of_the_year'])"
   ]
  },
  {
   "cell_type": "code",
   "execution_count": 34,
   "metadata": {},
   "outputs": [
    {
     "name": "stdout",
     "output_type": "stream",
     "text": [
      "The selected dataframe has 25 columns and 18 columns with missing values.\n"
     ]
    },
    {
     "data": {
      "text/html": [
       "<div>\n",
       "<style scoped>\n",
       "    .dataframe tbody tr th:only-of-type {\n",
       "        vertical-align: middle;\n",
       "    }\n",
       "\n",
       "    .dataframe tbody tr th {\n",
       "        vertical-align: top;\n",
       "    }\n",
       "\n",
       "    .dataframe thead th {\n",
       "        text-align: right;\n",
       "    }\n",
       "</style>\n",
       "<table border=\"1\" class=\"dataframe\">\n",
       "  <thead>\n",
       "    <tr style=\"text-align: right;\">\n",
       "      <th></th>\n",
       "      <th>Missing Values</th>\n",
       "      <th>% of Total Values</th>\n",
       "    </tr>\n",
       "  </thead>\n",
       "  <tbody>\n",
       "    <tr>\n",
       "      <th>f_corr_-5.0_1.0</th>\n",
       "      <td>48951</td>\n",
       "      <td>67.4</td>\n",
       "    </tr>\n",
       "    <tr>\n",
       "      <th>f_corr_-2.0_1.0</th>\n",
       "      <td>48951</td>\n",
       "      <td>67.4</td>\n",
       "    </tr>\n",
       "    <tr>\n",
       "      <th>f_corr_-1.0_0.5</th>\n",
       "      <td>48951</td>\n",
       "      <td>67.4</td>\n",
       "    </tr>\n",
       "    <tr>\n",
       "      <th>f_corr_-1.0_0.33</th>\n",
       "      <td>48951</td>\n",
       "      <td>67.4</td>\n",
       "    </tr>\n",
       "    <tr>\n",
       "      <th>f_corr_-3.0_1.0</th>\n",
       "      <td>48951</td>\n",
       "      <td>67.4</td>\n",
       "    </tr>\n",
       "    <tr>\n",
       "      <th>normalized_log_avg_sales_15_days</th>\n",
       "      <td>46702</td>\n",
       "      <td>64.3</td>\n",
       "    </tr>\n",
       "    <tr>\n",
       "      <th>normalized_log_avg_price_15_days</th>\n",
       "      <td>46702</td>\n",
       "      <td>64.3</td>\n",
       "    </tr>\n",
       "    <tr>\n",
       "      <th>normalized_log_avg_price_10_days</th>\n",
       "      <td>44390</td>\n",
       "      <td>61.1</td>\n",
       "    </tr>\n",
       "    <tr>\n",
       "      <th>normalized_log_avg_sales_10_days</th>\n",
       "      <td>44390</td>\n",
       "      <td>61.1</td>\n",
       "    </tr>\n",
       "    <tr>\n",
       "      <th>normalized_std_price_15_days</th>\n",
       "      <td>43781</td>\n",
       "      <td>60.3</td>\n",
       "    </tr>\n",
       "    <tr>\n",
       "      <th>normalized_std_sales_15_days</th>\n",
       "      <td>43781</td>\n",
       "      <td>60.3</td>\n",
       "    </tr>\n",
       "    <tr>\n",
       "      <th>normalized_log_avg_sales_5_days</th>\n",
       "      <td>40506</td>\n",
       "      <td>55.8</td>\n",
       "    </tr>\n",
       "    <tr>\n",
       "      <th>normalized_log_avg_price_5_days</th>\n",
       "      <td>40506</td>\n",
       "      <td>55.8</td>\n",
       "    </tr>\n",
       "    <tr>\n",
       "      <th>normalized_std_price_10_days</th>\n",
       "      <td>37990</td>\n",
       "      <td>52.3</td>\n",
       "    </tr>\n",
       "    <tr>\n",
       "      <th>normalized_std_sales_10_days</th>\n",
       "      <td>37990</td>\n",
       "      <td>52.3</td>\n",
       "    </tr>\n",
       "    <tr>\n",
       "      <th>f_corr_1.0_1.0</th>\n",
       "      <td>37990</td>\n",
       "      <td>52.3</td>\n",
       "    </tr>\n",
       "    <tr>\n",
       "      <th>normalized_std_price_5_days</th>\n",
       "      <td>24173</td>\n",
       "      <td>33.3</td>\n",
       "    </tr>\n",
       "    <tr>\n",
       "      <th>normalized_std_sales_5_days</th>\n",
       "      <td>24173</td>\n",
       "      <td>33.3</td>\n",
       "    </tr>\n",
       "  </tbody>\n",
       "</table>\n",
       "</div>"
      ],
      "text/plain": [
       "                                  Missing Values  % of Total Values\n",
       "f_corr_-5.0_1.0                            48951               67.4\n",
       "f_corr_-2.0_1.0                            48951               67.4\n",
       "f_corr_-1.0_0.5                            48951               67.4\n",
       "f_corr_-1.0_0.33                           48951               67.4\n",
       "f_corr_-3.0_1.0                            48951               67.4\n",
       "normalized_log_avg_sales_15_days           46702               64.3\n",
       "normalized_log_avg_price_15_days           46702               64.3\n",
       "normalized_log_avg_price_10_days           44390               61.1\n",
       "normalized_log_avg_sales_10_days           44390               61.1\n",
       "normalized_std_price_15_days               43781               60.3\n",
       "normalized_std_sales_15_days               43781               60.3\n",
       "normalized_log_avg_sales_5_days            40506               55.8\n",
       "normalized_log_avg_price_5_days            40506               55.8\n",
       "normalized_std_price_10_days               37990               52.3\n",
       "normalized_std_sales_10_days               37990               52.3\n",
       "f_corr_1.0_1.0                             37990               52.3\n",
       "normalized_std_price_5_days                24173               33.3\n",
       "normalized_std_sales_5_days                24173               33.3"
      ]
     },
     "execution_count": 34,
     "metadata": {},
     "output_type": "execute_result"
    }
   ],
   "source": [
    "eda.missing_values_table(amazon_beta_train)"
   ]
  },
  {
   "cell_type": "code",
   "execution_count": 35,
   "metadata": {},
   "outputs": [
    {
     "data": {
      "text/html": [
       "<div>\n",
       "<style scoped>\n",
       "    .dataframe tbody tr th:only-of-type {\n",
       "        vertical-align: middle;\n",
       "    }\n",
       "\n",
       "    .dataframe tbody tr th {\n",
       "        vertical-align: top;\n",
       "    }\n",
       "\n",
       "    .dataframe thead th {\n",
       "        text-align: right;\n",
       "    }\n",
       "</style>\n",
       "<table border=\"1\" class=\"dataframe\">\n",
       "  <thead>\n",
       "    <tr style=\"text-align: right;\">\n",
       "      <th></th>\n",
       "      <th>Order ID</th>\n",
       "      <th>Date</th>\n",
       "      <th>SKU</th>\n",
       "      <th>Qty</th>\n",
       "      <th>price</th>\n",
       "      <th>sales</th>\n",
       "      <th>f_corr_-5.0_1.0</th>\n",
       "      <th>f_corr_-3.0_1.0</th>\n",
       "      <th>f_corr_-2.0_1.0</th>\n",
       "      <th>f_corr_1.0_1.0</th>\n",
       "      <th>f_corr_-1.0_0.5</th>\n",
       "      <th>f_corr_-1.0_0.33</th>\n",
       "      <th>normalized_log_avg_price_5_days</th>\n",
       "      <th>normalized_log_avg_sales_5_days</th>\n",
       "      <th>normalized_std_price_5_days</th>\n",
       "      <th>normalized_std_sales_5_days</th>\n",
       "      <th>normalized_log_avg_price_10_days</th>\n",
       "      <th>normalized_log_avg_sales_10_days</th>\n",
       "      <th>normalized_std_price_10_days</th>\n",
       "      <th>normalized_std_sales_10_days</th>\n",
       "      <th>normalized_log_avg_price_15_days</th>\n",
       "      <th>normalized_log_avg_sales_15_days</th>\n",
       "      <th>normalized_std_price_15_days</th>\n",
       "      <th>normalized_std_sales_15_days</th>\n",
       "      <th>Date_day_of_the_year</th>\n",
       "    </tr>\n",
       "  </thead>\n",
       "  <tbody>\n",
       "    <tr>\n",
       "      <th>38234</th>\n",
       "      <td>403-7294691-2015536</td>\n",
       "      <td>2022-04-07</td>\n",
       "      <td>AN201-RED-M</td>\n",
       "      <td>1</td>\n",
       "      <td>229.0</td>\n",
       "      <td>1</td>\n",
       "      <td>NaN</td>\n",
       "      <td>NaN</td>\n",
       "      <td>NaN</td>\n",
       "      <td>NaN</td>\n",
       "      <td>NaN</td>\n",
       "      <td>NaN</td>\n",
       "      <td>NaN</td>\n",
       "      <td>NaN</td>\n",
       "      <td>NaN</td>\n",
       "      <td>NaN</td>\n",
       "      <td>NaN</td>\n",
       "      <td>NaN</td>\n",
       "      <td>NaN</td>\n",
       "      <td>NaN</td>\n",
       "      <td>NaN</td>\n",
       "      <td>NaN</td>\n",
       "      <td>NaN</td>\n",
       "      <td>NaN</td>\n",
       "      <td>97</td>\n",
       "    </tr>\n",
       "    <tr>\n",
       "      <th>90899</th>\n",
       "      <td>404-8297237-4618714</td>\n",
       "      <td>2022-05-01</td>\n",
       "      <td>AN201-RED-M</td>\n",
       "      <td>1</td>\n",
       "      <td>229.0</td>\n",
       "      <td>1</td>\n",
       "      <td>NaN</td>\n",
       "      <td>NaN</td>\n",
       "      <td>NaN</td>\n",
       "      <td>NaN</td>\n",
       "      <td>NaN</td>\n",
       "      <td>NaN</td>\n",
       "      <td>NaN</td>\n",
       "      <td>NaN</td>\n",
       "      <td>NaN</td>\n",
       "      <td>NaN</td>\n",
       "      <td>NaN</td>\n",
       "      <td>NaN</td>\n",
       "      <td>NaN</td>\n",
       "      <td>NaN</td>\n",
       "      <td>NaN</td>\n",
       "      <td>NaN</td>\n",
       "      <td>NaN</td>\n",
       "      <td>NaN</td>\n",
       "      <td>121</td>\n",
       "    </tr>\n",
       "  </tbody>\n",
       "</table>\n",
       "</div>"
      ],
      "text/plain": [
       "                  Order ID       Date          SKU  Qty  price  sales  \\\n",
       "38234  403-7294691-2015536 2022-04-07  AN201-RED-M    1  229.0      1   \n",
       "90899  404-8297237-4618714 2022-05-01  AN201-RED-M    1  229.0      1   \n",
       "\n",
       "       f_corr_-5.0_1.0  f_corr_-3.0_1.0  f_corr_-2.0_1.0  f_corr_1.0_1.0  \\\n",
       "38234              NaN              NaN              NaN             NaN   \n",
       "90899              NaN              NaN              NaN             NaN   \n",
       "\n",
       "       f_corr_-1.0_0.5  f_corr_-1.0_0.33  normalized_log_avg_price_5_days  \\\n",
       "38234              NaN               NaN                              NaN   \n",
       "90899              NaN               NaN                              NaN   \n",
       "\n",
       "       normalized_log_avg_sales_5_days  normalized_std_price_5_days  \\\n",
       "38234                              NaN                          NaN   \n",
       "90899                              NaN                          NaN   \n",
       "\n",
       "       normalized_std_sales_5_days  normalized_log_avg_price_10_days  \\\n",
       "38234                          NaN                               NaN   \n",
       "90899                          NaN                               NaN   \n",
       "\n",
       "       normalized_log_avg_sales_10_days  normalized_std_price_10_days  \\\n",
       "38234                               NaN                           NaN   \n",
       "90899                               NaN                           NaN   \n",
       "\n",
       "       normalized_std_sales_10_days  normalized_log_avg_price_15_days  \\\n",
       "38234                           NaN                               NaN   \n",
       "90899                           NaN                               NaN   \n",
       "\n",
       "       normalized_log_avg_sales_15_days  normalized_std_price_15_days  \\\n",
       "38234                               NaN                           NaN   \n",
       "90899                               NaN                           NaN   \n",
       "\n",
       "       normalized_std_sales_15_days  Date_day_of_the_year  \n",
       "38234                           NaN                    97  \n",
       "90899                           NaN                   121  "
      ]
     },
     "execution_count": 35,
     "metadata": {},
     "output_type": "execute_result"
    }
   ],
   "source": [
    "amazon_beta_train.head(2)"
   ]
  },
  {
   "cell_type": "code",
   "execution_count": 36,
   "metadata": {},
   "outputs": [],
   "source": [
    "# Drop Order Id, price_variation, insufficient_data\n",
    "amazon_beta_train.drop(columns=['Order ID'], inplace=True)"
   ]
  },
  {
   "cell_type": "code",
   "execution_count": 37,
   "metadata": {},
   "outputs": [
    {
     "name": "stdout",
     "output_type": "stream",
     "text": [
      "Min date: 2022-03-31 00:00:00\n",
      "Max date: 2022-06-29 00:00:00\n"
     ]
    }
   ],
   "source": [
    "# print min and max dates of amazon_beta_train\n",
    "print(f\"Min date: {amazon_beta_train['Date'].min()}\")   \n",
    "print(f\"Max date: {amazon_beta_train['Date'].max()}\")"
   ]
  },
  {
   "cell_type": "code",
   "execution_count": 38,
   "metadata": {},
   "outputs": [],
   "source": [
    "# drop multicolinear features\n",
    "amazon_beta_train.drop(to_drop, axis=1, inplace=True)"
   ]
  },
  {
   "cell_type": "code",
   "execution_count": 39,
   "metadata": {},
   "outputs": [],
   "source": [
    "# impute missing values with the 0\n",
    "amazon_beta_train.fillna(0, inplace=True)"
   ]
  },
  {
   "cell_type": "code",
   "execution_count": 40,
   "metadata": {},
   "outputs": [
    {
     "name": "stdout",
     "output_type": "stream",
     "text": [
      "Training data covers from 2022-03-31 00:00:00 to 2022-04-29 00:00:00\n",
      "Validation data covers from 2022-04-30 00:00:00 to 2022-06-22 00:00:00\n",
      "Test data covers from 2022-06-23 00:00:00 to 2022-06-29 00:00:00\n"
     ]
    }
   ],
   "source": [
    "from src.data.data_splitter import DataSplitter\n",
    "\n",
    "\n",
    "data_splitter = DataSplitter(amazon_beta_train, target_variable='sales', date_column='Date', train_months=1, val_months=1, test_weeks=1)\n",
    "\n",
    "X_train, y_train, X_val, y_val, X_test, y_test = data_splitter.split_data()\n",
    "\n"
   ]
  },
  {
   "cell_type": "code",
   "execution_count": 43,
   "metadata": {},
   "outputs": [],
   "source": [
    "import wandb\n",
    "from src.models.xgb_model import QuantileXGB\n",
    "quantile_xgb = QuantileXGB()\n",
    "sweep_config = {\n",
    "    'method': 'bayes',  # We are using Bayesian optimization\n",
    "    'metric': {\n",
    "      'name': 'val_loss',  # We want to minimize validation loss\n",
    "      'goal': 'minimize'  \n",
    "    },\n",
    "    'parameters': {\n",
    "        'learning_rate': {'min': 0.01, 'max': 0.1},\n",
    "        'max_depth': {'min': 3, 'max': 10},\n",
    "        'n_estimators': {'min': 50, 'max': 200},\n",
    "        'subsample': {'min': 0.5, 'max': 1.0},\n",
    "        'colsample_bytree': {'min': 0.5, 'max': 1.0},\n",
    "        'reg_alpha': {'min': 0.0, 'max': 1.0},\n",
    "        'reg_lambda': {'min': 0.0, 'max': 1.0},\n",
    "    }\n",
    "}\n",
    "\n",
    "def sweep_run():\n",
    "    with wandb.init() as run:\n",
    "        config = wandb.config\n",
    "        model = QuantileXGB(**config)\n",
    "        val_loss = model.train(X_train, y_train, X_val, y_val, config)\n",
    "        wandb.log({'val_loss': val_loss})\n"
   ]
  },
  {
   "cell_type": "code",
   "execution_count": 44,
   "metadata": {},
   "outputs": [
    {
     "name": "stdout",
     "output_type": "stream",
     "text": [
      "Create sweep with ID: zfo8uxj0\n",
      "Sweep URL: https://wandb.ai/servando/relu-project/sweeps/zfo8uxj0\n"
     ]
    },
    {
     "name": "stderr",
     "output_type": "stream",
     "text": [
      "\u001b[34m\u001b[1mwandb\u001b[0m: Ctrl + C detected. Stopping sweep.\n"
     ]
    }
   ],
   "source": [
    "sweep_id = wandb.sweep(sweep_config, project='relu-project')\n",
    "wandb.agent(sweep_id, function=sweep_run)\n"
   ]
  }
 ],
 "metadata": {
  "kernelspec": {
   "display_name": "relu",
   "language": "python",
   "name": "python3"
  },
  "language_info": {
   "codemirror_mode": {
    "name": "ipython",
    "version": 3
   },
   "file_extension": ".py",
   "mimetype": "text/x-python",
   "name": "python",
   "nbconvert_exporter": "python",
   "pygments_lexer": "ipython3",
   "version": "3.8.16"
  },
  "orig_nbformat": 4
 },
 "nbformat": 4,
 "nbformat_minor": 2
}
