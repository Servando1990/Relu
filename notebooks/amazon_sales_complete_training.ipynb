{
 "cells": [
  {
   "cell_type": "code",
   "execution_count": 6,
   "metadata": {},
   "outputs": [],
   "source": [
    "\n",
    "from src.data.dataset_reader import DatasetReader\n",
    "from pathlib import Path\n",
    "import pandas as pd\n",
    "pd.set_option('display.max_columns', None)\n",
    "%load_ext autoreload\n",
    "%autoreload 2\n",
    "# ignore warnings\n",
    "import warnings\n",
    "warnings.filterwarnings('ignore')\n",
    "data_folder = Path(\"../data/raw\").resolve()\n",
    "\n",
    "amazon = DatasetReader(data_folder).get_data_csv('Amazon_Sale_Report.csv')\n",
    "\n"
   ]
  },
  {
   "cell_type": "code",
   "execution_count": 59,
   "metadata": {},
   "outputs": [
    {
     "data": {
      "text/html": [
       "<div>\n",
       "<style scoped>\n",
       "    .dataframe tbody tr th:only-of-type {\n",
       "        vertical-align: middle;\n",
       "    }\n",
       "\n",
       "    .dataframe tbody tr th {\n",
       "        vertical-align: top;\n",
       "    }\n",
       "\n",
       "    .dataframe thead th {\n",
       "        text-align: right;\n",
       "    }\n",
       "</style>\n",
       "<table border=\"1\" class=\"dataframe\">\n",
       "  <thead>\n",
       "    <tr style=\"text-align: right;\">\n",
       "      <th></th>\n",
       "      <th>index</th>\n",
       "      <th>Order ID</th>\n",
       "      <th>Date</th>\n",
       "      <th>Status</th>\n",
       "      <th>Fulfilment</th>\n",
       "      <th>Sales Channel</th>\n",
       "      <th>ship-service-level</th>\n",
       "      <th>Style</th>\n",
       "      <th>SKU</th>\n",
       "      <th>Category</th>\n",
       "      <th>Size</th>\n",
       "      <th>ASIN</th>\n",
       "      <th>Courier Status</th>\n",
       "      <th>Qty</th>\n",
       "      <th>currency</th>\n",
       "      <th>price</th>\n",
       "      <th>ship-city</th>\n",
       "      <th>ship-state</th>\n",
       "      <th>ship-postal-code</th>\n",
       "      <th>ship-country</th>\n",
       "      <th>promotion-ids</th>\n",
       "      <th>B2B</th>\n",
       "      <th>fulfilled-by</th>\n",
       "      <th>Unnamed: 22</th>\n",
       "    </tr>\n",
       "  </thead>\n",
       "  <tbody>\n",
       "    <tr>\n",
       "      <th>0</th>\n",
       "      <td>0</td>\n",
       "      <td>405-8078784-5731545</td>\n",
       "      <td>2022-04-30</td>\n",
       "      <td>Cancelled</td>\n",
       "      <td>Merchant</td>\n",
       "      <td>Amazon.in</td>\n",
       "      <td>Standard</td>\n",
       "      <td>SET389</td>\n",
       "      <td>SET389-KR-NP-S</td>\n",
       "      <td>Set</td>\n",
       "      <td>S</td>\n",
       "      <td>B09KXVBD7Z</td>\n",
       "      <td>NaN</td>\n",
       "      <td>0</td>\n",
       "      <td>INR</td>\n",
       "      <td>647.62</td>\n",
       "      <td>MUMBAI</td>\n",
       "      <td>MAHARASHTRA</td>\n",
       "      <td>400081.0</td>\n",
       "      <td>IN</td>\n",
       "      <td>NaN</td>\n",
       "      <td>False</td>\n",
       "      <td>Easy Ship</td>\n",
       "      <td>NaN</td>\n",
       "    </tr>\n",
       "    <tr>\n",
       "      <th>1</th>\n",
       "      <td>1</td>\n",
       "      <td>171-9198151-1101146</td>\n",
       "      <td>2022-04-30</td>\n",
       "      <td>Shipped - Delivered to Buyer</td>\n",
       "      <td>Merchant</td>\n",
       "      <td>Amazon.in</td>\n",
       "      <td>Standard</td>\n",
       "      <td>JNE3781</td>\n",
       "      <td>JNE3781-KR-XXXL</td>\n",
       "      <td>kurta</td>\n",
       "      <td>3XL</td>\n",
       "      <td>B09K3WFS32</td>\n",
       "      <td>Shipped</td>\n",
       "      <td>1</td>\n",
       "      <td>INR</td>\n",
       "      <td>406.00</td>\n",
       "      <td>BENGALURU</td>\n",
       "      <td>KARNATAKA</td>\n",
       "      <td>560085.0</td>\n",
       "      <td>IN</td>\n",
       "      <td>Amazon PLCC Free-Financing Universal Merchant ...</td>\n",
       "      <td>False</td>\n",
       "      <td>Easy Ship</td>\n",
       "      <td>NaN</td>\n",
       "    </tr>\n",
       "    <tr>\n",
       "      <th>2</th>\n",
       "      <td>2</td>\n",
       "      <td>404-0687676-7273146</td>\n",
       "      <td>2022-04-30</td>\n",
       "      <td>Shipped</td>\n",
       "      <td>Amazon</td>\n",
       "      <td>Amazon.in</td>\n",
       "      <td>Expedited</td>\n",
       "      <td>JNE3371</td>\n",
       "      <td>JNE3371-KR-XL</td>\n",
       "      <td>kurta</td>\n",
       "      <td>XL</td>\n",
       "      <td>B07WV4JV4D</td>\n",
       "      <td>Shipped</td>\n",
       "      <td>1</td>\n",
       "      <td>INR</td>\n",
       "      <td>329.00</td>\n",
       "      <td>NAVI MUMBAI</td>\n",
       "      <td>MAHARASHTRA</td>\n",
       "      <td>410210.0</td>\n",
       "      <td>IN</td>\n",
       "      <td>IN Core Free Shipping 2015/04/08 23-48-5-108</td>\n",
       "      <td>True</td>\n",
       "      <td>NaN</td>\n",
       "      <td>NaN</td>\n",
       "    </tr>\n",
       "    <tr>\n",
       "      <th>3</th>\n",
       "      <td>3</td>\n",
       "      <td>403-9615377-8133951</td>\n",
       "      <td>2022-04-30</td>\n",
       "      <td>Cancelled</td>\n",
       "      <td>Merchant</td>\n",
       "      <td>Amazon.in</td>\n",
       "      <td>Standard</td>\n",
       "      <td>J0341</td>\n",
       "      <td>J0341-DR-L</td>\n",
       "      <td>Western Dress</td>\n",
       "      <td>L</td>\n",
       "      <td>B099NRCT7B</td>\n",
       "      <td>NaN</td>\n",
       "      <td>0</td>\n",
       "      <td>INR</td>\n",
       "      <td>753.33</td>\n",
       "      <td>PUDUCHERRY</td>\n",
       "      <td>PUDUCHERRY</td>\n",
       "      <td>605008.0</td>\n",
       "      <td>IN</td>\n",
       "      <td>NaN</td>\n",
       "      <td>False</td>\n",
       "      <td>Easy Ship</td>\n",
       "      <td>NaN</td>\n",
       "    </tr>\n",
       "    <tr>\n",
       "      <th>4</th>\n",
       "      <td>4</td>\n",
       "      <td>407-1069790-7240320</td>\n",
       "      <td>2022-04-30</td>\n",
       "      <td>Shipped</td>\n",
       "      <td>Amazon</td>\n",
       "      <td>Amazon.in</td>\n",
       "      <td>Expedited</td>\n",
       "      <td>JNE3671</td>\n",
       "      <td>JNE3671-TU-XXXL</td>\n",
       "      <td>Top</td>\n",
       "      <td>3XL</td>\n",
       "      <td>B098714BZP</td>\n",
       "      <td>Shipped</td>\n",
       "      <td>1</td>\n",
       "      <td>INR</td>\n",
       "      <td>574.00</td>\n",
       "      <td>CHENNAI</td>\n",
       "      <td>TAMIL NADU</td>\n",
       "      <td>600073.0</td>\n",
       "      <td>IN</td>\n",
       "      <td>NaN</td>\n",
       "      <td>False</td>\n",
       "      <td>NaN</td>\n",
       "      <td>NaN</td>\n",
       "    </tr>\n",
       "  </tbody>\n",
       "</table>\n",
       "</div>"
      ],
      "text/plain": [
       "   index             Order ID       Date                        Status  \\\n",
       "0      0  405-8078784-5731545 2022-04-30                     Cancelled   \n",
       "1      1  171-9198151-1101146 2022-04-30  Shipped - Delivered to Buyer   \n",
       "2      2  404-0687676-7273146 2022-04-30                       Shipped   \n",
       "3      3  403-9615377-8133951 2022-04-30                     Cancelled   \n",
       "4      4  407-1069790-7240320 2022-04-30                       Shipped   \n",
       "\n",
       "  Fulfilment Sales Channel  ship-service-level    Style              SKU  \\\n",
       "0   Merchant      Amazon.in           Standard   SET389   SET389-KR-NP-S   \n",
       "1   Merchant      Amazon.in           Standard  JNE3781  JNE3781-KR-XXXL   \n",
       "2     Amazon      Amazon.in          Expedited  JNE3371    JNE3371-KR-XL   \n",
       "3   Merchant      Amazon.in           Standard    J0341       J0341-DR-L   \n",
       "4     Amazon      Amazon.in          Expedited  JNE3671  JNE3671-TU-XXXL   \n",
       "\n",
       "        Category Size        ASIN Courier Status  Qty currency   price  \\\n",
       "0            Set    S  B09KXVBD7Z            NaN    0      INR  647.62   \n",
       "1          kurta  3XL  B09K3WFS32        Shipped    1      INR  406.00   \n",
       "2          kurta   XL  B07WV4JV4D        Shipped    1      INR  329.00   \n",
       "3  Western Dress    L  B099NRCT7B            NaN    0      INR  753.33   \n",
       "4            Top  3XL  B098714BZP        Shipped    1      INR  574.00   \n",
       "\n",
       "     ship-city   ship-state ship-postal-code ship-country  \\\n",
       "0       MUMBAI  MAHARASHTRA         400081.0           IN   \n",
       "1    BENGALURU    KARNATAKA         560085.0           IN   \n",
       "2  NAVI MUMBAI  MAHARASHTRA         410210.0           IN   \n",
       "3   PUDUCHERRY   PUDUCHERRY         605008.0           IN   \n",
       "4      CHENNAI   TAMIL NADU         600073.0           IN   \n",
       "\n",
       "                                       promotion-ids    B2B fulfilled-by  \\\n",
       "0                                                NaN  False    Easy Ship   \n",
       "1  Amazon PLCC Free-Financing Universal Merchant ...  False    Easy Ship   \n",
       "2       IN Core Free Shipping 2015/04/08 23-48-5-108   True          NaN   \n",
       "3                                                NaN  False    Easy Ship   \n",
       "4                                                NaN  False          NaN   \n",
       "\n",
       "  Unnamed: 22  \n",
       "0         NaN  \n",
       "1         NaN  \n",
       "2         NaN  \n",
       "3         NaN  \n",
       "4         NaN  "
      ]
     },
     "execution_count": 59,
     "metadata": {},
     "output_type": "execute_result"
    }
   ],
   "source": [
    "amazon.head()"
   ]
  },
  {
   "cell_type": "code",
   "execution_count": 7,
   "metadata": {},
   "outputs": [],
   "source": [
    "from src.data.feature_engineering import FeatureEngineeringProcess\n",
    "fep = FeatureEngineeringProcess()\n"
   ]
  },
  {
   "cell_type": "code",
   "execution_count": 8,
   "metadata": {},
   "outputs": [],
   "source": [
    "\n",
    "amazon['Date'] = pd.to_datetime(amazon['Date'])\n",
    "amazon['ship-postal-code'] = amazon['ship-postal-code'].astype('object')\n",
    "amazon.rename(columns={'Amount': 'price'}, inplace=True)\n",
    "amazon_beta =  amazon[['Order ID','Date', 'SKU', 'Qty', 'price']]"
   ]
  },
  {
   "cell_type": "code",
   "execution_count": 13,
   "metadata": {},
   "outputs": [
    {
     "name": "stdout",
     "output_type": "stream",
     "text": [
      "The selected dataframe has 6 columns and 0 columns with missing values.\n"
     ]
    },
    {
     "data": {
      "text/html": [
       "<div>\n",
       "<style scoped>\n",
       "    .dataframe tbody tr th:only-of-type {\n",
       "        vertical-align: middle;\n",
       "    }\n",
       "\n",
       "    .dataframe tbody tr th {\n",
       "        vertical-align: top;\n",
       "    }\n",
       "\n",
       "    .dataframe thead th {\n",
       "        text-align: right;\n",
       "    }\n",
       "</style>\n",
       "<table border=\"1\" class=\"dataframe\">\n",
       "  <thead>\n",
       "    <tr style=\"text-align: right;\">\n",
       "      <th></th>\n",
       "      <th>Missing Values</th>\n",
       "      <th>% of Total Values</th>\n",
       "    </tr>\n",
       "  </thead>\n",
       "  <tbody>\n",
       "  </tbody>\n",
       "</table>\n",
       "</div>"
      ],
      "text/plain": [
       "Empty DataFrame\n",
       "Columns: [Missing Values, % of Total Values]\n",
       "Index: []"
      ]
     },
     "execution_count": 13,
     "metadata": {},
     "output_type": "execute_result"
    }
   ],
   "source": [
    "from src.data.eda import Eda\n",
    "eda = Eda(    \n",
    ")\n",
    "\n",
    "eda.missing_values_table(amazon_beta)"
   ]
  },
  {
   "cell_type": "code",
   "execution_count": 9,
   "metadata": {},
   "outputs": [],
   "source": [
    "# impute price missing values with the mean\n",
    "amazon_beta['price'].fillna(amazon_beta['price'].mean(), inplace=True)"
   ]
  },
  {
   "cell_type": "code",
   "execution_count": 10,
   "metadata": {},
   "outputs": [],
   "source": [
    "\n",
    "# Create a column called \"sales\" that is the count of the \"Order ID\" grouped by \"SKU\" and \"Date\" and price in the amazon_beta dataset\n",
    "amazon_beta['sales'] = amazon_beta.groupby(['SKU', 'Date', 'price'])['Order ID'].transform('count')\n",
    "amazon_beta.sort_values(by=['SKU', 'Date'], ascending=True, inplace=True)"
   ]
  },
  {
   "cell_type": "code",
   "execution_count": 11,
   "metadata": {},
   "outputs": [],
   "source": [
    "amazon_beta_fe1 = fep.price_sales_correlation_features_updated(amazon_beta, 10, [(-5.0, 1.0), (-3.0, 1.0), (-2.0, 1.0), (1.0, 1.0), (-1.0, 0.5), (-1.0, 0.33)])\n"
   ]
  },
  {
   "cell_type": "code",
   "execution_count": 14,
   "metadata": {},
   "outputs": [
    {
     "name": "stdout",
     "output_type": "stream",
     "text": [
      "The selected dataframe has 12 columns and 6 columns with missing values.\n"
     ]
    },
    {
     "data": {
      "text/html": [
       "<div>\n",
       "<style scoped>\n",
       "    .dataframe tbody tr th:only-of-type {\n",
       "        vertical-align: middle;\n",
       "    }\n",
       "\n",
       "    .dataframe tbody tr th {\n",
       "        vertical-align: top;\n",
       "    }\n",
       "\n",
       "    .dataframe thead th {\n",
       "        text-align: right;\n",
       "    }\n",
       "</style>\n",
       "<table border=\"1\" class=\"dataframe\">\n",
       "  <thead>\n",
       "    <tr style=\"text-align: right;\">\n",
       "      <th></th>\n",
       "      <th>Missing Values</th>\n",
       "      <th>% of Total Values</th>\n",
       "    </tr>\n",
       "  </thead>\n",
       "  <tbody>\n",
       "    <tr>\n",
       "      <th>f_corr_-5.0_1.0</th>\n",
       "      <td>57436</td>\n",
       "      <td>44.5</td>\n",
       "    </tr>\n",
       "    <tr>\n",
       "      <th>f_corr_-3.0_1.0</th>\n",
       "      <td>57436</td>\n",
       "      <td>44.5</td>\n",
       "    </tr>\n",
       "    <tr>\n",
       "      <th>f_corr_-2.0_1.0</th>\n",
       "      <td>57436</td>\n",
       "      <td>44.5</td>\n",
       "    </tr>\n",
       "    <tr>\n",
       "      <th>f_corr_-1.0_0.5</th>\n",
       "      <td>57436</td>\n",
       "      <td>44.5</td>\n",
       "    </tr>\n",
       "    <tr>\n",
       "      <th>f_corr_-1.0_0.33</th>\n",
       "      <td>57436</td>\n",
       "      <td>44.5</td>\n",
       "    </tr>\n",
       "    <tr>\n",
       "      <th>f_corr_1.0_1.0</th>\n",
       "      <td>43722</td>\n",
       "      <td>33.9</td>\n",
       "    </tr>\n",
       "  </tbody>\n",
       "</table>\n",
       "</div>"
      ],
      "text/plain": [
       "                  Missing Values  % of Total Values\n",
       "f_corr_-5.0_1.0            57436               44.5\n",
       "f_corr_-3.0_1.0            57436               44.5\n",
       "f_corr_-2.0_1.0            57436               44.5\n",
       "f_corr_-1.0_0.5            57436               44.5\n",
       "f_corr_-1.0_0.33           57436               44.5\n",
       "f_corr_1.0_1.0             43722               33.9"
      ]
     },
     "execution_count": 14,
     "metadata": {},
     "output_type": "execute_result"
    }
   ],
   "source": [
    "eda.missing_values_table(amazon_beta_fe1)\n"
   ]
  },
  {
   "cell_type": "code",
   "execution_count": 15,
   "metadata": {},
   "outputs": [],
   "source": [
    "amazon_beta_fe2 = fep.normalize_features(amazon_beta_fe1, [5, 10, 15], 28)"
   ]
  },
  {
   "cell_type": "code",
   "execution_count": 16,
   "metadata": {},
   "outputs": [
    {
     "data": {
      "text/plain": [
       "Order ID                            0\n",
       "Date                                0\n",
       "SKU                                 0\n",
       "Qty                                 0\n",
       "price                               0\n",
       "sales                               0\n",
       "f_corr_-5.0_1.0                     0\n",
       "f_corr_-3.0_1.0                     0\n",
       "f_corr_-2.0_1.0                     0\n",
       "f_corr_1.0_1.0                      0\n",
       "f_corr_-1.0_0.5                     0\n",
       "f_corr_-1.0_0.33                    0\n",
       "normalized_log_avg_price_5_days     0\n",
       "normalized_log_avg_sales_5_days     0\n",
       "normalized_std_price_5_days         0\n",
       "normalized_std_sales_5_days         0\n",
       "normalized_log_avg_price_10_days    0\n",
       "normalized_log_avg_sales_10_days    0\n",
       "normalized_std_price_10_days        0\n",
       "normalized_std_sales_10_days        0\n",
       "normalized_log_avg_price_15_days    0\n",
       "normalized_log_avg_sales_15_days    0\n",
       "normalized_std_price_15_days        0\n",
       "normalized_std_sales_15_days        0\n",
       "dtype: int64"
      ]
     },
     "execution_count": 16,
     "metadata": {},
     "output_type": "execute_result"
    }
   ],
   "source": [
    "# check for infs\n",
    "import numpy as np\n",
    "amazon_beta_fe2[amazon_beta_fe2 == np.inf].count()"
   ]
  },
  {
   "cell_type": "code",
   "execution_count": 17,
   "metadata": {},
   "outputs": [],
   "source": [
    "amazon_beta_fe3, insuficient_data = fep.filter_stability_periods(amazon_beta_fe2, 7, 0.04)"
   ]
  },
  {
   "cell_type": "code",
   "execution_count": 18,
   "metadata": {},
   "outputs": [
    {
     "name": "stdout",
     "output_type": "stream",
     "text": [
      "The selected dataframe has 24 columns and 18 columns with missing values.\n"
     ]
    },
    {
     "data": {
      "text/html": [
       "<div>\n",
       "<style scoped>\n",
       "    .dataframe tbody tr th:only-of-type {\n",
       "        vertical-align: middle;\n",
       "    }\n",
       "\n",
       "    .dataframe tbody tr th {\n",
       "        vertical-align: top;\n",
       "    }\n",
       "\n",
       "    .dataframe thead th {\n",
       "        text-align: right;\n",
       "    }\n",
       "</style>\n",
       "<table border=\"1\" class=\"dataframe\">\n",
       "  <thead>\n",
       "    <tr style=\"text-align: right;\">\n",
       "      <th></th>\n",
       "      <th>Missing Values</th>\n",
       "      <th>% of Total Values</th>\n",
       "    </tr>\n",
       "  </thead>\n",
       "  <tbody>\n",
       "    <tr>\n",
       "      <th>f_corr_-5.0_1.0</th>\n",
       "      <td>48962</td>\n",
       "      <td>67.4</td>\n",
       "    </tr>\n",
       "    <tr>\n",
       "      <th>f_corr_-2.0_1.0</th>\n",
       "      <td>48962</td>\n",
       "      <td>67.4</td>\n",
       "    </tr>\n",
       "    <tr>\n",
       "      <th>f_corr_-1.0_0.5</th>\n",
       "      <td>48962</td>\n",
       "      <td>67.4</td>\n",
       "    </tr>\n",
       "    <tr>\n",
       "      <th>f_corr_-1.0_0.33</th>\n",
       "      <td>48962</td>\n",
       "      <td>67.4</td>\n",
       "    </tr>\n",
       "    <tr>\n",
       "      <th>f_corr_-3.0_1.0</th>\n",
       "      <td>48962</td>\n",
       "      <td>67.4</td>\n",
       "    </tr>\n",
       "    <tr>\n",
       "      <th>normalized_log_avg_sales_15_days</th>\n",
       "      <td>46694</td>\n",
       "      <td>64.3</td>\n",
       "    </tr>\n",
       "    <tr>\n",
       "      <th>normalized_log_avg_price_15_days</th>\n",
       "      <td>46694</td>\n",
       "      <td>64.3</td>\n",
       "    </tr>\n",
       "    <tr>\n",
       "      <th>normalized_log_avg_price_10_days</th>\n",
       "      <td>44376</td>\n",
       "      <td>61.1</td>\n",
       "    </tr>\n",
       "    <tr>\n",
       "      <th>normalized_log_avg_sales_10_days</th>\n",
       "      <td>44376</td>\n",
       "      <td>61.1</td>\n",
       "    </tr>\n",
       "    <tr>\n",
       "      <th>normalized_std_price_15_days</th>\n",
       "      <td>43795</td>\n",
       "      <td>60.3</td>\n",
       "    </tr>\n",
       "    <tr>\n",
       "      <th>normalized_std_sales_15_days</th>\n",
       "      <td>43795</td>\n",
       "      <td>60.3</td>\n",
       "    </tr>\n",
       "    <tr>\n",
       "      <th>normalized_log_avg_sales_5_days</th>\n",
       "      <td>40483</td>\n",
       "      <td>55.7</td>\n",
       "    </tr>\n",
       "    <tr>\n",
       "      <th>normalized_log_avg_price_5_days</th>\n",
       "      <td>40483</td>\n",
       "      <td>55.7</td>\n",
       "    </tr>\n",
       "    <tr>\n",
       "      <th>normalized_std_price_10_days</th>\n",
       "      <td>37998</td>\n",
       "      <td>52.3</td>\n",
       "    </tr>\n",
       "    <tr>\n",
       "      <th>normalized_std_sales_10_days</th>\n",
       "      <td>37998</td>\n",
       "      <td>52.3</td>\n",
       "    </tr>\n",
       "    <tr>\n",
       "      <th>f_corr_1.0_1.0</th>\n",
       "      <td>37998</td>\n",
       "      <td>52.3</td>\n",
       "    </tr>\n",
       "    <tr>\n",
       "      <th>normalized_std_price_5_days</th>\n",
       "      <td>24173</td>\n",
       "      <td>33.3</td>\n",
       "    </tr>\n",
       "    <tr>\n",
       "      <th>normalized_std_sales_5_days</th>\n",
       "      <td>24173</td>\n",
       "      <td>33.3</td>\n",
       "    </tr>\n",
       "  </tbody>\n",
       "</table>\n",
       "</div>"
      ],
      "text/plain": [
       "                                  Missing Values  % of Total Values\n",
       "f_corr_-5.0_1.0                            48962               67.4\n",
       "f_corr_-2.0_1.0                            48962               67.4\n",
       "f_corr_-1.0_0.5                            48962               67.4\n",
       "f_corr_-1.0_0.33                           48962               67.4\n",
       "f_corr_-3.0_1.0                            48962               67.4\n",
       "normalized_log_avg_sales_15_days           46694               64.3\n",
       "normalized_log_avg_price_15_days           46694               64.3\n",
       "normalized_log_avg_price_10_days           44376               61.1\n",
       "normalized_log_avg_sales_10_days           44376               61.1\n",
       "normalized_std_price_15_days               43795               60.3\n",
       "normalized_std_sales_15_days               43795               60.3\n",
       "normalized_log_avg_sales_5_days            40483               55.7\n",
       "normalized_log_avg_price_5_days            40483               55.7\n",
       "normalized_std_price_10_days               37998               52.3\n",
       "normalized_std_sales_10_days               37998               52.3\n",
       "f_corr_1.0_1.0                             37998               52.3\n",
       "normalized_std_price_5_days                24173               33.3\n",
       "normalized_std_sales_5_days                24173               33.3"
      ]
     },
     "execution_count": 18,
     "metadata": {},
     "output_type": "execute_result"
    }
   ],
   "source": [
    "\n",
    "eda.missing_values_table(amazon_beta_fe3)"
   ]
  },
  {
   "cell_type": "code",
   "execution_count": 19,
   "metadata": {},
   "outputs": [
    {
     "name": "stdout",
     "output_type": "stream",
     "text": [
      "Features to drop: ['f_corr_-3.0_1.0', 'f_corr_-2.0_1.0', 'f_corr_-1.0_0.5', 'f_corr_-1.0_0.33']\n"
     ]
    },
    {
     "data": {
      "text/plain": [
       "<Axes: >"
      ]
     },
     "execution_count": 19,
     "metadata": {},
     "output_type": "execute_result"
    },
    {
     "data": {
      "image/png": "[encoded data removed]",
      "text/plain": [
       "<Figure size 640x480 with 2 Axes>"
      ]
     },
     "metadata": {},
     "output_type": "display_data"
    }
   ],
   "source": [
    "import seaborn as sns\n",
    "# Create a correlation matrix to check for multicollinearity\n",
    "corr_matrix = amazon_beta_fe3.corr().abs()\n",
    "# Select upper triangle of correlation matrix\n",
    "upper = corr_matrix.where(np.triu(np.ones(corr_matrix.shape), k=1).astype(np.bool))\n",
    "# Find index of feature columns with correlation greater than 0.95\n",
    "to_drop = [column for column in upper.columns if any(upper[column] > 0.95)]\n",
    "print(f\"Features to drop: {to_drop}\")\n",
    "# Plot the heatmap, make the plot readeble and annotate the values\n",
    "\n",
    "sns.heatmap(corr_matrix, annot=False, cmap=\"YlGnBu\", fmt='.2f', linewidths=.5, annot_kws={\"size\": 7})\n",
    "\n",
    "# Drop features\n",
    "#amazon_beta_fe3.drop(to_drop, axis=1, inplace=True)\n"
   ]
  },
  {
   "cell_type": "code",
   "execution_count": 20,
   "metadata": {},
   "outputs": [],
   "source": [
    "amazon_beta_train= fep.datetime_transform(amazon_beta_fe3, 'Date',['day_of_the_year'])"
   ]
  },
  {
   "cell_type": "code",
   "execution_count": 21,
   "metadata": {},
   "outputs": [],
   "source": [
    "# Drop Order Id, price_variation, insufficient_data\n",
    "amazon_beta_train.drop(columns=['Order ID'], inplace=True)"
   ]
  },
  {
   "cell_type": "code",
   "execution_count": 22,
   "metadata": {},
   "outputs": [
    {
     "name": "stdout",
     "output_type": "stream",
     "text": [
      "Min date: 2022-03-31 00:00:00\n",
      "Max date: 2022-06-29 00:00:00\n"
     ]
    }
   ],
   "source": [
    "# print min and max dates of amazon_beta_train\n",
    "print(f\"Min date: {amazon_beta_train['Date'].min()}\")   \n",
    "print(f\"Max date: {amazon_beta_train['Date'].max()}\")"
   ]
  },
  {
   "cell_type": "code",
   "execution_count": 23,
   "metadata": {},
   "outputs": [],
   "source": [
    "# drop multicolinear features\n",
    "amazon_beta_train.drop(to_drop, axis=1, inplace=True)"
   ]
  },
  {
   "cell_type": "code",
   "execution_count": 24,
   "metadata": {},
   "outputs": [],
   "source": [
    "# impute missing values with the 0\n",
    "amazon_beta_train.fillna(0, inplace=True)"
   ]
  },
  {
   "cell_type": "code",
   "execution_count": 25,
   "metadata": {},
   "outputs": [
    {
     "name": "stdout",
     "output_type": "stream",
     "text": [
      "Warning: 5928 SKUs were removed from the train, validation and test sets because they were not present in all three sets.\n",
      "Training data covers from 2022-03-31 00:00:00 to 2022-04-29 00:00:00\n",
      "Validation data covers from 2022-04-30 00:00:00 to 2022-06-22 00:00:00\n",
      "Test data covers from 2022-06-23 00:00:00 to 2022-06-29 00:00:00\n"
     ]
    }
   ],
   "source": [
    "from src.data.data_splitter import DataSplitter\n",
    "\n",
    "\n",
    "data_splitter = DataSplitter(amazon_beta_train, target_variable='sales', date_column='Date', train_months=1, val_months=1, test_weeks=1)\n",
    "\n",
    "X_train, y_train, X_val, y_val, X_test, y_test = data_splitter.split_data()\n",
    "\n"
   ]
  },
  {
   "cell_type": "code",
   "execution_count": 28,
   "metadata": {},
   "outputs": [],
   "source": [
    "X_train_sku = X_train.copy()\n",
    "X_val_sku = X_val.copy()\n",
    "X_test_sku = X_test.copy()"
   ]
  },
  {
   "cell_type": "code",
   "execution_count": null,
   "metadata": {},
   "outputs": [],
   "source": [
    "# Dump as pickel files X_train, y_train, X_val, y_val, X_test, y_test\n",
    "import pickle\n",
    "with open('../data/processed/X_train.pkl', 'wb') as f:\n",
    "    pickle.dump(X_train, f)\n",
    "with open('../data/processed/y_train.pkl', 'wb') as f:\n",
    "    pickle.dump(y_train, f)\n",
    "with open('../data/processed/X_val.pkl', 'wb') as f:\n",
    "    pickle.dump(X_val, f)\n",
    "with open('../data/processed/y_val.pkl', 'wb') as f:\n",
    "    pickle.dump(y_val, f)\n",
    "with open('../data/processed/X_test.pkl', 'wb') as f:\n",
    "    pickle.dump(X_test, f)\n",
    "with open('../data/processed/y_test.pkl', 'wb') as f:\n",
    "    pickle.dump(y_test, f)\n",
    "    \n",
    "\n"
   ]
  },
  {
   "cell_type": "code",
   "execution_count": 4,
   "metadata": {},
   "outputs": [],
   "source": [
    "# read pkl files from data/processed\n",
    "\n",
    "import pandas as pd\n",
    "X_train = pd.read_pickle('/Users/servandodavidtorresgarcia/Servando/Relu/Relu/data/processed/X_train.pkl')\n",
    "y_train = pd.read_pickle('/Users/servandodavidtorresgarcia/Servando/Relu/Relu/data/processed/y_train.pkl')\n",
    "X_val = pd.read_pickle('/Users/servandodavidtorresgarcia/Servando/Relu/Relu/data/processed/X_val.pkl')\n",
    "y_val = pd.read_pickle('/Users/servandodavidtorresgarcia/Servando/Relu/Relu/data/processed/y_val.pkl')"
   ]
  },
  {
   "cell_type": "code",
   "execution_count": 29,
   "metadata": {},
   "outputs": [
    {
     "data": {
      "text/html": [
       "<div>\n",
       "<style scoped>\n",
       "    .dataframe tbody tr th:only-of-type {\n",
       "        vertical-align: middle;\n",
       "    }\n",
       "\n",
       "    .dataframe tbody tr th {\n",
       "        vertical-align: top;\n",
       "    }\n",
       "\n",
       "    .dataframe thead th {\n",
       "        text-align: right;\n",
       "    }\n",
       "</style>\n",
       "<table border=\"1\" class=\"dataframe\">\n",
       "  <thead>\n",
       "    <tr style=\"text-align: right;\">\n",
       "      <th></th>\n",
       "      <th>SKU</th>\n",
       "      <th>Qty</th>\n",
       "      <th>price</th>\n",
       "      <th>f_corr_-5.0_1.0</th>\n",
       "      <th>f_corr_1.0_1.0</th>\n",
       "      <th>normalized_log_avg_price_5_days</th>\n",
       "      <th>normalized_log_avg_sales_5_days</th>\n",
       "      <th>normalized_std_price_5_days</th>\n",
       "      <th>normalized_std_sales_5_days</th>\n",
       "      <th>normalized_log_avg_price_10_days</th>\n",
       "      <th>normalized_log_avg_sales_10_days</th>\n",
       "      <th>normalized_std_price_10_days</th>\n",
       "      <th>normalized_std_sales_10_days</th>\n",
       "      <th>normalized_log_avg_price_15_days</th>\n",
       "      <th>normalized_log_avg_sales_15_days</th>\n",
       "      <th>normalized_std_price_15_days</th>\n",
       "      <th>normalized_std_sales_15_days</th>\n",
       "      <th>Date_day_of_the_year</th>\n",
       "    </tr>\n",
       "  </thead>\n",
       "  <tbody>\n",
       "    <tr>\n",
       "      <th>44620</th>\n",
       "      <td>BL006-54BLACK</td>\n",
       "      <td>0</td>\n",
       "      <td>364.76</td>\n",
       "      <td>0.0</td>\n",
       "      <td>0.0</td>\n",
       "      <td>0.0</td>\n",
       "      <td>0.0</td>\n",
       "      <td>0.0</td>\n",
       "      <td>0.0</td>\n",
       "      <td>0.0</td>\n",
       "      <td>0.0</td>\n",
       "      <td>0.0</td>\n",
       "      <td>0.0</td>\n",
       "      <td>0.0</td>\n",
       "      <td>0.0</td>\n",
       "      <td>0.0</td>\n",
       "      <td>0.0</td>\n",
       "      <td>93</td>\n",
       "    </tr>\n",
       "    <tr>\n",
       "      <th>13992</th>\n",
       "      <td>BL006-54BLACK</td>\n",
       "      <td>1</td>\n",
       "      <td>383.00</td>\n",
       "      <td>0.0</td>\n",
       "      <td>0.0</td>\n",
       "      <td>0.0</td>\n",
       "      <td>0.0</td>\n",
       "      <td>0.0</td>\n",
       "      <td>0.0</td>\n",
       "      <td>0.0</td>\n",
       "      <td>0.0</td>\n",
       "      <td>0.0</td>\n",
       "      <td>0.0</td>\n",
       "      <td>0.0</td>\n",
       "      <td>0.0</td>\n",
       "      <td>0.0</td>\n",
       "      <td>0.0</td>\n",
       "      <td>112</td>\n",
       "    </tr>\n",
       "    <tr>\n",
       "      <th>48524</th>\n",
       "      <td>BL035-161GOLD</td>\n",
       "      <td>1</td>\n",
       "      <td>372.00</td>\n",
       "      <td>0.0</td>\n",
       "      <td>0.0</td>\n",
       "      <td>0.0</td>\n",
       "      <td>0.0</td>\n",
       "      <td>0.0</td>\n",
       "      <td>0.0</td>\n",
       "      <td>0.0</td>\n",
       "      <td>0.0</td>\n",
       "      <td>0.0</td>\n",
       "      <td>0.0</td>\n",
       "      <td>0.0</td>\n",
       "      <td>0.0</td>\n",
       "      <td>0.0</td>\n",
       "      <td>0.0</td>\n",
       "      <td>91</td>\n",
       "    </tr>\n",
       "    <tr>\n",
       "      <th>48680</th>\n",
       "      <td>BL035-161GOLD</td>\n",
       "      <td>3</td>\n",
       "      <td>1116.00</td>\n",
       "      <td>0.0</td>\n",
       "      <td>0.0</td>\n",
       "      <td>0.0</td>\n",
       "      <td>0.0</td>\n",
       "      <td>0.0</td>\n",
       "      <td>0.0</td>\n",
       "      <td>0.0</td>\n",
       "      <td>0.0</td>\n",
       "      <td>0.0</td>\n",
       "      <td>0.0</td>\n",
       "      <td>0.0</td>\n",
       "      <td>0.0</td>\n",
       "      <td>0.0</td>\n",
       "      <td>0.0</td>\n",
       "      <td>91</td>\n",
       "    </tr>\n",
       "    <tr>\n",
       "      <th>15569</th>\n",
       "      <td>BL035-161GOLD</td>\n",
       "      <td>1</td>\n",
       "      <td>372.00</td>\n",
       "      <td>0.0</td>\n",
       "      <td>0.0</td>\n",
       "      <td>0.0</td>\n",
       "      <td>0.0</td>\n",
       "      <td>0.0</td>\n",
       "      <td>0.0</td>\n",
       "      <td>0.0</td>\n",
       "      <td>0.0</td>\n",
       "      <td>0.0</td>\n",
       "      <td>0.0</td>\n",
       "      <td>0.0</td>\n",
       "      <td>0.0</td>\n",
       "      <td>0.0</td>\n",
       "      <td>0.0</td>\n",
       "      <td>111</td>\n",
       "    </tr>\n",
       "  </tbody>\n",
       "</table>\n",
       "</div>"
      ],
      "text/plain": [
       "                 SKU  Qty    price  f_corr_-5.0_1.0  f_corr_1.0_1.0  \\\n",
       "44620  BL006-54BLACK    0   364.76              0.0             0.0   \n",
       "13992  BL006-54BLACK    1   383.00              0.0             0.0   \n",
       "48524  BL035-161GOLD    1   372.00              0.0             0.0   \n",
       "48680  BL035-161GOLD    3  1116.00              0.0             0.0   \n",
       "15569  BL035-161GOLD    1   372.00              0.0             0.0   \n",
       "\n",
       "       normalized_log_avg_price_5_days  normalized_log_avg_sales_5_days  \\\n",
       "44620                              0.0                              0.0   \n",
       "13992                              0.0                              0.0   \n",
       "48524                              0.0                              0.0   \n",
       "48680                              0.0                              0.0   \n",
       "15569                              0.0                              0.0   \n",
       "\n",
       "       normalized_std_price_5_days  normalized_std_sales_5_days  \\\n",
       "44620                          0.0                          0.0   \n",
       "13992                          0.0                          0.0   \n",
       "48524                          0.0                          0.0   \n",
       "48680                          0.0                          0.0   \n",
       "15569                          0.0                          0.0   \n",
       "\n",
       "       normalized_log_avg_price_10_days  normalized_log_avg_sales_10_days  \\\n",
       "44620                               0.0                               0.0   \n",
       "13992                               0.0                               0.0   \n",
       "48524                               0.0                               0.0   \n",
       "48680                               0.0                               0.0   \n",
       "15569                               0.0                               0.0   \n",
       "\n",
       "       normalized_std_price_10_days  normalized_std_sales_10_days  \\\n",
       "44620                           0.0                           0.0   \n",
       "13992                           0.0                           0.0   \n",
       "48524                           0.0                           0.0   \n",
       "48680                           0.0                           0.0   \n",
       "15569                           0.0                           0.0   \n",
       "\n",
       "       normalized_log_avg_price_15_days  normalized_log_avg_sales_15_days  \\\n",
       "44620                               0.0                               0.0   \n",
       "13992                               0.0                               0.0   \n",
       "48524                               0.0                               0.0   \n",
       "48680                               0.0                               0.0   \n",
       "15569                               0.0                               0.0   \n",
       "\n",
       "       normalized_std_price_15_days  normalized_std_sales_15_days  \\\n",
       "44620                           0.0                           0.0   \n",
       "13992                           0.0                           0.0   \n",
       "48524                           0.0                           0.0   \n",
       "48680                           0.0                           0.0   \n",
       "15569                           0.0                           0.0   \n",
       "\n",
       "       Date_day_of_the_year  \n",
       "44620                    93  \n",
       "13992                   112  \n",
       "48524                    91  \n",
       "48680                    91  \n",
       "15569                   111  "
      ]
     },
     "execution_count": 29,
     "metadata": {},
     "output_type": "execute_result"
    }
   ],
   "source": [
    "X_train.head()"
   ]
  },
  {
   "cell_type": "code",
   "execution_count": 30,
   "metadata": {},
   "outputs": [],
   "source": [
    "# Drop \"SKU\" column on X_train and X_val and X_test\n",
    "X_train.drop(columns=['SKU'], inplace=True)\n",
    "X_val.drop(columns=['SKU'], inplace=True)\n",
    "X_test.drop(columns=['SKU'], inplace=True)\n",
    "\n",
    "#TODO SEE THIS"
   ]
  },
  {
   "cell_type": "code",
   "execution_count": 31,
   "metadata": {},
   "outputs": [
    {
     "name": "stdout",
     "output_type": "stream",
     "text": [
      "Fitting model for quantile 0.1\n",
      "[LightGBM] [Warning] min_data_in_leaf is set=10, min_child_samples=20 will be ignored. Current value: min_data_in_leaf=10\n",
      "[1]\tvalid_0's quantile: 0.110376\n",
      "[2]\tvalid_0's quantile: 0.110308\n",
      "[3]\tvalid_0's quantile: 0.110248\n",
      "[4]\tvalid_0's quantile: 0.110418\n",
      "[5]\tvalid_0's quantile: 0.110364\n",
      "[6]\tvalid_0's quantile: 0.110315\n",
      "[7]\tvalid_0's quantile: 0.110455\n",
      "[8]\tvalid_0's quantile: 0.110696\n",
      "[9]\tvalid_0's quantile: 0.111003\n",
      "[10]\tvalid_0's quantile: 0.110963\n",
      "[11]\tvalid_0's quantile: 0.11093\n",
      "[12]\tvalid_0's quantile: 0.110921\n",
      "[13]\tvalid_0's quantile: 0.110921\n",
      "[14]\tvalid_0's quantile: 0.110913\n",
      "[15]\tvalid_0's quantile: 0.110905\n",
      "[16]\tvalid_0's quantile: 0.110878\n",
      "[17]\tvalid_0's quantile: 0.111268\n",
      "[18]\tvalid_0's quantile: 0.111247\n",
      "[19]\tvalid_0's quantile: 0.111247\n",
      "[20]\tvalid_0's quantile: 0.111235\n",
      "[21]\tvalid_0's quantile: 0.111224\n",
      "[22]\tvalid_0's quantile: 0.111556\n",
      "[23]\tvalid_0's quantile: 0.111549\n",
      "Fitting model for quantile 0.5\n",
      "[1]\tvalid_0's quantile: 0.534443\n",
      "[2]\tvalid_0's quantile: 0.512654\n",
      "[3]\tvalid_0's quantile: 0.493575\n",
      "[4]\tvalid_0's quantile: 0.479264\n",
      "[5]\tvalid_0's quantile: 0.471941\n",
      "[6]\tvalid_0's quantile: 0.466265\n",
      "[7]\tvalid_0's quantile: 0.461098\n",
      "[8]\tvalid_0's quantile: 0.455669\n",
      "[9]\tvalid_0's quantile: 0.454108\n",
      "[10]\tvalid_0's quantile: 0.451692\n",
      "[11]\tvalid_0's quantile: 0.452125\n",
      "[12]\tvalid_0's quantile: 0.452706\n",
      "[13]\tvalid_0's quantile: 0.454053\n",
      "[14]\tvalid_0's quantile: 0.455601\n",
      "[15]\tvalid_0's quantile: 0.456869\n",
      "[16]\tvalid_0's quantile: 0.453779\n",
      "[17]\tvalid_0's quantile: 0.454258\n",
      "[18]\tvalid_0's quantile: 0.453672\n",
      "[19]\tvalid_0's quantile: 0.453015\n",
      "[20]\tvalid_0's quantile: 0.452362\n",
      "[21]\tvalid_0's quantile: 0.451208\n",
      "[22]\tvalid_0's quantile: 0.451162\n",
      "[23]\tvalid_0's quantile: 0.451909\n",
      "[24]\tvalid_0's quantile: 0.449992\n",
      "[25]\tvalid_0's quantile: 0.45039\n",
      "[26]\tvalid_0's quantile: 0.449228\n",
      "[27]\tvalid_0's quantile: 0.448145\n",
      "[28]\tvalid_0's quantile: 0.448601\n",
      "[29]\tvalid_0's quantile: 0.448542\n",
      "[30]\tvalid_0's quantile: 0.448672\n",
      "[31]\tvalid_0's quantile: 0.447567\n",
      "[32]\tvalid_0's quantile: 0.446656\n",
      "[33]\tvalid_0's quantile: 0.44699\n",
      "[34]\tvalid_0's quantile: 0.447465\n",
      "[35]\tvalid_0's quantile: 0.446909\n",
      "[36]\tvalid_0's quantile: 0.446206\n",
      "[37]\tvalid_0's quantile: 0.444791\n",
      "[38]\tvalid_0's quantile: 0.444391\n",
      "[39]\tvalid_0's quantile: 0.444133\n",
      "[40]\tvalid_0's quantile: 0.444645\n",
      "[41]\tvalid_0's quantile: 0.444825\n",
      "[42]\tvalid_0's quantile: 0.444329\n",
      "[43]\tvalid_0's quantile: 0.444128\n",
      "[44]\tvalid_0's quantile: 0.443209\n",
      "[45]\tvalid_0's quantile: 0.442709\n",
      "[46]\tvalid_0's quantile: 0.44251\n",
      "[47]\tvalid_0's quantile: 0.442011\n",
      "[48]\tvalid_0's quantile: 0.442484\n",
      "[49]\tvalid_0's quantile: 0.442293\n",
      "[50]\tvalid_0's quantile: 0.441655\n",
      "[51]\tvalid_0's quantile: 0.441516\n",
      "[52]\tvalid_0's quantile: 0.441005\n",
      "[53]\tvalid_0's quantile: 0.441511\n",
      "[54]\tvalid_0's quantile: 0.440637\n",
      "[55]\tvalid_0's quantile: 0.440392\n",
      "[56]\tvalid_0's quantile: 0.440275\n",
      "[57]\tvalid_0's quantile: 0.440738\n",
      "[58]\tvalid_0's quantile: 0.440236\n",
      "[59]\tvalid_0's quantile: 0.439345\n",
      "[60]\tvalid_0's quantile: 0.43862\n",
      "[61]\tvalid_0's quantile: 0.438731\n",
      "[62]\tvalid_0's quantile: 0.43799\n",
      "[63]\tvalid_0's quantile: 0.43767\n",
      "[64]\tvalid_0's quantile: 0.437955\n",
      "[65]\tvalid_0's quantile: 0.437711\n",
      "[66]\tvalid_0's quantile: 0.43732\n",
      "[67]\tvalid_0's quantile: 0.436889\n",
      "[68]\tvalid_0's quantile: 0.436577\n",
      "[69]\tvalid_0's quantile: 0.434931\n",
      "[70]\tvalid_0's quantile: 0.435184\n",
      "[71]\tvalid_0's quantile: 0.435272\n",
      "[72]\tvalid_0's quantile: 0.435164\n",
      "[73]\tvalid_0's quantile: 0.434661\n",
      "[74]\tvalid_0's quantile: 0.434233\n",
      "[75]\tvalid_0's quantile: 0.433489\n",
      "[76]\tvalid_0's quantile: 0.433577\n",
      "[77]\tvalid_0's quantile: 0.433551\n",
      "[78]\tvalid_0's quantile: 0.433219\n",
      "[79]\tvalid_0's quantile: 0.432864\n",
      "[80]\tvalid_0's quantile: 0.432708\n",
      "Fitting model for quantile 0.9\n",
      "[1]\tvalid_0's quantile: 0.56045\n",
      "[2]\tvalid_0's quantile: 0.541642\n",
      "[3]\tvalid_0's quantile: 0.525626\n",
      "[4]\tvalid_0's quantile: 0.518666\n",
      "[5]\tvalid_0's quantile: 0.50727\n",
      "[6]\tvalid_0's quantile: 0.50122\n",
      "[7]\tvalid_0's quantile: 0.488935\n",
      "[8]\tvalid_0's quantile: 0.479371\n",
      "[9]\tvalid_0's quantile: 0.467245\n",
      "[10]\tvalid_0's quantile: 0.458672\n",
      "[11]\tvalid_0's quantile: 0.453077\n",
      "[12]\tvalid_0's quantile: 0.445306\n",
      "[13]\tvalid_0's quantile: 0.441047\n",
      "[14]\tvalid_0's quantile: 0.436444\n",
      "[15]\tvalid_0's quantile: 0.431968\n",
      "[16]\tvalid_0's quantile: 0.428274\n",
      "[17]\tvalid_0's quantile: 0.424749\n",
      "[18]\tvalid_0's quantile: 0.421134\n",
      "[19]\tvalid_0's quantile: 0.416851\n",
      "[20]\tvalid_0's quantile: 0.414144\n",
      "[21]\tvalid_0's quantile: 0.411745\n",
      "[22]\tvalid_0's quantile: 0.409014\n",
      "[23]\tvalid_0's quantile: 0.406567\n",
      "[24]\tvalid_0's quantile: 0.404442\n",
      "[25]\tvalid_0's quantile: 0.402723\n",
      "[26]\tvalid_0's quantile: 0.401299\n",
      "[27]\tvalid_0's quantile: 0.399334\n",
      "[28]\tvalid_0's quantile: 0.398143\n",
      "[29]\tvalid_0's quantile: 0.396833\n",
      "[30]\tvalid_0's quantile: 0.394919\n",
      "[31]\tvalid_0's quantile: 0.392133\n",
      "[32]\tvalid_0's quantile: 0.389701\n",
      "[33]\tvalid_0's quantile: 0.388788\n",
      "[34]\tvalid_0's quantile: 0.387974\n",
      "[35]\tvalid_0's quantile: 0.387181\n",
      "[36]\tvalid_0's quantile: 0.386188\n",
      "[37]\tvalid_0's quantile: 0.385562\n",
      "[38]\tvalid_0's quantile: 0.382919\n",
      "[39]\tvalid_0's quantile: 0.382365\n",
      "[40]\tvalid_0's quantile: 0.38064\n",
      "[41]\tvalid_0's quantile: 0.379706\n",
      "[42]\tvalid_0's quantile: 0.378863\n",
      "[43]\tvalid_0's quantile: 0.377778\n",
      "[44]\tvalid_0's quantile: 0.375472\n",
      "[45]\tvalid_0's quantile: 0.373\n",
      "[46]\tvalid_0's quantile: 0.372264\n",
      "[47]\tvalid_0's quantile: 0.370252\n",
      "[48]\tvalid_0's quantile: 0.368078\n",
      "[49]\tvalid_0's quantile: 0.36661\n",
      "[50]\tvalid_0's quantile: 0.364469\n",
      "[51]\tvalid_0's quantile: 0.36216\n",
      "[52]\tvalid_0's quantile: 0.36081\n",
      "[53]\tvalid_0's quantile: 0.359599\n",
      "[54]\tvalid_0's quantile: 0.358019\n",
      "[55]\tvalid_0's quantile: 0.356856\n",
      "[56]\tvalid_0's quantile: 0.355678\n",
      "[57]\tvalid_0's quantile: 0.354545\n",
      "[58]\tvalid_0's quantile: 0.354226\n",
      "[59]\tvalid_0's quantile: 0.353184\n",
      "[60]\tvalid_0's quantile: 0.352866\n",
      "[61]\tvalid_0's quantile: 0.351686\n",
      "[62]\tvalid_0's quantile: 0.351377\n",
      "[63]\tvalid_0's quantile: 0.35104\n",
      "[64]\tvalid_0's quantile: 0.350995\n",
      "[65]\tvalid_0's quantile: 0.350797\n",
      "[66]\tvalid_0's quantile: 0.349983\n",
      "[67]\tvalid_0's quantile: 0.349555\n",
      "[68]\tvalid_0's quantile: 0.349508\n",
      "[69]\tvalid_0's quantile: 0.348087\n",
      "[70]\tvalid_0's quantile: 0.346721\n",
      "[71]\tvalid_0's quantile: 0.346162\n",
      "[72]\tvalid_0's quantile: 0.344737\n",
      "[73]\tvalid_0's quantile: 0.344071\n",
      "[74]\tvalid_0's quantile: 0.343558\n",
      "[75]\tvalid_0's quantile: 0.342907\n",
      "[76]\tvalid_0's quantile: 0.342823\n",
      "[77]\tvalid_0's quantile: 0.34264\n",
      "[78]\tvalid_0's quantile: 0.340511\n",
      "[79]\tvalid_0's quantile: 0.338831\n",
      "[80]\tvalid_0's quantile: 0.338093\n"
     ]
    }
   ],
   "source": [
    "from lightgbm import LGBMRegressor\n",
    "import numpy as np\n",
    "import matplotlib.pyplot as plt\n",
    "\n",
    "lgb_params = {\n",
    "    'n_jobs': 1,\n",
    "    'max_depth': 4,\n",
    "    'min_data_in_leaf': 10,\n",
    "    'subsample': 0.9,\n",
    "    'n_estimators': 80,\n",
    "    'learning_rate': 0.1,\n",
    "    'colsample_bytree': 0.9,\n",
    "    'boosting_type': 'gbdt'\n",
    "}\n",
    "quantile_alphas = [0.1, 0.5, 0.9]\n",
    "\n",
    "# Train a quantile lgbm model for every quantile_alpha\n",
    "models = {}\n",
    "for q in quantile_alphas:\n",
    "    print(f'Fitting model for quantile {q}')\n",
    "    models[q] = LGBMRegressor(objective='quantile', alpha=q, **lgb_params)\n",
    "    models[q].fit(X_train, y_train,\n",
    "                  eval_set=[(X_val, y_val)],\n",
    "                  early_stopping_rounds=20)\n",
    "    \n",
    "# Compute quantile loss\n",
    "def quantile_loss(y_true, y_pred, quantile_alpha):\n",
    "    e = y_true - y_pred\n",
    "    return np.maximum(quantile_alpha * e, (quantile_alpha - 1) * e)\n"
   ]
  },
  {
   "cell_type": "code",
   "execution_count": 32,
   "metadata": {},
   "outputs": [
    {
     "name": "stdout",
     "output_type": "stream",
     "text": [
      "Quantile 0.1: Training Loss = 0.13643289007091872, Validation Loss = 0.11024775326797226\n",
      "Quantile 0.5: Training Loss = 0.39754208386050827, Validation Loss = 0.4327084170702924\n",
      "Quantile 0.9: Training Loss = 0.20800870258125373, Validation Loss = 0.3380929177194772\n"
     ]
    }
   ],
   "source": [
    "# calculate the quantile loss for training and validation data\n",
    "\n",
    "for q in quantile_alphas:\n",
    "    model = models[q]\n",
    "    y_train_pred = model.predict(X_train)\n",
    "    y_val_pred = model.predict(X_val)\n",
    "    \n",
    "    loss_train = quantile_loss(y_train, y_train_pred, q)\n",
    "    loss_val = quantile_loss(y_val, y_val_pred, q)\n",
    "    \n",
    "    print(f\"Quantile {q}: Training Loss = {loss_train.mean()}, Validation Loss = {loss_val.mean()}\")\n"
   ]
  },
  {
   "cell_type": "markdown",
   "metadata": {},
   "source": [
    "2. Interpret the Loss\n",
    "\n",
    "Lower Loss is Better: The lower the loss, the better the model is performing for that particular quantile.\n",
    "\n",
    "Differences Between Quantiles: Different quantiles might have different loss values. \n",
    "A lower quantile (e.g., 0.1) focuses on the lower tail of the distribution, whereas a higher quantile (e.g., 0.9) focuses on the upper tail. Depending on your data distribution, you might observe variations in performance across different quantiles.\n",
    "\n",
    "3. Detect Overfitting and Underfitting\n",
    "\n",
    "Overfitting: If the training loss is much lower than the validation loss, it might indicate that the model is memorizing the training data and not generalizing well to unseen data. This often occurs when the model is too complex relative to the amount and noise of the training data.\n",
    "\n",
    "Underfitting: If both the training and validation loss are high, or if the validation loss is lower than the training loss, it might indicate that the model is too simple to capture the underlying pattern in the data. The model may need more complexity, or there may be issues with the data or feature\n",
    "\n",
    "4. Considerations for Business Context\n",
    "\n",
    "Tailoring to Business Needs: Depending on your specific business goals and the importance of different quantiles, you might want to focus on improving the performance of a specific quantile model. For example, if you're particularly concerned with the worst-case scenarios, you may prioritize the model for the lower quantile.\n",
    "\n",
    "Fine-Tuning Hyperparameters: If you notice overfitting or underfitting, you can experiment with hyperparameters. For example, to reduce overfitting, you might increase the min_data_in_leaf, reduce the max_depth, or apply some form of regularization."
   ]
  },
  {
   "cell_type": "markdown",
   "metadata": {},
   "source": [
    "Quantile 0.1:\n",
    "\n",
    "Training Loss: 0.13616\n",
    "Validation Loss: 0.11030\n",
    "Interpretation: Since the validation loss is lower than the training loss, it may indicate that the model is underfitting. Typically, underfitting would show higher validation loss compared to training loss, but this reversed pattern can also indicate underfitting, especially when the loss values are close. It might be worth experimenting with a more complex model or reducing regularization to see if that improves performance.\n",
    "\n",
    "Quantile 0.5 (Median):\n",
    "\n",
    "Training Loss: 0.39759\n",
    "Validation Loss: 0.42580\n",
    "Interpretation: The validation loss is slightly higher than the training loss, which is expected in a well-fitted model. This quantile seems to be well-calibrated, with a small difference between the training and validation losses.\n",
    "\n",
    "Quantile 0.9:\n",
    "\n",
    "Training Loss: 0.20936\n",
    "Validation Loss: 0.33548\n",
    "Interpretation: There is a larger difference between the training and validation losses, suggesting potential overfitting. The model performs well on the training data but has higher loss on the validation data. You might want to increase regularization or reduce the complexity of the model to make it generalize better to unseen data.\n",
    "\n",
    "Summary:\n",
    "Quantile 0.1: Possible underfitting. Consider increasing model complexity.\n",
    "Quantile 0.5: Well-calibrated. Good balance between bias and variance.\n",
    "Quantile 0.9: Possible overfitting. Consider reducing model complexity or increasing regularization"
   ]
  },
  {
   "cell_type": "code",
   "execution_count": 33,
   "metadata": {},
   "outputs": [
    {
     "data": {
      "image/png": "[encoded data removed]",
      "text/plain": [
       "<Figure size 640x480 with 1 Axes>"
      ]
     },
     "metadata": {},
     "output_type": "display_data"
    },
    {
     "data": {
      "image/png": "[encoded data removed]",
      "text/plain": [
       "<Figure size 640x480 with 1 Axes>"
      ]
     },
     "metadata": {},
     "output_type": "display_data"
    },
    {
     "data": {
      "image/png": "[encoded data removed]",
      "text/plain": [
       "<Figure size 640x480 with 1 Axes>"
      ]
     },
     "metadata": {},
     "output_type": "display_data"
    }
   ],
   "source": [
    "\n",
    "# Plot feature importance for every quantile_alpha\n",
    "for q in quantile_alphas:\n",
    "    plt.figure()\n",
    "    plt.title(f'Feature importances for quantile {q}')\n",
    "    # plot featur importances in a sorted order\n",
    "\n",
    "    # get the indices of the sorted feature importances\n",
    "    sorted_idx = models[q].feature_importances_.argsort()\n",
    "    # plot the sorted feature importances\n",
    "    plt.barh(X_train.columns[sorted_idx], models[q].feature_importances_[sorted_idx])\n",
    "    plt.xlabel(\"LGBM Feature Importance\")\n",
    "    plt.show()"
   ]
  },
  {
   "cell_type": "code",
   "execution_count": 82,
   "metadata": {},
   "outputs": [],
   "source": [
    "from typing import Dict\n",
    "def predict_demand_curve(models: Dict, test_data:pd.DataFrame, base_price_feature: str='price'):\n",
    "\n",
    "    sku_demand_curves = {}\n",
    "    price_points_per_sku = {}\n",
    "    demand_curve_pricing = {}\n",
    "\n",
    "    price_multpliers = [0.85, 0.9, 0.95, 0.98, 1.0, 1.02, 1.05, 1.10, 1.15, 1.20]\n",
    "    \n",
    "    # Grouping test data by SKU\n",
    "    grouped_test_data = test_data.groupby('SKU')\n",
    "    \n",
    "    # Performing inference for each SKU\n",
    "    for sku, group_data in grouped_test_data:\n",
    "        # Selecting one row from the group data\n",
    "        sample_row = group_data.iloc[0].copy()\n",
    "\n",
    "        # If SKU is present in the sample_row, remove it\n",
    "        if 'SKU' in sample_row:\n",
    "            sample_row.drop('SKU', inplace=True)\n",
    "        \n",
    "        # Setting the base price from data\n",
    "        base_price = sample_row[base_price_feature]\n",
    "        \n",
    "        # Defining price points\n",
    "\n",
    "        #base_price * 0.9: Reduces the base price by 10% (90% of base price).\n",
    "        #base_price * 0.85: Reduces the base price by 15% (85% of base price).\n",
    "        #base_price: Keeps the base price as it is.\n",
    "        #base_price * 1.1: Increases the base price by 10% (110% of base price).\n",
    "        #base_price * 1.15: Increases the base price by 15% (115% of base price).\n",
    "        price_points = [base_price * factor for factor in price_multpliers]\n",
    "\n",
    "\n",
    "        # storing price points per sku\n",
    "        price_points_per_sku[sku] = price_points\n",
    "        \n",
    "        # Predicting sales for each price point\n",
    "        demand_predictions = {}\n",
    "        for q, model in models.items():\n",
    "            demand_predictions[q] = []\n",
    "            for price in price_points:\n",
    "                sample_row[base_price_feature] = price\n",
    "                prediction = model.predict([sample_row])\n",
    "                demand_predictions[q].append(prediction[0])\n",
    "        \n",
    "        # Storing the demand curve for the SKU\n",
    "        demand_curve = {q: list(zip(price_points, demand_predictions[q])) for q in quantile_alphas}\n",
    "        sku_demand_curves[sku] = demand_predictions\n",
    "        demand_curve_pricing[sku] = demand_curve\n",
    "\n",
    "    return sku_demand_curves ,demand_curve_pricing ,  price_points_per_sku\n"
   ]
  },
  {
   "cell_type": "code",
   "execution_count": 83,
   "metadata": {},
   "outputs": [],
   "source": [
    "sku_demand_curves, demand_curve_pricing, price_points_per_sku = predict_demand_curve(models, X_test_sku)"
   ]
  },
  {
   "cell_type": "code",
   "execution_count": 84,
   "metadata": {},
   "outputs": [],
   "source": [
    "import plotly.express as px\n",
    "import pandas as pd\n",
    "\n",
    "\n",
    "def plot_demand_curve_for_sku(sku_demand_curves, price_points_per_sku, selected_sku):\n",
    "    # Create the DataFrame properly\n",
    "    data = []\n",
    "    for sku, sku_demand_curve in sku_demand_curves.items():\n",
    "        if sku == selected_sku:  # Only proceed if the SKU matches\n",
    "            for q, demand_predictions in sku_demand_curve.items():\n",
    "                for price, prediction in zip(price_points_per_sku[sku], demand_predictions):\n",
    "                    data.append({'SKU': sku, 'Price Points': price, 'Predicted Sales': prediction, 'Quantile': f'Quantile {q}'})\n",
    "    \n",
    "    df = pd.DataFrame(data)\n",
    "    \n",
    "    # Create the Plotly figure for the selected SKU\n",
    "    fig = px.line(df, x='Price Points', y='Predicted Sales', color='Quantile',\n",
    "                  title=f'Demand Curve for SKU: {selected_sku}',\n",
    "                  labels={'Price Points': 'Price Points', 'Predicted Sales': 'Predicted Sales'})\n",
    "    fig.show()\n",
    "\n",
    "\n",
    "\n"
   ]
  },
  {
   "cell_type": "code",
   "execution_count": 85,
   "metadata": {},
   "outputs": [
    {
     "data": {
      "application/vnd.plotly.v1+json": {
       "config": {
        "plotlyServerURL": "https://plot.ly"
       },
       "data": [
        {
         "hovertemplate": "Quantile=Quantile 0.1<br>Price Points=%{x}<br>Predicted Sales=%{y}<extra></extra>",
         "legendgroup": "Quantile 0.1",
         "line": {
          "color": "#636efa",
          "dash": "solid"
         },
         "marker": {
          "symbol": "circle"
         },
         "mode": "lines",
         "name": "Quantile 0.1",
         "orientation": "v",
         "showlegend": true,
         "type": "scatter",
         "x": [
          320.45,
          339.3,
          358.15,
          369.46,
          377,
          384.54,
          395.85,
          414.70000000000005,
          433.54999999999995,
          452.4
         ],
         "xaxis": "x",
         "y": [
          1,
          1,
          1,
          1,
          1,
          1,
          1,
          1,
          1,
          1
         ],
         "yaxis": "y"
        },
        {
         "hovertemplate": "Quantile=Quantile 0.5<br>Price Points=%{x}<br>Predicted Sales=%{y}<extra></extra>",
         "legendgroup": "Quantile 0.5",
         "line": {
          "color": "#EF553B",
          "dash": "solid"
         },
         "marker": {
          "symbol": "circle"
         },
         "mode": "lines",
         "name": "Quantile 0.5",
         "orientation": "v",
         "showlegend": true,
         "type": "scatter",
         "x": [
          320.45,
          339.3,
          358.15,
          369.46,
          377,
          384.54,
          395.85,
          414.70000000000005,
          433.54999999999995,
          452.4
         ],
         "xaxis": "x",
         "y": [
          0.8977672172531658,
          0.9331251273833737,
          0.9895400743748234,
          0.9895400743748234,
          0.9895400743748234,
          0.9895400743748234,
          0.9895400743748234,
          0.9895400743748234,
          0.9895400743748234,
          0.9895400743748234
         ],
         "yaxis": "y"
        },
        {
         "hovertemplate": "Quantile=Quantile 0.9<br>Price Points=%{x}<br>Predicted Sales=%{y}<extra></extra>",
         "legendgroup": "Quantile 0.9",
         "line": {
          "color": "#00cc96",
          "dash": "solid"
         },
         "marker": {
          "symbol": "circle"
         },
         "mode": "lines",
         "name": "Quantile 0.9",
         "orientation": "v",
         "showlegend": true,
         "type": "scatter",
         "x": [
          320.45,
          339.3,
          358.15,
          369.46,
          377,
          384.54,
          395.85,
          414.70000000000005,
          433.54999999999995,
          452.4
         ],
         "xaxis": "x",
         "y": [
          3.9236018461096633,
          4.109177391225006,
          4.709177391225007,
          4.709177391225007,
          5.2327198460569315,
          5.2327198460569315,
          5.2327198460569315,
          5.2327198460569315,
          5.2327198460569315,
          5.155253462858917
         ],
         "yaxis": "y"
        }
       ],
       "layout": {
        "legend": {
         "title": {
          "text": "Quantile"
         },
         "tracegroupgap": 0
        },
        "template": {
         "data": {
          "bar": [
           {
            "error_x": {
             "color": "#2a3f5f"
            },
            "error_y": {
             "color": "#2a3f5f"
            },
            "marker": {
             "line": {
              "color": "#E5ECF6",
              "width": 0.5
             },
             "pattern": {
              "fillmode": "overlay",
              "size": 10,
              "solidity": 0.2
             }
            },
            "type": "bar"
           }
          ],
          "barpolar": [
           {
            "marker": {
             "line": {
              "color": "#E5ECF6",
              "width": 0.5
             },
             "pattern": {
              "fillmode": "overlay",
              "size": 10,
              "solidity": 0.2
             }
            },
            "type": "barpolar"
           }
          ],
          "carpet": [
           {
            "aaxis": {
             "endlinecolor": "#2a3f5f",
             "gridcolor": "white",
             "linecolor": "white",
             "minorgridcolor": "white",
             "startlinecolor": "#2a3f5f"
            },
            "baxis": {
             "endlinecolor": "#2a3f5f",
             "gridcolor": "white",
             "linecolor": "white",
             "minorgridcolor": "white",
             "startlinecolor": "#2a3f5f"
            },
            "type": "carpet"
           }
          ],
          "choropleth": [
           {
            "colorbar": {
             "outlinewidth": 0,
             "ticks": ""
            },
            "type": "choropleth"
           }
          ],
          "contour": [
           {
            "colorbar": {
             "outlinewidth": 0,
             "ticks": ""
            },
            "colorscale": [
             [
              0,
              "#0d0887"
             ],
             [
              0.1111111111111111,
              "#46039f"
             ],
             [
              0.2222222222222222,
              "#7201a8"
             ],
             [
              0.3333333333333333,
              "#9c179e"
             ],
             [
              0.4444444444444444,
              "#bd3786"
             ],
             [
              0.5555555555555556,
              "#d8576b"
             ],
             [
              0.6666666666666666,
              "#ed7953"
             ],
             [
              0.7777777777777778,
              "#fb9f3a"
             ],
             [
              0.8888888888888888,
              "#fdca26"
             ],
             [
              1,
              "#f0f921"
             ]
            ],
            "type": "contour"
           }
          ],
          "contourcarpet": [
           {
            "colorbar": {
             "outlinewidth": 0,
             "ticks": ""
            },
            "type": "contourcarpet"
           }
          ],
          "heatmap": [
           {
            "colorbar": {
             "outlinewidth": 0,
             "ticks": ""
            },
            "colorscale": [
             [
              0,
              "#0d0887"
             ],
             [
              0.1111111111111111,
              "#46039f"
             ],
             [
              0.2222222222222222,
              "#7201a8"
             ],
             [
              0.3333333333333333,
              "#9c179e"
             ],
             [
              0.4444444444444444,
              "#bd3786"
             ],
             [
              0.5555555555555556,
              "#d8576b"
             ],
             [
              0.6666666666666666,
              "#ed7953"
             ],
             [
              0.7777777777777778,
              "#fb9f3a"
             ],
             [
              0.8888888888888888,
              "#fdca26"
             ],
             [
              1,
              "#f0f921"
             ]
            ],
            "type": "heatmap"
           }
          ],
          "heatmapgl": [
           {
            "colorbar": {
             "outlinewidth": 0,
             "ticks": ""
            },
            "colorscale": [
             [
              0,
              "#0d0887"
             ],
             [
              0.1111111111111111,
              "#46039f"
             ],
             [
              0.2222222222222222,
              "#7201a8"
             ],
             [
              0.3333333333333333,
              "#9c179e"
             ],
             [
              0.4444444444444444,
              "#bd3786"
             ],
             [
              0.5555555555555556,
              "#d8576b"
             ],
             [
              0.6666666666666666,
              "#ed7953"
             ],
             [
              0.7777777777777778,
              "#fb9f3a"
             ],
             [
              0.8888888888888888,
              "#fdca26"
             ],
             [
              1,
              "#f0f921"
             ]
            ],
            "type": "heatmapgl"
           }
          ],
          "histogram": [
           {
            "marker": {
             "pattern": {
              "fillmode": "overlay",
              "size": 10,
              "solidity": 0.2
             }
            },
            "type": "histogram"
           }
          ],
          "histogram2d": [
           {
            "colorbar": {
             "outlinewidth": 0,
             "ticks": ""
            },
            "colorscale": [
             [
              0,
              "#0d0887"
             ],
             [
              0.1111111111111111,
              "#46039f"
             ],
             [
              0.2222222222222222,
              "#7201a8"
             ],
             [
              0.3333333333333333,
              "#9c179e"
             ],
             [
              0.4444444444444444,
              "#bd3786"
             ],
             [
              0.5555555555555556,
              "#d8576b"
             ],
             [
              0.6666666666666666,
              "#ed7953"
             ],
             [
              0.7777777777777778,
              "#fb9f3a"
             ],
             [
              0.8888888888888888,
              "#fdca26"
             ],
             [
              1,
              "#f0f921"
             ]
            ],
            "type": "histogram2d"
           }
          ],
          "histogram2dcontour": [
           {
            "colorbar": {
             "outlinewidth": 0,
             "ticks": ""
            },
            "colorscale": [
             [
              0,
              "#0d0887"
             ],
             [
              0.1111111111111111,
              "#46039f"
             ],
             [
              0.2222222222222222,
              "#7201a8"
             ],
             [
              0.3333333333333333,
              "#9c179e"
             ],
             [
              0.4444444444444444,
              "#bd3786"
             ],
             [
              0.5555555555555556,
              "#d8576b"
             ],
             [
              0.6666666666666666,
              "#ed7953"
             ],
             [
              0.7777777777777778,
              "#fb9f3a"
             ],
             [
              0.8888888888888888,
              "#fdca26"
             ],
             [
              1,
              "#f0f921"
             ]
            ],
            "type": "histogram2dcontour"
           }
          ],
          "mesh3d": [
           {
            "colorbar": {
             "outlinewidth": 0,
             "ticks": ""
            },
            "type": "mesh3d"
           }
          ],
          "parcoords": [
           {
            "line": {
             "colorbar": {
              "outlinewidth": 0,
              "ticks": ""
             }
            },
            "type": "parcoords"
           }
          ],
          "pie": [
           {
            "automargin": true,
            "type": "pie"
           }
          ],
          "scatter": [
           {
            "fillpattern": {
             "fillmode": "overlay",
             "size": 10,
             "solidity": 0.2
            },
            "type": "scatter"
           }
          ],
          "scatter3d": [
           {
            "line": {
             "colorbar": {
              "outlinewidth": 0,
              "ticks": ""
             }
            },
            "marker": {
             "colorbar": {
              "outlinewidth": 0,
              "ticks": ""
             }
            },
            "type": "scatter3d"
           }
          ],
          "scattercarpet": [
           {
            "marker": {
             "colorbar": {
              "outlinewidth": 0,
              "ticks": ""
             }
            },
            "type": "scattercarpet"
           }
          ],
          "scattergeo": [
           {
            "marker": {
             "colorbar": {
              "outlinewidth": 0,
              "ticks": ""
             }
            },
            "type": "scattergeo"
           }
          ],
          "scattergl": [
           {
            "marker": {
             "colorbar": {
              "outlinewidth": 0,
              "ticks": ""
             }
            },
            "type": "scattergl"
           }
          ],
          "scattermapbox": [
           {
            "marker": {
             "colorbar": {
              "outlinewidth": 0,
              "ticks": ""
             }
            },
            "type": "scattermapbox"
           }
          ],
          "scatterpolar": [
           {
            "marker": {
             "colorbar": {
              "outlinewidth": 0,
              "ticks": ""
             }
            },
            "type": "scatterpolar"
           }
          ],
          "scatterpolargl": [
           {
            "marker": {
             "colorbar": {
              "outlinewidth": 0,
              "ticks": ""
             }
            },
            "type": "scatterpolargl"
           }
          ],
          "scatterternary": [
           {
            "marker": {
             "colorbar": {
              "outlinewidth": 0,
              "ticks": ""
             }
            },
            "type": "scatterternary"
           }
          ],
          "surface": [
           {
            "colorbar": {
             "outlinewidth": 0,
             "ticks": ""
            },
            "colorscale": [
             [
              0,
              "#0d0887"
             ],
             [
              0.1111111111111111,
              "#46039f"
             ],
             [
              0.2222222222222222,
              "#7201a8"
             ],
             [
              0.3333333333333333,
              "#9c179e"
             ],
             [
              0.4444444444444444,
              "#bd3786"
             ],
             [
              0.5555555555555556,
              "#d8576b"
             ],
             [
              0.6666666666666666,
              "#ed7953"
             ],
             [
              0.7777777777777778,
              "#fb9f3a"
             ],
             [
              0.8888888888888888,
              "#fdca26"
             ],
             [
              1,
              "#f0f921"
             ]
            ],
            "type": "surface"
           }
          ],
          "table": [
           {
            "cells": {
             "fill": {
              "color": "#EBF0F8"
             },
             "line": {
              "color": "white"
             }
            },
            "header": {
             "fill": {
              "color": "#C8D4E3"
             },
             "line": {
              "color": "white"
             }
            },
            "type": "table"
           }
          ]
         },
         "layout": {
          "annotationdefaults": {
           "arrowcolor": "#2a3f5f",
           "arrowhead": 0,
           "arrowwidth": 1
          },
          "autotypenumbers": "strict",
          "coloraxis": {
           "colorbar": {
            "outlinewidth": 0,
            "ticks": ""
           }
          },
          "colorscale": {
           "diverging": [
            [
             0,
             "#8e0152"
            ],
            [
             0.1,
             "#c51b7d"
            ],
            [
             0.2,
             "#de77ae"
            ],
            [
             0.3,
             "#f1b6da"
            ],
            [
             0.4,
             "#fde0ef"
            ],
            [
             0.5,
             "#f7f7f7"
            ],
            [
             0.6,
             "#e6f5d0"
            ],
            [
             0.7,
             "#b8e186"
            ],
            [
             0.8,
             "#7fbc41"
            ],
            [
             0.9,
             "#4d9221"
            ],
            [
             1,
             "#276419"
            ]
           ],
           "sequential": [
            [
             0,
             "#0d0887"
            ],
            [
             0.1111111111111111,
             "#46039f"
            ],
            [
             0.2222222222222222,
             "#7201a8"
            ],
            [
             0.3333333333333333,
             "#9c179e"
            ],
            [
             0.4444444444444444,
             "#bd3786"
            ],
            [
             0.5555555555555556,
             "#d8576b"
            ],
            [
             0.6666666666666666,
             "#ed7953"
            ],
            [
             0.7777777777777778,
             "#fb9f3a"
            ],
            [
             0.8888888888888888,
             "#fdca26"
            ],
            [
             1,
             "#f0f921"
            ]
           ],
           "sequentialminus": [
            [
             0,
             "#0d0887"
            ],
            [
             0.1111111111111111,
             "#46039f"
            ],
            [
             0.2222222222222222,
             "#7201a8"
            ],
            [
             0.3333333333333333,
             "#9c179e"
            ],
            [
             0.4444444444444444,
             "#bd3786"
            ],
            [
             0.5555555555555556,
             "#d8576b"
            ],
            [
             0.6666666666666666,
             "#ed7953"
            ],
            [
             0.7777777777777778,
             "#fb9f3a"
            ],
            [
             0.8888888888888888,
             "#fdca26"
            ],
            [
             1,
             "#f0f921"
            ]
           ]
          },
          "colorway": [
           "#636efa",
           "#EF553B",
           "#00cc96",
           "#ab63fa",
           "#FFA15A",
           "#19d3f3",
           "#FF6692",
           "#B6E880",
           "#FF97FF",
           "#FECB52"
          ],
          "font": {
           "color": "#2a3f5f"
          },
          "geo": {
           "bgcolor": "white",
           "lakecolor": "white",
           "landcolor": "#E5ECF6",
           "showlakes": true,
           "showland": true,
           "subunitcolor": "white"
          },
          "hoverlabel": {
           "align": "left"
          },
          "hovermode": "closest",
          "mapbox": {
           "style": "light"
          },
          "paper_bgcolor": "white",
          "plot_bgcolor": "#E5ECF6",
          "polar": {
           "angularaxis": {
            "gridcolor": "white",
            "linecolor": "white",
            "ticks": ""
           },
           "bgcolor": "#E5ECF6",
           "radialaxis": {
            "gridcolor": "white",
            "linecolor": "white",
            "ticks": ""
           }
          },
          "scene": {
           "xaxis": {
            "backgroundcolor": "#E5ECF6",
            "gridcolor": "white",
            "gridwidth": 2,
            "linecolor": "white",
            "showbackground": true,
            "ticks": "",
            "zerolinecolor": "white"
           },
           "yaxis": {
            "backgroundcolor": "#E5ECF6",
            "gridcolor": "white",
            "gridwidth": 2,
            "linecolor": "white",
            "showbackground": true,
            "ticks": "",
            "zerolinecolor": "white"
           },
           "zaxis": {
            "backgroundcolor": "#E5ECF6",
            "gridcolor": "white",
            "gridwidth": 2,
            "linecolor": "white",
            "showbackground": true,
            "ticks": "",
            "zerolinecolor": "white"
           }
          },
          "shapedefaults": {
           "line": {
            "color": "#2a3f5f"
           }
          },
          "ternary": {
           "aaxis": {
            "gridcolor": "white",
            "linecolor": "white",
            "ticks": ""
           },
           "baxis": {
            "gridcolor": "white",
            "linecolor": "white",
            "ticks": ""
           },
           "bgcolor": "#E5ECF6",
           "caxis": {
            "gridcolor": "white",
            "linecolor": "white",
            "ticks": ""
           }
          },
          "title": {
           "x": 0.05
          },
          "xaxis": {
           "automargin": true,
           "gridcolor": "white",
           "linecolor": "white",
           "ticks": "",
           "title": {
            "standoff": 15
           },
           "zerolinecolor": "white",
           "zerolinewidth": 2
          },
          "yaxis": {
           "automargin": true,
           "gridcolor": "white",
           "linecolor": "white",
           "ticks": "",
           "title": {
            "standoff": 15
           },
           "zerolinecolor": "white",
           "zerolinewidth": 2
          }
         }
        },
        "title": {
         "text": "Demand Curve for SKU: BL035-161GOLD"
        },
        "xaxis": {
         "anchor": "y",
         "domain": [
          0,
          1
         ],
         "title": {
          "text": "Price Points"
         }
        },
        "yaxis": {
         "anchor": "x",
         "domain": [
          0,
          1
         ],
         "title": {
          "text": "Predicted Sales"
         }
        }
       }
      }
     },
     "metadata": {},
     "output_type": "display_data"
    }
   ],
   "source": [
    "plot_demand_curve_for_sku(sku_demand_curves, price_points_per_sku, selected_sku=\"BL035-161GOLD\")"
   ]
  },
  {
   "cell_type": "code",
   "execution_count": null,
   "metadata": {},
   "outputs": [],
   "source": []
  }
 ],
 "metadata": {
  "kernelspec": {
   "display_name": "relu",
   "language": "python",
   "name": "python3"
  },
  "language_info": {
   "codemirror_mode": {
    "name": "ipython",
    "version": 3
   },
   "file_extension": ".py",
   "mimetype": "text/x-python",
   "name": "python",
   "nbconvert_exporter": "python",
   "pygments_lexer": "ipython3",
   "version": "3.8.16"
  },
  "orig_nbformat": 4
 },
 "nbformat": 4,
 "nbformat_minor": 2
}
