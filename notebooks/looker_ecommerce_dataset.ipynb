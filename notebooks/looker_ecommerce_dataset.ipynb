{
 "cells": [
  {
   "cell_type": "code",
   "execution_count": null,
   "metadata": {},
   "outputs": [],
   "source": [
    "from google.cloud import bigquery\n",
    "\n",
    "# Initialize the BigQuery client\n",
    "client = bigquery.Client()\n",
    "\n",
    "# Define your table and destination URI\n",
    "dataset_name = 'thelook_ecommerce'\n",
    "table_name = 'your_table_name'\n",
    "bucket_name = 'your_bucket_name'\n",
    "destination_uri = f\"gs://{bucket_name}/{table_name}.csv\"\n",
    "\n",
    "# Create an extract job\n",
    "dataset_ref = client.dataset(dataset_name, project='bigquery-public-data')\n",
    "table_ref = dataset_ref.table(table_name)\n",
    "\n",
    "extract_job = client.extract_table(\n",
    "    table_ref,\n",
    "    destination_uri,\n",
    "    location='US',  # Location must match that of the source table.\n",
    ")\n",
    "extract_job.result()  # Wait for job to complete\n",
    "\n",
    "print(f\"Exported {dataset_name}.{table_name} to {destination_uri}\")\n"
   ]
  }
 ],
 "metadata": {
  "language_info": {
   "name": "python"
  },
  "orig_nbformat": 4
 },
 "nbformat": 4,
 "nbformat_minor": 2
}
