{
 "cells": [
  {
   "cell_type": "code",
   "execution_count": 12,
   "metadata": {},
   "outputs": [
    {
     "name": "stdout",
     "output_type": "stream",
     "text": [
      "Exported thelook_ecommerce.distribution_centers to gs://ecommerce_looker_download/distribution_centers.csv\n"
     ]
    }
   ],
   "source": [
    "from google.cloud import bigquery\n",
    "\n",
    "# Initialize the BigQuery client\n",
    "client = bigquery.Client.from_service_account_json('/Users/servandodavidtorresgarcia/servando/relu/gcp/local-catalyst-398309-52645c242657.json')\n",
    "\n",
    "\n",
    "# Define your table and destination URI\n",
    "dataset_name = 'thelook_ecommerce'\n",
    "table_name = 'distribution_centers'\n",
    "bucket_name = 'ecommerce_looker_download'\n",
    "destination_uri = f\"gs://{bucket_name}/{table_name}.csv\"\n",
    "\n",
    "# Create an extract job\n",
    "dataset_ref = client.dataset(dataset_name, project='bigquery-public-data')\n",
    "table_ref = dataset_ref.table(table_name)\n",
    "\n",
    "extract_job = client.extract_table(\n",
    "    table_ref,\n",
    "    destination_uri,\n",
    "    location='US',  # Location must match that of the source table.\n",
    ")\n",
    "extract_job.result()  # Wait for job to complete\n",
    "\n",
    "print(f\"Exported {dataset_name}.{table_name} to {destination_uri}\")\n"
   ]
  },
  {
   "cell_type": "code",
   "execution_count": 1,
   "metadata": {},
   "outputs": [],
   "source": [
    "\n",
    "from src.data.dataset_reader import DatasetReader\n",
    "from pathlib import Path\n",
    "import pandas as pd\n",
    "pd.set_option('display.max_columns', None)\n",
    "%load_ext autoreload\n",
    "%autoreload 2\n",
    "# ignore warnings\n",
    "import warnings\n",
    "warnings.filterwarnings('ignore')\n",
    "data_folder = Path(\"../data/raw\").resolve()\n",
    "\n",
    "products = DatasetReader(data_folder).get_data_csv('products.csv')\n",
    "orders = DatasetReader(data_folder).get_data_csv('orders.csv')\n",
    "order_items = DatasetReader(data_folder).get_data_csv('order_items.csv')\n",
    "inventory_items = DatasetReader(data_folder).get_data_csv('inventory_items.csv')"
   ]
  },
  {
   "cell_type": "code",
   "execution_count": 34,
   "metadata": {},
   "outputs": [
    {
     "data": {
      "text/html": [
       "<div>\n",
       "<style scoped>\n",
       "    .dataframe tbody tr th:only-of-type {\n",
       "        vertical-align: middle;\n",
       "    }\n",
       "\n",
       "    .dataframe tbody tr th {\n",
       "        vertical-align: top;\n",
       "    }\n",
       "\n",
       "    .dataframe thead th {\n",
       "        text-align: right;\n",
       "    }\n",
       "</style>\n",
       "<table border=\"1\" class=\"dataframe\">\n",
       "  <thead>\n",
       "    <tr style=\"text-align: right;\">\n",
       "      <th></th>\n",
       "      <th>id</th>\n",
       "      <th>order_id</th>\n",
       "      <th>user_id</th>\n",
       "      <th>product_id</th>\n",
       "      <th>inventory_item_id</th>\n",
       "      <th>status</th>\n",
       "      <th>created_at</th>\n",
       "      <th>shipped_at</th>\n",
       "      <th>delivered_at</th>\n",
       "      <th>returned_at</th>\n",
       "      <th>sale_price</th>\n",
       "    </tr>\n",
       "  </thead>\n",
       "  <tbody>\n",
       "    <tr>\n",
       "      <th>162087</th>\n",
       "      <td>27569</td>\n",
       "      <td>18975</td>\n",
       "      <td>15214</td>\n",
       "      <td>19220</td>\n",
       "      <td>74342</td>\n",
       "      <td>Processing</td>\n",
       "      <td>2023-01-05 04:51:42 UTC</td>\n",
       "      <td>NaN</td>\n",
       "      <td>NaN</td>\n",
       "      <td>NaN</td>\n",
       "      <td>53.549999</td>\n",
       "    </tr>\n",
       "  </tbody>\n",
       "</table>\n",
       "</div>"
      ],
      "text/plain": [
       "           id  order_id  user_id  product_id  inventory_item_id      status  \\\n",
       "162087  27569     18975    15214       19220              74342  Processing   \n",
       "\n",
       "                     created_at shipped_at delivered_at returned_at  \\\n",
       "162087  2023-01-05 04:51:42 UTC        NaN          NaN         NaN   \n",
       "\n",
       "        sale_price  \n",
       "162087   53.549999  "
      ]
     },
     "execution_count": 34,
     "metadata": {},
     "output_type": "execute_result"
    }
   ],
   "source": [
    "order_items.query('id == 27569')"
   ]
  },
  {
   "cell_type": "code",
   "execution_count": 28,
   "metadata": {},
   "outputs": [
    {
     "data": {
      "text/html": [
       "<div>\n",
       "<style scoped>\n",
       "    .dataframe tbody tr th:only-of-type {\n",
       "        vertical-align: middle;\n",
       "    }\n",
       "\n",
       "    .dataframe tbody tr th {\n",
       "        vertical-align: top;\n",
       "    }\n",
       "\n",
       "    .dataframe thead th {\n",
       "        text-align: right;\n",
       "    }\n",
       "</style>\n",
       "<table border=\"1\" class=\"dataframe\">\n",
       "  <thead>\n",
       "    <tr style=\"text-align: right;\">\n",
       "      <th></th>\n",
       "      <th>order_id</th>\n",
       "      <th>user_id</th>\n",
       "      <th>status</th>\n",
       "      <th>gender</th>\n",
       "      <th>created_at</th>\n",
       "      <th>returned_at</th>\n",
       "      <th>shipped_at</th>\n",
       "      <th>delivered_at</th>\n",
       "      <th>num_of_item</th>\n",
       "    </tr>\n",
       "  </thead>\n",
       "  <tbody>\n",
       "    <tr>\n",
       "      <th>114110</th>\n",
       "      <td>18975</td>\n",
       "      <td>15214</td>\n",
       "      <td>Processing</td>\n",
       "      <td>M</td>\n",
       "      <td>2023-01-05 04:59:00 UTC</td>\n",
       "      <td>NaN</td>\n",
       "      <td>NaN</td>\n",
       "      <td>NaN</td>\n",
       "      <td>1</td>\n",
       "    </tr>\n",
       "  </tbody>\n",
       "</table>\n",
       "</div>"
      ],
      "text/plain": [
       "        order_id  user_id      status gender               created_at  \\\n",
       "114110     18975    15214  Processing      M  2023-01-05 04:59:00 UTC   \n",
       "\n",
       "       returned_at shipped_at delivered_at  num_of_item  \n",
       "114110         NaN        NaN          NaN            1  "
      ]
     },
     "execution_count": 28,
     "metadata": {},
     "output_type": "execute_result"
    }
   ],
   "source": [
    "orders.query(\"order_id == 18975\")"
   ]
  },
  {
   "cell_type": "code",
   "execution_count": 31,
   "metadata": {},
   "outputs": [
    {
     "data": {
      "text/html": [
       "<div>\n",
       "<style scoped>\n",
       "    .dataframe tbody tr th:only-of-type {\n",
       "        vertical-align: middle;\n",
       "    }\n",
       "\n",
       "    .dataframe tbody tr th {\n",
       "        vertical-align: top;\n",
       "    }\n",
       "\n",
       "    .dataframe thead th {\n",
       "        text-align: right;\n",
       "    }\n",
       "</style>\n",
       "<table border=\"1\" class=\"dataframe\">\n",
       "  <thead>\n",
       "    <tr style=\"text-align: right;\">\n",
       "      <th></th>\n",
       "      <th>id</th>\n",
       "      <th>cost</th>\n",
       "      <th>category</th>\n",
       "      <th>name</th>\n",
       "      <th>brand</th>\n",
       "      <th>retail_price</th>\n",
       "      <th>department</th>\n",
       "      <th>sku</th>\n",
       "      <th>distribution_center_id</th>\n",
       "    </tr>\n",
       "  </thead>\n",
       "  <tbody>\n",
       "    <tr>\n",
       "      <th>6443</th>\n",
       "      <td>19220</td>\n",
       "      <td>26.9892</td>\n",
       "      <td>Sweaters</td>\n",
       "      <td>Nautica Men's Intarsia Argyle Vest Sweater</td>\n",
       "      <td>Nautica</td>\n",
       "      <td>53.549999</td>\n",
       "      <td>Men</td>\n",
       "      <td>29DC30AD86F873300D82DF7EDE9A0441</td>\n",
       "      <td>8</td>\n",
       "    </tr>\n",
       "  </tbody>\n",
       "</table>\n",
       "</div>"
      ],
      "text/plain": [
       "         id     cost  category                                        name  \\\n",
       "6443  19220  26.9892  Sweaters  Nautica Men's Intarsia Argyle Vest Sweater   \n",
       "\n",
       "        brand  retail_price department                               sku  \\\n",
       "6443  Nautica     53.549999        Men  29DC30AD86F873300D82DF7EDE9A0441   \n",
       "\n",
       "      distribution_center_id  \n",
       "6443                       8  "
      ]
     },
     "execution_count": 31,
     "metadata": {},
     "output_type": "execute_result"
    }
   ],
   "source": [
    "products.query(\"id == 19220\")"
   ]
  },
  {
   "cell_type": "code",
   "execution_count": 33,
   "metadata": {},
   "outputs": [
    {
     "data": {
      "text/html": [
       "<div>\n",
       "<style scoped>\n",
       "    .dataframe tbody tr th:only-of-type {\n",
       "        vertical-align: middle;\n",
       "    }\n",
       "\n",
       "    .dataframe tbody tr th {\n",
       "        vertical-align: top;\n",
       "    }\n",
       "\n",
       "    .dataframe thead th {\n",
       "        text-align: right;\n",
       "    }\n",
       "</style>\n",
       "<table border=\"1\" class=\"dataframe\">\n",
       "  <thead>\n",
       "    <tr style=\"text-align: right;\">\n",
       "      <th></th>\n",
       "      <th>id</th>\n",
       "      <th>product_id</th>\n",
       "      <th>created_at</th>\n",
       "      <th>sold_at</th>\n",
       "      <th>cost</th>\n",
       "      <th>product_category</th>\n",
       "      <th>product_name</th>\n",
       "      <th>product_brand</th>\n",
       "      <th>product_retail_price</th>\n",
       "      <th>product_department</th>\n",
       "      <th>product_sku</th>\n",
       "      <th>product_distribution_center_id</th>\n",
       "    </tr>\n",
       "  </thead>\n",
       "  <tbody>\n",
       "    <tr>\n",
       "      <th>148794</th>\n",
       "      <td>74342</td>\n",
       "      <td>19220</td>\n",
       "      <td>2021-05-29 12:31:00 UTC</td>\n",
       "      <td>NaN</td>\n",
       "      <td>26.9892</td>\n",
       "      <td>Sweaters</td>\n",
       "      <td>Nautica Men's Intarsia Argyle Vest Sweater</td>\n",
       "      <td>Nautica</td>\n",
       "      <td>53.549999</td>\n",
       "      <td>Men</td>\n",
       "      <td>29DC30AD86F873300D82DF7EDE9A0441</td>\n",
       "      <td>8</td>\n",
       "    </tr>\n",
       "  </tbody>\n",
       "</table>\n",
       "</div>"
      ],
      "text/plain": [
       "           id  product_id               created_at sold_at     cost  \\\n",
       "148794  74342       19220  2021-05-29 12:31:00 UTC     NaN  26.9892   \n",
       "\n",
       "       product_category                                product_name  \\\n",
       "148794         Sweaters  Nautica Men's Intarsia Argyle Vest Sweater   \n",
       "\n",
       "       product_brand  product_retail_price product_department  \\\n",
       "148794       Nautica             53.549999                Men   \n",
       "\n",
       "                             product_sku  product_distribution_center_id  \n",
       "148794  29DC30AD86F873300D82DF7EDE9A0441                               8  "
      ]
     },
     "execution_count": 33,
     "metadata": {},
     "output_type": "execute_result"
    }
   ],
   "source": [
    "inventory_items.query(\"id == 74342\")"
   ]
  },
  {
   "cell_type": "code",
   "execution_count": 2,
   "metadata": {},
   "outputs": [],
   "source": [
    "# Select specific columns from each DataFrame\n",
    "order_items_selected = order_items[['product_id','order_id','status', 'created_at', 'shipped_at', 'delivered_at', 'returned_at', 'sale_price']]\n",
    "orders_selected = orders[['order_id', 'gender', 'num_of_item']]  # Including 'order_id' for joining\n",
    "products_selected = products[['id', 'cost', 'category', 'name', 'brand', 'retail_price', 'department', 'sku']]  # Including 'id' for joining\n",
    "\n",
    "# Perform the join operations based on the relationships identified in the queries\n",
    "# Assuming 'order_id' is common between 'order_items' and 'orders'\n",
    "# Assuming 'product_id' is common between 'order_items' and 'products'\n",
    "\n",
    "merged_df = order_items_selected \\\n",
    "    .merge(orders_selected, on='order_id', how='inner') \\\n",
    "    .merge(products_selected, left_on='product_id', right_on='id', how='inner')\n",
    "\n"
   ]
  },
  {
   "cell_type": "code",
   "execution_count": 3,
   "metadata": {},
   "outputs": [],
   "source": [
    "merged_df.drop(columns=['product_id', 'order_id', 'id'], inplace=True)"
   ]
  },
  {
   "cell_type": "code",
   "execution_count": 4,
   "metadata": {},
   "outputs": [],
   "source": [
    "# place sku to the beginning of the dataframe\n",
    "cols = list(merged_df.columns)\n",
    "cols.insert(0, cols.pop(cols.index('sku')))\n",
    "merged_df = merged_df.loc[:, cols]\n"
   ]
  },
  {
   "cell_type": "code",
   "execution_count": 5,
   "metadata": {},
   "outputs": [],
   "source": [
    "merged_df.head()\n",
    "# checl if sale_price is equal to retail_price\n",
    "merged_df.query('sale_price != retail_price')\n",
    "merged_df.drop(columns=['retail_price'], inplace=True)"
   ]
  },
  {
   "cell_type": "code",
   "execution_count": 6,
   "metadata": {},
   "outputs": [
    {
     "name": "stdout",
     "output_type": "stream",
     "text": [
      "                             sku   status                     created_at                     shipped_at                   delivered_at returned_at  sale_price gender  num_of_item    cost    category                                    name            brand department\n",
      "4ACBEDBE977480D19B7B682D4878CAE2  Shipped        2023-08-20 21:21:15 UTC        2023-08-21 07:58:00 UTC                            NaN         NaN         2.5      F            4  1.1075 Accessories Elegant PASHMINA SCARF WRAP SHAWL STOLE Scarf_tradinginc      Women\n",
      "4ACBEDBE977480D19B7B682D4878CAE2 Complete 2023-09-08 00:38:23.869168 UTC 2023-09-07 19:56:53.869168 UTC 2023-09-08 14:07:53.869168 UTC         NaN         2.5      F            4  1.1075 Accessories Elegant PASHMINA SCARF WRAP SHAWL STOLE Scarf_tradinginc      Women\n",
      "E0F19F64F086E393CEB0CF4A8C561B51  Shipped        2023-08-24 21:44:30 UTC        2023-08-21 07:58:00 UTC                            NaN         NaN        64.0      F            4 30.2080      Shorts   Lilly Pulitzer Women's Callahan Short   Lilly Pulitzer      Women\n",
      "E0F19F64F086E393CEB0CF4A8C561B51  Shipped        2021-08-07 11:31:50 UTC        2021-08-06 00:10:00 UTC                            NaN         NaN        64.0      F            4 30.2080      Shorts   Lilly Pulitzer Women's Callahan Short   Lilly Pulitzer      Women\n",
      "E0F19F64F086E393CEB0CF4A8C561B51 Complete        2021-09-10 00:59:21 UTC        2021-09-09 04:35:00 UTC        2021-09-13 15:46:00 UTC         NaN        64.0      F            2 30.2080      Shorts   Lilly Pulitzer Women's Callahan Short   Lilly Pulitzer      Women\n"
     ]
    }
   ],
   "source": [
    "print(merged_df.head().to_string(index=False))"
   ]
  },
  {
   "cell_type": "code",
   "execution_count": 58,
   "metadata": {},
   "outputs": [
    {
     "data": {
      "text/html": [
       "<div>\n",
       "<style scoped>\n",
       "    .dataframe tbody tr th:only-of-type {\n",
       "        vertical-align: middle;\n",
       "    }\n",
       "\n",
       "    .dataframe tbody tr th {\n",
       "        vertical-align: top;\n",
       "    }\n",
       "\n",
       "    .dataframe thead th {\n",
       "        text-align: right;\n",
       "    }\n",
       "</style>\n",
       "<table border=\"1\" class=\"dataframe\">\n",
       "  <thead>\n",
       "    <tr style=\"text-align: right;\">\n",
       "      <th></th>\n",
       "      <th>sku</th>\n",
       "      <th>status</th>\n",
       "      <th>created_at</th>\n",
       "      <th>shipped_at</th>\n",
       "      <th>delivered_at</th>\n",
       "      <th>returned_at</th>\n",
       "      <th>sale_price</th>\n",
       "      <th>gender</th>\n",
       "      <th>num_of_item</th>\n",
       "      <th>cost</th>\n",
       "      <th>category</th>\n",
       "      <th>name</th>\n",
       "      <th>brand</th>\n",
       "      <th>department</th>\n",
       "      <th>sales</th>\n",
       "    </tr>\n",
       "  </thead>\n",
       "  <tbody>\n",
       "    <tr>\n",
       "      <th>0</th>\n",
       "      <td>4ACBEDBE977480D19B7B682D4878CAE2</td>\n",
       "      <td>Shipped</td>\n",
       "      <td>2023-08-20 21:21:15+00:00</td>\n",
       "      <td>2023-08-21 07:58:00+00:00</td>\n",
       "      <td>NaT</td>\n",
       "      <td>NaT</td>\n",
       "      <td>2.5</td>\n",
       "      <td>F</td>\n",
       "      <td>4</td>\n",
       "      <td>1.1075</td>\n",
       "      <td>Accessories</td>\n",
       "      <td>Elegant PASHMINA SCARF WRAP SHAWL STOLE</td>\n",
       "      <td>Scarf_tradinginc</td>\n",
       "      <td>Women</td>\n",
       "      <td>2</td>\n",
       "    </tr>\n",
       "    <tr>\n",
       "      <th>1</th>\n",
       "      <td>4ACBEDBE977480D19B7B682D4878CAE2</td>\n",
       "      <td>Complete</td>\n",
       "      <td>2023-09-08 00:38:23.869168+00:00</td>\n",
       "      <td>2023-09-07 19:56:53.869168+00:00</td>\n",
       "      <td>2023-09-08 14:07:53.869168+00:00</td>\n",
       "      <td>NaT</td>\n",
       "      <td>2.5</td>\n",
       "      <td>F</td>\n",
       "      <td>4</td>\n",
       "      <td>1.1075</td>\n",
       "      <td>Accessories</td>\n",
       "      <td>Elegant PASHMINA SCARF WRAP SHAWL STOLE</td>\n",
       "      <td>Scarf_tradinginc</td>\n",
       "      <td>Women</td>\n",
       "      <td>2</td>\n",
       "    </tr>\n",
       "  </tbody>\n",
       "</table>\n",
       "</div>"
      ],
      "text/plain": [
       "                                sku    status  \\\n",
       "0  4ACBEDBE977480D19B7B682D4878CAE2   Shipped   \n",
       "1  4ACBEDBE977480D19B7B682D4878CAE2  Complete   \n",
       "\n",
       "                        created_at                       shipped_at  \\\n",
       "0        2023-08-20 21:21:15+00:00        2023-08-21 07:58:00+00:00   \n",
       "1 2023-09-08 00:38:23.869168+00:00 2023-09-07 19:56:53.869168+00:00   \n",
       "\n",
       "                      delivered_at returned_at  sale_price gender  \\\n",
       "0                              NaT         NaT         2.5      F   \n",
       "1 2023-09-08 14:07:53.869168+00:00         NaT         2.5      F   \n",
       "\n",
       "   num_of_item    cost     category                                     name  \\\n",
       "0            4  1.1075  Accessories  Elegant PASHMINA SCARF WRAP SHAWL STOLE   \n",
       "1            4  1.1075  Accessories  Elegant PASHMINA SCARF WRAP SHAWL STOLE   \n",
       "\n",
       "              brand department  sales  \n",
       "0  Scarf_tradinginc      Women      2  \n",
       "1  Scarf_tradinginc      Women      2  "
      ]
     },
     "execution_count": 58,
     "metadata": {},
     "output_type": "execute_result"
    }
   ],
   "source": [
    "merged_df.query('sku == \"4ACBEDBE977480D19B7B682D4878CAE2\"')"
   ]
  },
  {
   "cell_type": "code",
   "execution_count": 49,
   "metadata": {},
   "outputs": [
    {
     "data": {
      "text/plain": [
       "array(['Shipped', 'Complete', 'Processing', 'Returned', 'Cancelled'],\n",
       "      dtype=object)"
      ]
     },
     "execution_count": 49,
     "metadata": {},
     "output_type": "execute_result"
    }
   ],
   "source": [
    "merged_df.status.unique()"
   ]
  },
  {
   "cell_type": "code",
   "execution_count": 7,
   "metadata": {},
   "outputs": [],
   "source": [
    "#trainsform dates to datetime\n",
    "merged_df['created_at'] = pd.to_datetime(merged_df['created_at'])\n",
    "merged_df['shipped_at'] = pd.to_datetime(merged_df['shipped_at'])\n",
    "merged_df['delivered_at'] = pd.to_datetime(merged_df['delivered_at'])\n",
    "merged_df['returned_at'] = pd.to_datetime(merged_df['returned_at'])"
   ]
  },
  {
   "cell_type": "code",
   "execution_count": 8,
   "metadata": {},
   "outputs": [],
   "source": [
    "merged_df.head()\n",
    "merged_df.groupby('sku').size().reset_index(name='sales')\n",
    "# create column sales that is the number sales per sku\n",
    "# Correct way to calculate sales per SKU\n",
    "merged_df['sales'] = merged_df.groupby('sku')['num_of_item'].transform('sum')\n"
   ]
  },
  {
   "cell_type": "code",
   "execution_count": 9,
   "metadata": {},
   "outputs": [
    {
     "data": {
      "text/html": [
       "<div>\n",
       "<style scoped>\n",
       "    .dataframe tbody tr th:only-of-type {\n",
       "        vertical-align: middle;\n",
       "    }\n",
       "\n",
       "    .dataframe tbody tr th {\n",
       "        vertical-align: top;\n",
       "    }\n",
       "\n",
       "    .dataframe thead th {\n",
       "        text-align: right;\n",
       "    }\n",
       "</style>\n",
       "<table border=\"1\" class=\"dataframe\">\n",
       "  <thead>\n",
       "    <tr style=\"text-align: right;\">\n",
       "      <th></th>\n",
       "      <th>sku</th>\n",
       "      <th>status</th>\n",
       "      <th>created_at</th>\n",
       "      <th>shipped_at</th>\n",
       "      <th>delivered_at</th>\n",
       "      <th>returned_at</th>\n",
       "      <th>sale_price</th>\n",
       "      <th>gender</th>\n",
       "      <th>num_of_item</th>\n",
       "      <th>cost</th>\n",
       "      <th>category</th>\n",
       "      <th>name</th>\n",
       "      <th>brand</th>\n",
       "      <th>department</th>\n",
       "      <th>sales</th>\n",
       "    </tr>\n",
       "  </thead>\n",
       "  <tbody>\n",
       "    <tr>\n",
       "      <th>0</th>\n",
       "      <td>4ACBEDBE977480D19B7B682D4878CAE2</td>\n",
       "      <td>Shipped</td>\n",
       "      <td>2023-08-20 21:21:15+00:00</td>\n",
       "      <td>2023-08-21 07:58:00+00:00</td>\n",
       "      <td>NaT</td>\n",
       "      <td>NaT</td>\n",
       "      <td>2.5</td>\n",
       "      <td>F</td>\n",
       "      <td>4</td>\n",
       "      <td>1.1075</td>\n",
       "      <td>Accessories</td>\n",
       "      <td>Elegant PASHMINA SCARF WRAP SHAWL STOLE</td>\n",
       "      <td>Scarf_tradinginc</td>\n",
       "      <td>Women</td>\n",
       "      <td>8</td>\n",
       "    </tr>\n",
       "    <tr>\n",
       "      <th>1</th>\n",
       "      <td>4ACBEDBE977480D19B7B682D4878CAE2</td>\n",
       "      <td>Complete</td>\n",
       "      <td>2023-09-08 00:38:23.869168+00:00</td>\n",
       "      <td>2023-09-07 19:56:53.869168+00:00</td>\n",
       "      <td>2023-09-08 14:07:53.869168+00:00</td>\n",
       "      <td>NaT</td>\n",
       "      <td>2.5</td>\n",
       "      <td>F</td>\n",
       "      <td>4</td>\n",
       "      <td>1.1075</td>\n",
       "      <td>Accessories</td>\n",
       "      <td>Elegant PASHMINA SCARF WRAP SHAWL STOLE</td>\n",
       "      <td>Scarf_tradinginc</td>\n",
       "      <td>Women</td>\n",
       "      <td>8</td>\n",
       "    </tr>\n",
       "    <tr>\n",
       "      <th>2</th>\n",
       "      <td>E0F19F64F086E393CEB0CF4A8C561B51</td>\n",
       "      <td>Shipped</td>\n",
       "      <td>2023-08-24 21:44:30+00:00</td>\n",
       "      <td>2023-08-21 07:58:00+00:00</td>\n",
       "      <td>NaT</td>\n",
       "      <td>NaT</td>\n",
       "      <td>64.0</td>\n",
       "      <td>F</td>\n",
       "      <td>4</td>\n",
       "      <td>30.2080</td>\n",
       "      <td>Shorts</td>\n",
       "      <td>Lilly Pulitzer Women's Callahan Short</td>\n",
       "      <td>Lilly Pulitzer</td>\n",
       "      <td>Women</td>\n",
       "      <td>13</td>\n",
       "    </tr>\n",
       "  </tbody>\n",
       "</table>\n",
       "</div>"
      ],
      "text/plain": [
       "                                sku    status  \\\n",
       "0  4ACBEDBE977480D19B7B682D4878CAE2   Shipped   \n",
       "1  4ACBEDBE977480D19B7B682D4878CAE2  Complete   \n",
       "2  E0F19F64F086E393CEB0CF4A8C561B51   Shipped   \n",
       "\n",
       "                        created_at                       shipped_at  \\\n",
       "0        2023-08-20 21:21:15+00:00        2023-08-21 07:58:00+00:00   \n",
       "1 2023-09-08 00:38:23.869168+00:00 2023-09-07 19:56:53.869168+00:00   \n",
       "2        2023-08-24 21:44:30+00:00        2023-08-21 07:58:00+00:00   \n",
       "\n",
       "                      delivered_at returned_at  sale_price gender  \\\n",
       "0                              NaT         NaT         2.5      F   \n",
       "1 2023-09-08 14:07:53.869168+00:00         NaT         2.5      F   \n",
       "2                              NaT         NaT        64.0      F   \n",
       "\n",
       "   num_of_item     cost     category                                     name  \\\n",
       "0            4   1.1075  Accessories  Elegant PASHMINA SCARF WRAP SHAWL STOLE   \n",
       "1            4   1.1075  Accessories  Elegant PASHMINA SCARF WRAP SHAWL STOLE   \n",
       "2            4  30.2080       Shorts    Lilly Pulitzer Women's Callahan Short   \n",
       "\n",
       "              brand department  sales  \n",
       "0  Scarf_tradinginc      Women      8  \n",
       "1  Scarf_tradinginc      Women      8  \n",
       "2    Lilly Pulitzer      Women     13  "
      ]
     },
     "execution_count": 9,
     "metadata": {},
     "output_type": "execute_result"
    }
   ],
   "source": [
    "merged_df.head(3\n",
    "               )"
   ]
  },
  {
   "cell_type": "code",
   "execution_count": 10,
   "metadata": {},
   "outputs": [
    {
     "data": {
      "text/html": [
       "<div>\n",
       "<style scoped>\n",
       "    .dataframe tbody tr th:only-of-type {\n",
       "        vertical-align: middle;\n",
       "    }\n",
       "\n",
       "    .dataframe tbody tr th {\n",
       "        vertical-align: top;\n",
       "    }\n",
       "\n",
       "    .dataframe thead th {\n",
       "        text-align: right;\n",
       "    }\n",
       "</style>\n",
       "<table border=\"1\" class=\"dataframe\">\n",
       "  <thead>\n",
       "    <tr style=\"text-align: right;\">\n",
       "      <th></th>\n",
       "      <th>sku</th>\n",
       "      <th>status</th>\n",
       "      <th>created_at</th>\n",
       "      <th>shipped_at</th>\n",
       "      <th>delivered_at</th>\n",
       "      <th>returned_at</th>\n",
       "      <th>sale_price</th>\n",
       "      <th>gender</th>\n",
       "      <th>num_of_item</th>\n",
       "      <th>cost</th>\n",
       "      <th>category</th>\n",
       "      <th>name</th>\n",
       "      <th>brand</th>\n",
       "      <th>department</th>\n",
       "      <th>sales</th>\n",
       "    </tr>\n",
       "  </thead>\n",
       "  <tbody>\n",
       "    <tr>\n",
       "      <th>0</th>\n",
       "      <td>4ACBEDBE977480D19B7B682D4878CAE2</td>\n",
       "      <td>Shipped</td>\n",
       "      <td>2023-08-20 21:21:15+00:00</td>\n",
       "      <td>2023-08-21 07:58:00+00:00</td>\n",
       "      <td>NaT</td>\n",
       "      <td>NaT</td>\n",
       "      <td>2.5</td>\n",
       "      <td>F</td>\n",
       "      <td>4</td>\n",
       "      <td>1.1075</td>\n",
       "      <td>Accessories</td>\n",
       "      <td>Elegant PASHMINA SCARF WRAP SHAWL STOLE</td>\n",
       "      <td>Scarf_tradinginc</td>\n",
       "      <td>Women</td>\n",
       "      <td>8</td>\n",
       "    </tr>\n",
       "    <tr>\n",
       "      <th>1</th>\n",
       "      <td>4ACBEDBE977480D19B7B682D4878CAE2</td>\n",
       "      <td>Complete</td>\n",
       "      <td>2023-09-08 00:38:23.869168+00:00</td>\n",
       "      <td>2023-09-07 19:56:53.869168+00:00</td>\n",
       "      <td>2023-09-08 14:07:53.869168+00:00</td>\n",
       "      <td>NaT</td>\n",
       "      <td>2.5</td>\n",
       "      <td>F</td>\n",
       "      <td>4</td>\n",
       "      <td>1.1075</td>\n",
       "      <td>Accessories</td>\n",
       "      <td>Elegant PASHMINA SCARF WRAP SHAWL STOLE</td>\n",
       "      <td>Scarf_tradinginc</td>\n",
       "      <td>Women</td>\n",
       "      <td>8</td>\n",
       "    </tr>\n",
       "  </tbody>\n",
       "</table>\n",
       "</div>"
      ],
      "text/plain": [
       "                                sku    status  \\\n",
       "0  4ACBEDBE977480D19B7B682D4878CAE2   Shipped   \n",
       "1  4ACBEDBE977480D19B7B682D4878CAE2  Complete   \n",
       "\n",
       "                        created_at                       shipped_at  \\\n",
       "0        2023-08-20 21:21:15+00:00        2023-08-21 07:58:00+00:00   \n",
       "1 2023-09-08 00:38:23.869168+00:00 2023-09-07 19:56:53.869168+00:00   \n",
       "\n",
       "                      delivered_at returned_at  sale_price gender  \\\n",
       "0                              NaT         NaT         2.5      F   \n",
       "1 2023-09-08 14:07:53.869168+00:00         NaT         2.5      F   \n",
       "\n",
       "   num_of_item    cost     category                                     name  \\\n",
       "0            4  1.1075  Accessories  Elegant PASHMINA SCARF WRAP SHAWL STOLE   \n",
       "1            4  1.1075  Accessories  Elegant PASHMINA SCARF WRAP SHAWL STOLE   \n",
       "\n",
       "              brand department  sales  \n",
       "0  Scarf_tradinginc      Women      8  \n",
       "1  Scarf_tradinginc      Women      8  "
      ]
     },
     "execution_count": 10,
     "metadata": {},
     "output_type": "execute_result"
    }
   ],
   "source": [
    "merged_df.query('sku == \"4ACBEDBE977480D19B7B682D4878CAE2\"')\n",
    "# TODO see duplicated skus with their corresponding sale and decide what to do with them"
   ]
  },
  {
   "cell_type": "code",
   "execution_count": 17,
   "metadata": {},
   "outputs": [
    {
     "name": "stdout",
     "output_type": "stream",
     "text": [
      "The selected dataframe has 15 columns and 5 columns with missing values.\n"
     ]
    },
    {
     "data": {
      "text/html": [
       "<div>\n",
       "<style scoped>\n",
       "    .dataframe tbody tr th:only-of-type {\n",
       "        vertical-align: middle;\n",
       "    }\n",
       "\n",
       "    .dataframe tbody tr th {\n",
       "        vertical-align: top;\n",
       "    }\n",
       "\n",
       "    .dataframe thead th {\n",
       "        text-align: right;\n",
       "    }\n",
       "</style>\n",
       "<table border=\"1\" class=\"dataframe\">\n",
       "  <thead>\n",
       "    <tr style=\"text-align: right;\">\n",
       "      <th></th>\n",
       "      <th>Missing Values</th>\n",
       "      <th>% of Total Values</th>\n",
       "    </tr>\n",
       "  </thead>\n",
       "  <tbody>\n",
       "    <tr>\n",
       "      <th>returned_at</th>\n",
       "      <td>162234</td>\n",
       "      <td>89.8</td>\n",
       "    </tr>\n",
       "    <tr>\n",
       "      <th>delivered_at</th>\n",
       "      <td>117399</td>\n",
       "      <td>65.0</td>\n",
       "    </tr>\n",
       "    <tr>\n",
       "      <th>shipped_at</th>\n",
       "      <td>63212</td>\n",
       "      <td>35.0</td>\n",
       "    </tr>\n",
       "    <tr>\n",
       "      <th>brand</th>\n",
       "      <td>142</td>\n",
       "      <td>0.1</td>\n",
       "    </tr>\n",
       "    <tr>\n",
       "      <th>name</th>\n",
       "      <td>12</td>\n",
       "      <td>0.0</td>\n",
       "    </tr>\n",
       "  </tbody>\n",
       "</table>\n",
       "</div>"
      ],
      "text/plain": [
       "              Missing Values  % of Total Values\n",
       "returned_at           162234               89.8\n",
       "delivered_at          117399               65.0\n",
       "shipped_at             63212               35.0\n",
       "brand                    142                0.1\n",
       "name                      12                0.0"
      ]
     },
     "execution_count": 17,
     "metadata": {},
     "output_type": "execute_result"
    }
   ],
   "source": [
    "from src.data.eda import Eda\n",
    "eda = Eda()\n",
    "eda.missing_values_table(merged_df)"
   ]
  },
  {
   "cell_type": "code",
   "execution_count": 21,
   "metadata": {},
   "outputs": [],
   "source": [
    "# inspecting for seasonality\n",
    "from src.data.seasonality import SeasonalityInspector, QuickSeasonalityInspector\n",
    "\n",
    "\n",
    "# Initialize\n",
    "inspector = SeasonalityInspector()\n",
    "quick_inspector = QuickSeasonalityInspector()\n",
    "\n",
    "# Load your data into a DataFrame called 'data'\n",
    "# data = pd.read_csv('your_data.csv')\n",
    "\n",
    "# Plot time series\n",
    "#inspector.plot_time_series(merged_df, 'created_at', 'sales')\n",
    "\n"
   ]
  },
  {
   "cell_type": "code",
   "execution_count": 27,
   "metadata": {},
   "outputs": [
    {
     "name": "stdout",
     "output_type": "stream",
     "text": [
      "Dominant period: inf\n",
      "Optimal N: 7\n"
     ]
    }
   ],
   "source": [
    "import numpy as np\n",
    "# Find dominant period through FFT\n",
    "dominant_period = quick_inspector.fast_fourier_transform(merged_df, 'sales')\n",
    "print(f\"Dominant period: {dominant_period}\")\n",
    "\n",
    "\n",
    "# Initialize default N\n",
    "N = 7\n",
    "\n",
    "# Check if dominant_period is finite\n",
    "if np.isfinite(dominant_period):\n",
    "    # Run rolling stats only if dominant_period is finite\n",
    "    is_mean_stable, is_var_stable = quick_inspector.rolling_stats(merged_df, 'sales', window=int(dominant_period))\n",
    "    \n",
    "    # Update N based on rolling stats\n",
    "    if not (is_mean_stable and is_var_stable):\n",
    "        N = int(dominant_period)\n",
    "\n",
    "print(f\"Optimal N: {N}\")\n"
   ]
  },
  {
   "cell_type": "code",
   "execution_count": 38,
   "metadata": {},
   "outputs": [],
   "source": [
    "from src.data.feature_engineering import FeatureEngineeringProcess\n",
    "fep = FeatureEngineeringProcess()\n"
   ]
  },
  {
   "cell_type": "code",
   "execution_count": 31,
   "metadata": {},
   "outputs": [],
   "source": [
    "merged_df_fe1 = fep.price_sales_correlation_features_updated(merged_df, 7, [(-5.0, 1.0), (-3.0, 1.0), (-2.0, 1.0), (1.0, 1.0), (-1.0, 0.5), (-1.0, 0.33)],\n",
    "                                                             'sku', 'created_at', 'sale_price', 'sales')"
   ]
  },
  {
   "cell_type": "code",
   "execution_count": 32,
   "metadata": {},
   "outputs": [],
   "source": [
    "from src.data.eda import Eda\n",
    "eda = Eda()"
   ]
  },
  {
   "cell_type": "code",
   "execution_count": 33,
   "metadata": {},
   "outputs": [
    {
     "name": "stdout",
     "output_type": "stream",
     "text": [
      "The selected dataframe has 21 columns and 11 columns with missing values.\n"
     ]
    },
    {
     "data": {
      "text/html": [
       "<div>\n",
       "<style scoped>\n",
       "    .dataframe tbody tr th:only-of-type {\n",
       "        vertical-align: middle;\n",
       "    }\n",
       "\n",
       "    .dataframe tbody tr th {\n",
       "        vertical-align: top;\n",
       "    }\n",
       "\n",
       "    .dataframe thead th {\n",
       "        text-align: right;\n",
       "    }\n",
       "</style>\n",
       "<table border=\"1\" class=\"dataframe\">\n",
       "  <thead>\n",
       "    <tr style=\"text-align: right;\">\n",
       "      <th></th>\n",
       "      <th>Missing Values</th>\n",
       "      <th>% of Total Values</th>\n",
       "    </tr>\n",
       "  </thead>\n",
       "  <tbody>\n",
       "    <tr>\n",
       "      <th>returned_at</th>\n",
       "      <td>162234</td>\n",
       "      <td>89.8</td>\n",
       "    </tr>\n",
       "    <tr>\n",
       "      <th>f_corr_-5.0_1.0</th>\n",
       "      <td>148221</td>\n",
       "      <td>82.1</td>\n",
       "    </tr>\n",
       "    <tr>\n",
       "      <th>f_corr_-3.0_1.0</th>\n",
       "      <td>148221</td>\n",
       "      <td>82.1</td>\n",
       "    </tr>\n",
       "    <tr>\n",
       "      <th>f_corr_-2.0_1.0</th>\n",
       "      <td>148221</td>\n",
       "      <td>82.1</td>\n",
       "    </tr>\n",
       "    <tr>\n",
       "      <th>f_corr_1.0_1.0</th>\n",
       "      <td>148221</td>\n",
       "      <td>82.1</td>\n",
       "    </tr>\n",
       "    <tr>\n",
       "      <th>f_corr_-1.0_0.5</th>\n",
       "      <td>148221</td>\n",
       "      <td>82.1</td>\n",
       "    </tr>\n",
       "    <tr>\n",
       "      <th>f_corr_-1.0_0.33</th>\n",
       "      <td>148221</td>\n",
       "      <td>82.1</td>\n",
       "    </tr>\n",
       "    <tr>\n",
       "      <th>delivered_at</th>\n",
       "      <td>117399</td>\n",
       "      <td>65.0</td>\n",
       "    </tr>\n",
       "    <tr>\n",
       "      <th>shipped_at</th>\n",
       "      <td>63212</td>\n",
       "      <td>35.0</td>\n",
       "    </tr>\n",
       "    <tr>\n",
       "      <th>brand</th>\n",
       "      <td>142</td>\n",
       "      <td>0.1</td>\n",
       "    </tr>\n",
       "    <tr>\n",
       "      <th>name</th>\n",
       "      <td>12</td>\n",
       "      <td>0.0</td>\n",
       "    </tr>\n",
       "  </tbody>\n",
       "</table>\n",
       "</div>"
      ],
      "text/plain": [
       "                  Missing Values  % of Total Values\n",
       "returned_at               162234               89.8\n",
       "f_corr_-5.0_1.0           148221               82.1\n",
       "f_corr_-3.0_1.0           148221               82.1\n",
       "f_corr_-2.0_1.0           148221               82.1\n",
       "f_corr_1.0_1.0            148221               82.1\n",
       "f_corr_-1.0_0.5           148221               82.1\n",
       "f_corr_-1.0_0.33          148221               82.1\n",
       "delivered_at              117399               65.0\n",
       "shipped_at                 63212               35.0\n",
       "brand                        142                0.1\n",
       "name                          12                0.0"
      ]
     },
     "execution_count": 33,
     "metadata": {},
     "output_type": "execute_result"
    }
   ],
   "source": [
    "eda.missing_values_table(merged_df_fe1)"
   ]
  },
  {
   "cell_type": "code",
   "execution_count": 37,
   "metadata": {},
   "outputs": [],
   "source": [
    "merged_df_fe2 =  fep.normalize_features(merged_df_fe1, [5, 10, 15], 28, 'sku', 'created_at', 'sale_price', 'sales')"
   ]
  },
  {
   "cell_type": "code",
   "execution_count": 41,
   "metadata": {},
   "outputs": [],
   "source": [
    "merged_df_fe3, insuficient_data = fep.filter_stability_periods(merged_df_fe2, 7, 0.04, sku_column='sku', date_column='created_at', price_column='sale_price')"
   ]
  },
  {
   "cell_type": "code",
   "execution_count": null,
   "metadata": {},
   "outputs": [],
   "source": []
  },
  {
   "cell_type": "code",
   "execution_count": null,
   "metadata": {},
   "outputs": [],
   "source": []
  }
 ],
 "metadata": {
  "kernelspec": {
   "display_name": "relu",
   "language": "python",
   "name": "python3"
  },
  "language_info": {
   "codemirror_mode": {
    "name": "ipython",
    "version": 3
   },
   "file_extension": ".py",
   "mimetype": "text/x-python",
   "name": "python",
   "nbconvert_exporter": "python",
   "pygments_lexer": "ipython3",
   "version": "3.8.16"
  },
  "orig_nbformat": 4
 },
 "nbformat": 4,
 "nbformat_minor": 2
}
