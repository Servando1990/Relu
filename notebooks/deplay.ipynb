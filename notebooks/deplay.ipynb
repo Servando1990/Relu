{
 "cells": [
  {
   "cell_type": "code",
   "execution_count": 4,
   "metadata": {},
   "outputs": [],
   "source": [
    "from src.data.dataset_reader import DatasetReader\n",
    "from pathlib import Path\n",
    "import pandas as pd\n",
    "pd.set_option('display.max_columns', None)\n",
    "%load_ext autoreload\n",
    "%autoreload 2\n",
    "# ignore warnings\n",
    "import warnings\n",
    "warnings.filterwarnings('ignore')\n",
    "data_folder = Path(\"../data/raw\").resolve()\n",
    "\n",
    "#deplay = DatasetReader(data_folder).get_data_csv('deplay.csv')\n"
   ]
  },
  {
   "cell_type": "code",
   "execution_count": 5,
   "metadata": {},
   "outputs": [],
   "source": [
    "deplay_week = DatasetReader(data_folder).get_data_csv('deplay_week_treated.csv')"
   ]
  },
  {
   "cell_type": "code",
   "execution_count": 6,
   "metadata": {},
   "outputs": [
    {
     "data": {
      "text/html": [
       "<div>\n",
       "<style scoped>\n",
       "    .dataframe tbody tr th:only-of-type {\n",
       "        vertical-align: middle;\n",
       "    }\n",
       "\n",
       "    .dataframe tbody tr th {\n",
       "        vertical-align: top;\n",
       "    }\n",
       "\n",
       "    .dataframe thead th {\n",
       "        text-align: right;\n",
       "    }\n",
       "</style>\n",
       "<table border=\"1\" class=\"dataframe\">\n",
       "  <thead>\n",
       "    <tr style=\"text-align: right;\">\n",
       "      <th></th>\n",
       "      <th>Unnamed: 0</th>\n",
       "      <th>Product</th>\n",
       "      <th>week</th>\n",
       "      <th>Sale price incl. VAT (Value Added Tax)</th>\n",
       "      <th>Sale price excl. VAT</th>\n",
       "      <th>Purchase price per piece</th>\n",
       "      <th>Sales BE</th>\n",
       "      <th>Sales NL</th>\n",
       "      <th>Sales</th>\n",
       "      <th>Revenue BE</th>\n",
       "      <th>Revenue NL</th>\n",
       "      <th>Revenue excl. VAT</th>\n",
       "      <th>Customer visits</th>\n",
       "      <th>Conversion %</th>\n",
       "      <th>Bol Costs</th>\n",
       "      <th>Unnamed: 15</th>\n",
       "      <th>Sales België</th>\n",
       "      <th>Unnamed: 17</th>\n",
       "      <th>Sales Nederland</th>\n",
       "      <th>Shipping costs  BE</th>\n",
       "      <th>Shipping costs  NL</th>\n",
       "      <th>Total gross profit</th>\n",
       "      <th>Gross profit per piece</th>\n",
       "      <th>Saleable returns</th>\n",
       "      <th>Unsaleable returns</th>\n",
       "      <th>exchange items</th>\n",
       "      <th>Total returns</th>\n",
       "      <th>Total return costs</th>\n",
       "      <th>Total SP costs</th>\n",
       "      <th>Net profit</th>\n",
       "      <th>Net profit per peace</th>\n",
       "      <th>Profit Margin</th>\n",
       "      <th>ROI</th>\n",
       "    </tr>\n",
       "  </thead>\n",
       "  <tbody>\n",
       "    <tr>\n",
       "      <th>0</th>\n",
       "      <td>8.719328e+12</td>\n",
       "      <td>Tablet PRO Blauw</td>\n",
       "      <td>Week 1</td>\n",
       "      <td>€ 180.00</td>\n",
       "      <td>€ 148.76</td>\n",
       "      <td>€ 85.23</td>\n",
       "      <td>8.0</td>\n",
       "      <td>22.0</td>\n",
       "      <td>30.0</td>\n",
       "      <td>€ 1,191.72</td>\n",
       "      <td>€ 3,271.02</td>\n",
       "      <td>€ 4,462.74</td>\n",
       "      <td>251</td>\n",
       "      <td>11.95%</td>\n",
       "      <td>€ 359.70</td>\n",
       "      <td>BE</td>\n",
       "      <td>8.0</td>\n",
       "      <td>NL</td>\n",
       "      <td>22.0</td>\n",
       "      <td>€ 54.00</td>\n",
       "      <td>€ 141.90</td>\n",
       "      <td>€ 1,350.24</td>\n",
       "      <td>€ 45.01</td>\n",
       "      <td>NaN</td>\n",
       "      <td>9.0</td>\n",
       "      <td>NaN</td>\n",
       "      <td>9.0</td>\n",
       "      <td>€ 791.01</td>\n",
       "      <td>€ 0.00</td>\n",
       "      <td>€ 559.23</td>\n",
       "      <td>€ 18.64</td>\n",
       "      <td>12.53%</td>\n",
       "      <td>21.87%</td>\n",
       "    </tr>\n",
       "  </tbody>\n",
       "</table>\n",
       "</div>"
      ],
      "text/plain": [
       "     Unnamed: 0           Product    week  \\\n",
       "0  8.719328e+12  Tablet PRO Blauw  Week 1   \n",
       "\n",
       "  Sale price incl. VAT (Value Added Tax) Sale price excl. VAT  \\\n",
       "0                               € 180.00             € 148.76   \n",
       "\n",
       "  Purchase price per piece  Sales BE  Sales NL  Sales  Revenue BE  Revenue NL  \\\n",
       "0                  € 85.23       8.0      22.0   30.0  € 1,191.72  € 3,271.02   \n",
       "\n",
       "  Revenue excl. VAT Customer visits Conversion % Bol Costs Unnamed: 15  \\\n",
       "0        € 4,462.74             251       11.95%  € 359.70          BE   \n",
       "\n",
       "   Sales België Unnamed: 17  Sales Nederland Shipping costs  BE  \\\n",
       "0           8.0          NL             22.0            € 54.00   \n",
       "\n",
       "  Shipping costs  NL Total gross profit Gross profit per piece  \\\n",
       "0           € 141.90         € 1,350.24                € 45.01   \n",
       "\n",
       "   Saleable returns  Unsaleable returns  exchange items  Total returns  \\\n",
       "0               NaN                 9.0             NaN            9.0   \n",
       "\n",
       "  Total return costs Total SP costs Net profit Net profit per peace  \\\n",
       "0           € 791.01         € 0.00   € 559.23              € 18.64   \n",
       "\n",
       "  Profit Margin     ROI  \n",
       "0        12.53%  21.87%  "
      ]
     },
     "execution_count": 6,
     "metadata": {},
     "output_type": "execute_result"
    }
   ],
   "source": [
    "deplay_week.head(1)"
   ]
  },
  {
   "cell_type": "code",
   "execution_count": 7,
   "metadata": {},
   "outputs": [],
   "source": [
    "deplay_week.drop(['Unnamed: 0', 'Unnamed: 15', 'Unnamed: 17'], axis=1, inplace=True)"
   ]
  },
  {
   "cell_type": "code",
   "execution_count": 8,
   "metadata": {},
   "outputs": [],
   "source": [
    "\n",
    "deplay_week['week'] = deplay_week['week'].str.replace('Week', '')"
   ]
  },
  {
   "cell_type": "code",
   "execution_count": 9,
   "metadata": {},
   "outputs": [],
   "source": [
    "for column in deplay_week.columns:\n",
    "    if deplay_week[column].dtype == 'object':\n",
    "        deplay_week[column] = deplay_week[column].str.replace('€', '')\n",
    "\n",
    "\n"
   ]
  },
  {
   "cell_type": "code",
   "execution_count": 10,
   "metadata": {},
   "outputs": [
    {
     "data": {
      "text/html": [
       "<div>\n",
       "<style scoped>\n",
       "    .dataframe tbody tr th:only-of-type {\n",
       "        vertical-align: middle;\n",
       "    }\n",
       "\n",
       "    .dataframe tbody tr th {\n",
       "        vertical-align: top;\n",
       "    }\n",
       "\n",
       "    .dataframe thead th {\n",
       "        text-align: right;\n",
       "    }\n",
       "</style>\n",
       "<table border=\"1\" class=\"dataframe\">\n",
       "  <thead>\n",
       "    <tr style=\"text-align: right;\">\n",
       "      <th></th>\n",
       "      <th>Product</th>\n",
       "      <th>week</th>\n",
       "      <th>Sale price incl. VAT (Value Added Tax)</th>\n",
       "      <th>Sale price excl. VAT</th>\n",
       "      <th>Purchase price per piece</th>\n",
       "      <th>Sales BE</th>\n",
       "      <th>Sales NL</th>\n",
       "      <th>Sales</th>\n",
       "      <th>Revenue BE</th>\n",
       "      <th>Revenue NL</th>\n",
       "      <th>Revenue excl. VAT</th>\n",
       "      <th>Customer visits</th>\n",
       "      <th>Conversion %</th>\n",
       "      <th>Bol Costs</th>\n",
       "      <th>Sales België</th>\n",
       "      <th>Sales Nederland</th>\n",
       "      <th>Shipping costs  BE</th>\n",
       "      <th>Shipping costs  NL</th>\n",
       "      <th>Total gross profit</th>\n",
       "      <th>Gross profit per piece</th>\n",
       "      <th>Saleable returns</th>\n",
       "      <th>Unsaleable returns</th>\n",
       "      <th>exchange items</th>\n",
       "      <th>Total returns</th>\n",
       "      <th>Total return costs</th>\n",
       "      <th>Total SP costs</th>\n",
       "      <th>Net profit</th>\n",
       "      <th>Net profit per peace</th>\n",
       "      <th>Profit Margin</th>\n",
       "      <th>ROI</th>\n",
       "    </tr>\n",
       "  </thead>\n",
       "  <tbody>\n",
       "    <tr>\n",
       "      <th>0</th>\n",
       "      <td>Tablet PRO Blauw</td>\n",
       "      <td>1</td>\n",
       "      <td>180.00</td>\n",
       "      <td>148.76</td>\n",
       "      <td>85.23</td>\n",
       "      <td>8.0</td>\n",
       "      <td>22.0</td>\n",
       "      <td>30.0</td>\n",
       "      <td>1,191.72</td>\n",
       "      <td>3,271.02</td>\n",
       "      <td>4,462.74</td>\n",
       "      <td>251</td>\n",
       "      <td>11.95%</td>\n",
       "      <td>359.70</td>\n",
       "      <td>8.0</td>\n",
       "      <td>22.0</td>\n",
       "      <td>54.00</td>\n",
       "      <td>141.90</td>\n",
       "      <td>1,350.24</td>\n",
       "      <td>45.01</td>\n",
       "      <td>NaN</td>\n",
       "      <td>9.0</td>\n",
       "      <td>NaN</td>\n",
       "      <td>9.0</td>\n",
       "      <td>791.01</td>\n",
       "      <td>0.00</td>\n",
       "      <td>559.23</td>\n",
       "      <td>18.64</td>\n",
       "      <td>12.53%</td>\n",
       "      <td>21.87%</td>\n",
       "    </tr>\n",
       "    <tr>\n",
       "      <th>1</th>\n",
       "      <td>Tablet PRO Blauw</td>\n",
       "      <td>2</td>\n",
       "      <td>184.00</td>\n",
       "      <td>152.07</td>\n",
       "      <td>85.23</td>\n",
       "      <td>3.0</td>\n",
       "      <td>22.0</td>\n",
       "      <td>25.0</td>\n",
       "      <td>456.21</td>\n",
       "      <td>3,345.53</td>\n",
       "      <td>3,801.74</td>\n",
       "      <td>949</td>\n",
       "      <td>2.63%</td>\n",
       "      <td>304.76</td>\n",
       "      <td>3.0</td>\n",
       "      <td>21.0</td>\n",
       "      <td>21.45</td>\n",
       "      <td>135.45</td>\n",
       "      <td>1,209.33</td>\n",
       "      <td>48.37</td>\n",
       "      <td>NaN</td>\n",
       "      <td>10.0</td>\n",
       "      <td>NaN</td>\n",
       "      <td>10.0</td>\n",
       "      <td>878.90</td>\n",
       "      <td>0.00</td>\n",
       "      <td>330.43</td>\n",
       "      <td>13.22</td>\n",
       "      <td>8.69%</td>\n",
       "      <td>15.51%</td>\n",
       "    </tr>\n",
       "    <tr>\n",
       "      <th>2</th>\n",
       "      <td>Tablet PRO Blauw</td>\n",
       "      <td>3</td>\n",
       "      <td>184.00</td>\n",
       "      <td>152.07</td>\n",
       "      <td>85.23</td>\n",
       "      <td>3.0</td>\n",
       "      <td>17.0</td>\n",
       "      <td>20.0</td>\n",
       "      <td>456.21</td>\n",
       "      <td>2,585.19</td>\n",
       "      <td>3,041.40</td>\n",
       "      <td>975</td>\n",
       "      <td>2.05%</td>\n",
       "      <td>243.80</td>\n",
       "      <td>3.0</td>\n",
       "      <td>17.0</td>\n",
       "      <td>21.45</td>\n",
       "      <td>109.65</td>\n",
       "      <td>961.90</td>\n",
       "      <td>48.09</td>\n",
       "      <td>NaN</td>\n",
       "      <td>5.0</td>\n",
       "      <td>NaN</td>\n",
       "      <td>5.0</td>\n",
       "      <td>439.45</td>\n",
       "      <td>0.00</td>\n",
       "      <td>522.45</td>\n",
       "      <td>26.12</td>\n",
       "      <td>17.18%</td>\n",
       "      <td>30.65%</td>\n",
       "    </tr>\n",
       "    <tr>\n",
       "      <th>3</th>\n",
       "      <td>Tablet PRO Blauw</td>\n",
       "      <td>4</td>\n",
       "      <td>184.00</td>\n",
       "      <td>152.07</td>\n",
       "      <td>85.23</td>\n",
       "      <td>3.0</td>\n",
       "      <td>33.0</td>\n",
       "      <td>36.0</td>\n",
       "      <td>456.21</td>\n",
       "      <td>5,018.28</td>\n",
       "      <td>5,474.49</td>\n",
       "      <td>796</td>\n",
       "      <td>4.52%</td>\n",
       "      <td>438.85</td>\n",
       "      <td>3.0</td>\n",
       "      <td>30.0</td>\n",
       "      <td>21.45</td>\n",
       "      <td>193.50</td>\n",
       "      <td>1,752.41</td>\n",
       "      <td>48.68</td>\n",
       "      <td>NaN</td>\n",
       "      <td>7.0</td>\n",
       "      <td>NaN</td>\n",
       "      <td>7.0</td>\n",
       "      <td>615.23</td>\n",
       "      <td>0.00</td>\n",
       "      <td>1,137.18</td>\n",
       "      <td>31.59</td>\n",
       "      <td>20.77%</td>\n",
       "      <td>37.06%</td>\n",
       "    </tr>\n",
       "    <tr>\n",
       "      <th>4</th>\n",
       "      <td>Tablet PRO Blauw</td>\n",
       "      <td>5</td>\n",
       "      <td>188.25</td>\n",
       "      <td>155.58</td>\n",
       "      <td>85.23</td>\n",
       "      <td>3.0</td>\n",
       "      <td>17.0</td>\n",
       "      <td>20.0</td>\n",
       "      <td>468.60</td>\n",
       "      <td>2,643.01</td>\n",
       "      <td>3,111.61</td>\n",
       "      <td>672</td>\n",
       "      <td>2.98%</td>\n",
       "      <td>248.05</td>\n",
       "      <td>3.0</td>\n",
       "      <td>15.0</td>\n",
       "      <td>21.45</td>\n",
       "      <td>96.75</td>\n",
       "      <td>1,040.76</td>\n",
       "      <td>52.04</td>\n",
       "      <td>NaN</td>\n",
       "      <td>5.0</td>\n",
       "      <td>NaN</td>\n",
       "      <td>5.0</td>\n",
       "      <td>439.45</td>\n",
       "      <td>0.00</td>\n",
       "      <td>601.31</td>\n",
       "      <td>30.07</td>\n",
       "      <td>19.32%</td>\n",
       "      <td>35.28%</td>\n",
       "    </tr>\n",
       "  </tbody>\n",
       "</table>\n",
       "</div>"
      ],
      "text/plain": [
       "            Product week Sale price incl. VAT (Value Added Tax)  \\\n",
       "0  Tablet PRO Blauw    1                                 180.00   \n",
       "1  Tablet PRO Blauw    2                                 184.00   \n",
       "2  Tablet PRO Blauw    3                                 184.00   \n",
       "3  Tablet PRO Blauw    4                                 184.00   \n",
       "4  Tablet PRO Blauw    5                                 188.25   \n",
       "\n",
       "  Sale price excl. VAT Purchase price per piece  Sales BE  Sales NL  Sales  \\\n",
       "0               148.76                    85.23       8.0      22.0   30.0   \n",
       "1               152.07                    85.23       3.0      22.0   25.0   \n",
       "2               152.07                    85.23       3.0      17.0   20.0   \n",
       "3               152.07                    85.23       3.0      33.0   36.0   \n",
       "4               155.58                    85.23       3.0      17.0   20.0   \n",
       "\n",
       "  Revenue BE Revenue NL Revenue excl. VAT Customer visits Conversion %  \\\n",
       "0   1,191.72   3,271.02          4,462.74             251       11.95%   \n",
       "1     456.21   3,345.53          3,801.74             949        2.63%   \n",
       "2     456.21   2,585.19          3,041.40             975        2.05%   \n",
       "3     456.21   5,018.28          5,474.49             796        4.52%   \n",
       "4     468.60   2,643.01          3,111.61             672        2.98%   \n",
       "\n",
       "  Bol Costs  Sales België  Sales Nederland Shipping costs  BE  \\\n",
       "0    359.70           8.0             22.0              54.00   \n",
       "1    304.76           3.0             21.0              21.45   \n",
       "2    243.80           3.0             17.0              21.45   \n",
       "3    438.85           3.0             30.0              21.45   \n",
       "4    248.05           3.0             15.0              21.45   \n",
       "\n",
       "  Shipping costs  NL Total gross profit Gross profit per piece  \\\n",
       "0             141.90           1,350.24                  45.01   \n",
       "1             135.45           1,209.33                  48.37   \n",
       "2             109.65             961.90                  48.09   \n",
       "3             193.50           1,752.41                  48.68   \n",
       "4              96.75           1,040.76                  52.04   \n",
       "\n",
       "   Saleable returns  Unsaleable returns  exchange items  Total returns  \\\n",
       "0               NaN                 9.0             NaN            9.0   \n",
       "1               NaN                10.0             NaN           10.0   \n",
       "2               NaN                 5.0             NaN            5.0   \n",
       "3               NaN                 7.0             NaN            7.0   \n",
       "4               NaN                 5.0             NaN            5.0   \n",
       "\n",
       "  Total return costs Total SP costs Net profit Net profit per peace  \\\n",
       "0             791.01           0.00     559.23                18.64   \n",
       "1             878.90           0.00     330.43                13.22   \n",
       "2             439.45           0.00     522.45                26.12   \n",
       "3             615.23           0.00   1,137.18                31.59   \n",
       "4             439.45           0.00     601.31                30.07   \n",
       "\n",
       "  Profit Margin     ROI  \n",
       "0        12.53%  21.87%  \n",
       "1         8.69%  15.51%  \n",
       "2        17.18%  30.65%  \n",
       "3        20.77%  37.06%  \n",
       "4        19.32%  35.28%  "
      ]
     },
     "execution_count": 10,
     "metadata": {},
     "output_type": "execute_result"
    }
   ],
   "source": [
    "deplay_week.head()"
   ]
  },
  {
   "cell_type": "code",
   "execution_count": 11,
   "metadata": {},
   "outputs": [],
   "source": [
    "# drop this columns: 'Sales BE', 'Sales NL', 'Revenue BE', 'Revenue NL'\n",
    "deplay_week.drop(['Sales BE', 'Sales NL', 'Revenue BE', 'Revenue NL'], axis=1, inplace=True)"
   ]
  },
  {
   "cell_type": "code",
   "execution_count": 12,
   "metadata": {},
   "outputs": [
    {
     "data": {
      "text/html": [
       "<div>\n",
       "<style scoped>\n",
       "    .dataframe tbody tr th:only-of-type {\n",
       "        vertical-align: middle;\n",
       "    }\n",
       "\n",
       "    .dataframe tbody tr th {\n",
       "        vertical-align: top;\n",
       "    }\n",
       "\n",
       "    .dataframe thead th {\n",
       "        text-align: right;\n",
       "    }\n",
       "</style>\n",
       "<table border=\"1\" class=\"dataframe\">\n",
       "  <thead>\n",
       "    <tr style=\"text-align: right;\">\n",
       "      <th></th>\n",
       "      <th>Product</th>\n",
       "      <th>week</th>\n",
       "      <th>Sale price incl. VAT (Value Added Tax)</th>\n",
       "      <th>Sale price excl. VAT</th>\n",
       "      <th>Purchase price per piece</th>\n",
       "      <th>Sales</th>\n",
       "      <th>Revenue excl. VAT</th>\n",
       "      <th>Customer visits</th>\n",
       "      <th>Conversion %</th>\n",
       "      <th>Bol Costs</th>\n",
       "      <th>Sales België</th>\n",
       "      <th>Sales Nederland</th>\n",
       "      <th>Shipping costs  BE</th>\n",
       "      <th>Shipping costs  NL</th>\n",
       "      <th>Total gross profit</th>\n",
       "      <th>Gross profit per piece</th>\n",
       "      <th>Saleable returns</th>\n",
       "      <th>Unsaleable returns</th>\n",
       "      <th>exchange items</th>\n",
       "      <th>Total returns</th>\n",
       "      <th>Total return costs</th>\n",
       "      <th>Total SP costs</th>\n",
       "      <th>Net profit</th>\n",
       "      <th>Net profit per peace</th>\n",
       "      <th>Profit Margin</th>\n",
       "      <th>ROI</th>\n",
       "    </tr>\n",
       "  </thead>\n",
       "  <tbody>\n",
       "    <tr>\n",
       "      <th>0</th>\n",
       "      <td>Tablet PRO Blauw</td>\n",
       "      <td>1</td>\n",
       "      <td>180.00</td>\n",
       "      <td>148.76</td>\n",
       "      <td>85.23</td>\n",
       "      <td>30.0</td>\n",
       "      <td>4,462.74</td>\n",
       "      <td>251</td>\n",
       "      <td>11.95%</td>\n",
       "      <td>359.70</td>\n",
       "      <td>8.0</td>\n",
       "      <td>22.0</td>\n",
       "      <td>54.00</td>\n",
       "      <td>141.90</td>\n",
       "      <td>1,350.24</td>\n",
       "      <td>45.01</td>\n",
       "      <td>NaN</td>\n",
       "      <td>9.0</td>\n",
       "      <td>NaN</td>\n",
       "      <td>9.0</td>\n",
       "      <td>791.01</td>\n",
       "      <td>0.00</td>\n",
       "      <td>559.23</td>\n",
       "      <td>18.64</td>\n",
       "      <td>12.53%</td>\n",
       "      <td>21.87%</td>\n",
       "    </tr>\n",
       "    <tr>\n",
       "      <th>1</th>\n",
       "      <td>Tablet PRO Blauw</td>\n",
       "      <td>2</td>\n",
       "      <td>184.00</td>\n",
       "      <td>152.07</td>\n",
       "      <td>85.23</td>\n",
       "      <td>25.0</td>\n",
       "      <td>3,801.74</td>\n",
       "      <td>949</td>\n",
       "      <td>2.63%</td>\n",
       "      <td>304.76</td>\n",
       "      <td>3.0</td>\n",
       "      <td>21.0</td>\n",
       "      <td>21.45</td>\n",
       "      <td>135.45</td>\n",
       "      <td>1,209.33</td>\n",
       "      <td>48.37</td>\n",
       "      <td>NaN</td>\n",
       "      <td>10.0</td>\n",
       "      <td>NaN</td>\n",
       "      <td>10.0</td>\n",
       "      <td>878.90</td>\n",
       "      <td>0.00</td>\n",
       "      <td>330.43</td>\n",
       "      <td>13.22</td>\n",
       "      <td>8.69%</td>\n",
       "      <td>15.51%</td>\n",
       "    </tr>\n",
       "    <tr>\n",
       "      <th>2</th>\n",
       "      <td>Tablet PRO Blauw</td>\n",
       "      <td>3</td>\n",
       "      <td>184.00</td>\n",
       "      <td>152.07</td>\n",
       "      <td>85.23</td>\n",
       "      <td>20.0</td>\n",
       "      <td>3,041.40</td>\n",
       "      <td>975</td>\n",
       "      <td>2.05%</td>\n",
       "      <td>243.80</td>\n",
       "      <td>3.0</td>\n",
       "      <td>17.0</td>\n",
       "      <td>21.45</td>\n",
       "      <td>109.65</td>\n",
       "      <td>961.90</td>\n",
       "      <td>48.09</td>\n",
       "      <td>NaN</td>\n",
       "      <td>5.0</td>\n",
       "      <td>NaN</td>\n",
       "      <td>5.0</td>\n",
       "      <td>439.45</td>\n",
       "      <td>0.00</td>\n",
       "      <td>522.45</td>\n",
       "      <td>26.12</td>\n",
       "      <td>17.18%</td>\n",
       "      <td>30.65%</td>\n",
       "    </tr>\n",
       "    <tr>\n",
       "      <th>3</th>\n",
       "      <td>Tablet PRO Blauw</td>\n",
       "      <td>4</td>\n",
       "      <td>184.00</td>\n",
       "      <td>152.07</td>\n",
       "      <td>85.23</td>\n",
       "      <td>36.0</td>\n",
       "      <td>5,474.49</td>\n",
       "      <td>796</td>\n",
       "      <td>4.52%</td>\n",
       "      <td>438.85</td>\n",
       "      <td>3.0</td>\n",
       "      <td>30.0</td>\n",
       "      <td>21.45</td>\n",
       "      <td>193.50</td>\n",
       "      <td>1,752.41</td>\n",
       "      <td>48.68</td>\n",
       "      <td>NaN</td>\n",
       "      <td>7.0</td>\n",
       "      <td>NaN</td>\n",
       "      <td>7.0</td>\n",
       "      <td>615.23</td>\n",
       "      <td>0.00</td>\n",
       "      <td>1,137.18</td>\n",
       "      <td>31.59</td>\n",
       "      <td>20.77%</td>\n",
       "      <td>37.06%</td>\n",
       "    </tr>\n",
       "    <tr>\n",
       "      <th>4</th>\n",
       "      <td>Tablet PRO Blauw</td>\n",
       "      <td>5</td>\n",
       "      <td>188.25</td>\n",
       "      <td>155.58</td>\n",
       "      <td>85.23</td>\n",
       "      <td>20.0</td>\n",
       "      <td>3,111.61</td>\n",
       "      <td>672</td>\n",
       "      <td>2.98%</td>\n",
       "      <td>248.05</td>\n",
       "      <td>3.0</td>\n",
       "      <td>15.0</td>\n",
       "      <td>21.45</td>\n",
       "      <td>96.75</td>\n",
       "      <td>1,040.76</td>\n",
       "      <td>52.04</td>\n",
       "      <td>NaN</td>\n",
       "      <td>5.0</td>\n",
       "      <td>NaN</td>\n",
       "      <td>5.0</td>\n",
       "      <td>439.45</td>\n",
       "      <td>0.00</td>\n",
       "      <td>601.31</td>\n",
       "      <td>30.07</td>\n",
       "      <td>19.32%</td>\n",
       "      <td>35.28%</td>\n",
       "    </tr>\n",
       "  </tbody>\n",
       "</table>\n",
       "</div>"
      ],
      "text/plain": [
       "            Product week Sale price incl. VAT (Value Added Tax)  \\\n",
       "0  Tablet PRO Blauw    1                                 180.00   \n",
       "1  Tablet PRO Blauw    2                                 184.00   \n",
       "2  Tablet PRO Blauw    3                                 184.00   \n",
       "3  Tablet PRO Blauw    4                                 184.00   \n",
       "4  Tablet PRO Blauw    5                                 188.25   \n",
       "\n",
       "  Sale price excl. VAT Purchase price per piece  Sales Revenue excl. VAT  \\\n",
       "0               148.76                    85.23   30.0          4,462.74   \n",
       "1               152.07                    85.23   25.0          3,801.74   \n",
       "2               152.07                    85.23   20.0          3,041.40   \n",
       "3               152.07                    85.23   36.0          5,474.49   \n",
       "4               155.58                    85.23   20.0          3,111.61   \n",
       "\n",
       "  Customer visits Conversion % Bol Costs  Sales België  Sales Nederland  \\\n",
       "0             251       11.95%    359.70           8.0             22.0   \n",
       "1             949        2.63%    304.76           3.0             21.0   \n",
       "2             975        2.05%    243.80           3.0             17.0   \n",
       "3             796        4.52%    438.85           3.0             30.0   \n",
       "4             672        2.98%    248.05           3.0             15.0   \n",
       "\n",
       "  Shipping costs  BE Shipping costs  NL Total gross profit  \\\n",
       "0              54.00             141.90           1,350.24   \n",
       "1              21.45             135.45           1,209.33   \n",
       "2              21.45             109.65             961.90   \n",
       "3              21.45             193.50           1,752.41   \n",
       "4              21.45              96.75           1,040.76   \n",
       "\n",
       "  Gross profit per piece  Saleable returns  Unsaleable returns  \\\n",
       "0                  45.01               NaN                 9.0   \n",
       "1                  48.37               NaN                10.0   \n",
       "2                  48.09               NaN                 5.0   \n",
       "3                  48.68               NaN                 7.0   \n",
       "4                  52.04               NaN                 5.0   \n",
       "\n",
       "   exchange items  Total returns Total return costs Total SP costs Net profit  \\\n",
       "0             NaN            9.0             791.01           0.00     559.23   \n",
       "1             NaN           10.0             878.90           0.00     330.43   \n",
       "2             NaN            5.0             439.45           0.00     522.45   \n",
       "3             NaN            7.0             615.23           0.00   1,137.18   \n",
       "4             NaN            5.0             439.45           0.00     601.31   \n",
       "\n",
       "  Net profit per peace Profit Margin     ROI  \n",
       "0                18.64        12.53%  21.87%  \n",
       "1                13.22         8.69%  15.51%  \n",
       "2                26.12        17.18%  30.65%  \n",
       "3                31.59        20.77%  37.06%  \n",
       "4                30.07        19.32%  35.28%  "
      ]
     },
     "execution_count": 12,
     "metadata": {},
     "output_type": "execute_result"
    }
   ],
   "source": [
    "deplay_week.head()"
   ]
  },
  {
   "cell_type": "code",
   "execution_count": 13,
   "metadata": {},
   "outputs": [],
   "source": [
    "# drop this columns Sales België\tSales Nederland\n",
    "deplay_week.drop(['Sales België', 'Sales Nederland'], axis=1, inplace=True)"
   ]
  },
  {
   "cell_type": "code",
   "execution_count": 65,
   "metadata": {},
   "outputs": [],
   "source": [
    "\n",
    "# sum row wise Shipping costs  BE and Shipping costs  NL to create a shipping_costs column\n",
    "\n",
    "#deplay_week['shipping_costs'] = deplay_week['Shipping costs  BE'] + deplay_week['Shipping costs  NL']\n",
    "\n"
   ]
  },
  {
   "cell_type": "code",
   "execution_count": 14,
   "metadata": {},
   "outputs": [],
   "source": [
    "deplay_week['Conversion %'] = deplay_week['Conversion %'].str.replace('%', '')"
   ]
  },
  {
   "cell_type": "code",
   "execution_count": 15,
   "metadata": {},
   "outputs": [],
   "source": [
    "# remove % sign from these columns Profit Margin\tROI\n",
    "deplay_week['Profit Margin'] = deplay_week['Profit Margin'].str.replace('%', '')\n",
    "deplay_week['ROI'] = deplay_week['ROI'].str.replace('%', '')"
   ]
  },
  {
   "cell_type": "code",
   "execution_count": 16,
   "metadata": {},
   "outputs": [],
   "source": [
    "# convert to float the following columns: 'Sale price incl. VAT (Value Added Tax)',\n",
    "       #'Sale price excl. VAT', 'Purchase price per piece', 'Sales',\n",
    "       #'Revenue excl. VAT', 'Customer visits', 'Conversion %', 'Bol Costs',\n",
    "       #'Sales België', 'Sales Nederland', 'Shipping costs  BE',\n",
    "       #'Shipping costs  NL', 'Total gross profit', 'Gross profit per piece',\n",
    "       #'Saleable returns', 'Unsaleable returns', 'exchange items',\n",
    "       #'Total returns', 'Total return costs', 'Total SP costs', 'Net profit',\n",
    "       #'Net profit per peace', 'Profit Margin', 'ROI'\n",
    "\n",
    "columns_to_convert = [\n",
    "    'Sale price incl. VAT (Value Added Tax)', 'Sale price excl. VAT', \n",
    "    'Purchase price per piece', 'Sales', 'Revenue excl. VAT', \n",
    "    'Customer visits', 'Conversion %', 'Bol Costs', 'Shipping costs  BE', 'Shipping costs  NL', \n",
    "    'Total gross profit', 'Gross profit per piece', 'Saleable returns', \n",
    "    'Unsaleable returns', 'exchange items', 'Total returns', \n",
    "    'Total return costs', 'Total SP costs', 'Net profit', \n",
    "    'Net profit per peace', 'Profit Margin', 'ROI'\n",
    "]\n",
    "\n",
    "# Convert columns to float after cleaning the strings\n",
    "for column in columns_to_convert:\n",
    "    if deplay_week[column].dtype == 'object':  # Check if column contains strings\n",
    "        deplay_week[column] = deplay_week[column].str.replace(',', '').str.replace('- ', '-').str.strip()\n",
    "    deplay_week[column] = deplay_week[column].astype(float)\n",
    "\n",
    "\n",
    "\n",
    "\n"
   ]
  },
  {
   "cell_type": "code",
   "execution_count": 17,
   "metadata": {},
   "outputs": [
    {
     "data": {
      "text/html": [
       "<div>\n",
       "<style scoped>\n",
       "    .dataframe tbody tr th:only-of-type {\n",
       "        vertical-align: middle;\n",
       "    }\n",
       "\n",
       "    .dataframe tbody tr th {\n",
       "        vertical-align: top;\n",
       "    }\n",
       "\n",
       "    .dataframe thead th {\n",
       "        text-align: right;\n",
       "    }\n",
       "</style>\n",
       "<table border=\"1\" class=\"dataframe\">\n",
       "  <thead>\n",
       "    <tr style=\"text-align: right;\">\n",
       "      <th></th>\n",
       "      <th>Product</th>\n",
       "      <th>week</th>\n",
       "      <th>Sale price incl. VAT (Value Added Tax)</th>\n",
       "      <th>Sale price excl. VAT</th>\n",
       "      <th>Purchase price per piece</th>\n",
       "      <th>Sales</th>\n",
       "      <th>Revenue excl. VAT</th>\n",
       "      <th>Customer visits</th>\n",
       "      <th>Conversion %</th>\n",
       "      <th>Bol Costs</th>\n",
       "      <th>Shipping costs  BE</th>\n",
       "      <th>Shipping costs  NL</th>\n",
       "      <th>Total gross profit</th>\n",
       "      <th>Gross profit per piece</th>\n",
       "      <th>Saleable returns</th>\n",
       "      <th>Unsaleable returns</th>\n",
       "      <th>exchange items</th>\n",
       "      <th>Total returns</th>\n",
       "      <th>Total return costs</th>\n",
       "      <th>Total SP costs</th>\n",
       "      <th>Net profit</th>\n",
       "      <th>Net profit per peace</th>\n",
       "      <th>Profit Margin</th>\n",
       "      <th>ROI</th>\n",
       "    </tr>\n",
       "  </thead>\n",
       "  <tbody>\n",
       "    <tr>\n",
       "      <th>0</th>\n",
       "      <td>Tablet PRO Blauw</td>\n",
       "      <td>1</td>\n",
       "      <td>180.00</td>\n",
       "      <td>148.76</td>\n",
       "      <td>85.23</td>\n",
       "      <td>30.0</td>\n",
       "      <td>4462.74</td>\n",
       "      <td>251.0</td>\n",
       "      <td>11.95</td>\n",
       "      <td>359.70</td>\n",
       "      <td>54.00</td>\n",
       "      <td>141.90</td>\n",
       "      <td>1350.24</td>\n",
       "      <td>45.01</td>\n",
       "      <td>NaN</td>\n",
       "      <td>9.0</td>\n",
       "      <td>NaN</td>\n",
       "      <td>9.0</td>\n",
       "      <td>791.01</td>\n",
       "      <td>0.0</td>\n",
       "      <td>559.23</td>\n",
       "      <td>18.64</td>\n",
       "      <td>12.53</td>\n",
       "      <td>21.87</td>\n",
       "    </tr>\n",
       "    <tr>\n",
       "      <th>1</th>\n",
       "      <td>Tablet PRO Blauw</td>\n",
       "      <td>2</td>\n",
       "      <td>184.00</td>\n",
       "      <td>152.07</td>\n",
       "      <td>85.23</td>\n",
       "      <td>25.0</td>\n",
       "      <td>3801.74</td>\n",
       "      <td>949.0</td>\n",
       "      <td>2.63</td>\n",
       "      <td>304.76</td>\n",
       "      <td>21.45</td>\n",
       "      <td>135.45</td>\n",
       "      <td>1209.33</td>\n",
       "      <td>48.37</td>\n",
       "      <td>NaN</td>\n",
       "      <td>10.0</td>\n",
       "      <td>NaN</td>\n",
       "      <td>10.0</td>\n",
       "      <td>878.90</td>\n",
       "      <td>0.0</td>\n",
       "      <td>330.43</td>\n",
       "      <td>13.22</td>\n",
       "      <td>8.69</td>\n",
       "      <td>15.51</td>\n",
       "    </tr>\n",
       "    <tr>\n",
       "      <th>2</th>\n",
       "      <td>Tablet PRO Blauw</td>\n",
       "      <td>3</td>\n",
       "      <td>184.00</td>\n",
       "      <td>152.07</td>\n",
       "      <td>85.23</td>\n",
       "      <td>20.0</td>\n",
       "      <td>3041.40</td>\n",
       "      <td>975.0</td>\n",
       "      <td>2.05</td>\n",
       "      <td>243.80</td>\n",
       "      <td>21.45</td>\n",
       "      <td>109.65</td>\n",
       "      <td>961.90</td>\n",
       "      <td>48.09</td>\n",
       "      <td>NaN</td>\n",
       "      <td>5.0</td>\n",
       "      <td>NaN</td>\n",
       "      <td>5.0</td>\n",
       "      <td>439.45</td>\n",
       "      <td>0.0</td>\n",
       "      <td>522.45</td>\n",
       "      <td>26.12</td>\n",
       "      <td>17.18</td>\n",
       "      <td>30.65</td>\n",
       "    </tr>\n",
       "    <tr>\n",
       "      <th>3</th>\n",
       "      <td>Tablet PRO Blauw</td>\n",
       "      <td>4</td>\n",
       "      <td>184.00</td>\n",
       "      <td>152.07</td>\n",
       "      <td>85.23</td>\n",
       "      <td>36.0</td>\n",
       "      <td>5474.49</td>\n",
       "      <td>796.0</td>\n",
       "      <td>4.52</td>\n",
       "      <td>438.85</td>\n",
       "      <td>21.45</td>\n",
       "      <td>193.50</td>\n",
       "      <td>1752.41</td>\n",
       "      <td>48.68</td>\n",
       "      <td>NaN</td>\n",
       "      <td>7.0</td>\n",
       "      <td>NaN</td>\n",
       "      <td>7.0</td>\n",
       "      <td>615.23</td>\n",
       "      <td>0.0</td>\n",
       "      <td>1137.18</td>\n",
       "      <td>31.59</td>\n",
       "      <td>20.77</td>\n",
       "      <td>37.06</td>\n",
       "    </tr>\n",
       "    <tr>\n",
       "      <th>4</th>\n",
       "      <td>Tablet PRO Blauw</td>\n",
       "      <td>5</td>\n",
       "      <td>188.25</td>\n",
       "      <td>155.58</td>\n",
       "      <td>85.23</td>\n",
       "      <td>20.0</td>\n",
       "      <td>3111.61</td>\n",
       "      <td>672.0</td>\n",
       "      <td>2.98</td>\n",
       "      <td>248.05</td>\n",
       "      <td>21.45</td>\n",
       "      <td>96.75</td>\n",
       "      <td>1040.76</td>\n",
       "      <td>52.04</td>\n",
       "      <td>NaN</td>\n",
       "      <td>5.0</td>\n",
       "      <td>NaN</td>\n",
       "      <td>5.0</td>\n",
       "      <td>439.45</td>\n",
       "      <td>0.0</td>\n",
       "      <td>601.31</td>\n",
       "      <td>30.07</td>\n",
       "      <td>19.32</td>\n",
       "      <td>35.28</td>\n",
       "    </tr>\n",
       "  </tbody>\n",
       "</table>\n",
       "</div>"
      ],
      "text/plain": [
       "            Product week  Sale price incl. VAT (Value Added Tax)  \\\n",
       "0  Tablet PRO Blauw    1                                  180.00   \n",
       "1  Tablet PRO Blauw    2                                  184.00   \n",
       "2  Tablet PRO Blauw    3                                  184.00   \n",
       "3  Tablet PRO Blauw    4                                  184.00   \n",
       "4  Tablet PRO Blauw    5                                  188.25   \n",
       "\n",
       "   Sale price excl. VAT  Purchase price per piece  Sales  Revenue excl. VAT  \\\n",
       "0                148.76                     85.23   30.0            4462.74   \n",
       "1                152.07                     85.23   25.0            3801.74   \n",
       "2                152.07                     85.23   20.0            3041.40   \n",
       "3                152.07                     85.23   36.0            5474.49   \n",
       "4                155.58                     85.23   20.0            3111.61   \n",
       "\n",
       "   Customer visits  Conversion %  Bol Costs  Shipping costs  BE  \\\n",
       "0            251.0         11.95     359.70               54.00   \n",
       "1            949.0          2.63     304.76               21.45   \n",
       "2            975.0          2.05     243.80               21.45   \n",
       "3            796.0          4.52     438.85               21.45   \n",
       "4            672.0          2.98     248.05               21.45   \n",
       "\n",
       "   Shipping costs  NL  Total gross profit  Gross profit per piece  \\\n",
       "0              141.90             1350.24                   45.01   \n",
       "1              135.45             1209.33                   48.37   \n",
       "2              109.65              961.90                   48.09   \n",
       "3              193.50             1752.41                   48.68   \n",
       "4               96.75             1040.76                   52.04   \n",
       "\n",
       "   Saleable returns  Unsaleable returns  exchange items  Total returns  \\\n",
       "0               NaN                 9.0             NaN            9.0   \n",
       "1               NaN                10.0             NaN           10.0   \n",
       "2               NaN                 5.0             NaN            5.0   \n",
       "3               NaN                 7.0             NaN            7.0   \n",
       "4               NaN                 5.0             NaN            5.0   \n",
       "\n",
       "   Total return costs  Total SP costs  Net profit  Net profit per peace  \\\n",
       "0              791.01             0.0      559.23                 18.64   \n",
       "1              878.90             0.0      330.43                 13.22   \n",
       "2              439.45             0.0      522.45                 26.12   \n",
       "3              615.23             0.0     1137.18                 31.59   \n",
       "4              439.45             0.0      601.31                 30.07   \n",
       "\n",
       "   Profit Margin    ROI  \n",
       "0          12.53  21.87  \n",
       "1           8.69  15.51  \n",
       "2          17.18  30.65  \n",
       "3          20.77  37.06  \n",
       "4          19.32  35.28  "
      ]
     },
     "execution_count": 17,
     "metadata": {},
     "output_type": "execute_result"
    }
   ],
   "source": [
    "deplay_week.head()"
   ]
  },
  {
   "cell_type": "code",
   "execution_count": 18,
   "metadata": {},
   "outputs": [],
   "source": [
    "deplay_week['shipping_costs'] = deplay_week['Shipping costs  BE'] + deplay_week['Shipping costs  NL']"
   ]
  },
  {
   "cell_type": "code",
   "execution_count": 19,
   "metadata": {},
   "outputs": [],
   "source": [
    "deplay_week.drop(['Shipping costs  BE', 'Shipping costs  NL'], axis=1, inplace=True)"
   ]
  },
  {
   "cell_type": "code",
   "execution_count": 20,
   "metadata": {},
   "outputs": [
    {
     "data": {
      "text/html": [
       "<div>\n",
       "<style scoped>\n",
       "    .dataframe tbody tr th:only-of-type {\n",
       "        vertical-align: middle;\n",
       "    }\n",
       "\n",
       "    .dataframe tbody tr th {\n",
       "        vertical-align: top;\n",
       "    }\n",
       "\n",
       "    .dataframe thead th {\n",
       "        text-align: right;\n",
       "    }\n",
       "</style>\n",
       "<table border=\"1\" class=\"dataframe\">\n",
       "  <thead>\n",
       "    <tr style=\"text-align: right;\">\n",
       "      <th></th>\n",
       "      <th>Product</th>\n",
       "      <th>week</th>\n",
       "      <th>Sale price incl. VAT (Value Added Tax)</th>\n",
       "      <th>Sale price excl. VAT</th>\n",
       "      <th>Purchase price per piece</th>\n",
       "      <th>Sales</th>\n",
       "      <th>Revenue excl. VAT</th>\n",
       "      <th>Customer visits</th>\n",
       "      <th>Conversion %</th>\n",
       "      <th>Bol Costs</th>\n",
       "      <th>Total gross profit</th>\n",
       "      <th>Gross profit per piece</th>\n",
       "      <th>Saleable returns</th>\n",
       "      <th>Unsaleable returns</th>\n",
       "      <th>exchange items</th>\n",
       "      <th>Total returns</th>\n",
       "      <th>Total return costs</th>\n",
       "      <th>Total SP costs</th>\n",
       "      <th>Net profit</th>\n",
       "      <th>Net profit per peace</th>\n",
       "      <th>Profit Margin</th>\n",
       "      <th>ROI</th>\n",
       "      <th>shipping_costs</th>\n",
       "    </tr>\n",
       "  </thead>\n",
       "  <tbody>\n",
       "    <tr>\n",
       "      <th>0</th>\n",
       "      <td>Tablet PRO Blauw</td>\n",
       "      <td>1</td>\n",
       "      <td>180.00</td>\n",
       "      <td>148.76</td>\n",
       "      <td>85.23</td>\n",
       "      <td>30.0</td>\n",
       "      <td>4462.74</td>\n",
       "      <td>251.0</td>\n",
       "      <td>11.95</td>\n",
       "      <td>359.70</td>\n",
       "      <td>1350.24</td>\n",
       "      <td>45.01</td>\n",
       "      <td>NaN</td>\n",
       "      <td>9.0</td>\n",
       "      <td>NaN</td>\n",
       "      <td>9.0</td>\n",
       "      <td>791.01</td>\n",
       "      <td>0.0</td>\n",
       "      <td>559.23</td>\n",
       "      <td>18.64</td>\n",
       "      <td>12.53</td>\n",
       "      <td>21.87</td>\n",
       "      <td>195.90</td>\n",
       "    </tr>\n",
       "    <tr>\n",
       "      <th>1</th>\n",
       "      <td>Tablet PRO Blauw</td>\n",
       "      <td>2</td>\n",
       "      <td>184.00</td>\n",
       "      <td>152.07</td>\n",
       "      <td>85.23</td>\n",
       "      <td>25.0</td>\n",
       "      <td>3801.74</td>\n",
       "      <td>949.0</td>\n",
       "      <td>2.63</td>\n",
       "      <td>304.76</td>\n",
       "      <td>1209.33</td>\n",
       "      <td>48.37</td>\n",
       "      <td>NaN</td>\n",
       "      <td>10.0</td>\n",
       "      <td>NaN</td>\n",
       "      <td>10.0</td>\n",
       "      <td>878.90</td>\n",
       "      <td>0.0</td>\n",
       "      <td>330.43</td>\n",
       "      <td>13.22</td>\n",
       "      <td>8.69</td>\n",
       "      <td>15.51</td>\n",
       "      <td>156.90</td>\n",
       "    </tr>\n",
       "    <tr>\n",
       "      <th>2</th>\n",
       "      <td>Tablet PRO Blauw</td>\n",
       "      <td>3</td>\n",
       "      <td>184.00</td>\n",
       "      <td>152.07</td>\n",
       "      <td>85.23</td>\n",
       "      <td>20.0</td>\n",
       "      <td>3041.40</td>\n",
       "      <td>975.0</td>\n",
       "      <td>2.05</td>\n",
       "      <td>243.80</td>\n",
       "      <td>961.90</td>\n",
       "      <td>48.09</td>\n",
       "      <td>NaN</td>\n",
       "      <td>5.0</td>\n",
       "      <td>NaN</td>\n",
       "      <td>5.0</td>\n",
       "      <td>439.45</td>\n",
       "      <td>0.0</td>\n",
       "      <td>522.45</td>\n",
       "      <td>26.12</td>\n",
       "      <td>17.18</td>\n",
       "      <td>30.65</td>\n",
       "      <td>131.10</td>\n",
       "    </tr>\n",
       "    <tr>\n",
       "      <th>3</th>\n",
       "      <td>Tablet PRO Blauw</td>\n",
       "      <td>4</td>\n",
       "      <td>184.00</td>\n",
       "      <td>152.07</td>\n",
       "      <td>85.23</td>\n",
       "      <td>36.0</td>\n",
       "      <td>5474.49</td>\n",
       "      <td>796.0</td>\n",
       "      <td>4.52</td>\n",
       "      <td>438.85</td>\n",
       "      <td>1752.41</td>\n",
       "      <td>48.68</td>\n",
       "      <td>NaN</td>\n",
       "      <td>7.0</td>\n",
       "      <td>NaN</td>\n",
       "      <td>7.0</td>\n",
       "      <td>615.23</td>\n",
       "      <td>0.0</td>\n",
       "      <td>1137.18</td>\n",
       "      <td>31.59</td>\n",
       "      <td>20.77</td>\n",
       "      <td>37.06</td>\n",
       "      <td>214.95</td>\n",
       "    </tr>\n",
       "    <tr>\n",
       "      <th>4</th>\n",
       "      <td>Tablet PRO Blauw</td>\n",
       "      <td>5</td>\n",
       "      <td>188.25</td>\n",
       "      <td>155.58</td>\n",
       "      <td>85.23</td>\n",
       "      <td>20.0</td>\n",
       "      <td>3111.61</td>\n",
       "      <td>672.0</td>\n",
       "      <td>2.98</td>\n",
       "      <td>248.05</td>\n",
       "      <td>1040.76</td>\n",
       "      <td>52.04</td>\n",
       "      <td>NaN</td>\n",
       "      <td>5.0</td>\n",
       "      <td>NaN</td>\n",
       "      <td>5.0</td>\n",
       "      <td>439.45</td>\n",
       "      <td>0.0</td>\n",
       "      <td>601.31</td>\n",
       "      <td>30.07</td>\n",
       "      <td>19.32</td>\n",
       "      <td>35.28</td>\n",
       "      <td>118.20</td>\n",
       "    </tr>\n",
       "  </tbody>\n",
       "</table>\n",
       "</div>"
      ],
      "text/plain": [
       "            Product week  Sale price incl. VAT (Value Added Tax)  \\\n",
       "0  Tablet PRO Blauw    1                                  180.00   \n",
       "1  Tablet PRO Blauw    2                                  184.00   \n",
       "2  Tablet PRO Blauw    3                                  184.00   \n",
       "3  Tablet PRO Blauw    4                                  184.00   \n",
       "4  Tablet PRO Blauw    5                                  188.25   \n",
       "\n",
       "   Sale price excl. VAT  Purchase price per piece  Sales  Revenue excl. VAT  \\\n",
       "0                148.76                     85.23   30.0            4462.74   \n",
       "1                152.07                     85.23   25.0            3801.74   \n",
       "2                152.07                     85.23   20.0            3041.40   \n",
       "3                152.07                     85.23   36.0            5474.49   \n",
       "4                155.58                     85.23   20.0            3111.61   \n",
       "\n",
       "   Customer visits  Conversion %  Bol Costs  Total gross profit  \\\n",
       "0            251.0         11.95     359.70             1350.24   \n",
       "1            949.0          2.63     304.76             1209.33   \n",
       "2            975.0          2.05     243.80              961.90   \n",
       "3            796.0          4.52     438.85             1752.41   \n",
       "4            672.0          2.98     248.05             1040.76   \n",
       "\n",
       "   Gross profit per piece  Saleable returns  Unsaleable returns  \\\n",
       "0                   45.01               NaN                 9.0   \n",
       "1                   48.37               NaN                10.0   \n",
       "2                   48.09               NaN                 5.0   \n",
       "3                   48.68               NaN                 7.0   \n",
       "4                   52.04               NaN                 5.0   \n",
       "\n",
       "   exchange items  Total returns  Total return costs  Total SP costs  \\\n",
       "0             NaN            9.0              791.01             0.0   \n",
       "1             NaN           10.0              878.90             0.0   \n",
       "2             NaN            5.0              439.45             0.0   \n",
       "3             NaN            7.0              615.23             0.0   \n",
       "4             NaN            5.0              439.45             0.0   \n",
       "\n",
       "   Net profit  Net profit per peace  Profit Margin    ROI  shipping_costs  \n",
       "0      559.23                 18.64          12.53  21.87          195.90  \n",
       "1      330.43                 13.22           8.69  15.51          156.90  \n",
       "2      522.45                 26.12          17.18  30.65          131.10  \n",
       "3     1137.18                 31.59          20.77  37.06          214.95  \n",
       "4      601.31                 30.07          19.32  35.28          118.20  "
      ]
     },
     "execution_count": 20,
     "metadata": {},
     "output_type": "execute_result"
    }
   ],
   "source": [
    "deplay_week.head()"
   ]
  },
  {
   "cell_type": "code",
   "execution_count": 21,
   "metadata": {},
   "outputs": [
    {
     "data": {
      "text/plain": [
       "(996, 23)"
      ]
     },
     "execution_count": 21,
     "metadata": {},
     "output_type": "execute_result"
    }
   ],
   "source": [
    "deplay_week.shape"
   ]
  },
  {
   "cell_type": "code",
   "execution_count": 22,
   "metadata": {},
   "outputs": [
    {
     "data": {
      "text/plain": [
       "(7, 23)"
      ]
     },
     "execution_count": 22,
     "metadata": {},
     "output_type": "execute_result"
    }
   ],
   "source": [
    "# show duplicated rows\n",
    "deplay_week[deplay_week.duplicated()].shape"
   ]
  },
  {
   "cell_type": "code",
   "execution_count": 23,
   "metadata": {},
   "outputs": [],
   "source": [
    "deplay_week.drop_duplicates(inplace=True)"
   ]
  },
  {
   "cell_type": "code",
   "execution_count": 34,
   "metadata": {},
   "outputs": [],
   "source": [
    "deplay_week.to_csv('deplay_week_treated_chatgpt.csv')"
   ]
  },
  {
   "cell_type": "code",
   "execution_count": 26,
   "metadata": {},
   "outputs": [
    {
     "data": {
      "application/vnd.plotly.v1+json": {
       "config": {
        "plotlyServerURL": "https://plot.ly"
       },
       "data": [
        {
         "hovertemplate": "Week=%{x}<br>Sales=%{y}<extra></extra>",
         "legendgroup": "",
         "line": {
          "color": "#636efa",
          "dash": "solid"
         },
         "marker": {
          "symbol": "circle"
         },
         "mode": "lines",
         "name": "",
         "orientation": "v",
         "showlegend": false,
         "type": "scatter",
         "x": [
          " 1",
          " 2",
          " 3",
          " 4",
          " 5",
          " 6",
          " 7",
          " 8",
          " 9",
          " 10",
          " 11",
          " 12",
          " 13",
          " 14",
          " 15",
          " 16",
          " 17",
          " 18",
          " 19",
          " 20",
          " 21",
          " 22",
          " 23",
          " 24",
          " 25",
          " 26",
          " 27",
          " 28",
          " 29",
          " 30",
          " 31",
          " 32",
          " 33",
          " 34",
          " 35",
          " 36",
          " 37",
          " 38",
          " 39",
          " 40",
          " 41",
          " 42",
          " 43",
          " 44",
          " 45",
          " 46",
          " 47",
          " 48",
          " 49",
          " 50",
          " 51",
          " 52"
         ],
         "xaxis": "x",
         "y": [
          30,
          25,
          20,
          36,
          20,
          18,
          8,
          0,
          0,
          0,
          0,
          0,
          24,
          6,
          11,
          0,
          0,
          9,
          9,
          2,
          7,
          0,
          0,
          0,
          0,
          0,
          0,
          0,
          0,
          0,
          0,
          0,
          0,
          0,
          0,
          0,
          0,
          0,
          0,
          0,
          0,
          0,
          0,
          0,
          0,
          0,
          0,
          0,
          0,
          0,
          0,
          0
         ],
         "yaxis": "y"
        },
        {
         "marker": {
          "color": "red",
          "size": 8
         },
         "mode": "markers",
         "name": "Zero Sales",
         "type": "scatter",
         "x": [
          " 8",
          " 9",
          " 10",
          " 11",
          " 12",
          " 16",
          " 17",
          " 22",
          " 23",
          " 24",
          " 25",
          " 26",
          " 27",
          " 28",
          " 29",
          " 30",
          " 31",
          " 32",
          " 33",
          " 34",
          " 35",
          " 36",
          " 37",
          " 38",
          " 39",
          " 40",
          " 41",
          " 42",
          " 43",
          " 44",
          " 45",
          " 46",
          " 47",
          " 48",
          " 49",
          " 50",
          " 51",
          " 52"
         ],
         "y": [
          0,
          0,
          0,
          0,
          0,
          0,
          0,
          0,
          0,
          0,
          0,
          0,
          0,
          0,
          0,
          0,
          0,
          0,
          0,
          0,
          0,
          0,
          0,
          0,
          0,
          0,
          0,
          0,
          0,
          0,
          0,
          0,
          0,
          0,
          0,
          0,
          0,
          0
         ]
        }
       ],
       "layout": {
        "legend": {
         "tracegroupgap": 0
        },
        "template": {
         "data": {
          "bar": [
           {
            "error_x": {
             "color": "#2a3f5f"
            },
            "error_y": {
             "color": "#2a3f5f"
            },
            "marker": {
             "line": {
              "color": "#E5ECF6",
              "width": 0.5
             },
             "pattern": {
              "fillmode": "overlay",
              "size": 10,
              "solidity": 0.2
             }
            },
            "type": "bar"
           }
          ],
          "barpolar": [
           {
            "marker": {
             "line": {
              "color": "#E5ECF6",
              "width": 0.5
             },
             "pattern": {
              "fillmode": "overlay",
              "size": 10,
              "solidity": 0.2
             }
            },
            "type": "barpolar"
           }
          ],
          "carpet": [
           {
            "aaxis": {
             "endlinecolor": "#2a3f5f",
             "gridcolor": "white",
             "linecolor": "white",
             "minorgridcolor": "white",
             "startlinecolor": "#2a3f5f"
            },
            "baxis": {
             "endlinecolor": "#2a3f5f",
             "gridcolor": "white",
             "linecolor": "white",
             "minorgridcolor": "white",
             "startlinecolor": "#2a3f5f"
            },
            "type": "carpet"
           }
          ],
          "choropleth": [
           {
            "colorbar": {
             "outlinewidth": 0,
             "ticks": ""
            },
            "type": "choropleth"
           }
          ],
          "contour": [
           {
            "colorbar": {
             "outlinewidth": 0,
             "ticks": ""
            },
            "colorscale": [
             [
              0,
              "#0d0887"
             ],
             [
              0.1111111111111111,
              "#46039f"
             ],
             [
              0.2222222222222222,
              "#7201a8"
             ],
             [
              0.3333333333333333,
              "#9c179e"
             ],
             [
              0.4444444444444444,
              "#bd3786"
             ],
             [
              0.5555555555555556,
              "#d8576b"
             ],
             [
              0.6666666666666666,
              "#ed7953"
             ],
             [
              0.7777777777777778,
              "#fb9f3a"
             ],
             [
              0.8888888888888888,
              "#fdca26"
             ],
             [
              1,
              "#f0f921"
             ]
            ],
            "type": "contour"
           }
          ],
          "contourcarpet": [
           {
            "colorbar": {
             "outlinewidth": 0,
             "ticks": ""
            },
            "type": "contourcarpet"
           }
          ],
          "heatmap": [
           {
            "colorbar": {
             "outlinewidth": 0,
             "ticks": ""
            },
            "colorscale": [
             [
              0,
              "#0d0887"
             ],
             [
              0.1111111111111111,
              "#46039f"
             ],
             [
              0.2222222222222222,
              "#7201a8"
             ],
             [
              0.3333333333333333,
              "#9c179e"
             ],
             [
              0.4444444444444444,
              "#bd3786"
             ],
             [
              0.5555555555555556,
              "#d8576b"
             ],
             [
              0.6666666666666666,
              "#ed7953"
             ],
             [
              0.7777777777777778,
              "#fb9f3a"
             ],
             [
              0.8888888888888888,
              "#fdca26"
             ],
             [
              1,
              "#f0f921"
             ]
            ],
            "type": "heatmap"
           }
          ],
          "heatmapgl": [
           {
            "colorbar": {
             "outlinewidth": 0,
             "ticks": ""
            },
            "colorscale": [
             [
              0,
              "#0d0887"
             ],
             [
              0.1111111111111111,
              "#46039f"
             ],
             [
              0.2222222222222222,
              "#7201a8"
             ],
             [
              0.3333333333333333,
              "#9c179e"
             ],
             [
              0.4444444444444444,
              "#bd3786"
             ],
             [
              0.5555555555555556,
              "#d8576b"
             ],
             [
              0.6666666666666666,
              "#ed7953"
             ],
             [
              0.7777777777777778,
              "#fb9f3a"
             ],
             [
              0.8888888888888888,
              "#fdca26"
             ],
             [
              1,
              "#f0f921"
             ]
            ],
            "type": "heatmapgl"
           }
          ],
          "histogram": [
           {
            "marker": {
             "pattern": {
              "fillmode": "overlay",
              "size": 10,
              "solidity": 0.2
             }
            },
            "type": "histogram"
           }
          ],
          "histogram2d": [
           {
            "colorbar": {
             "outlinewidth": 0,
             "ticks": ""
            },
            "colorscale": [
             [
              0,
              "#0d0887"
             ],
             [
              0.1111111111111111,
              "#46039f"
             ],
             [
              0.2222222222222222,
              "#7201a8"
             ],
             [
              0.3333333333333333,
              "#9c179e"
             ],
             [
              0.4444444444444444,
              "#bd3786"
             ],
             [
              0.5555555555555556,
              "#d8576b"
             ],
             [
              0.6666666666666666,
              "#ed7953"
             ],
             [
              0.7777777777777778,
              "#fb9f3a"
             ],
             [
              0.8888888888888888,
              "#fdca26"
             ],
             [
              1,
              "#f0f921"
             ]
            ],
            "type": "histogram2d"
           }
          ],
          "histogram2dcontour": [
           {
            "colorbar": {
             "outlinewidth": 0,
             "ticks": ""
            },
            "colorscale": [
             [
              0,
              "#0d0887"
             ],
             [
              0.1111111111111111,
              "#46039f"
             ],
             [
              0.2222222222222222,
              "#7201a8"
             ],
             [
              0.3333333333333333,
              "#9c179e"
             ],
             [
              0.4444444444444444,
              "#bd3786"
             ],
             [
              0.5555555555555556,
              "#d8576b"
             ],
             [
              0.6666666666666666,
              "#ed7953"
             ],
             [
              0.7777777777777778,
              "#fb9f3a"
             ],
             [
              0.8888888888888888,
              "#fdca26"
             ],
             [
              1,
              "#f0f921"
             ]
            ],
            "type": "histogram2dcontour"
           }
          ],
          "mesh3d": [
           {
            "colorbar": {
             "outlinewidth": 0,
             "ticks": ""
            },
            "type": "mesh3d"
           }
          ],
          "parcoords": [
           {
            "line": {
             "colorbar": {
              "outlinewidth": 0,
              "ticks": ""
             }
            },
            "type": "parcoords"
           }
          ],
          "pie": [
           {
            "automargin": true,
            "type": "pie"
           }
          ],
          "scatter": [
           {
            "fillpattern": {
             "fillmode": "overlay",
             "size": 10,
             "solidity": 0.2
            },
            "type": "scatter"
           }
          ],
          "scatter3d": [
           {
            "line": {
             "colorbar": {
              "outlinewidth": 0,
              "ticks": ""
             }
            },
            "marker": {
             "colorbar": {
              "outlinewidth": 0,
              "ticks": ""
             }
            },
            "type": "scatter3d"
           }
          ],
          "scattercarpet": [
           {
            "marker": {
             "colorbar": {
              "outlinewidth": 0,
              "ticks": ""
             }
            },
            "type": "scattercarpet"
           }
          ],
          "scattergeo": [
           {
            "marker": {
             "colorbar": {
              "outlinewidth": 0,
              "ticks": ""
             }
            },
            "type": "scattergeo"
           }
          ],
          "scattergl": [
           {
            "marker": {
             "colorbar": {
              "outlinewidth": 0,
              "ticks": ""
             }
            },
            "type": "scattergl"
           }
          ],
          "scattermapbox": [
           {
            "marker": {
             "colorbar": {
              "outlinewidth": 0,
              "ticks": ""
             }
            },
            "type": "scattermapbox"
           }
          ],
          "scatterpolar": [
           {
            "marker": {
             "colorbar": {
              "outlinewidth": 0,
              "ticks": ""
             }
            },
            "type": "scatterpolar"
           }
          ],
          "scatterpolargl": [
           {
            "marker": {
             "colorbar": {
              "outlinewidth": 0,
              "ticks": ""
             }
            },
            "type": "scatterpolargl"
           }
          ],
          "scatterternary": [
           {
            "marker": {
             "colorbar": {
              "outlinewidth": 0,
              "ticks": ""
             }
            },
            "type": "scatterternary"
           }
          ],
          "surface": [
           {
            "colorbar": {
             "outlinewidth": 0,
             "ticks": ""
            },
            "colorscale": [
             [
              0,
              "#0d0887"
             ],
             [
              0.1111111111111111,
              "#46039f"
             ],
             [
              0.2222222222222222,
              "#7201a8"
             ],
             [
              0.3333333333333333,
              "#9c179e"
             ],
             [
              0.4444444444444444,
              "#bd3786"
             ],
             [
              0.5555555555555556,
              "#d8576b"
             ],
             [
              0.6666666666666666,
              "#ed7953"
             ],
             [
              0.7777777777777778,
              "#fb9f3a"
             ],
             [
              0.8888888888888888,
              "#fdca26"
             ],
             [
              1,
              "#f0f921"
             ]
            ],
            "type": "surface"
           }
          ],
          "table": [
           {
            "cells": {
             "fill": {
              "color": "#EBF0F8"
             },
             "line": {
              "color": "white"
             }
            },
            "header": {
             "fill": {
              "color": "#C8D4E3"
             },
             "line": {
              "color": "white"
             }
            },
            "type": "table"
           }
          ]
         },
         "layout": {
          "annotationdefaults": {
           "arrowcolor": "#2a3f5f",
           "arrowhead": 0,
           "arrowwidth": 1
          },
          "autotypenumbers": "strict",
          "coloraxis": {
           "colorbar": {
            "outlinewidth": 0,
            "ticks": ""
           }
          },
          "colorscale": {
           "diverging": [
            [
             0,
             "#8e0152"
            ],
            [
             0.1,
             "#c51b7d"
            ],
            [
             0.2,
             "#de77ae"
            ],
            [
             0.3,
             "#f1b6da"
            ],
            [
             0.4,
             "#fde0ef"
            ],
            [
             0.5,
             "#f7f7f7"
            ],
            [
             0.6,
             "#e6f5d0"
            ],
            [
             0.7,
             "#b8e186"
            ],
            [
             0.8,
             "#7fbc41"
            ],
            [
             0.9,
             "#4d9221"
            ],
            [
             1,
             "#276419"
            ]
           ],
           "sequential": [
            [
             0,
             "#0d0887"
            ],
            [
             0.1111111111111111,
             "#46039f"
            ],
            [
             0.2222222222222222,
             "#7201a8"
            ],
            [
             0.3333333333333333,
             "#9c179e"
            ],
            [
             0.4444444444444444,
             "#bd3786"
            ],
            [
             0.5555555555555556,
             "#d8576b"
            ],
            [
             0.6666666666666666,
             "#ed7953"
            ],
            [
             0.7777777777777778,
             "#fb9f3a"
            ],
            [
             0.8888888888888888,
             "#fdca26"
            ],
            [
             1,
             "#f0f921"
            ]
           ],
           "sequentialminus": [
            [
             0,
             "#0d0887"
            ],
            [
             0.1111111111111111,
             "#46039f"
            ],
            [
             0.2222222222222222,
             "#7201a8"
            ],
            [
             0.3333333333333333,
             "#9c179e"
            ],
            [
             0.4444444444444444,
             "#bd3786"
            ],
            [
             0.5555555555555556,
             "#d8576b"
            ],
            [
             0.6666666666666666,
             "#ed7953"
            ],
            [
             0.7777777777777778,
             "#fb9f3a"
            ],
            [
             0.8888888888888888,
             "#fdca26"
            ],
            [
             1,
             "#f0f921"
            ]
           ]
          },
          "colorway": [
           "#636efa",
           "#EF553B",
           "#00cc96",
           "#ab63fa",
           "#FFA15A",
           "#19d3f3",
           "#FF6692",
           "#B6E880",
           "#FF97FF",
           "#FECB52"
          ],
          "font": {
           "color": "#2a3f5f"
          },
          "geo": {
           "bgcolor": "white",
           "lakecolor": "white",
           "landcolor": "#E5ECF6",
           "showlakes": true,
           "showland": true,
           "subunitcolor": "white"
          },
          "hoverlabel": {
           "align": "left"
          },
          "hovermode": "closest",
          "mapbox": {
           "style": "light"
          },
          "paper_bgcolor": "white",
          "plot_bgcolor": "#E5ECF6",
          "polar": {
           "angularaxis": {
            "gridcolor": "white",
            "linecolor": "white",
            "ticks": ""
           },
           "bgcolor": "#E5ECF6",
           "radialaxis": {
            "gridcolor": "white",
            "linecolor": "white",
            "ticks": ""
           }
          },
          "scene": {
           "xaxis": {
            "backgroundcolor": "#E5ECF6",
            "gridcolor": "white",
            "gridwidth": 2,
            "linecolor": "white",
            "showbackground": true,
            "ticks": "",
            "zerolinecolor": "white"
           },
           "yaxis": {
            "backgroundcolor": "#E5ECF6",
            "gridcolor": "white",
            "gridwidth": 2,
            "linecolor": "white",
            "showbackground": true,
            "ticks": "",
            "zerolinecolor": "white"
           },
           "zaxis": {
            "backgroundcolor": "#E5ECF6",
            "gridcolor": "white",
            "gridwidth": 2,
            "linecolor": "white",
            "showbackground": true,
            "ticks": "",
            "zerolinecolor": "white"
           }
          },
          "shapedefaults": {
           "line": {
            "color": "#2a3f5f"
           }
          },
          "ternary": {
           "aaxis": {
            "gridcolor": "white",
            "linecolor": "white",
            "ticks": ""
           },
           "baxis": {
            "gridcolor": "white",
            "linecolor": "white",
            "ticks": ""
           },
           "bgcolor": "#E5ECF6",
           "caxis": {
            "gridcolor": "white",
            "linecolor": "white",
            "ticks": ""
           }
          },
          "title": {
           "x": 0.05
          },
          "xaxis": {
           "automargin": true,
           "gridcolor": "white",
           "linecolor": "white",
           "ticks": "",
           "title": {
            "standoff": 15
           },
           "zerolinecolor": "white",
           "zerolinewidth": 2
          },
          "yaxis": {
           "automargin": true,
           "gridcolor": "white",
           "linecolor": "white",
           "ticks": "",
           "title": {
            "standoff": 15
           },
           "zerolinecolor": "white",
           "zerolinewidth": 2
          }
         }
        },
        "title": {
         "text": "Sales Spikes Followed by Zero Sales for Tablet PRO Blauw"
        },
        "xaxis": {
         "anchor": "y",
         "domain": [
          0,
          1
         ],
         "title": {
          "text": "Week"
         }
        },
        "yaxis": {
         "anchor": "x",
         "domain": [
          0,
          1
         ],
         "title": {
          "text": "Sales"
         }
        }
       }
      }
     },
     "metadata": {},
     "output_type": "display_data"
    }
   ],
   "source": [
    "import plotly.express as px\n",
    "df = deplay_week.copy()\n",
    "\n",
    "# Filter by product\n",
    "df_filtered = df[df['Product'] == 'Tablet PRO Blauw']\n",
    "\n",
    "# Create the figure\n",
    "fig = px.line(df_filtered, x='week', y='Sales', title='Sales Spikes Followed by Zero Sales for Tablet PRO Blauw',\n",
    "              labels={'week': 'Week', 'Sales': 'Sales'},\n",
    "              hover_data=['week', 'Sales'])\n",
    "\n",
    "# Highlight zero sales\n",
    "fig.add_trace(go.Scatter(x=df_filtered[df_filtered['Sales']==0]['week'], \n",
    "                         y=df_filtered[df_filtered['Sales']==0]['Sales'],\n",
    "                         mode='markers',\n",
    "                         marker=dict(size=8, color='red'),\n",
    "                         name='Zero Sales'))\n",
    "\n",
    "fig.show()\n",
    "\n"
   ]
  },
  {
   "cell_type": "code",
   "execution_count": 27,
   "metadata": {},
   "outputs": [
    {
     "data": {
      "application/vnd.plotly.v1+json": {
       "config": {
        "plotlyServerURL": "https://plot.ly"
       },
       "data": [
        {
         "mode": "lines+markers",
         "name": "Customer Visits",
         "type": "scatter",
         "x": [
          " 1",
          " 2",
          " 3",
          " 4",
          " 5",
          " 6",
          " 7",
          " 8",
          " 9",
          " 10",
          " 11",
          " 12",
          " 13",
          " 14",
          " 15",
          " 16",
          " 17",
          " 18",
          " 19",
          " 20",
          " 21",
          " 22",
          " 23",
          " 24",
          " 25",
          " 26",
          " 27",
          " 28",
          " 29",
          " 30",
          " 31",
          " 32",
          " 33",
          " 34",
          " 35",
          " 36",
          " 37",
          " 38",
          " 39",
          " 40",
          " 41",
          " 42",
          " 43",
          " 44",
          " 45",
          " 46",
          " 47",
          " 48",
          " 49",
          " 50",
          " 51",
          " 52"
         ],
         "y": [
          251,
          949,
          975,
          796,
          672,
          667,
          321,
          73,
          35,
          20,
          6,
          12,
          518,
          343,
          491,
          115,
          63,
          229,
          265,
          241,
          200,
          90,
          28,
          16,
          16,
          29,
          13,
          0,
          0,
          0,
          0,
          0,
          0,
          0,
          0,
          0,
          0,
          0,
          0,
          0,
          0,
          0,
          0,
          0,
          0,
          0,
          0,
          0,
          0,
          0,
          0,
          0
         ]
        },
        {
         "mode": "lines+markers",
         "name": "Conversion %",
         "type": "scatter",
         "x": [
          " 1",
          " 2",
          " 3",
          " 4",
          " 5",
          " 6",
          " 7",
          " 8",
          " 9",
          " 10",
          " 11",
          " 12",
          " 13",
          " 14",
          " 15",
          " 16",
          " 17",
          " 18",
          " 19",
          " 20",
          " 21",
          " 22",
          " 23",
          " 24",
          " 25",
          " 26",
          " 27",
          " 28",
          " 29",
          " 30",
          " 31",
          " 32",
          " 33",
          " 34",
          " 35",
          " 36",
          " 37",
          " 38",
          " 39",
          " 40",
          " 41",
          " 42",
          " 43",
          " 44",
          " 45",
          " 46",
          " 47",
          " 48",
          " 49",
          " 50",
          " 51",
          " 52"
         ],
         "y": [
          11.95,
          2.63,
          2.05,
          4.52,
          2.98,
          2.7,
          2.49,
          0,
          0,
          0,
          0,
          0,
          4.63,
          1.75,
          2.24,
          0,
          0,
          3.93,
          3.4,
          0.83,
          3.5,
          0,
          0,
          0,
          0,
          0,
          0,
          0,
          0,
          0,
          0,
          0,
          0,
          0,
          0,
          0,
          0,
          0,
          0,
          0,
          0,
          0,
          0,
          0,
          0,
          0,
          0,
          0,
          0,
          0,
          0,
          0
         ],
         "yaxis": "y2"
        }
       ],
       "layout": {
        "template": {
         "data": {
          "bar": [
           {
            "error_x": {
             "color": "#2a3f5f"
            },
            "error_y": {
             "color": "#2a3f5f"
            },
            "marker": {
             "line": {
              "color": "#E5ECF6",
              "width": 0.5
             },
             "pattern": {
              "fillmode": "overlay",
              "size": 10,
              "solidity": 0.2
             }
            },
            "type": "bar"
           }
          ],
          "barpolar": [
           {
            "marker": {
             "line": {
              "color": "#E5ECF6",
              "width": 0.5
             },
             "pattern": {
              "fillmode": "overlay",
              "size": 10,
              "solidity": 0.2
             }
            },
            "type": "barpolar"
           }
          ],
          "carpet": [
           {
            "aaxis": {
             "endlinecolor": "#2a3f5f",
             "gridcolor": "white",
             "linecolor": "white",
             "minorgridcolor": "white",
             "startlinecolor": "#2a3f5f"
            },
            "baxis": {
             "endlinecolor": "#2a3f5f",
             "gridcolor": "white",
             "linecolor": "white",
             "minorgridcolor": "white",
             "startlinecolor": "#2a3f5f"
            },
            "type": "carpet"
           }
          ],
          "choropleth": [
           {
            "colorbar": {
             "outlinewidth": 0,
             "ticks": ""
            },
            "type": "choropleth"
           }
          ],
          "contour": [
           {
            "colorbar": {
             "outlinewidth": 0,
             "ticks": ""
            },
            "colorscale": [
             [
              0,
              "#0d0887"
             ],
             [
              0.1111111111111111,
              "#46039f"
             ],
             [
              0.2222222222222222,
              "#7201a8"
             ],
             [
              0.3333333333333333,
              "#9c179e"
             ],
             [
              0.4444444444444444,
              "#bd3786"
             ],
             [
              0.5555555555555556,
              "#d8576b"
             ],
             [
              0.6666666666666666,
              "#ed7953"
             ],
             [
              0.7777777777777778,
              "#fb9f3a"
             ],
             [
              0.8888888888888888,
              "#fdca26"
             ],
             [
              1,
              "#f0f921"
             ]
            ],
            "type": "contour"
           }
          ],
          "contourcarpet": [
           {
            "colorbar": {
             "outlinewidth": 0,
             "ticks": ""
            },
            "type": "contourcarpet"
           }
          ],
          "heatmap": [
           {
            "colorbar": {
             "outlinewidth": 0,
             "ticks": ""
            },
            "colorscale": [
             [
              0,
              "#0d0887"
             ],
             [
              0.1111111111111111,
              "#46039f"
             ],
             [
              0.2222222222222222,
              "#7201a8"
             ],
             [
              0.3333333333333333,
              "#9c179e"
             ],
             [
              0.4444444444444444,
              "#bd3786"
             ],
             [
              0.5555555555555556,
              "#d8576b"
             ],
             [
              0.6666666666666666,
              "#ed7953"
             ],
             [
              0.7777777777777778,
              "#fb9f3a"
             ],
             [
              0.8888888888888888,
              "#fdca26"
             ],
             [
              1,
              "#f0f921"
             ]
            ],
            "type": "heatmap"
           }
          ],
          "heatmapgl": [
           {
            "colorbar": {
             "outlinewidth": 0,
             "ticks": ""
            },
            "colorscale": [
             [
              0,
              "#0d0887"
             ],
             [
              0.1111111111111111,
              "#46039f"
             ],
             [
              0.2222222222222222,
              "#7201a8"
             ],
             [
              0.3333333333333333,
              "#9c179e"
             ],
             [
              0.4444444444444444,
              "#bd3786"
             ],
             [
              0.5555555555555556,
              "#d8576b"
             ],
             [
              0.6666666666666666,
              "#ed7953"
             ],
             [
              0.7777777777777778,
              "#fb9f3a"
             ],
             [
              0.8888888888888888,
              "#fdca26"
             ],
             [
              1,
              "#f0f921"
             ]
            ],
            "type": "heatmapgl"
           }
          ],
          "histogram": [
           {
            "marker": {
             "pattern": {
              "fillmode": "overlay",
              "size": 10,
              "solidity": 0.2
             }
            },
            "type": "histogram"
           }
          ],
          "histogram2d": [
           {
            "colorbar": {
             "outlinewidth": 0,
             "ticks": ""
            },
            "colorscale": [
             [
              0,
              "#0d0887"
             ],
             [
              0.1111111111111111,
              "#46039f"
             ],
             [
              0.2222222222222222,
              "#7201a8"
             ],
             [
              0.3333333333333333,
              "#9c179e"
             ],
             [
              0.4444444444444444,
              "#bd3786"
             ],
             [
              0.5555555555555556,
              "#d8576b"
             ],
             [
              0.6666666666666666,
              "#ed7953"
             ],
             [
              0.7777777777777778,
              "#fb9f3a"
             ],
             [
              0.8888888888888888,
              "#fdca26"
             ],
             [
              1,
              "#f0f921"
             ]
            ],
            "type": "histogram2d"
           }
          ],
          "histogram2dcontour": [
           {
            "colorbar": {
             "outlinewidth": 0,
             "ticks": ""
            },
            "colorscale": [
             [
              0,
              "#0d0887"
             ],
             [
              0.1111111111111111,
              "#46039f"
             ],
             [
              0.2222222222222222,
              "#7201a8"
             ],
             [
              0.3333333333333333,
              "#9c179e"
             ],
             [
              0.4444444444444444,
              "#bd3786"
             ],
             [
              0.5555555555555556,
              "#d8576b"
             ],
             [
              0.6666666666666666,
              "#ed7953"
             ],
             [
              0.7777777777777778,
              "#fb9f3a"
             ],
             [
              0.8888888888888888,
              "#fdca26"
             ],
             [
              1,
              "#f0f921"
             ]
            ],
            "type": "histogram2dcontour"
           }
          ],
          "mesh3d": [
           {
            "colorbar": {
             "outlinewidth": 0,
             "ticks": ""
            },
            "type": "mesh3d"
           }
          ],
          "parcoords": [
           {
            "line": {
             "colorbar": {
              "outlinewidth": 0,
              "ticks": ""
             }
            },
            "type": "parcoords"
           }
          ],
          "pie": [
           {
            "automargin": true,
            "type": "pie"
           }
          ],
          "scatter": [
           {
            "fillpattern": {
             "fillmode": "overlay",
             "size": 10,
             "solidity": 0.2
            },
            "type": "scatter"
           }
          ],
          "scatter3d": [
           {
            "line": {
             "colorbar": {
              "outlinewidth": 0,
              "ticks": ""
             }
            },
            "marker": {
             "colorbar": {
              "outlinewidth": 0,
              "ticks": ""
             }
            },
            "type": "scatter3d"
           }
          ],
          "scattercarpet": [
           {
            "marker": {
             "colorbar": {
              "outlinewidth": 0,
              "ticks": ""
             }
            },
            "type": "scattercarpet"
           }
          ],
          "scattergeo": [
           {
            "marker": {
             "colorbar": {
              "outlinewidth": 0,
              "ticks": ""
             }
            },
            "type": "scattergeo"
           }
          ],
          "scattergl": [
           {
            "marker": {
             "colorbar": {
              "outlinewidth": 0,
              "ticks": ""
             }
            },
            "type": "scattergl"
           }
          ],
          "scattermapbox": [
           {
            "marker": {
             "colorbar": {
              "outlinewidth": 0,
              "ticks": ""
             }
            },
            "type": "scattermapbox"
           }
          ],
          "scatterpolar": [
           {
            "marker": {
             "colorbar": {
              "outlinewidth": 0,
              "ticks": ""
             }
            },
            "type": "scatterpolar"
           }
          ],
          "scatterpolargl": [
           {
            "marker": {
             "colorbar": {
              "outlinewidth": 0,
              "ticks": ""
             }
            },
            "type": "scatterpolargl"
           }
          ],
          "scatterternary": [
           {
            "marker": {
             "colorbar": {
              "outlinewidth": 0,
              "ticks": ""
             }
            },
            "type": "scatterternary"
           }
          ],
          "surface": [
           {
            "colorbar": {
             "outlinewidth": 0,
             "ticks": ""
            },
            "colorscale": [
             [
              0,
              "#0d0887"
             ],
             [
              0.1111111111111111,
              "#46039f"
             ],
             [
              0.2222222222222222,
              "#7201a8"
             ],
             [
              0.3333333333333333,
              "#9c179e"
             ],
             [
              0.4444444444444444,
              "#bd3786"
             ],
             [
              0.5555555555555556,
              "#d8576b"
             ],
             [
              0.6666666666666666,
              "#ed7953"
             ],
             [
              0.7777777777777778,
              "#fb9f3a"
             ],
             [
              0.8888888888888888,
              "#fdca26"
             ],
             [
              1,
              "#f0f921"
             ]
            ],
            "type": "surface"
           }
          ],
          "table": [
           {
            "cells": {
             "fill": {
              "color": "#EBF0F8"
             },
             "line": {
              "color": "white"
             }
            },
            "header": {
             "fill": {
              "color": "#C8D4E3"
             },
             "line": {
              "color": "white"
             }
            },
            "type": "table"
           }
          ]
         },
         "layout": {
          "annotationdefaults": {
           "arrowcolor": "#2a3f5f",
           "arrowhead": 0,
           "arrowwidth": 1
          },
          "autotypenumbers": "strict",
          "coloraxis": {
           "colorbar": {
            "outlinewidth": 0,
            "ticks": ""
           }
          },
          "colorscale": {
           "diverging": [
            [
             0,
             "#8e0152"
            ],
            [
             0.1,
             "#c51b7d"
            ],
            [
             0.2,
             "#de77ae"
            ],
            [
             0.3,
             "#f1b6da"
            ],
            [
             0.4,
             "#fde0ef"
            ],
            [
             0.5,
             "#f7f7f7"
            ],
            [
             0.6,
             "#e6f5d0"
            ],
            [
             0.7,
             "#b8e186"
            ],
            [
             0.8,
             "#7fbc41"
            ],
            [
             0.9,
             "#4d9221"
            ],
            [
             1,
             "#276419"
            ]
           ],
           "sequential": [
            [
             0,
             "#0d0887"
            ],
            [
             0.1111111111111111,
             "#46039f"
            ],
            [
             0.2222222222222222,
             "#7201a8"
            ],
            [
             0.3333333333333333,
             "#9c179e"
            ],
            [
             0.4444444444444444,
             "#bd3786"
            ],
            [
             0.5555555555555556,
             "#d8576b"
            ],
            [
             0.6666666666666666,
             "#ed7953"
            ],
            [
             0.7777777777777778,
             "#fb9f3a"
            ],
            [
             0.8888888888888888,
             "#fdca26"
            ],
            [
             1,
             "#f0f921"
            ]
           ],
           "sequentialminus": [
            [
             0,
             "#0d0887"
            ],
            [
             0.1111111111111111,
             "#46039f"
            ],
            [
             0.2222222222222222,
             "#7201a8"
            ],
            [
             0.3333333333333333,
             "#9c179e"
            ],
            [
             0.4444444444444444,
             "#bd3786"
            ],
            [
             0.5555555555555556,
             "#d8576b"
            ],
            [
             0.6666666666666666,
             "#ed7953"
            ],
            [
             0.7777777777777778,
             "#fb9f3a"
            ],
            [
             0.8888888888888888,
             "#fdca26"
            ],
            [
             1,
             "#f0f921"
            ]
           ]
          },
          "colorway": [
           "#636efa",
           "#EF553B",
           "#00cc96",
           "#ab63fa",
           "#FFA15A",
           "#19d3f3",
           "#FF6692",
           "#B6E880",
           "#FF97FF",
           "#FECB52"
          ],
          "font": {
           "color": "#2a3f5f"
          },
          "geo": {
           "bgcolor": "white",
           "lakecolor": "white",
           "landcolor": "#E5ECF6",
           "showlakes": true,
           "showland": true,
           "subunitcolor": "white"
          },
          "hoverlabel": {
           "align": "left"
          },
          "hovermode": "closest",
          "mapbox": {
           "style": "light"
          },
          "paper_bgcolor": "white",
          "plot_bgcolor": "#E5ECF6",
          "polar": {
           "angularaxis": {
            "gridcolor": "white",
            "linecolor": "white",
            "ticks": ""
           },
           "bgcolor": "#E5ECF6",
           "radialaxis": {
            "gridcolor": "white",
            "linecolor": "white",
            "ticks": ""
           }
          },
          "scene": {
           "xaxis": {
            "backgroundcolor": "#E5ECF6",
            "gridcolor": "white",
            "gridwidth": 2,
            "linecolor": "white",
            "showbackground": true,
            "ticks": "",
            "zerolinecolor": "white"
           },
           "yaxis": {
            "backgroundcolor": "#E5ECF6",
            "gridcolor": "white",
            "gridwidth": 2,
            "linecolor": "white",
            "showbackground": true,
            "ticks": "",
            "zerolinecolor": "white"
           },
           "zaxis": {
            "backgroundcolor": "#E5ECF6",
            "gridcolor": "white",
            "gridwidth": 2,
            "linecolor": "white",
            "showbackground": true,
            "ticks": "",
            "zerolinecolor": "white"
           }
          },
          "shapedefaults": {
           "line": {
            "color": "#2a3f5f"
           }
          },
          "ternary": {
           "aaxis": {
            "gridcolor": "white",
            "linecolor": "white",
            "ticks": ""
           },
           "baxis": {
            "gridcolor": "white",
            "linecolor": "white",
            "ticks": ""
           },
           "bgcolor": "#E5ECF6",
           "caxis": {
            "gridcolor": "white",
            "linecolor": "white",
            "ticks": ""
           }
          },
          "title": {
           "x": 0.05
          },
          "xaxis": {
           "automargin": true,
           "gridcolor": "white",
           "linecolor": "white",
           "ticks": "",
           "title": {
            "standoff": 15
           },
           "zerolinecolor": "white",
           "zerolinewidth": 2
          },
          "yaxis": {
           "automargin": true,
           "gridcolor": "white",
           "linecolor": "white",
           "ticks": "",
           "title": {
            "standoff": 15
           },
           "zerolinecolor": "white",
           "zerolinewidth": 2
          }
         }
        },
        "title": {
         "text": "Customer Visits & Conversion Rates for Tablet PRO Blauw"
        },
        "xaxis": {
         "title": {
          "text": "Week"
         }
        },
        "yaxis": {
         "title": {
          "text": "Customer Visits"
         }
        },
        "yaxis2": {
         "overlaying": "y",
         "side": "right",
         "title": {
          "text": "Conversion %"
         }
        }
       }
      }
     },
     "metadata": {},
     "output_type": "display_data"
    }
   ],
   "source": [
    "import plotly.graph_objects as go\n",
    "\n",
    "# Filter by product\n",
    "df_filtered = df[df['Product'] == 'Tablet PRO Blauw']\n",
    "\n",
    "# Create subplots\n",
    "fig = go.Figure()\n",
    "\n",
    "# Add traces\n",
    "fig.add_trace(go.Scatter(x=df_filtered['week'], y=df_filtered['Customer visits'],\n",
    "                         mode='lines+markers',\n",
    "                         name='Customer Visits'))\n",
    "\n",
    "fig.add_trace(go.Scatter(x=df_filtered['week'], y=df_filtered['Conversion %'],\n",
    "                         mode='lines+markers',\n",
    "                         name='Conversion %',\n",
    "                         yaxis=\"y2\"))\n",
    "\n",
    "# Layout\n",
    "fig.update_layout(\n",
    "    title=\"Customer Visits & Conversion Rates for Tablet PRO Blauw\",\n",
    "    xaxis=dict(title=\"Week\"),\n",
    "    yaxis=dict(title=\"Customer Visits\"),\n",
    "    yaxis2=dict(title=\"Conversion %\", overlaying='y', side='right')\n",
    ")\n",
    "\n",
    "fig.show()\n",
    "\n",
    "\n",
    "\n"
   ]
  },
  {
   "cell_type": "code",
   "execution_count": 28,
   "metadata": {},
   "outputs": [
    {
     "data": {
      "image/png": "[encoded data removed]",
      "text/plain": [
       "<Figure size 800x800 with 1 Axes>"
      ]
     },
     "metadata": {},
     "output_type": "display_data"
    },
    {
     "data": {
      "image/png": "[encoded data removed]",
      "text/plain": [
       "<Figure size 640x480 with 2 Axes>"
      ]
     },
     "metadata": {},
     "output_type": "display_data"
    }
   ],
   "source": [
    "import matplotlib.pyplot as plt\n",
    "import seaborn as sns\n",
    "import pandas as pd\n",
    "import numpy as np\n",
    "\n",
    "# Fake data\n",
    "categories = ['Electronics', 'Clothing', 'Home']\n",
    "oos_counts = [15, 25, 10]\n",
    "\n",
    "# Pie chart for categories\n",
    "plt.figure(figsize=(8, 8))\n",
    "plt.pie(oos_counts, labels=categories, autopct='%1.1f%%')\n",
    "plt.title('OOS Items by Category')\n",
    "plt.show()\n",
    "\n",
    "# Heatmap for SKU vs Date\n",
    "dates = pd.date_range(start='2023-01-01', end='2023-01-10')\n",
    "skus = [f'SKU_{i}' for i in range(1, 11)]\n",
    "oos_data = np.random.choice([0, 1], size=(10, 10))\n",
    "\n",
    "sns.heatmap(oos_data, annot=True, xticklabels=dates.strftime('%m-%d'), yticklabels=skus)\n",
    "plt.title('OOS Status by SKU and Date')\n",
    "plt.show()\n"
   ]
  },
  {
   "cell_type": "code",
   "execution_count": 29,
   "metadata": {},
   "outputs": [
    {
     "data": {
      "image/png": "[encoded data removed]",
      "text/plain": [
       "<Figure size 640x480 with 1 Axes>"
      ]
     },
     "metadata": {},
     "output_type": "display_data"
    },
    {
     "data": {
      "image/png": "[encoded data removed]",
      "text/plain": [
       "<Figure size 640x480 with 1 Axes>"
      ]
     },
     "metadata": {},
     "output_type": "display_data"
    }
   ],
   "source": [
    "# Fake data for bar chart\n",
    "risk_levels = ['Low', 'Medium', 'High']\n",
    "sku_risk = ['SKU_1', 'SKU_2', 'SKU_3']\n",
    "\n",
    "# Bar chart for risk levels\n",
    "plt.barh(sku_risk, risk_levels)\n",
    "plt.xlabel('Risk Level')\n",
    "plt.title('Forecasted Risk Levels by SKU')\n",
    "plt.show()\n",
    "\n",
    "# Fake data for time series plot\n",
    "dates = pd.date_range(start='2023-01-01', end='2023-01-10')\n",
    "sales = np.random.randint(5, 20, size=10)\n",
    "forecast = np.random.randint(5, 20, size=10)\n",
    "\n",
    "# Time series plot\n",
    "plt.plot(dates, sales, label='Actual Sales')\n",
    "plt.plot(dates, forecast, label='Forecasted OOS')\n",
    "plt.xlabel('Date')\n",
    "plt.ylabel('Units')\n",
    "plt.title('Forecast vs Actual Sales')\n",
    "plt.legend()\n",
    "plt.show()\n"
   ]
  },
  {
   "cell_type": "code",
   "execution_count": 30,
   "metadata": {},
   "outputs": [
    {
     "data": {
      "image/png": "[encoded data removed]",
      "text/plain": [
       "<Figure size 640x480 with 2 Axes>"
      ]
     },
     "metadata": {},
     "output_type": "display_data"
    }
   ],
   "source": [
    "# Fake data for calendar heatmap\n",
    "weeks = [f'Week_{i}' for i in range(1, 11)]\n",
    "oos_week_data = np.random.choice([0, 1], size=(10, 10))\n",
    "\n",
    "# Calendar heatmap\n",
    "sns.heatmap(oos_week_data, annot=True, xticklabels=weeks, yticklabels=skus)\n",
    "plt.title('Forecast of OOS Weeks by SKU')\n",
    "plt.show()\n"
   ]
  },
  {
   "cell_type": "markdown",
   "metadata": {},
   "source": [
    "Out-of-Stock: If the product is popular but frequently out of stock, you may see spikes in sales followed by zero sales. Check for patterns like this.\n",
    "\n",
    "Seasonality: If zero sales occur during specific periods (e.g., off-season), they may be genuine zero-demand instances.\n",
    "\n",
    "Customer Visits & Conversion: Utilize other metrics like customer visits or conversion rates. A low conversion rate with high visits could suggest out-of-stock scenarios"
   ]
  },
  {
   "cell_type": "markdown",
   "metadata": {},
   "source": [
    "# Test OOS Feature "
   ]
  },
  {
   "cell_type": "code",
   "execution_count": 36,
   "metadata": {},
   "outputs": [],
   "source": [
    "deplay_week.head()\n",
    "data = deplay_week.copy()"
   ]
  },
  {
   "cell_type": "code",
   "execution_count": 37,
   "metadata": {},
   "outputs": [],
   "source": [
    "cleaned_data = data.drop(columns=[ 'exchange items']).fillna(0)"
   ]
  },
  {
   "cell_type": "markdown",
   "metadata": {},
   "source": [
    "Next, let's move to step 2 for feature engineering. We will create a 'Sales Velocity' feature, which will be Sales/Week for each product. This feature gives us a better understanding of how fast a product is selling"
   ]
  },
  {
   "cell_type": "code",
   "execution_count": 38,
   "metadata": {},
   "outputs": [],
   "source": [
    "cleaned_data.dtypes\n",
    "cleaned_data['week'] = cleaned_data['week'].astype(int)"
   ]
  },
  {
   "cell_type": "code",
   "execution_count": 39,
   "metadata": {},
   "outputs": [],
   "source": [
    "# drop NaN values\n",
    "\n",
    "cleaned_data.dropna(inplace=True)"
   ]
  },
  {
   "cell_type": "code",
   "execution_count": 29,
   "metadata": {},
   "outputs": [
    {
     "data": {
      "image/png": "[encoded data removed]",
      "text/plain": [
       "<Figure size 1000x600 with 1 Axes>"
      ]
     },
     "metadata": {},
     "output_type": "display_data"
    }
   ],
   "source": [
    "import matplotlib.pyplot as plt\n",
    "\n",
    "# Feature Engineering\n",
    "# Create 'Sales Velocity' = Sales/Week\n",
    "cleaned_data['Sales Velocity'] = cleaned_data['Sales'] / cleaned_data['week']\n",
    "\n",
    "# Visualize 'Sales Velocity' for each product\n",
    "plt.figure(figsize=(10, 6))\n",
    "for product in cleaned_data['Product'].unique():\n",
    "    product_data = cleaned_data[cleaned_data['Product'] == product]\n",
    "    plt.plot(product_data['week'], product_data['Sales Velocity'], label=product)\n",
    "\n",
    "plt.xlabel('Week')\n",
    "plt.ylabel('Sales Velocity')\n",
    "plt.title('Sales Velocity Over Time for Each Product')\n",
    "plt.legend()\n",
    "plt.show()\n"
   ]
  },
  {
   "cell_type": "markdown",
   "metadata": {},
   "source": [
    "The graph shows the 'Sales Velocity' over time for each product.\n",
    "\n",
    "Sales Velocity: Indicates how fast a product is selling (Sales/Week).\n",
    "Customer Value: Helps in understanding which products are moving faster and may go out of stock soon."
   ]
  },
  {
   "cell_type": "code",
   "execution_count": 30,
   "metadata": {},
   "outputs": [
    {
     "data": {
      "text/plain": [
       "{'Tablet PRO Blauw': -2.3711375549908524,\n",
       " 'Tablet PRO Rood': -0.8730521923007153,\n",
       " 'Tablet SMART Blauw': 0.0,\n",
       " 'Tablet SMART Rood': 0.0,\n",
       " 'Tablet Blauw': -3.7481550147921077,\n",
       " 'Tablet Rood': -2.046247777239273,\n",
       " 'KidsWatch Zwart': -0.9964382416835287,\n",
       " 'KidsWatch Roze': -0.6935520288238612,\n",
       " 'KidsWatch Blauw': -0.5217352854976751,\n",
       " 'KidsWatch Paars': -0.28307609336493766,\n",
       " 'Activiteiten Kubus': -1.0935619375308399,\n",
       " 'Xylofoon': -2.2171629525369427,\n",
       " 'Piano MAT': -0.8563414049336076,\n",
       " 'BabyGym': -0.7432989905241718,\n",
       " 'Muziek Piano': -0.9463548552033356,\n",
       " 'Muziek Drum': -0.3612889802948358,\n",
       " 'Sterrenmobiel Blauw': -1.7644291291592893,\n",
       " 'Sterrenmobiel Roze': -1.1241958661624696,\n",
       " 'Slaapprojector': -0.22583899427348175}"
      ]
     },
     "execution_count": 30,
     "metadata": {},
     "output_type": "execute_result"
    }
   ],
   "source": [
    "from sklearn.linear_model import LinearRegression\n",
    "import numpy as np\n",
    "\n",
    "# Initialize linear regression model\n",
    "model = LinearRegression()\n",
    "\n",
    "# Initialize a dictionary to store the model for each product\n",
    "product_models = {}\n",
    "\n",
    "# Initialize a dictionary to store the predicted 'Sales Velocity' for the next week\n",
    "predicted_velocity = {}\n",
    "\n",
    "# Loop through each product to fit a model and make a prediction\n",
    "for product in cleaned_data['Product'].unique():\n",
    "    product_data = cleaned_data[cleaned_data['Product'] == product]\n",
    "    \n",
    "    # Prepare the data for modeling\n",
    "    X = product_data['week'].values.reshape(-1, 1)\n",
    "    y = product_data['Sales Velocity'].values\n",
    "    \n",
    "    # Fit the model\n",
    "    model.fit(X, y)\n",
    "    \n",
    "    # Store the model\n",
    "    product_models[product] = model\n",
    "    \n",
    "    # Predict 'Sales Velocity' for the next week\n",
    "    next_week = np.array([[product_data['week'].max() + 1]])\n",
    "    predicted_velocity[product] = model.predict(next_week)[0]\n",
    "\n",
    "# Show the predicted 'Sales Velocity' for the next week for each product\n",
    "predicted_velocity\n"
   ]
  },
  {
   "cell_type": "markdown",
   "metadata": {},
   "source": [
    "The predicted 'Sales Velocity' for the next week for each product is calculated.\n",
    "\n",
    "\n",
    "Negative values indicate a decreasing trend; those products are not at immediate risk of going out of stock.\n",
    "A value of 0 suggests no change; still, these items should be monitored.\n",
    "Customer Value:\n",
    "Knowing these predictions helps in planning inventory and avoiding stock-outs"
   ]
  },
  {
   "cell_type": "code",
   "execution_count": 31,
   "metadata": {},
   "outputs": [
    {
     "data": {
      "image/png": "[encoded data removed]",
      "text/plain": [
       "<Figure size 640x480 with 1 Axes>"
      ]
     },
     "metadata": {},
     "output_type": "display_data"
    },
    {
     "data": {
      "text/plain": [
       "[]"
      ]
     },
     "execution_count": 31,
     "metadata": {},
     "output_type": "execute_result"
    }
   ],
   "source": [
    "# Thresholding: Identify items with predicted 'Sales Velocity' greater than a threshold as risky of going out of stock\n",
    "# Given the data, we'll use a threshold of 0 for this PoC\n",
    "threshold = 0.5\n",
    "\n",
    "# Identify 'risky' items\n",
    "risky_items = [product for product, velocity in predicted_velocity.items() if velocity > threshold]\n",
    "\n",
    "# Visual representation\n",
    "plt.bar(predicted_velocity.keys(), predicted_velocity.values())\n",
    "plt.axhline(y=threshold, color='r', linestyle='-')\n",
    "plt.xlabel('Product')\n",
    "plt.ylabel('Predicted Sales Velocity')\n",
    "plt.title('Predicted Sales Velocity for Next Week')\n",
    "plt.xticks(rotation=90)\n",
    "plt.show()\n",
    "\n",
    "risky_items\n"
   ]
  },
  {
   "cell_type": "markdown",
   "metadata": {},
   "source": [
    "The graph displays the predicted 'Sales Velocity' for the next week for each product. The red line represents the threshold.\n",
    "\n",
    "Red Line: Threshold for identifying 'risky' items.\n",
    "Risky Items:\n",
    "None of the items have a predicted 'Sales Velocity' above the threshold, so currently, no items are identified as 'risky'.\n",
    "Customer Value:\n",
    "Inventory managers can focus on other tasks as no immediate action is required for restocking."
   ]
  },
  {
   "cell_type": "markdown",
   "metadata": {},
   "source": [
    "OOS pipeline"
   ]
  },
  {
   "cell_type": "code",
   "execution_count": 32,
   "metadata": {},
   "outputs": [
    {
     "name": "stdout",
     "output_type": "stream",
     "text": [
      "{}\n"
     ]
    },
    {
     "ename": "",
     "evalue": "",
     "output_type": "error",
     "traceback": [
      "\u001b[1;31mThe Kernel crashed while executing code in the the current cell or a previous cell. Please review the code in the cell(s) to identify a possible cause of the failure. Click <a href='https://aka.ms/vscodeJupyterKernelCrash'>here</a> for more info. View Jupyter <a href='command:jupyter.viewOutput'>log</a> for further details."
     ]
    }
   ],
   "source": [
    "# import libraries\n",
    "from numpy import mean\n",
    "from sklearn.base import BaseEstimator, TransformerMixin\n",
    "from sklearn.metrics import mean_squared_error, r2_score\n",
    "from sklearn.pipeline import Pipeline\n",
    "from sklearn.linear_model import LinearRegression\n",
    "from lightgbm import LGBMRegressor\n",
    "\n",
    "# Redefine the classes and pipeline for clarity and integration\n",
    "class DataPreprocessor(BaseEstimator, TransformerMixin):\n",
    "    \"\"\"\n",
    "    Class for data preprocessing: handling missing values and dropping irrelevant columns.\n",
    "    \"\"\"\n",
    "    def __init__(self, drop_columns):\n",
    "        self.drop_columns = drop_columns\n",
    "\n",
    "    def fit(self, X, y=None):\n",
    "        return self\n",
    "\n",
    "    def transform(self, X):\n",
    "        # Drop irrelevant columns\n",
    "        X = X.drop(columns=self.drop_columns)\n",
    "        \n",
    "        # Handle missing values\n",
    "        X = X.fillna(0)\n",
    "        \n",
    "        return X\n",
    "\n",
    "\n",
    "# Feature Engineering\n",
    "class AdvancedFeatureEngineer(BaseEstimator, TransformerMixin):\n",
    "    def fit(self, X, y=None):\n",
    "        return self\n",
    "\n",
    "    def transform(self, X):\n",
    "        X['Sales Velocity'] = X['Sales'] / X['week'].replace(0, np.nan)\n",
    "        X['Profit per Customer Visit'] = X['Net profit'] / X['Customer visits'].replace(0, np.nan)\n",
    "        X.fillna(0, inplace=True)\n",
    "        return X\n",
    "\n",
    "# Model Training\n",
    "class ModelTrainer(BaseEstimator, TransformerMixin):\n",
    "\n",
    "    def __init__(self, model_type='linear'):\n",
    "        if model_type == 'linear':\n",
    "            self.model = LinearRegression()\n",
    "        elif model_type == 'lgbm':\n",
    "            self.model = LGBMRegressor()\n",
    "        self.model_type = model_type\n",
    "        self.trained_models = {}\n",
    "\n",
    "    def fit(self, X, y, product_col):\n",
    "        for product in product_col.unique():\n",
    "            product_data = X[product_col == product]\n",
    "            y_product = y.loc[product_data.index]\n",
    "            self.model.fit(product_data, y_product)\n",
    "            self.trained_models[product] = self.model\n",
    "        return self\n",
    "\n",
    "    def predict(self, X, product_col):\n",
    "        predictions = {}\n",
    "        for product in product_col.unique():\n",
    "            product_data = X[product_col == product]\n",
    "            if product in self.trained_models:\n",
    "                model = self.trained_models[product]\n",
    "                predictions[product] = model.predict(product_data)\n",
    "        return predictions\n",
    "\n",
    "# Main OOS Predictor Pipeline\n",
    "class OOSPredictor:\n",
    "    def __init__(self, threshold=0):\n",
    "        self.pipeline = Pipeline([\n",
    "            ('data_preprocessor', DataPreprocessor(['exchange items'])),\n",
    "            ('feature_engineer', AdvancedFeatureEngineer()),\n",
    "            ('model_trainer', ModelTrainer(model_type='lgbm'))\n",
    "        ])\n",
    "        self.threshold = threshold\n",
    "\n",
    "    def fit(self, data):\n",
    "        y = data['Sales Velocity']\n",
    "        X = data.drop('Sales Velocity', axis=1)\n",
    "        product_col = X['Product']\n",
    "        X = pd.get_dummies(X, columns=['Product'], drop_first=True)\n",
    "        self.pipeline.named_steps['model_trainer'].fit(X, y, product_col)\n",
    "\n",
    "    def predict(self, data):\n",
    "        X = data.drop('Sales Velocity', axis=1)\n",
    "        product_col = X['Product']\n",
    "        X = pd.get_dummies(X, columns=['Product'], drop_first=True)\n",
    "        return self.pipeline.named_steps['model_trainer'].predict(X, product_col)\n",
    "\n",
    "    def generate_alerts(self, predictions):\n",
    "        alerts = {}\n",
    "        for product, velocity in predictions.items():\n",
    "            if velocity[-1] > self.threshold:\n",
    "                alerts[product] = \"At risk of going OOS\"\n",
    "        return alerts\n",
    "    \n",
    "    @staticmethod\n",
    "    def evaluate(y_true, y_pred):\n",
    "        mse = mean_squared_error(y_true, y_pred)\n",
    "        r2 = r2_score(y_true, y_pred)\n",
    "        return mse, r2\n",
    "    \n",
    "    @staticmethod\n",
    "    def plot_predictions(y_true, y_pred):\n",
    "        plt.figure(figsize=(10, 6))\n",
    "        plt.plot(y_true, label='Actual')\n",
    "        plt.plot(y_pred, label='Predicted')\n",
    "        plt.xlabel('Week')\n",
    "        plt.ylabel('Sales Velocity')\n",
    "        plt.title('Actual vs. Predicted Sales Velocity')\n",
    "        plt.legend()\n",
    "        plt.show()\n",
    "\n",
    "\n",
    "# run pipeline\n",
    "oos_predictor = OOSPredictor()\n",
    "oos_predictor.fit(cleaned_data)\n",
    "predictions = oos_predictor.predict(cleaned_data)\n",
    "alerts = oos_predictor.generate_alerts(predictions)\n",
    "# print alerts\n",
    "print(alerts)\n",
    "#oos_predictor.evaluate(cleaned_data['Sales Velocity'], predictions['Tablet PRO Blauw'])\n",
    "#oos_predictor.plot_predictions(cleaned_data['Sales Velocity'], predictions['Tablet PRO Blauw'])"
   ]
  },
  {
   "cell_type": "code",
   "execution_count": null,
   "metadata": {},
   "outputs": [],
   "source": [
    "# instanciate OOSPredictor with model_type='lgbm'\n"
   ]
  },
  {
   "cell_type": "code",
   "execution_count": 49,
   "metadata": {},
   "outputs": [],
   "source": [
    "\n",
    "\n",
    "true_values_for_tablet_pro_blauw = cleaned_data[cleaned_data['Product'] == 'Tablet PRO Blauw']['Sales Velocity']\n"
   ]
  },
  {
   "cell_type": "code",
   "execution_count": 52,
   "metadata": {},
   "outputs": [],
   "source": [
    "mse, r2 = oos_predictor.evaluate(true_values_for_tablet_pro_blauw, predictions['Tablet PRO Blauw'])"
   ]
  },
  {
   "cell_type": "code",
   "execution_count": 53,
   "metadata": {},
   "outputs": [
    {
     "name": "stdout",
     "output_type": "stream",
     "text": [
      "MSE: 8.628705155092844e+28\n",
      "R2: -4.0186204525637844e+27\n"
     ]
    }
   ],
   "source": [
    "print(f'MSE: {mse}')\n",
    "print(f'R2: {r2}')"
   ]
  },
  {
   "cell_type": "code",
   "execution_count": 56,
   "metadata": {},
   "outputs": [
    {
     "data": {
      "text/plain": [
       "0     30.000000\n",
       "1     12.500000\n",
       "2      6.666667\n",
       "3      9.000000\n",
       "4      4.000000\n",
       "5      3.000000\n",
       "6      1.142857\n",
       "7      0.000000\n",
       "8      0.000000\n",
       "9      0.000000\n",
       "10     0.000000\n",
       "11     0.000000\n",
       "12     1.846154\n",
       "13     0.428571\n",
       "14     0.733333\n",
       "15     0.000000\n",
       "16     0.000000\n",
       "17     0.500000\n",
       "18     0.473684\n",
       "19     0.100000\n",
       "20     0.333333\n",
       "21     0.000000\n",
       "22     0.000000\n",
       "23     0.000000\n",
       "24     0.000000\n",
       "25     0.000000\n",
       "26     0.000000\n",
       "27     0.000000\n",
       "28     0.000000\n",
       "29     0.000000\n",
       "30     0.000000\n",
       "31     0.000000\n",
       "32     0.000000\n",
       "33     0.000000\n",
       "34     0.000000\n",
       "35     0.000000\n",
       "36     0.000000\n",
       "37     0.000000\n",
       "38     0.000000\n",
       "39     0.000000\n",
       "40     0.000000\n",
       "41     0.000000\n",
       "42     0.000000\n",
       "43     0.000000\n",
       "44     0.000000\n",
       "45     0.000000\n",
       "46     0.000000\n",
       "47     0.000000\n",
       "48     0.000000\n",
       "49     0.000000\n",
       "50     0.000000\n",
       "51     0.000000\n",
       "Name: Sales Velocity, dtype: float64"
      ]
     },
     "execution_count": 56,
     "metadata": {},
     "output_type": "execute_result"
    }
   ],
   "source": [
    "predictions['Tablet PRO Blauw']\n",
    "true_values_for_tablet_pro_blauw"
   ]
  },
  {
   "cell_type": "code",
   "execution_count": 54,
   "metadata": {},
   "outputs": [
    {
     "data": {
      "image/png": "[encoded data removed]",
      "text/plain": [
       "<Figure size 1000x600 with 1 Axes>"
      ]
     },
     "metadata": {},
     "output_type": "display_data"
    }
   ],
   "source": [
    "oos_predictor.plot_predictions(true_values_for_tablet_pro_blauw, predictions['Tablet PRO Blauw'])"
   ]
  },
  {
   "cell_type": "code",
   "execution_count": 1,
   "metadata": {},
   "outputs": [
    {
     "ename": "NameError",
     "evalue": "name 'plt' is not defined",
     "output_type": "error",
     "traceback": [
      "\u001b[0;31m---------------------------------------------------------------------------\u001b[0m",
      "\u001b[0;31mNameError\u001b[0m                                 Traceback (most recent call last)",
      "\u001b[1;32m/Users/servandodavidtorresgarcia/Servando/Relu/Relu/notebooks/deplay.ipynb Cell 43\u001b[0m line \u001b[0;36m<cell line: 1>\u001b[0;34m()\u001b[0m\n\u001b[0;32m----> <a href='vscode-notebook-cell:/Users/servandodavidtorresgarcia/Servando/Relu/Relu/notebooks/deplay.ipynb#Y120sZmlsZQ%3D%3D?line=0'>1</a>\u001b[0m plt\u001b[39m.\u001b[39mfigure(figsize\u001b[39m=\u001b[39m(\u001b[39m10\u001b[39m, \u001b[39m6\u001b[39m))\n\u001b[1;32m      <a href='vscode-notebook-cell:/Users/servandodavidtorresgarcia/Servando/Relu/Relu/notebooks/deplay.ipynb#Y120sZmlsZQ%3D%3D?line=1'>2</a>\u001b[0m plt\u001b[39m.\u001b[39mplot(cleaned_data[\u001b[39m'\u001b[39m\u001b[39mweek\u001b[39m\u001b[39m'\u001b[39m], cleaned_data[\u001b[39m'\u001b[39m\u001b[39mSales\u001b[39m\u001b[39m'\u001b[39m], marker\u001b[39m=\u001b[39m\u001b[39m'\u001b[39m\u001b[39mo\u001b[39m\u001b[39m'\u001b[39m, color\u001b[39m=\u001b[39m\u001b[39m'\u001b[39m\u001b[39mblue\u001b[39m\u001b[39m'\u001b[39m)\n\u001b[1;32m      <a href='vscode-notebook-cell:/Users/servandodavidtorresgarcia/Servando/Relu/Relu/notebooks/deplay.ipynb#Y120sZmlsZQ%3D%3D?line=2'>3</a>\u001b[0m plt\u001b[39m.\u001b[39mtitle(\u001b[39m'\u001b[39m\u001b[39mSales Trend Over Weeks\u001b[39m\u001b[39m'\u001b[39m)\n",
      "\u001b[0;31mNameError\u001b[0m: name 'plt' is not defined"
     ]
    }
   ],
   "source": [
    "plt.figure(figsize=(10, 6))\n",
    "plt.plot(cleaned_data['week'], cleaned_data['Sales'], marker='o', color='blue')\n",
    "plt.title('Sales Trend Over Weeks')\n",
    "plt.xlabel('Week')\n",
    "plt.ylabel('Sales')\n",
    "plt.grid(True)\n",
    "plt.show()"
   ]
  },
  {
   "cell_type": "code",
   "execution_count": 2,
   "metadata": {},
   "outputs": [
    {
     "ename": "NameError",
     "evalue": "name 'cleaned_data' is not defined",
     "output_type": "error",
     "traceback": [
      "\u001b[0;31m---------------------------------------------------------------------------\u001b[0m",
      "\u001b[0;31mNameError\u001b[0m                                 Traceback (most recent call last)",
      "\u001b[1;32m/Users/servandodavidtorresgarcia/Servando/Relu/Relu/notebooks/deplay.ipynb Cell 44\u001b[0m line \u001b[0;36m<cell line: 1>\u001b[0;34m()\u001b[0m\n\u001b[0;32m----> <a href='vscode-notebook-cell:/Users/servandodavidtorresgarcia/Servando/Relu/Relu/notebooks/deplay.ipynb#Y121sZmlsZQ%3D%3D?line=0'>1</a>\u001b[0m sales \u001b[39m=\u001b[39m cleaned_data[\u001b[39m'\u001b[39m\u001b[39mSales\u001b[39m\u001b[39m'\u001b[39m]\u001b[39m.\u001b[39mvalues\n",
      "\u001b[0;31mNameError\u001b[0m: name 'cleaned_data' is not defined"
     ]
    }
   ],
   "source": [
    "sales = cleaned_data['Sales'].values"
   ]
  },
  {
   "cell_type": "code",
   "execution_count": 40,
   "metadata": {},
   "outputs": [
    {
     "data": {
      "text/plain": [
       "[53, 54, 55, 56]"
      ]
     },
     "execution_count": 40,
     "metadata": {},
     "output_type": "execute_result"
    }
   ],
   "source": [
    "# import libraries\n",
    "import numpy as np\n",
    "from sklearn.base import BaseEstimator, TransformerMixin\n",
    "from sklearn.metrics import mean_squared_error, r2_score, mean_absolute_error\n",
    "from sklearn.pipeline import Pipeline\n",
    "from sklearn.linear_model import LinearRegression\n",
    "# new approach\n",
    "df = cleaned_data.copy()\n",
    "\n",
    "# Feature Engineering\n",
    "df['Sales_lag1'] = df['Sales'].shift(1)\n",
    "df['Sales_rate_of_change'] = df['Sales'].pct_change()\n",
    "df.replace([np.inf, -np.inf], np.nan, inplace=True)\n",
    "df.fillna(0, inplace=True)\n",
    "\n",
    "# Filling NaN values after creating lag and rate of change features\n",
    "df.fillna(0, inplace=True)\n",
    "\n",
    "# Splitting data: Using the first 4 weeks for training and the 5th week for testing\n",
    "train = df[df['week'] < 5]\n",
    "test = df[df['week'] == 5]\n",
    "\n",
    "# Feature columns and target column\n",
    "features = ['Sales_lag1', 'Sales_rate_of_change']\n",
    "target = 'Sales'\n",
    "\n",
    "# Model Training\n",
    "model = LinearRegression()\n",
    "model.fit(train[features], train[target])\n",
    "\n",
    "# Predicting on the test set\n",
    "test['Predicted_Sales'] = model.predict(test[features])\n",
    "\n",
    "# MAE Calculation\n",
    "mae = mean_absolute_error(test[target], test['Predicted_Sales'])\n",
    "\n",
    "future_weeks = 4\n",
    "\n",
    "# Create a DataFrame to store predicted sales for upcoming weeks\n",
    "future_df = pd.DataFrame({\n",
    "    'week': range(max(df['week']) + 1, max(df['week']) + 1 + future_weeks),\n",
    "    'Sales_lag1': [df['Sales'].iloc[-1]] + [0] * (future_weeks - 1),\n",
    "    'Sales_rate_of_change': [df['Sales_rate_of_change'].iloc[-1]] + [0] * (future_weeks - 1)\n",
    "})\n",
    "future_df.replace([np.inf, -np.inf], np.nan, inplace=True)\n",
    "\n",
    "# Predicting sales for each future week\n",
    "predicted_sales = []\n",
    "for i in range(future_weeks):\n",
    "    future_df['Predicted_Sales'] = model.predict(future_df[features])\n",
    "    predicted_sales.append(future_df['Predicted_Sales'].iloc[i])\n",
    "    \n",
    "    # Update for next prediction\n",
    "    if i < future_weeks - 1:\n",
    "        future_df['Sales_lag1'].iloc[i + 1] = future_df['Predicted_Sales'].iloc[i]\n",
    "        if future_df['Sales_lag1'].iloc[i] != 0:\n",
    "            future_df['Sales_rate_of_change'].iloc[i + 1] = (future_df['Predicted_Sales'].iloc[i] - future_df['Sales_lag1'].iloc[i]) / future_df['Sales_lag1'].iloc[i]\n",
    "        else:\n",
    "            future_df['Sales_rate_of_change'].iloc[i + 1] = 0  # Or any other value that makes sense in your context\n",
    "\n",
    "\n",
    "# Add the predicted sales to the future_df\n",
    "future_df['Predicted_Sales'] = predicted_sales\n",
    "\n",
    "# Establishing Stock Threshold\n",
    "critical_stock_threshold = df['Sales'].mean()\n",
    "\n",
    "# Identifying Potential OOS Weeks\n",
    "future_df['Potential_OOS'] = future_df['Predicted_Sales'] > critical_stock_threshold\n",
    "\n",
    "# Extracting potential OOS weeks\n",
    "potential_oos_weeks = future_df[future_df['Potential_OOS']]['week'].tolist()\n",
    "\n",
    "potential_oos_weeks"
   ]
  },
  {
   "cell_type": "code",
   "execution_count": 41,
   "metadata": {},
   "outputs": [],
   "source": [
    "# prophet\n",
    "\n",
    "single_product_data = df[df['Product'] == 'Tablet PRO Blauw'].copy()"
   ]
  },
  {
   "cell_type": "code",
   "execution_count": null,
   "metadata": {},
   "outputs": [],
   "source": [
    "from fbprophet import Prophet\n",
    "\n",
    "# Preparing data for Prophet model\n",
    "# Prophet expects the time variable to be named 'ds' and the target variable to be named 'y'\n",
    "prophet_data = single_product_data[['week', 'Sales']].rename(columns={'week': 'ds', 'Sales': 'y'})\n",
    "\n",
    "# Initialize and fit the Prophet model\n",
    "prophet_model = Prophet(weekly_seasonality=True)\n",
    "prophet_model.fit(prophet_data)\n",
    "\n",
    "# Make future dataframe\n",
    "future = prophet_model.make_future_dataframe(periods=len(test_data), freq='W')\n",
    "\n",
    "# Forecast\n",
    "forecast = prophet_model.predict(future)\n",
    "\n",
    "# Plotting the forecast against actual values\n",
    "fig = prophet_model.plot(forecast)\n",
    "plt.title('Prophet Forecasting')\n",
    "plt.show()\n",
    "\n",
    "# Extracting the forecasted values for the test period\n",
    "forecasted_sales = forecast['yhat'][len(train_data):].reset_index(drop=True)\n",
    "\n",
    "# Calculate MAE for the forecast\n",
    "mae_prophet = mean_absolute_error(test_data['Sales'], forecasted_sales)\n",
    "mae_prophet\n"
   ]
  },
  {
   "cell_type": "code",
   "execution_count": 2,
   "metadata": {},
   "outputs": [
    {
     "ename": "NameError",
     "evalue": "name 'df' is not defined",
     "output_type": "error",
     "traceback": [
      "\u001b[0;31m---------------------------------------------------------------------------\u001b[0m",
      "\u001b[0;31mNameError\u001b[0m                                 Traceback (most recent call last)",
      "\u001b[1;32m/Users/servandodavidtorresgarcia/Servando/Relu/Relu/notebooks/deplay.ipynb Cell 48\u001b[0m line \u001b[0;36m<cell line: 1>\u001b[0;34m()\u001b[0m\n\u001b[0;32m----> <a href='vscode-notebook-cell:/Users/servandodavidtorresgarcia/Servando/Relu/Relu/notebooks/deplay.ipynb#X66sZmlsZQ%3D%3D?line=0'>1</a>\u001b[0m df\u001b[39m.\u001b[39mhead()\n",
      "\u001b[0;31mNameError\u001b[0m: name 'df' is not defined"
     ]
    }
   ],
   "source": [
    "df.head()"
   ]
  },
  {
   "cell_type": "markdown",
   "metadata": {},
   "source": []
  }
 ],
 "metadata": {
  "kernelspec": {
   "display_name": "relu",
   "language": "python",
   "name": "python3"
  },
  "language_info": {
   "codemirror_mode": {
    "name": "ipython",
    "version": 3
   },
   "file_extension": ".py",
   "mimetype": "text/x-python",
   "name": "python",
   "nbconvert_exporter": "python",
   "pygments_lexer": "ipython3",
   "version": "3.8.16"
  },
  "orig_nbformat": 4
 },
 "nbformat": 4,
 "nbformat_minor": 2
}
